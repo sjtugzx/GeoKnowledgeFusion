{
 "cells": [
  {
   "cell_type": "code",
   "execution_count": 1,
   "metadata": {},
   "outputs": [],
   "source": [
    "#利用前面生成的训练集和验证集图片的名字，生成直接供yolov4模型使用的txt文件，文件中每行包括图片路径  和  图中每个物体的坐标、类别\n",
    "import xml.etree.ElementTree as ET\n",
    "from os import getcwd\n",
    "\n",
    "#sets=[('2007', 'train_465_2'), ('2007', 'val_465_2'), ('2007', 'test_465_2')]#可以在此处修改txt文件名\n",
    "sets=[('2007', 'train_148_5'), ('2007', 'val_148_5')]#可以在此处修改txt文件名\n",
    "\n",
    "wd = getcwd()\n",
    "#classes = [\"aeroplane\", \"bicycle\", \"bird\", \"boat\", \"bottle\", \"bus\", \"car\", \"cat\", \"chair\", \"cow\", \"diningtable\", \"dog\", \"horse\", \"motorbike\", \"person\", \"pottedplant\", \"sheep\", \"sofa\", \"train\", \"tvmonitor\"]\n",
    "classes = [\"num\"]\n",
    "\n",
    "def convert_annotation(year, image_id, list_file):\n",
    "    in_file = open('VOCdevkit/VOC%s/Annotations_148_5_1/%s.xml'%(year, image_id))#可以修改标注路径\n",
    "    tree=ET.parse(in_file)\n",
    "    root = tree.getroot()\n",
    "    list_file.write('%s/VOCdevkit/VOC%s/JPEGImages_148_5_1/%s.png'%(wd, year, image_id))#这里图片是png格式  可以修改图片路径\n",
    "    for obj in root.iter('object'):\n",
    "        difficult = obj.find('difficult').text\n",
    "        cls = obj.find('name').text\n",
    "        if cls not in classes or int(difficult)==1:\n",
    "            continue\n",
    "        cls_id = classes.index(cls)\n",
    "        xmlbox = obj.find('bndbox')\n",
    "        b = (int(xmlbox.find('xmin').text), int(xmlbox.find('ymin').text), int(xmlbox.find('xmax').text), int(xmlbox.find('ymax').text))\n",
    "        list_file.write(\" \" + \",\".join([str(a) for a in b]) + ',' + str(cls_id))\n",
    "\n",
    "    list_file.write('\\n')\n",
    "\n",
    "for year, image_set in sets:\n",
    "    image_ids = open('VOCdevkit/VOC%s/ImageSets/Main/%s.txt'%(year, image_set)).read().strip().split()\n",
    "    list_file = open('%s_%s.txt'%(year, image_set), 'w')\n",
    "    for image_id in image_ids:\n",
    "        convert_annotation(year, image_id, list_file)\n",
    "    list_file.close()"
   ]
  },
  {
   "cell_type": "code",
   "execution_count": 2,
   "metadata": {},
   "outputs": [],
   "source": [
    "#构建yolov4模型框架的辅助类\n",
    "import torch\n",
    "import torch.nn.functional as F\n",
    "import torch.nn as nn\n",
    "import math\n",
    "from collections import OrderedDict\n",
    "\n",
    "#-------------------------------------------------#\n",
    "#   MISH激活函数\n",
    "#-------------------------------------------------#\n",
    "class Mish(nn.Module):\n",
    "    def __init__(self):\n",
    "        super(Mish, self).__init__()\n",
    "\n",
    "    def forward(self, x):\n",
    "        return x * torch.tanh(F.softplus(x))\n",
    "\n",
    "#-------------------------------------------------#\n",
    "#   卷积块\n",
    "#   CONV+BATCHNORM+MISH\n",
    "#-------------------------------------------------#\n",
    "class BasicConv(nn.Module):\n",
    "    def __init__(self, in_channels, out_channels, kernel_size, stride=1):\n",
    "        super(BasicConv, self).__init__()\n",
    "\n",
    "        self.conv = nn.Conv2d(in_channels, out_channels, kernel_size, stride, kernel_size//2, bias=False)\n",
    "        self.bn = nn.BatchNorm2d(out_channels)\n",
    "        self.activation = Mish()\n",
    "\n",
    "    def forward(self, x):\n",
    "        x = self.conv(x)\n",
    "        x = self.bn(x)\n",
    "        x = self.activation(x)\n",
    "        return x\n",
    "\n",
    "#---------------------------------------------------#\n",
    "#   CSPdarknet的结构块的组成部分\n",
    "#   内部堆叠的残差块\n",
    "#---------------------------------------------------#\n",
    "class Resblock(nn.Module):\n",
    "    def __init__(self, channels, hidden_channels=None, residual_activation=nn.Identity()):\n",
    "        super(Resblock, self).__init__()\n",
    "\n",
    "        if hidden_channels is None:\n",
    "            hidden_channels = channels\n",
    "\n",
    "        self.block = nn.Sequential(\n",
    "            BasicConv(channels, hidden_channels, 1),\n",
    "            BasicConv(hidden_channels, channels, 3)\n",
    "        )\n",
    "\n",
    "    def forward(self, x):\n",
    "        return x + self.block(x)\n",
    "\n",
    "#---------------------------------------------------#\n",
    "#   CSPdarknet的结构块\n",
    "#   存在一个大残差边\n",
    "#   这个大残差边绕过了很多的残差结构\n",
    "#---------------------------------------------------#\n",
    "class Resblock_body(nn.Module):\n",
    "    def __init__(self, in_channels, out_channels, num_blocks, first):\n",
    "        super(Resblock_body, self).__init__()\n",
    "\n",
    "        self.downsample_conv = BasicConv(in_channels, out_channels, 3, stride=2)\n",
    "\n",
    "        if first:\n",
    "            self.split_conv0 = BasicConv(out_channels, out_channels, 1)\n",
    "            self.split_conv1 = BasicConv(out_channels, out_channels, 1)  \n",
    "            self.blocks_conv = nn.Sequential(\n",
    "                Resblock(channels=out_channels, hidden_channels=out_channels//2),\n",
    "                BasicConv(out_channels, out_channels, 1)\n",
    "            )\n",
    "            self.concat_conv = BasicConv(out_channels*2, out_channels, 1)\n",
    "        else:\n",
    "            self.split_conv0 = BasicConv(out_channels, out_channels//2, 1)\n",
    "            self.split_conv1 = BasicConv(out_channels, out_channels//2, 1)\n",
    "\n",
    "            self.blocks_conv = nn.Sequential(\n",
    "                *[Resblock(out_channels//2) for _ in range(num_blocks)],\n",
    "                BasicConv(out_channels//2, out_channels//2, 1)\n",
    "            )\n",
    "            self.concat_conv = BasicConv(out_channels, out_channels, 1)\n",
    "\n",
    "    def forward(self, x):\n",
    "        x = self.downsample_conv(x)\n",
    "\n",
    "        x0 = self.split_conv0(x)\n",
    "\n",
    "        x1 = self.split_conv1(x)\n",
    "        x1 = self.blocks_conv(x1)\n",
    "\n",
    "        x = torch.cat([x1, x0], dim=1)\n",
    "        x = self.concat_conv(x)\n",
    "\n",
    "        return x\n",
    "\n",
    "class CSPDarkNet(nn.Module):\n",
    "    def __init__(self, layers):\n",
    "        super(CSPDarkNet, self).__init__()\n",
    "        self.inplanes = 32\n",
    "        self.conv1 = BasicConv(3, self.inplanes, kernel_size=3, stride=1)\n",
    "        self.feature_channels = [64, 128, 256, 512, 1024]\n",
    "\n",
    "        self.stages = nn.ModuleList([\n",
    "            Resblock_body(self.inplanes, self.feature_channels[0], layers[0], first=True),\n",
    "            Resblock_body(self.feature_channels[0], self.feature_channels[1], layers[1], first=False),\n",
    "            Resblock_body(self.feature_channels[1], self.feature_channels[2], layers[2], first=False),\n",
    "            Resblock_body(self.feature_channels[2], self.feature_channels[3], layers[3], first=False),\n",
    "            Resblock_body(self.feature_channels[3], self.feature_channels[4], layers[4], first=False)\n",
    "        ])\n",
    "\n",
    "        self.num_features = 1\n",
    "        # 进行权值初始化\n",
    "        for m in self.modules():\n",
    "            if isinstance(m, nn.Conv2d):\n",
    "                n = m.kernel_size[0] * m.kernel_size[1] * m.out_channels\n",
    "                m.weight.data.normal_(0, math.sqrt(2. / n))\n",
    "            elif isinstance(m, nn.BatchNorm2d):\n",
    "                m.weight.data.fill_(1)\n",
    "                m.bias.data.zero_()\n",
    "\n",
    "\n",
    "    def forward(self, x):\n",
    "        x = self.conv1(x)\n",
    "\n",
    "        x = self.stages[0](x)\n",
    "        x = self.stages[1](x)\n",
    "        out3 = self.stages[2](x)\n",
    "        out4 = self.stages[3](out3)\n",
    "        out5 = self.stages[4](out4)\n",
    "\n",
    "        return out3, out4, out5\n",
    "\n",
    "def darknet53(pretrained, **kwargs):\n",
    "    model = CSPDarkNet([1, 2, 8, 8, 4])\n",
    "    if pretrained:\n",
    "        if isinstance(pretrained, str):\n",
    "            model.load_state_dict(torch.load(pretrained))\n",
    "        else:\n",
    "            raise Exception(\"darknet request a pretrained path. got [{}]\".format(pretrained))\n",
    "    return model"
   ]
  },
  {
   "cell_type": "code",
   "execution_count": 3,
   "metadata": {},
   "outputs": [],
   "source": [
    "#构建yolov4模型\n",
    "import torch\n",
    "import torch.nn as nn\n",
    "from collections import OrderedDict\n",
    "\n",
    "def conv2d(filter_in, filter_out, kernel_size, stride=1):\n",
    "    pad = (kernel_size - 1) // 2 if kernel_size else 0\n",
    "    return nn.Sequential(OrderedDict([\n",
    "        (\"conv\", nn.Conv2d(filter_in, filter_out, kernel_size=kernel_size, stride=stride, padding=pad, bias=False)),\n",
    "        (\"bn\", nn.BatchNorm2d(filter_out)),\n",
    "        (\"relu\", nn.LeakyReLU(0.1)),\n",
    "    ]))\n",
    "\n",
    "#---------------------------------------------------#\n",
    "#   SPP结构，利用不同大小的池化核进行池化\n",
    "#   池化后堆叠\n",
    "#---------------------------------------------------#\n",
    "class SpatialPyramidPooling(nn.Module):\n",
    "    def __init__(self, pool_sizes=[5, 9, 13]):\n",
    "        super(SpatialPyramidPooling, self).__init__()\n",
    "\n",
    "        self.maxpools = nn.ModuleList([nn.MaxPool2d(pool_size, 1, pool_size//2) for pool_size in pool_sizes])\n",
    "\n",
    "    def forward(self, x):\n",
    "        features = [maxpool(x) for maxpool in self.maxpools[::-1]]\n",
    "        features = torch.cat(features + [x], dim=1)\n",
    "\n",
    "        return features\n",
    "\n",
    "#---------------------------------------------------#\n",
    "#   卷积 + 上采样\n",
    "#---------------------------------------------------#\n",
    "class Upsample(nn.Module):\n",
    "    def __init__(self, in_channels, out_channels):\n",
    "        super(Upsample, self).__init__()\n",
    "\n",
    "        self.upsample = nn.Sequential(\n",
    "            conv2d(in_channels, out_channels, 1),\n",
    "            nn.Upsample(scale_factor=2, mode='nearest')\n",
    "        )\n",
    "\n",
    "    def forward(self, x,):\n",
    "        x = self.upsample(x)\n",
    "        return x\n",
    "\n",
    "#---------------------------------------------------#\n",
    "#   三次卷积块\n",
    "#---------------------------------------------------#\n",
    "def make_three_conv(filters_list, in_filters):\n",
    "    m = nn.Sequential(\n",
    "        conv2d(in_filters, filters_list[0], 1),\n",
    "        conv2d(filters_list[0], filters_list[1], 3),\n",
    "        conv2d(filters_list[1], filters_list[0], 1),\n",
    "    )\n",
    "    return m\n",
    "\n",
    "#---------------------------------------------------#\n",
    "#   五次卷积块\n",
    "#---------------------------------------------------#\n",
    "def make_five_conv(filters_list, in_filters):\n",
    "    m = nn.Sequential(\n",
    "        conv2d(in_filters, filters_list[0], 1),\n",
    "        conv2d(filters_list[0], filters_list[1], 3),\n",
    "        conv2d(filters_list[1], filters_list[0], 1),\n",
    "        conv2d(filters_list[0], filters_list[1], 3),\n",
    "        conv2d(filters_list[1], filters_list[0], 1),\n",
    "    )\n",
    "    return m\n",
    "\n",
    "#---------------------------------------------------#\n",
    "#   最后获得yolov4的输出\n",
    "#---------------------------------------------------#\n",
    "def yolo_head(filters_list, in_filters):\n",
    "    m = nn.Sequential(\n",
    "        conv2d(in_filters, filters_list[0], 3),\n",
    "        nn.Conv2d(filters_list[0], filters_list[1], 1),\n",
    "    )\n",
    "    return m\n",
    "\n",
    "#---------------------------------------------------#\n",
    "#   yolo_body\n",
    "#---------------------------------------------------#\n",
    "class YoloBody(nn.Module):\n",
    "    def __init__(self, num_anchors, num_classes):\n",
    "        super(YoloBody, self).__init__()\n",
    "        #  backbone\n",
    "        self.backbone = darknet53(None)\n",
    "\n",
    "        self.conv1 = make_three_conv([512,1024],1024)\n",
    "        self.SPP = SpatialPyramidPooling()\n",
    "        self.conv2 = make_three_conv([512,1024],2048)\n",
    "\n",
    "        self.upsample1 = Upsample(512,256)\n",
    "        self.conv_for_P4 = conv2d(512,256,1)\n",
    "        self.make_five_conv1 = make_five_conv([256, 512],512)\n",
    "\n",
    "        self.upsample2 = Upsample(256,128)\n",
    "        self.conv_for_P3 = conv2d(256,128,1)\n",
    "        self.make_five_conv2 = make_five_conv([128, 256],256)\n",
    "        # 3*(5+num_classes)=3*(5+20)=3*(4+1+20)=75\n",
    "        # 4+1+num_classes\n",
    "        final_out_filter2 = num_anchors * (5 + num_classes)\n",
    "        self.yolo_head3 = yolo_head([256, final_out_filter2],128)\n",
    "\n",
    "        self.down_sample1 = conv2d(128,256,3,stride=2)\n",
    "        self.make_five_conv3 = make_five_conv([256, 512],512)\n",
    "        # 3*(5+num_classes)=3*(5+20)=3*(4+1+20)=75\n",
    "        final_out_filter1 =  num_anchors * (5 + num_classes)\n",
    "        self.yolo_head2 = yolo_head([512, final_out_filter1],256)\n",
    "\n",
    "\n",
    "        self.down_sample2 = conv2d(256,512,3,stride=2)\n",
    "        self.make_five_conv4 = make_five_conv([512, 1024],1024)\n",
    "        # 3*(5+num_classes)=3*(5+20)=3*(4+1+20)=75\n",
    "        final_out_filter0 =  num_anchors * (5 + num_classes)\n",
    "        self.yolo_head1 = yolo_head([1024, final_out_filter0],512)\n",
    "\n",
    "\n",
    "    def forward(self, x):\n",
    "        #  backbone\n",
    "        x2, x1, x0 = self.backbone(x)\n",
    "\n",
    "        P5 = self.conv1(x0)\n",
    "        P5 = self.SPP(P5)\n",
    "        P5 = self.conv2(P5)\n",
    "\n",
    "        P5_upsample = self.upsample1(P5)\n",
    "        P4 = self.conv_for_P4(x1)\n",
    "        P4 = torch.cat([P4,P5_upsample],axis=1)\n",
    "        P4 = self.make_five_conv1(P4)\n",
    "\n",
    "        P4_upsample = self.upsample2(P4)\n",
    "        P3 = self.conv_for_P3(x2)\n",
    "        P3 = torch.cat([P3,P4_upsample],axis=1)\n",
    "        P3 = self.make_five_conv2(P3)\n",
    "\n",
    "        P3_downsample = self.down_sample1(P3)\n",
    "        P4 = torch.cat([P3_downsample,P4],axis=1)\n",
    "        P4 = self.make_five_conv3(P4)\n",
    "\n",
    "        P4_downsample = self.down_sample2(P4)\n",
    "        P5 = torch.cat([P4_downsample,P5],axis=1)\n",
    "        P5 = self.make_five_conv4(P5)\n",
    "\n",
    "        out2 = self.yolo_head3(P3)\n",
    "        out1 = self.yolo_head2(P4)\n",
    "        out0 = self.yolo_head1(P5)\n",
    "\n",
    "        return out0, out1, out2"
   ]
  },
  {
   "cell_type": "code",
   "execution_count": 4,
   "metadata": {},
   "outputs": [],
   "source": [
    "#其他工具函数\n",
    "from __future__ import division\n",
    "import os\n",
    "import math\n",
    "import time\n",
    "import torch\n",
    "import torch.nn as nn\n",
    "import torch.nn.functional as F\n",
    "from torch.autograd import Variable\n",
    "import numpy as np\n",
    "from PIL import Image, ImageDraw, ImageFont\n",
    "import matplotlib.pyplot as plt\n",
    "\n",
    "class DecodeBox(nn.Module):\n",
    "    def __init__(self, anchors, num_classes, img_size):\n",
    "        super(DecodeBox, self).__init__()\n",
    "        self.anchors = anchors\n",
    "        self.num_anchors = len(anchors)\n",
    "        self.num_classes = num_classes\n",
    "        self.bbox_attrs = 5 + num_classes\n",
    "        self.img_size = img_size\n",
    "\n",
    "    def forward(self, input):\n",
    "        # input为bs,3*(1+4+num_classes),13,13\n",
    "\n",
    "        # 一共多少张图片\n",
    "        batch_size = input.size(0)\n",
    "        # 13，13\n",
    "        input_height = input.size(2)\n",
    "        input_width = input.size(3)\n",
    "\n",
    "        # 计算步长\n",
    "        # 每一个特征点对应原来的图片上多少个像素点\n",
    "        # 如果特征层为13x13的话，一个特征点就对应原来的图片上的32个像素点\n",
    "        # 416/13 = 32\n",
    "        stride_h = self.img_size[1] / input_height\n",
    "        stride_w = self.img_size[0] / input_width\n",
    "\n",
    "        # 把先验框的尺寸调整成特征层大小的形式\n",
    "        # 计算出先验框在特征层上对应的宽高\n",
    "        scaled_anchors = [(anchor_width / stride_w, anchor_height / stride_h) for anchor_width, anchor_height in self.anchors]\n",
    "\n",
    "        # bs,3*(5+num_classes),13,13 -> bs,3,13,13,(5+num_classes)\n",
    "        prediction = input.view(batch_size, self.num_anchors,\n",
    "                                self.bbox_attrs, input_height, input_width).permute(0, 1, 3, 4, 2).contiguous()\n",
    "\n",
    "        # 先验框的中心位置的调整参数\n",
    "        x = torch.sigmoid(prediction[..., 0])  \n",
    "        y = torch.sigmoid(prediction[..., 1])\n",
    "        # 先验框的宽高调整参数\n",
    "        w = prediction[..., 2]  # Width\n",
    "        h = prediction[..., 3]  # Height\n",
    "\n",
    "        # 获得置信度，是否有物体\n",
    "        conf = torch.sigmoid(prediction[..., 4])\n",
    "        # 种类置信度\n",
    "        pred_cls = torch.sigmoid(prediction[..., 5:])  # Cls pred.\n",
    "\n",
    "        FloatTensor = torch.cuda.FloatTensor if x.is_cuda else torch.FloatTensor\n",
    "        LongTensor = torch.cuda.LongTensor if x.is_cuda else torch.LongTensor\n",
    "\n",
    "        # 生成网格，先验框中心，网格左上角 batch_size,3,13,13\n",
    "        grid_x = torch.linspace(0, input_width - 1, input_width).repeat(input_width, 1).repeat(\n",
    "            batch_size * self.num_anchors, 1, 1).view(x.shape).type(FloatTensor)\n",
    "        grid_y = torch.linspace(0, input_height - 1, input_height).repeat(input_height, 1).t().repeat(\n",
    "            batch_size * self.num_anchors, 1, 1).view(y.shape).type(FloatTensor)\n",
    "\n",
    "        # 生成先验框的宽高\n",
    "        anchor_w = FloatTensor(scaled_anchors).index_select(1, LongTensor([0]))\n",
    "        anchor_h = FloatTensor(scaled_anchors).index_select(1, LongTensor([1]))\n",
    "        anchor_w = anchor_w.repeat(batch_size, 1).repeat(1, 1, input_height * input_width).view(w.shape)\n",
    "        anchor_h = anchor_h.repeat(batch_size, 1).repeat(1, 1, input_height * input_width).view(h.shape)\n",
    "        \n",
    "        # 计算调整后的先验框中心与宽高\n",
    "        pred_boxes = FloatTensor(prediction[..., :4].shape)\n",
    "        pred_boxes[..., 0] = x.data + grid_x\n",
    "        pred_boxes[..., 1] = y.data + grid_y\n",
    "        pred_boxes[..., 2] = torch.exp(w.data) * anchor_w\n",
    "        pred_boxes[..., 3] = torch.exp(h.data) * anchor_h\n",
    "\n",
    "        # fig = plt.figure()\n",
    "        # ax = fig.add_subplot(121)\n",
    "        # if input_height==13:\n",
    "        #     plt.ylim(0,13)\n",
    "        #     plt.xlim(0,13)\n",
    "        # elif input_height==26:\n",
    "        #     plt.ylim(0,26)\n",
    "        #     plt.xlim(0,26)\n",
    "        # elif input_height==52:\n",
    "        #     plt.ylim(0,52)\n",
    "        #     plt.xlim(0,52)\n",
    "        # plt.scatter(grid_x.cpu(),grid_y.cpu())\n",
    "\n",
    "        # anchor_left = grid_x - anchor_w/2 \n",
    "        # anchor_top = grid_y - anchor_h/2 \n",
    "\n",
    "        # rect1 = plt.Rectangle([anchor_left[0,0,5,5],anchor_top[0,0,5,5]],anchor_w[0,0,5,5],anchor_h[0,0,5,5],color=\"r\",fill=False)\n",
    "        # rect2 = plt.Rectangle([anchor_left[0,1,5,5],anchor_top[0,1,5,5]],anchor_w[0,1,5,5],anchor_h[0,1,5,5],color=\"r\",fill=False)\n",
    "        # rect3 = plt.Rectangle([anchor_left[0,2,5,5],anchor_top[0,2,5,5]],anchor_w[0,2,5,5],anchor_h[0,2,5,5],color=\"r\",fill=False)\n",
    "\n",
    "        # ax.add_patch(rect1)\n",
    "        # ax.add_patch(rect2)\n",
    "        # ax.add_patch(rect3)\n",
    "\n",
    "        # ax = fig.add_subplot(122)\n",
    "        # if input_height==13:\n",
    "        #     plt.ylim(0,13)\n",
    "        #     plt.xlim(0,13)\n",
    "        # elif input_height==26:\n",
    "        #     plt.ylim(0,26)\n",
    "        #     plt.xlim(0,26)\n",
    "        # elif input_height==52:\n",
    "        #     plt.ylim(0,52)\n",
    "        #     plt.xlim(0,52)\n",
    "        # plt.scatter(grid_x.cpu(),grid_y.cpu())\n",
    "        # plt.scatter(pred_boxes[0,:,5,5,0].cpu(),pred_boxes[0,:,5,5,1].cpu(),c='r')\n",
    "\n",
    "        # pre_left = pred_boxes[...,0] - pred_boxes[...,2]/2 \n",
    "        # pre_top = pred_boxes[...,1] - pred_boxes[...,3]/2 \n",
    "\n",
    "        # rect1 = plt.Rectangle([pre_left[0,0,5,5],pre_top[0,0,5,5]],pred_boxes[0,0,5,5,2],pred_boxes[0,0,5,5,3],color=\"r\",fill=False)\n",
    "        # rect2 = plt.Rectangle([pre_left[0,1,5,5],pre_top[0,1,5,5]],pred_boxes[0,1,5,5,2],pred_boxes[0,1,5,5,3],color=\"r\",fill=False)\n",
    "        # rect3 = plt.Rectangle([pre_left[0,2,5,5],pre_top[0,2,5,5]],pred_boxes[0,2,5,5,2],pred_boxes[0,2,5,5,3],color=\"r\",fill=False)\n",
    "\n",
    "        # ax.add_patch(rect1)\n",
    "        # ax.add_patch(rect2)\n",
    "        # ax.add_patch(rect3)\n",
    "\n",
    "        # plt.show()\n",
    "        # 用于将输出调整为相对于416x416的大小\n",
    "        _scale = torch.Tensor([stride_w, stride_h] * 2).type(FloatTensor)\n",
    "        output = torch.cat((pred_boxes.view(batch_size, -1, 4) * _scale,\n",
    "                            conf.view(batch_size, -1, 1), pred_cls.view(batch_size, -1, self.num_classes)), -1)\n",
    "        return output.data\n",
    "        \n",
    "def letterbox_image(image, size):\n",
    "    iw, ih = image.size\n",
    "    w, h = size\n",
    "    scale = min(w/iw, h/ih)\n",
    "    nw = int(iw*scale)\n",
    "    nh = int(ih*scale)\n",
    "\n",
    "    image = image.resize((nw,nh), Image.BICUBIC)\n",
    "    new_image = Image.new('RGB', size, (128,128,128))\n",
    "    new_image.paste(image, ((w-nw)//2, (h-nh)//2))\n",
    "    return new_image\n",
    "\n",
    "def yolo_correct_boxes(top, left, bottom, right, input_shape, image_shape):\n",
    "    new_shape = image_shape*np.min(input_shape/image_shape)\n",
    "\n",
    "    offset = (input_shape-new_shape)/2./input_shape\n",
    "    scale = input_shape/new_shape\n",
    "\n",
    "    box_yx = np.concatenate(((top+bottom)/2,(left+right)/2),axis=-1)/input_shape\n",
    "    box_hw = np.concatenate((bottom-top,right-left),axis=-1)/input_shape\n",
    "\n",
    "    box_yx = (box_yx - offset) * scale\n",
    "    box_hw *= scale\n",
    "\n",
    "    box_mins = box_yx - (box_hw / 2.)\n",
    "    box_maxes = box_yx + (box_hw / 2.)\n",
    "    boxes =  np.concatenate([\n",
    "        box_mins[:, 0:1],\n",
    "        box_mins[:, 1:2],\n",
    "        box_maxes[:, 0:1],\n",
    "        box_maxes[:, 1:2]\n",
    "    ],axis=-1)\n",
    "    print(np.shape(boxes))\n",
    "    boxes *= np.concatenate([image_shape, image_shape],axis=-1)\n",
    "    return boxes\n",
    "\n",
    "def bbox_iou(box1, box2, x1y1x2y2=True):\n",
    "    \"\"\"\n",
    "        计算IOU\n",
    "    \"\"\"\n",
    "    if not x1y1x2y2:\n",
    "        b1_x1, b1_x2 = box1[:, 0] - box1[:, 2] / 2, box1[:, 0] + box1[:, 2] / 2\n",
    "        b1_y1, b1_y2 = box1[:, 1] - box1[:, 3] / 2, box1[:, 1] + box1[:, 3] / 2\n",
    "        b2_x1, b2_x2 = box2[:, 0] - box2[:, 2] / 2, box2[:, 0] + box2[:, 2] / 2\n",
    "        b2_y1, b2_y2 = box2[:, 1] - box2[:, 3] / 2, box2[:, 1] + box2[:, 3] / 2\n",
    "    else:\n",
    "        b1_x1, b1_y1, b1_x2, b1_y2 = box1[:, 0], box1[:, 1], box1[:, 2], box1[:, 3]\n",
    "        b2_x1, b2_y1, b2_x2, b2_y2 = box2[:, 0], box2[:, 1], box2[:, 2], box2[:, 3]\n",
    "\n",
    "    inter_rect_x1 = torch.max(b1_x1, b2_x1)\n",
    "    inter_rect_y1 = torch.max(b1_y1, b2_y1)\n",
    "    inter_rect_x2 = torch.min(b1_x2, b2_x2)\n",
    "    inter_rect_y2 = torch.min(b1_y2, b2_y2)\n",
    "\n",
    "    inter_area = torch.clamp(inter_rect_x2 - inter_rect_x1 + 1, min=0) * \\\n",
    "                 torch.clamp(inter_rect_y2 - inter_rect_y1 + 1, min=0)\n",
    "                 \n",
    "    b1_area = (b1_x2 - b1_x1 + 1) * (b1_y2 - b1_y1 + 1)\n",
    "    b2_area = (b2_x2 - b2_x1 + 1) * (b2_y2 - b2_y1 + 1)\n",
    "\n",
    "    iou = inter_area / (b1_area + b2_area - inter_area + 1e-16)\n",
    "\n",
    "    return iou\n",
    "\n",
    "\n",
    "def non_max_suppression(prediction, num_classes, conf_thres=0.5, nms_thres=0.4):\n",
    "    # 求左上角和右下角\n",
    "    box_corner = prediction.new(prediction.shape)\n",
    "    box_corner[:, :, 0] = prediction[:, :, 0] - prediction[:, :, 2] / 2\n",
    "    box_corner[:, :, 1] = prediction[:, :, 1] - prediction[:, :, 3] / 2\n",
    "    box_corner[:, :, 2] = prediction[:, :, 0] + prediction[:, :, 2] / 2\n",
    "    box_corner[:, :, 3] = prediction[:, :, 1] + prediction[:, :, 3] / 2\n",
    "    prediction[:, :, :4] = box_corner[:, :, :4]\n",
    "\n",
    "    output = [None for _ in range(len(prediction))]\n",
    "    for image_i, image_pred in enumerate(prediction):\n",
    "        # 利用置信度进行第一轮筛选\n",
    "        conf_mask = (image_pred[:, 4] >= conf_thres).squeeze()\n",
    "        image_pred = image_pred[conf_mask]\n",
    "\n",
    "        if not image_pred.size(0):\n",
    "            continue\n",
    "\n",
    "        # 获得种类及其置信度\n",
    "        class_conf, class_pred = torch.max(image_pred[:, 5:5 + num_classes], 1, keepdim=True)\n",
    "\n",
    "        # 获得的内容为(x1, y1, x2, y2, obj_conf, class_conf, class_pred)\n",
    "        detections = torch.cat((image_pred[:, :5], class_conf.float(), class_pred.float()), 1)\n",
    "\n",
    "        # 获得种类\n",
    "        unique_labels = detections[:, -1].cpu().unique()\n",
    "\n",
    "        if prediction.is_cuda:\n",
    "            unique_labels = unique_labels.cuda()\n",
    "\n",
    "        for c in unique_labels:\n",
    "            # 获得某一类初步筛选后全部的预测结果\n",
    "            detections_class = detections[detections[:, -1] == c]\n",
    "            # 按照存在物体的置信度排序\n",
    "            _, conf_sort_index = torch.sort(detections_class[:, 4], descending=True)\n",
    "            detections_class = detections_class[conf_sort_index]\n",
    "            # 进行非极大抑制\n",
    "            max_detections = []\n",
    "            while detections_class.size(0):\n",
    "                # 取出这一类置信度最高的，一步一步往下判断，判断重合程度是否大于nms_thres，如果是则去除掉\n",
    "                max_detections.append(detections_class[0].unsqueeze(0))\n",
    "                if len(detections_class) == 1:\n",
    "                    break\n",
    "                ious = bbox_iou(max_detections[-1], detections_class[1:])\n",
    "                detections_class = detections_class[1:][ious < nms_thres]\n",
    "            # 堆叠\n",
    "            max_detections = torch.cat(max_detections).data\n",
    "            # Add max detections to outputs\n",
    "            output[image_i] = max_detections if output[image_i] is None else torch.cat(\n",
    "                (output[image_i], max_detections))\n",
    "\n",
    "    return output\n",
    "\n",
    "def merge_bboxes(bboxes, cutx, cuty):\n",
    "    merge_bbox = []\n",
    "    for i in range(len(bboxes)):\n",
    "        for box in bboxes[i]:\n",
    "            tmp_box = []\n",
    "            x1,y1,x2,y2 = box[0], box[1], box[2], box[3]\n",
    "\n",
    "            if i == 0:\n",
    "                if y1 > cuty or x1 > cutx:\n",
    "                    continue\n",
    "                if y2 >= cuty and y1 <= cuty:\n",
    "                    y2 = cuty\n",
    "                    if y2-y1 < 5:\n",
    "                        continue\n",
    "                if x2 >= cutx and x1 <= cutx:\n",
    "                    x2 = cutx\n",
    "                    if x2-x1 < 5:\n",
    "                        continue\n",
    "                \n",
    "            if i == 1:\n",
    "                if y2 < cuty or x1 > cutx:\n",
    "                    continue\n",
    "\n",
    "                if y2 >= cuty and y1 <= cuty:\n",
    "                    y1 = cuty\n",
    "                    if y2-y1 < 5:\n",
    "                        continue\n",
    "                \n",
    "                if x2 >= cutx and x1 <= cutx:\n",
    "                    x2 = cutx\n",
    "                    if x2-x1 < 5:\n",
    "                        continue\n",
    "\n",
    "            if i == 2:\n",
    "                if y2 < cuty or x2 < cutx:\n",
    "                    continue\n",
    "\n",
    "                if y2 >= cuty and y1 <= cuty:\n",
    "                    y1 = cuty\n",
    "                    if y2-y1 < 5:\n",
    "                        continue\n",
    "\n",
    "                if x2 >= cutx and x1 <= cutx:\n",
    "                    x1 = cutx\n",
    "                    if x2-x1 < 5:\n",
    "                        continue\n",
    "\n",
    "            if i == 3:\n",
    "                if y1 > cuty or x2 < cutx:\n",
    "                    continue\n",
    "\n",
    "                if y2 >= cuty and y1 <= cuty:\n",
    "                    y2 = cuty\n",
    "                    if y2-y1 < 5:\n",
    "                        continue\n",
    "\n",
    "                if x2 >= cutx and x1 <= cutx:\n",
    "                    x1 = cutx\n",
    "                    if x2-x1 < 5:\n",
    "                        continue\n",
    "\n",
    "            tmp_box.append(x1)\n",
    "            tmp_box.append(y1)\n",
    "            tmp_box.append(x2)\n",
    "            tmp_box.append(y2)\n",
    "            tmp_box.append(box[-1])\n",
    "            merge_bbox.append(tmp_box)\n",
    "    return merge_bbox"
   ]
  },
  {
   "cell_type": "code",
   "execution_count": 5,
   "metadata": {},
   "outputs": [],
   "source": [
    "#yolov4模型训练使用的辅助函数和辅助类   包括各种损失函数 以及数据增强方式\n",
    "import cv2  \n",
    "from random import shuffle\n",
    "import numpy as np\n",
    "import torch\n",
    "import torch.nn as nn\n",
    "import math\n",
    "import torch.nn.functional as F\n",
    "from matplotlib.colors import rgb_to_hsv, hsv_to_rgb\n",
    "from PIL import Image\n",
    "\n",
    "def jaccard(_box_a, _box_b):\n",
    "    b1_x1, b1_x2 = _box_a[:, 0] - _box_a[:, 2] / 2, _box_a[:, 0] + _box_a[:, 2] / 2\n",
    "    b1_y1, b1_y2 = _box_a[:, 1] - _box_a[:, 3] / 2, _box_a[:, 1] + _box_a[:, 3] / 2\n",
    "    b2_x1, b2_x2 = _box_b[:, 0] - _box_b[:, 2] / 2, _box_b[:, 0] + _box_b[:, 2] / 2\n",
    "    b2_y1, b2_y2 = _box_b[:, 1] - _box_b[:, 3] / 2, _box_b[:, 1] + _box_b[:, 3] / 2\n",
    "    box_a = torch.zeros_like(_box_a)\n",
    "    box_b = torch.zeros_like(_box_b)\n",
    "    box_a[:, 0], box_a[:, 1], box_a[:, 2], box_a[:, 3] = b1_x1, b1_y1, b1_x2, b1_y2\n",
    "    box_b[:, 0], box_b[:, 1], box_b[:, 2], box_b[:, 3] = b2_x1, b2_y1, b2_x2, b2_y2\n",
    "    A = box_a.size(0)\n",
    "    B = box_b.size(0)\n",
    "    max_xy = torch.min(box_a[:, 2:].unsqueeze(1).expand(A, B, 2),\n",
    "                       box_b[:, 2:].unsqueeze(0).expand(A, B, 2))\n",
    "    min_xy = torch.max(box_a[:, :2].unsqueeze(1).expand(A, B, 2),\n",
    "                       box_b[:, :2].unsqueeze(0).expand(A, B, 2))\n",
    "    inter = torch.clamp((max_xy - min_xy), min=0)\n",
    "\n",
    "    inter = inter[:, :, 0] * inter[:, :, 1]\n",
    "    # 计算先验框和真实框各自的面积\n",
    "    area_a = ((box_a[:, 2]-box_a[:, 0]) *\n",
    "              (box_a[:, 3]-box_a[:, 1])).unsqueeze(1).expand_as(inter)  # [A,B]\n",
    "    area_b = ((box_b[:, 2]-box_b[:, 0]) *\n",
    "              (box_b[:, 3]-box_b[:, 1])).unsqueeze(0).expand_as(inter)  # [A,B]\n",
    "    # 求IOU\n",
    "    union = area_a + area_b - inter\n",
    "    return inter / union  # [A,B]\n",
    "#---------------------------------------------------#\n",
    "#   平滑标签\n",
    "#---------------------------------------------------#\n",
    "def smooth_labels(y_true, label_smoothing,num_classes):\n",
    "    return y_true * (1.0 - label_smoothing) + label_smoothing / num_classes\n",
    "\n",
    "def box_ciou(b1, b2):\n",
    "    \"\"\"\n",
    "    输入为：\n",
    "    ----------\n",
    "    b1: tensor, shape=(batch, feat_w, feat_h, anchor_num, 4), xywh\n",
    "    b2: tensor, shape=(batch, feat_w, feat_h, anchor_num, 4), xywh\n",
    "\n",
    "    返回为：\n",
    "    -------\n",
    "    ciou: tensor, shape=(batch, feat_w, feat_h, anchor_num, 1)\n",
    "    \"\"\"\n",
    "    # 求出预测框左上角右下角\n",
    "    b1_xy = b1[..., :2]\n",
    "    b1_wh = b1[..., 2:4]\n",
    "    b1_wh_half = b1_wh/2.\n",
    "    b1_mins = b1_xy - b1_wh_half\n",
    "    b1_maxes = b1_xy + b1_wh_half\n",
    "    # 求出真实框左上角右下角\n",
    "    b2_xy = b2[..., :2]\n",
    "    b2_wh = b2[..., 2:4]\n",
    "    b2_wh_half = b2_wh/2.\n",
    "    b2_mins = b2_xy - b2_wh_half\n",
    "    b2_maxes = b2_xy + b2_wh_half\n",
    "\n",
    "    # 求真实框和预测框所有的iou\n",
    "    intersect_mins = torch.max(b1_mins, b2_mins)\n",
    "    intersect_maxes = torch.min(b1_maxes, b2_maxes)\n",
    "    intersect_wh = torch.max(intersect_maxes - intersect_mins, torch.zeros_like(intersect_maxes))\n",
    "    intersect_area = intersect_wh[..., 0] * intersect_wh[..., 1]\n",
    "    b1_area = b1_wh[..., 0] * b1_wh[..., 1]\n",
    "    b2_area = b2_wh[..., 0] * b2_wh[..., 1]\n",
    "    union_area = b1_area + b2_area - intersect_area\n",
    "    iou = intersect_area / torch.clamp(union_area,min = 1e-6)\n",
    "\n",
    "    # 计算中心的差距\n",
    "    center_distance = torch.sum(torch.pow((b1_xy - b2_xy), 2), axis=-1)\n",
    "    \n",
    "    # 找到包裹两个框的最小框的左上角和右下角\n",
    "    enclose_mins = torch.min(b1_mins, b2_mins)\n",
    "    enclose_maxes = torch.max(b1_maxes, b2_maxes)\n",
    "    enclose_wh = torch.max(enclose_maxes - enclose_mins, torch.zeros_like(intersect_maxes))\n",
    "    # 计算对角线距离\n",
    "    enclose_diagonal = torch.sum(torch.pow(enclose_wh,2), axis=-1)\n",
    "    ciou = iou - 1.0 * (center_distance) / torch.clamp(enclose_diagonal,min = 1e-6)\n",
    "    \n",
    "    v = (4 / (math.pi ** 2)) * torch.pow((torch.atan(b1_wh[..., 0]/torch.clamp(b1_wh[..., 1],min = 1e-6)) - torch.atan(b2_wh[..., 0]/torch.clamp(b2_wh[..., 1],min = 1e-6))), 2)\n",
    "    alpha = v / torch.clamp((1.0 - iou + v),min=1e-6)\n",
    "    ciou = ciou - alpha * v\n",
    "    return ciou\n",
    "  \n",
    "def clip_by_tensor(t,t_min,t_max):\n",
    "    t=t.float()\n",
    "    result = (t >= t_min).float() * t + (t < t_min).float() * t_min\n",
    "    result = (result <= t_max).float() * result + (result > t_max).float() * t_max\n",
    "    return result\n",
    "\n",
    "def MSELoss(pred,target):\n",
    "    return (pred-target)**2\n",
    "\n",
    "def BCELoss(pred,target):\n",
    "    epsilon = 1e-7\n",
    "    pred = clip_by_tensor(pred, epsilon, 1.0 - epsilon)\n",
    "    output = -target * torch.log(pred) - (1.0 - target) * torch.log(1.0 - pred)\n",
    "    return output\n",
    "\n",
    "class YOLOLoss(nn.Module):\n",
    "    def __init__(self, anchors, num_classes, img_size, label_smooth=0, cuda=True):\n",
    "        super(YOLOLoss, self).__init__()\n",
    "        self.anchors = anchors\n",
    "        self.num_anchors = len(anchors)\n",
    "        self.num_classes = num_classes\n",
    "        self.bbox_attrs = 5 + num_classes\n",
    "        self.img_size = img_size\n",
    "        self.feature_length = [img_size[0]//32,img_size[0]//16,img_size[0]//8]\n",
    "        self.label_smooth = label_smooth\n",
    "\n",
    "        self.ignore_threshold = 0.5\n",
    "        self.lambda_conf = 1.0\n",
    "        self.lambda_cls = 1.0\n",
    "        self.lambda_loc = 1.0\n",
    "        self.cuda = cuda\n",
    "\n",
    "    def forward(self, input, targets=None):\n",
    "        # input为bs,3*(5+num_classes),13,13\n",
    "        \n",
    "        # 一共多少张图片\n",
    "        bs = input.size(0)\n",
    "        # 特征层的高\n",
    "        in_h = input.size(2)\n",
    "        # 特征层的宽\n",
    "        in_w = input.size(3)\n",
    "\n",
    "        # 计算步长\n",
    "        # 每一个特征点对应原来的图片上多少个像素点\n",
    "        # 如果特征层为13x13的话，一个特征点就对应原来的图片上的32个像素点\n",
    "        stride_h = self.img_size[1] / in_h\n",
    "        stride_w = self.img_size[0] / in_w\n",
    "\n",
    "        # 把先验框的尺寸调整成特征层大小的形式\n",
    "        # 计算出先验框在特征层上对应的宽高\n",
    "        scaled_anchors = [(a_w / stride_w, a_h / stride_h) for a_w, a_h in self.anchors]\n",
    "        # bs,3*(5+num_classes),13,13 -> bs,3,13,13,(5+num_classes)\n",
    "        prediction = input.view(bs, int(self.num_anchors/3),\n",
    "                                self.bbox_attrs, in_h, in_w).permute(0, 1, 3, 4, 2).contiguous()\n",
    "        \n",
    "        # 对prediction预测进行调整\n",
    "        conf = torch.sigmoid(prediction[..., 4])  # Conf\n",
    "        pred_cls = torch.sigmoid(prediction[..., 5:])  # Cls pred.\n",
    "\n",
    "        # 找到哪些先验框内部包含物体\n",
    "        mask, noobj_mask, t_box, tconf, tcls, box_loss_scale_x, box_loss_scale_y = self.get_target(targets, scaled_anchors,in_w, in_h,self.ignore_threshold)\n",
    "\n",
    "        noobj_mask, pred_boxes_for_ciou = self.get_ignore(prediction, targets, scaled_anchors, in_w, in_h, noobj_mask)\n",
    "\n",
    "        if self.cuda:\n",
    "            mask, noobj_mask = mask.cuda(), noobj_mask.cuda()\n",
    "            box_loss_scale_x, box_loss_scale_y= box_loss_scale_x.cuda(), box_loss_scale_y.cuda()\n",
    "            tconf, tcls = tconf.cuda(), tcls.cuda()\n",
    "            pred_boxes_for_ciou = pred_boxes_for_ciou.cuda()\n",
    "            t_box = t_box.cuda()\n",
    "\n",
    "        box_loss_scale = 2-box_loss_scale_x*box_loss_scale_y\n",
    "        #  losses.\n",
    "        ciou = (1 - box_ciou( pred_boxes_for_ciou[mask.bool()], t_box[mask.bool()]))* box_loss_scale[mask.bool()]\n",
    "\n",
    "        loss_loc = torch.sum(ciou / bs)\n",
    "        loss_conf = torch.sum(BCELoss(conf, mask) * mask / bs) + \\\n",
    "                    torch.sum(BCELoss(conf, mask) * noobj_mask / bs)\n",
    "                    \n",
    "        # print(smooth_labels(tcls[mask == 1],self.label_smooth,self.num_classes))\n",
    "        loss_cls = torch.sum(BCELoss(pred_cls[mask == 1], smooth_labels(tcls[mask == 1],self.label_smooth,self.num_classes))/bs)\n",
    "        # print(loss_loc,loss_conf,loss_cls)\n",
    "        loss = loss_conf * self.lambda_conf + loss_cls * self.lambda_cls + loss_loc * self.lambda_loc\n",
    "        return loss, loss_conf.item(), loss_cls.item(), loss_loc.item()\n",
    "\n",
    "    def get_target(self, target, anchors, in_w, in_h, ignore_threshold):\n",
    "        # 计算一共有多少张图片\n",
    "        bs = len(target)\n",
    "        # 获得先验框\n",
    "        anchor_index = [[0,1,2],[3,4,5],[6,7,8]][self.feature_length.index(in_w)]\n",
    "        subtract_index = [0,3,6][self.feature_length.index(in_w)]\n",
    "        # 创建全是0或者全是1的阵列\n",
    "        mask = torch.zeros(bs, int(self.num_anchors/3), in_h, in_w, requires_grad=False)\n",
    "        noobj_mask = torch.ones(bs, int(self.num_anchors/3), in_h, in_w, requires_grad=False)\n",
    "\n",
    "        tx = torch.zeros(bs, int(self.num_anchors/3), in_h, in_w, requires_grad=False)\n",
    "        ty = torch.zeros(bs, int(self.num_anchors/3), in_h, in_w, requires_grad=False)\n",
    "        tw = torch.zeros(bs, int(self.num_anchors/3), in_h, in_w, requires_grad=False)\n",
    "        th = torch.zeros(bs, int(self.num_anchors/3), in_h, in_w, requires_grad=False)\n",
    "        t_box = torch.zeros(bs, int(self.num_anchors/3), in_h, in_w, 4, requires_grad=False)\n",
    "        tconf = torch.zeros(bs, int(self.num_anchors/3), in_h, in_w, requires_grad=False)\n",
    "        tcls = torch.zeros(bs, int(self.num_anchors/3), in_h, in_w, self.num_classes, requires_grad=False)\n",
    "\n",
    "        box_loss_scale_x = torch.zeros(bs, int(self.num_anchors/3), in_h, in_w, requires_grad=False)\n",
    "        box_loss_scale_y = torch.zeros(bs, int(self.num_anchors/3), in_h, in_w, requires_grad=False)\n",
    "        for b in range(bs):\n",
    "            for t in range(target[b].shape[0]):\n",
    "                # 计算出在特征层上的点位\n",
    "                gx = target[b][t, 0] * in_w\n",
    "                gy = target[b][t, 1] * in_h\n",
    "                \n",
    "                gw = target[b][t, 2] * in_w\n",
    "                gh = target[b][t, 3] * in_h\n",
    "\n",
    "                # 计算出属于哪个网格\n",
    "                gi = int(gx)\n",
    "                gj = int(gy)\n",
    "\n",
    "                # 计算真实框的位置\n",
    "                gt_box = torch.FloatTensor(np.array([0, 0, gw, gh])).unsqueeze(0)\n",
    "                \n",
    "                # 计算出所有先验框的位置\n",
    "                anchor_shapes = torch.FloatTensor(np.concatenate((np.zeros((self.num_anchors, 2)),\n",
    "                                                                  np.array(anchors)), 1))\n",
    "                # 计算重合程度\n",
    "                anch_ious = bbox_iou(gt_box, anchor_shapes)\n",
    "               \n",
    "                # Find the best matching anchor box\n",
    "                best_n = np.argmax(anch_ious)\n",
    "                if best_n not in anchor_index:\n",
    "                    continue\n",
    "                # Masks\n",
    "                if (gj < in_h) and (gi < in_w):\n",
    "                    best_n = best_n - subtract_index\n",
    "                    # 判定哪些先验框内部真实的存在物体\n",
    "                    noobj_mask[b, best_n, gj, gi] = 0\n",
    "                    mask[b, best_n, gj, gi] = 1\n",
    "                    # 计算先验框中心调整参数\n",
    "                    tx[b, best_n, gj, gi] = gx\n",
    "                    ty[b, best_n, gj, gi] = gy\n",
    "                    # 计算先验框宽高调整参数\n",
    "                    tw[b, best_n, gj, gi] = gw\n",
    "                    th[b, best_n, gj, gi] = gh\n",
    "                    # 用于获得xywh的比例\n",
    "                    box_loss_scale_x[b, best_n, gj, gi] = target[b][t, 2]\n",
    "                    box_loss_scale_y[b, best_n, gj, gi] = target[b][t, 3]\n",
    "                    # 物体置信度\n",
    "                    tconf[b, best_n, gj, gi] = 1\n",
    "                    # 种类\n",
    "                    tcls[b, best_n, gj, gi, int(target[b][t, 4])] = 1\n",
    "                else:\n",
    "                    print('Step {0} out of bound'.format(b))\n",
    "                    print('gj: {0}, height: {1} | gi: {2}, width: {3}'.format(gj, in_h, gi, in_w))\n",
    "                    continue\n",
    "        t_box[...,0] = tx\n",
    "        t_box[...,1] = ty\n",
    "        t_box[...,2] = tw\n",
    "        t_box[...,3] = th\n",
    "        return mask, noobj_mask, t_box, tconf, tcls, box_loss_scale_x, box_loss_scale_y\n",
    "\n",
    "    def get_ignore(self,prediction,target,scaled_anchors,in_w, in_h,noobj_mask):\n",
    "        bs = len(target)\n",
    "        anchor_index = [[0,1,2],[3,4,5],[6,7,8]][self.feature_length.index(in_w)]\n",
    "        scaled_anchors = np.array(scaled_anchors)[anchor_index]\n",
    "        # 先验框的中心位置的调整参数\n",
    "        x = torch.sigmoid(prediction[..., 0])  \n",
    "        y = torch.sigmoid(prediction[..., 1])\n",
    "        # 先验框的宽高调整参数\n",
    "        w = prediction[..., 2]  # Width\n",
    "        h = prediction[..., 3]  # Height\n",
    "\n",
    "        FloatTensor = torch.cuda.FloatTensor if x.is_cuda else torch.FloatTensor\n",
    "        LongTensor = torch.cuda.LongTensor if x.is_cuda else torch.LongTensor\n",
    "\n",
    "        # 生成网格，先验框中心，网格左上角\n",
    "        grid_x = torch.linspace(0, in_w - 1, in_w).repeat(in_w, 1).repeat(\n",
    "            int(bs*self.num_anchors/3), 1, 1).view(x.shape).type(FloatTensor)\n",
    "        grid_y = torch.linspace(0, in_h - 1, in_h).repeat(in_h, 1).t().repeat(\n",
    "            int(bs*self.num_anchors/3), 1, 1).view(y.shape).type(FloatTensor)\n",
    "\n",
    "        # 生成先验框的宽高\n",
    "        anchor_w = FloatTensor(scaled_anchors).index_select(1, LongTensor([0]))\n",
    "        anchor_h = FloatTensor(scaled_anchors).index_select(1, LongTensor([1]))\n",
    "        \n",
    "        anchor_w = anchor_w.repeat(bs, 1).repeat(1, 1, in_h * in_w).view(w.shape)\n",
    "        anchor_h = anchor_h.repeat(bs, 1).repeat(1, 1, in_h * in_w).view(h.shape)\n",
    "        \n",
    "        # 计算调整后的先验框中心与宽高\n",
    "        pred_boxes = FloatTensor(prediction[..., :4].shape)\n",
    "        pred_boxes[..., 0] = x + grid_x\n",
    "        pred_boxes[..., 1] = y + grid_y\n",
    "        pred_boxes[..., 2] = torch.exp(w) * anchor_w\n",
    "        pred_boxes[..., 3] = torch.exp(h) * anchor_h\n",
    "        for i in range(bs):\n",
    "            pred_boxes_for_ignore = pred_boxes[i]\n",
    "            pred_boxes_for_ignore = pred_boxes_for_ignore.view(-1, 4)\n",
    "            if len(target[i]) > 0:\n",
    "                gx = target[i][:, 0:1] * in_w\n",
    "                gy = target[i][:, 1:2] * in_h\n",
    "                gw = target[i][:, 2:3] * in_w\n",
    "                gh = target[i][:, 3:4] * in_h\n",
    "                gt_box = torch.FloatTensor(np.concatenate([gx, gy, gw, gh],-1)).type(FloatTensor)\n",
    "\n",
    "                anch_ious = jaccard(gt_box, pred_boxes_for_ignore)\n",
    "                for t in range(target[i].shape[0]):\n",
    "                    anch_iou = anch_ious[t].view(pred_boxes[i].size()[:3])\n",
    "                    noobj_mask[i][anch_iou>self.ignore_threshold] = 0\n",
    "        return noobj_mask, pred_boxes\n",
    "\n",
    "\n",
    "def rand(a=0, b=1):\n",
    "    return np.random.rand()*(b-a) + a\n",
    "\n",
    "\n",
    "class Generator(object):\n",
    "    def __init__(self,batch_size,\n",
    "                 train_lines, image_size,\n",
    "                 ):\n",
    "        \n",
    "        self.batch_size = batch_size\n",
    "        self.train_lines = train_lines\n",
    "        self.train_batches = len(train_lines)\n",
    "        self.image_size = image_size\n",
    "        \n",
    "    def get_random_data(self, annotation_line, input_shape, jitter=.3, hue=.1, sat=1.5, val=1.5):\n",
    "        '''r实时数据增强的随机预处理'''\n",
    "        line = annotation_line.split()\n",
    "        image = Image.open(line[0])\n",
    "        iw, ih = image.size\n",
    "        h, w = input_shape\n",
    "        box = np.array([np.array(list(map(int,box.split(',')))) for box in line[1:]])\n",
    "\n",
    "        # resize image\n",
    "        new_ar = w/h * rand(1-jitter,1+jitter)/rand(1-jitter,1+jitter)\n",
    "        scale = rand(.25, 2)\n",
    "        if new_ar < 1:\n",
    "            nh = int(scale*h)\n",
    "            nw = int(nh*new_ar)\n",
    "        else:\n",
    "            nw = int(scale*w)\n",
    "            nh = int(nw/new_ar)\n",
    "        image = image.resize((nw,nh), Image.BICUBIC)\n",
    "\n",
    "        # place image\n",
    "        dx = int(rand(0, w-nw))\n",
    "        dy = int(rand(0, h-nh))\n",
    "        new_image = Image.new('RGB', (w,h), (128,128,128))\n",
    "        new_image.paste(image, (dx, dy))\n",
    "        image = new_image\n",
    "\n",
    "        # flip image or not\n",
    "        flip = rand()<.5\n",
    "        if flip: image = image.transpose(Image.FLIP_LEFT_RIGHT)\n",
    "\n",
    "        # distort image\n",
    "        hue = rand(-hue, hue)\n",
    "        sat = rand(1, sat) if rand()<.5 else 1/rand(1, sat)\n",
    "        val = rand(1, val) if rand()<.5 else 1/rand(1, val)\n",
    "        x = cv2.cvtColor(np.array(image,np.float32)/255, cv2.COLOR_RGB2HSV)\n",
    "        x[..., 0] += hue*360\n",
    "        x[..., 0][x[..., 0]>1] -= 1\n",
    "        x[..., 0][x[..., 0]<0] += 1\n",
    "        x[..., 1] *= sat\n",
    "        x[..., 2] *= val\n",
    "        x[x[:,:, 0]>360, 0] = 360\n",
    "        x[:, :, 1:][x[:, :, 1:]>1] = 1\n",
    "        x[x<0] = 0\n",
    "        image_data = cv2.cvtColor(x, cv2.COLOR_HSV2RGB)*255\n",
    "\n",
    "        # correct boxes\n",
    "        box_data = np.zeros((len(box),5))\n",
    "        if len(box)>0:\n",
    "            np.random.shuffle(box)\n",
    "            box[:, [0,2]] = box[:, [0,2]]*nw/iw + dx\n",
    "            box[:, [1,3]] = box[:, [1,3]]*nh/ih + dy\n",
    "            if flip: box[:, [0,2]] = w - box[:, [2,0]]\n",
    "            box[:, 0:2][box[:, 0:2]<0] = 0\n",
    "            box[:, 2][box[:, 2]>w] = w\n",
    "            box[:, 3][box[:, 3]>h] = h\n",
    "            box_w = box[:, 2] - box[:, 0]\n",
    "            box_h = box[:, 3] - box[:, 1]\n",
    "            box = box[np.logical_and(box_w>1, box_h>1)] # discard invalid box\n",
    "            box_data = np.zeros((len(box),5))\n",
    "            box_data[:len(box)] = box\n",
    "        if len(box) == 0:\n",
    "            return image_data, []\n",
    "\n",
    "        if (box_data[:,:4]>0).any():\n",
    "            return image_data, box_data\n",
    "        else:\n",
    "            return image_data, []\n",
    "\n",
    "    def get_random_data_with_Mosaic(self, annotation_line, input_shape, hue=.1, sat=1.5, val=1.5):\n",
    "        '''random preprocessing for real-time data augmentation'''\n",
    "        h, w = input_shape\n",
    "        min_offset_x = 0.4\n",
    "        min_offset_y = 0.4\n",
    "        scale_low = 1-min(min_offset_x,min_offset_y)\n",
    "        scale_high = scale_low+0.2\n",
    "\n",
    "        image_datas = [] \n",
    "        box_datas = []\n",
    "        index = 0\n",
    "\n",
    "        place_x = [0,0,int(w*min_offset_x),int(w*min_offset_x)]\n",
    "        place_y = [0,int(h*min_offset_y),int(w*min_offset_y),0]\n",
    "        for line in annotation_line:\n",
    "            # 每一行进行分割\n",
    "            line_content = line.split()\n",
    "            # 打开图片\n",
    "            image = Image.open(line_content[0])\n",
    "            image = image.convert(\"RGB\") \n",
    "            # 图片的大小\n",
    "            iw, ih = image.size\n",
    "            # 保存框的位置\n",
    "            box = np.array([np.array(list(map(int,box.split(',')))) for box in line_content[1:]])\n",
    "            \n",
    "            # 是否翻转图片\n",
    "            flip = rand()<.5\n",
    "            if flip and len(box)>0:\n",
    "                image = image.transpose(Image.FLIP_LEFT_RIGHT)\n",
    "                box[:, [0,2]] = iw - box[:, [2,0]]\n",
    "\n",
    "            # 对输入进来的图片进行缩放\n",
    "            new_ar = w/h\n",
    "            scale = rand(scale_low, scale_high)\n",
    "            if new_ar < 1:\n",
    "                nh = int(scale*h)\n",
    "                nw = int(nh*new_ar)\n",
    "            else:\n",
    "                nw = int(scale*w)\n",
    "                nh = int(nw/new_ar)\n",
    "            image = image.resize((nw,nh), Image.BICUBIC)\n",
    "\n",
    "            # 进行色域变换\n",
    "            hue = rand(-hue, hue)\n",
    "            sat = rand(1, sat) if rand()<.5 else 1/rand(1, sat)\n",
    "            val = rand(1, val) if rand()<.5 else 1/rand(1, val)\n",
    "            x = cv2.cvtColor(np.array(image,np.float32)/255, cv2.COLOR_RGB2HSV)\n",
    "            x[..., 0] += hue*360\n",
    "            x[..., 0][x[..., 0]>1] -= 1\n",
    "            x[..., 0][x[..., 0]<0] += 1\n",
    "            x[..., 1] *= sat\n",
    "            x[..., 2] *= val\n",
    "            x[x[:,:, 0]>360, 0] = 360\n",
    "            x[:, :, 1:][x[:, :, 1:]>1] = 1\n",
    "            x[x<0] = 0\n",
    "            image = cv2.cvtColor(x, cv2.COLOR_HSV2RGB) # numpy array, 0 to 1\n",
    "            \n",
    "            image = Image.fromarray((image*255).astype(np.uint8))\n",
    "            # 将图片进行放置，分别对应四张分割图片的位置\n",
    "            dx = place_x[index]\n",
    "            dy = place_y[index]\n",
    "            new_image = Image.new('RGB', (w,h), (128,128,128))\n",
    "            new_image.paste(image, (dx, dy))\n",
    "            image_data = np.array(new_image)\n",
    "\n",
    "            \n",
    "            index = index + 1\n",
    "            box_data = []\n",
    "            # 对box进行重新处理\n",
    "            if len(box)>0:\n",
    "                np.random.shuffle(box)\n",
    "                box[:, [0,2]] = box[:, [0,2]]*nw/iw + dx\n",
    "                box[:, [1,3]] = box[:, [1,3]]*nh/ih + dy\n",
    "                box[:, 0:2][box[:, 0:2]<0] = 0\n",
    "                box[:, 2][box[:, 2]>w] = w\n",
    "                box[:, 3][box[:, 3]>h] = h\n",
    "                box_w = box[:, 2] - box[:, 0]\n",
    "                box_h = box[:, 3] - box[:, 1]\n",
    "                box = box[np.logical_and(box_w>1, box_h>1)]\n",
    "                box_data = np.zeros((len(box),5))\n",
    "                box_data[:len(box)] = box\n",
    "            \n",
    "            image_datas.append(image_data)\n",
    "            box_datas.append(box_data)\n",
    "\n",
    "        # 将图片分割，放在一起\n",
    "        cutx = np.random.randint(int(w*min_offset_x), int(w*(1 - min_offset_x)))\n",
    "        cuty = np.random.randint(int(h*min_offset_y), int(h*(1 - min_offset_y)))\n",
    "\n",
    "        new_image = np.zeros([h,w,3])\n",
    "        new_image[:cuty, :cutx, :] = image_datas[0][:cuty, :cutx, :]\n",
    "        new_image[cuty:, :cutx, :] = image_datas[1][cuty:, :cutx, :]\n",
    "        new_image[cuty:, cutx:, :] = image_datas[2][cuty:, cutx:, :]\n",
    "        new_image[:cuty, cutx:, :] = image_datas[3][:cuty, cutx:, :]\n",
    "\n",
    "        # 对框进行进一步的处理\n",
    "        new_boxes = np.array(merge_bboxes(box_datas, cutx, cuty))\n",
    "\n",
    "        if len(new_boxes) == 0:\n",
    "            return new_image, []\n",
    "        if (new_boxes[:,:4]>0).any():\n",
    "            return new_image, new_boxes\n",
    "        else:\n",
    "            return new_image, []\n",
    "\n",
    "    def generate(self, train = True, mosaic = True):\n",
    "        while True:\n",
    "            shuffle(self.train_lines)\n",
    "            lines = self.train_lines\n",
    "            inputs = []\n",
    "            targets = []\n",
    "            flag = True\n",
    "            n = len(lines)\n",
    "            for i in range(len(lines)):\n",
    "                if mosaic == True:\n",
    "                    if flag and (i+4) < n:\n",
    "                        img,y = self.get_random_data_with_Mosaic(lines[i:i+4], self.image_size[0:2])\n",
    "                        i = (i+4) % n\n",
    "                    else:\n",
    "                        img,y = self.get_random_data(lines[i], self.image_size[0:2])\n",
    "                        i = (i+1) % n\n",
    "                    flag = bool(1-flag)\n",
    "                else:\n",
    "                    img,y = self.get_random_data(lines[i], self.image_size[0:2])\n",
    "                    i = (i+1) % n\n",
    "                if len(y)!=0:\n",
    "                    boxes = np.array(y[:,:4],dtype=np.float32)\n",
    "                    boxes[:,0] = boxes[:,0]/self.image_size[1]\n",
    "                    boxes[:,1] = boxes[:,1]/self.image_size[0]\n",
    "                    boxes[:,2] = boxes[:,2]/self.image_size[1]\n",
    "                    boxes[:,3] = boxes[:,3]/self.image_size[0]\n",
    "\n",
    "                    boxes = np.maximum(np.minimum(boxes,1),0)\n",
    "                    boxes[:,2] = boxes[:,2] - boxes[:,0]\n",
    "                    boxes[:,3] = boxes[:,3] - boxes[:,1]\n",
    "    \n",
    "                    boxes[:,0] = boxes[:,0] + boxes[:,2]/2\n",
    "                    boxes[:,1] = boxes[:,1] + boxes[:,3]/2\n",
    "                    y = np.concatenate([boxes,y[:,-1:]],axis=-1)\n",
    "                    \n",
    "                img = np.array(img,dtype = np.float32)\n",
    "\n",
    "                inputs.append(np.transpose(img/255.0,(2,0,1)))              \n",
    "                targets.append(np.array(y,dtype = np.float32))\n",
    "                if len(targets) == self.batch_size:\n",
    "                    tmp_inp = np.array(inputs)\n",
    "                    tmp_targets = np.array(targets)\n",
    "                    inputs = []\n",
    "                    targets = []\n",
    "                    yield tmp_inp, tmp_targets\n"
   ]
  },
  {
   "cell_type": "code",
   "execution_count": 6,
   "metadata": {},
   "outputs": [],
   "source": [
    "#数据加载器\n",
    "from random import shuffle\n",
    "import numpy as np\n",
    "import torch\n",
    "import torch.nn as nn\n",
    "import math\n",
    "import torch.nn.functional as F\n",
    "from PIL import Image\n",
    "from torch.autograd import Variable\n",
    "from torch.utils.data import DataLoader\n",
    "from torch.utils.data.dataset import Dataset\n",
    "from matplotlib.colors import rgb_to_hsv, hsv_to_rgb\n",
    "import cv2\n",
    "\n",
    "class YoloDataset(Dataset):\n",
    "    def __init__(self, train_lines, image_size, mosaic=True):\n",
    "        super(YoloDataset, self).__init__()\n",
    "\n",
    "        self.train_lines = train_lines\n",
    "        self.train_batches = len(train_lines)\n",
    "        self.image_size = image_size\n",
    "        self.mosaic = mosaic\n",
    "        self.flag = True\n",
    "\n",
    "    def __len__(self):\n",
    "        return self.train_batches\n",
    "\n",
    "    def rand(self, a=0, b=1):\n",
    "        return np.random.rand() * (b - a) + a\n",
    "\n",
    "    def get_random_data(self, annotation_line, input_shape, jitter=.3, hue=.1, sat=1.5, val=1.5):\n",
    "        \"\"\"实时数据增强的随机预处理\"\"\"\n",
    "        line = annotation_line.split()\n",
    "        image = Image.open(line[0])\n",
    "        iw, ih = image.size\n",
    "        h, w = input_shape\n",
    "        box = np.array([np.array(list(map(int, box.split(',')))) for box in line[1:]])\n",
    "\n",
    "        # 调整图片大小\n",
    "        new_ar = w / h * self.rand(1 - jitter, 1 + jitter) / self.rand(1 - jitter, 1 + jitter)\n",
    "        scale = self.rand(.25, 2)\n",
    "        if new_ar < 1:\n",
    "            nh = int(scale * h)\n",
    "            nw = int(nh * new_ar)\n",
    "        else:\n",
    "            nw = int(scale * w)\n",
    "            nh = int(nw / new_ar)\n",
    "        image = image.resize((nw, nh), Image.BICUBIC)\n",
    "\n",
    "        # 放置图片\n",
    "        dx = int(self.rand(0, w - nw))\n",
    "        dy = int(self.rand(0, h - nh))\n",
    "        new_image = Image.new('RGB', (w, h),\n",
    "                              (np.random.randint(0, 255), np.random.randint(0, 255), np.random.randint(0, 255)))\n",
    "        new_image.paste(image, (dx, dy))\n",
    "        image = new_image\n",
    "\n",
    "        # 是否翻转图片\n",
    "        flip = self.rand() < .5\n",
    "        if flip:\n",
    "            image = image.transpose(Image.FLIP_LEFT_RIGHT)\n",
    "\n",
    "        # 色域变换\n",
    "        hue = self.rand(-hue, hue)\n",
    "        sat = self.rand(1, sat) if self.rand() < .5 else 1 / self.rand(1, sat)\n",
    "        val = self.rand(1, val) if self.rand() < .5 else 1 / self.rand(1, val)\n",
    "        x = cv2.cvtColor(np.array(image,np.float32)/255, cv2.COLOR_RGB2HSV)\n",
    "        x[..., 0] += hue*360\n",
    "        x[..., 0][x[..., 0]>1] -= 1\n",
    "        x[..., 0][x[..., 0]<0] += 1\n",
    "        x[..., 1] *= sat\n",
    "        x[..., 2] *= val\n",
    "        x[x[:,:, 0]>360, 0] = 360\n",
    "        x[:, :, 1:][x[:, :, 1:]>1] = 1\n",
    "        x[x<0] = 0\n",
    "        image_data = cv2.cvtColor(x, cv2.COLOR_HSV2RGB)*255\n",
    "\n",
    "        # 调整目标框坐标\n",
    "        box_data = np.zeros((len(box), 5))\n",
    "        if len(box) > 0:\n",
    "            np.random.shuffle(box)\n",
    "            box[:, [0, 2]] = box[:, [0, 2]] * nw / iw + dx\n",
    "            box[:, [1, 3]] = box[:, [1, 3]] * nh / ih + dy\n",
    "            if flip:\n",
    "                box[:, [0, 2]] = w - box[:, [2, 0]]\n",
    "            box[:, 0:2][box[:, 0:2] < 0] = 0\n",
    "            box[:, 2][box[:, 2] > w] = w\n",
    "            box[:, 3][box[:, 3] > h] = h\n",
    "            box_w = box[:, 2] - box[:, 0]\n",
    "            box_h = box[:, 3] - box[:, 1]\n",
    "            box = box[np.logical_and(box_w > 1, box_h > 1)]  # 保留有效框\n",
    "            box_data = np.zeros((len(box), 5))\n",
    "            box_data[:len(box)] = box\n",
    "        if len(box) == 0:\n",
    "            return image_data, []\n",
    "\n",
    "        if (box_data[:, :4] > 0).any():\n",
    "            return image_data, box_data\n",
    "        else:\n",
    "            return image_data, []\n",
    "\n",
    "    def get_random_data_with_Mosaic(self, annotation_line, input_shape, hue=.1, sat=1.5, val=1.5):\n",
    "        h, w = input_shape\n",
    "        min_offset_x = 0.3\n",
    "        min_offset_y = 0.3\n",
    "        scale_low = 1 - min(min_offset_x, min_offset_y)\n",
    "        scale_high = scale_low + 0.2\n",
    "\n",
    "        image_datas = []\n",
    "        box_datas = []\n",
    "        index = 0\n",
    "\n",
    "        place_x = [0, 0, int(w * min_offset_x), int(w * min_offset_x)]\n",
    "        place_y = [0, int(h * min_offset_y), int(w * min_offset_y), 0]\n",
    "        for line in annotation_line:\n",
    "            # 每一行进行分割\n",
    "            line_content = line.split()\n",
    "            # 打开图片\n",
    "            image = Image.open(line_content[0])\n",
    "            image = image.convert(\"RGB\")\n",
    "            # 图片的大小\n",
    "            iw, ih = image.size\n",
    "            # 保存框的位置\n",
    "            box = np.array([np.array(list(map(int, box.split(',')))) for box in line_content[1:]])\n",
    "\n",
    "            # 是否翻转图片\n",
    "            flip = self.rand() < .5\n",
    "            if flip and len(box) > 0:\n",
    "                image = image.transpose(Image.FLIP_LEFT_RIGHT)\n",
    "                box[:, [0, 2]] = iw - box[:, [2, 0]]\n",
    "\n",
    "            # 对输入进来的图片进行缩放\n",
    "            new_ar = w / h\n",
    "            scale = self.rand(scale_low, scale_high)\n",
    "            if new_ar < 1:\n",
    "                nh = int(scale * h)\n",
    "                nw = int(nh * new_ar)\n",
    "            else:\n",
    "                nw = int(scale * w)\n",
    "                nh = int(nw / new_ar)\n",
    "            image = image.resize((nw, nh), Image.BICUBIC)\n",
    "\n",
    "            # 进行色域变换\n",
    "            hue = self.rand(-hue, hue)\n",
    "            sat = self.rand(1, sat) if self.rand() < .5 else 1 / self.rand(1, sat)\n",
    "            val = self.rand(1, val) if self.rand() < .5 else 1 / self.rand(1, val)\n",
    "            x = cv2.cvtColor(np.array(image,np.float32)/255, cv2.COLOR_RGB2HSV)\n",
    "            x[..., 0] += hue*360\n",
    "            x[..., 0][x[..., 0]>1] -= 1\n",
    "            x[..., 0][x[..., 0]<0] += 1\n",
    "            x[..., 1] *= sat\n",
    "            x[..., 2] *= val\n",
    "            x[x[:,:, 0]>360, 0] = 360\n",
    "            x[:, :, 1:][x[:, :, 1:]>1] = 1\n",
    "            x[x<0] = 0\n",
    "            image = cv2.cvtColor(x, cv2.COLOR_HSV2RGB) # numpy array, 0 to 1\n",
    "\n",
    "            image = Image.fromarray((image * 255).astype(np.uint8))\n",
    "            # 将图片进行放置，分别对应四张分割图片的位置\n",
    "            dx = place_x[index]\n",
    "            dy = place_y[index]\n",
    "            new_image = Image.new('RGB', (w, h),\n",
    "                                  (np.random.randint(0, 255), np.random.randint(0, 255), np.random.randint(0, 255)))\n",
    "            new_image.paste(image, (dx, dy))\n",
    "            image_data = np.array(new_image)\n",
    "\n",
    "            index = index + 1\n",
    "            box_data = []\n",
    "            # 对box进行重新处理\n",
    "            if len(box) > 0:\n",
    "                np.random.shuffle(box)\n",
    "                box[:, [0, 2]] = box[:, [0, 2]] * nw / iw + dx\n",
    "                box[:, [1, 3]] = box[:, [1, 3]] * nh / ih + dy\n",
    "                box[:, 0:2][box[:, 0:2] < 0] = 0\n",
    "                box[:, 2][box[:, 2] > w] = w\n",
    "                box[:, 3][box[:, 3] > h] = h\n",
    "                box_w = box[:, 2] - box[:, 0]\n",
    "                box_h = box[:, 3] - box[:, 1]\n",
    "                box = box[np.logical_and(box_w > 1, box_h > 1)]\n",
    "                box_data = np.zeros((len(box), 5))\n",
    "                box_data[:len(box)] = box\n",
    "\n",
    "            image_datas.append(image_data)\n",
    "            box_datas.append(box_data)\n",
    "\n",
    "        # 将图片分割，放在一起\n",
    "        cutx = np.random.randint(int(w * min_offset_x), int(w * (1 - min_offset_x)))\n",
    "        cuty = np.random.randint(int(h * min_offset_y), int(h * (1 - min_offset_y)))\n",
    "\n",
    "        new_image = np.zeros([h, w, 3])\n",
    "        new_image[:cuty, :cutx, :] = image_datas[0][:cuty, :cutx, :]\n",
    "        new_image[cuty:, :cutx, :] = image_datas[1][cuty:, :cutx, :]\n",
    "        new_image[cuty:, cutx:, :] = image_datas[2][cuty:, cutx:, :]\n",
    "        new_image[:cuty, cutx:, :] = image_datas[3][:cuty, cutx:, :]\n",
    "\n",
    "        # 对框进行进一步的处理\n",
    "        new_boxes = np.array(merge_bboxes(box_datas, cutx, cuty))\n",
    "\n",
    "        if len(new_boxes) == 0:\n",
    "            return new_image, []\n",
    "        if (new_boxes[:, :4] > 0).any():\n",
    "            return new_image, new_boxes\n",
    "        else:\n",
    "            return new_image, []\n",
    "\n",
    "    def __getitem__(self, index):\n",
    "        if index == 0:\n",
    "            shuffle(self.train_lines)\n",
    "        lines = self.train_lines\n",
    "        n = self.train_batches\n",
    "        index = index % n\n",
    "        if self.mosaic:\n",
    "            if self.flag and (index + 4) < n:\n",
    "                img, y = self.get_random_data_with_Mosaic(lines[index:index + 4], self.image_size[0:2])\n",
    "            else:\n",
    "                img, y = self.get_random_data(lines[index], self.image_size[0:2])\n",
    "            self.flag = bool(1-self.flag)\n",
    "        else:\n",
    "            img, y = self.get_random_data(lines[index], self.image_size[0:2])\n",
    "\n",
    "        if len(y) != 0:\n",
    "            # 从坐标转换成0~1的百分比\n",
    "            boxes = np.array(y[:, :4], dtype=np.float32)\n",
    "            boxes[:, 0] = boxes[:, 0] / self.image_size[1]\n",
    "            boxes[:, 1] = boxes[:, 1] / self.image_size[0]\n",
    "            boxes[:, 2] = boxes[:, 2] / self.image_size[1]\n",
    "            boxes[:, 3] = boxes[:, 3] / self.image_size[0]\n",
    "\n",
    "            boxes = np.maximum(np.minimum(boxes, 1), 0)\n",
    "            boxes[:, 2] = boxes[:, 2] - boxes[:, 0]\n",
    "            boxes[:, 3] = boxes[:, 3] - boxes[:, 1]\n",
    "\n",
    "            boxes[:, 0] = boxes[:, 0] + boxes[:, 2] / 2\n",
    "            boxes[:, 1] = boxes[:, 1] + boxes[:, 3] / 2\n",
    "            y = np.concatenate([boxes, y[:, -1:]], axis=-1)\n",
    "\n",
    "        img = np.array(img, dtype=np.float32)\n",
    "\n",
    "        tmp_inp = np.transpose(img / 255.0, (2, 0, 1))\n",
    "        tmp_targets = np.array(y, dtype=np.float32)\n",
    "        return tmp_inp, tmp_targets\n",
    "\n",
    "\n",
    "# DataLoader中collate_fn使用\n",
    "def yolo_dataset_collate(batch):\n",
    "    images = []\n",
    "    bboxes = []\n",
    "    for img, box in batch:\n",
    "        images.append(img)\n",
    "        bboxes.append(box)\n",
    "    images = np.array(images)\n",
    "    bboxes = np.array(bboxes)\n",
    "    return images, bboxes"
   ]
  },
  {
   "cell_type": "code",
   "execution_count": 7,
   "metadata": {},
   "outputs": [
    {
     "name": "stdout",
     "output_type": "stream",
     "text": [
      "Loading weights into state dict...\n"
     ]
    },
    {
     "name": "stderr",
     "output_type": "stream",
     "text": [
      "\r",
      "Epoch 1/400:   0%|                                                                | 0/28 [00:00<?, ?it/s<class 'dict'>]"
     ]
    },
    {
     "name": "stdout",
     "output_type": "stream",
     "text": [
      "Finished!\n"
     ]
    },
    {
     "name": "stderr",
     "output_type": "stream",
     "text": [
      "Epoch 1/400: 100%|█████████████████████████| 28/28 [00:18<00:00,  1.50it/s, lr=0.001, step/s=0.436, total_loss=2.28e+3]\n",
      "Epoch 1/400:   0%|                                                                 | 0/8 [00:00<?, ?it/s<class 'dict'>]"
     ]
    },
    {
     "name": "stdout",
     "output_type": "stream",
     "text": [
      "Start Validation\n"
     ]
    },
    {
     "name": "stderr",
     "output_type": "stream",
     "text": [
      "Epoch 1/400: 100%|███████████████████████████████████████████████████████| 8/8 [00:02<00:00,  3.92it/s, total_loss=409]\n"
     ]
    },
    {
     "name": "stdout",
     "output_type": "stream",
     "text": [
      "Finish Validation\n",
      "Epoch:1/400\n",
      "Train Loss: 2197.3613 || Val Loss: 363.9794 \n",
      "achive best val loss , Saving state, iter: 1\n",
      "current best val loss :  363.97938368055554\n"
     ]
    },
    {
     "name": "stderr",
     "output_type": "stream",
     "text": [
      "Epoch 2/400: 100%|█████████████████████████████| 28/28 [00:14<00:00,  1.88it/s, lr=0.00099, step/s=0.4, total_loss=302]\n",
      "Epoch 2/400:   0%|                                                                 | 0/8 [00:00<?, ?it/s<class 'dict'>]"
     ]
    },
    {
     "name": "stdout",
     "output_type": "stream",
     "text": [
      "Start Validation\n"
     ]
    },
    {
     "name": "stderr",
     "output_type": "stream",
     "text": [
      "Epoch 2/400: 100%|███████████████████████████████████████████████████████| 8/8 [00:02<00:00,  3.90it/s, total_loss=164]\n"
     ]
    },
    {
     "name": "stdout",
     "output_type": "stream",
     "text": [
      "Finish Validation\n",
      "Epoch:2/400\n",
      "Train Loss: 291.4394 || Val Loss: 145.8432 \n",
      "achive best val loss , Saving state, iter: 2\n",
      "current best val loss :  145.84323459201389\n"
     ]
    },
    {
     "name": "stderr",
     "output_type": "stream",
     "text": [
      "Epoch 3/400: 100%|███████████████████████████| 28/28 [00:14<00:00,  1.90it/s, lr=0.00098, step/s=0.426, total_loss=164]\n",
      "Epoch 3/400:   0%|                                                                 | 0/8 [00:00<?, ?it/s<class 'dict'>]"
     ]
    },
    {
     "name": "stdout",
     "output_type": "stream",
     "text": [
      "Start Validation\n"
     ]
    },
    {
     "name": "stderr",
     "output_type": "stream",
     "text": [
      "Epoch 3/400: 100%|███████████████████████████████████████████████████████| 8/8 [00:02<00:00,  3.96it/s, total_loss=115]\n"
     ]
    },
    {
     "name": "stdout",
     "output_type": "stream",
     "text": [
      "Finish Validation\n",
      "Epoch:3/400\n",
      "Train Loss: 158.4876 || Val Loss: 102.3565 \n",
      "achive best val loss , Saving state, iter: 3\n",
      "current best val loss :  102.35651991102431\n"
     ]
    },
    {
     "name": "stderr",
     "output_type": "stream",
     "text": [
      "Epoch 4/400: 100%|███████████████████████████| 28/28 [00:15<00:00,  1.85it/s, lr=0.00097, step/s=0.441, total_loss=134]\n",
      "Epoch 4/400:   0%|                                                                 | 0/8 [00:00<?, ?it/s<class 'dict'>]"
     ]
    },
    {
     "name": "stdout",
     "output_type": "stream",
     "text": [
      "Start Validation\n"
     ]
    },
    {
     "name": "stderr",
     "output_type": "stream",
     "text": [
      "Epoch 4/400: 100%|██████████████████████████████████████████████████████| 8/8 [00:01<00:00,  4.04it/s, total_loss=92.9]\n"
     ]
    },
    {
     "name": "stdout",
     "output_type": "stream",
     "text": [
      "Finish Validation\n",
      "Epoch:4/400\n",
      "Train Loss: 129.2341 || Val Loss: 82.5661 \n",
      "achive best val loss , Saving state, iter: 4\n",
      "current best val loss :  82.56607394748264\n"
     ]
    },
    {
     "name": "stderr",
     "output_type": "stream",
     "text": [
      "Epoch 5/400: 100%|██████████████████████████| 28/28 [00:14<00:00,  1.92it/s, lr=0.000961, step/s=0.422, total_loss=116]\n",
      "Epoch 5/400:   0%|                                                                 | 0/8 [00:00<?, ?it/s<class 'dict'>]"
     ]
    },
    {
     "name": "stdout",
     "output_type": "stream",
     "text": [
      "Start Validation\n"
     ]
    },
    {
     "name": "stderr",
     "output_type": "stream",
     "text": [
      "Epoch 5/400: 100%|██████████████████████████████████████████████████████| 8/8 [00:01<00:00,  4.02it/s, total_loss=94.4]\n",
      "Epoch 6/400:   0%|                                                                | 0/28 [00:00<?, ?it/s<class 'dict'>]"
     ]
    },
    {
     "name": "stdout",
     "output_type": "stream",
     "text": [
      "Finish Validation\n",
      "Epoch:5/400\n",
      "Train Loss: 112.3645 || Val Loss: 83.8913 \n"
     ]
    },
    {
     "name": "stderr",
     "output_type": "stream",
     "text": [
      "Epoch 6/400: 100%|██████████████████████████| 28/28 [00:14<00:00,  1.92it/s, lr=0.000951, step/s=0.429, total_loss=102]\n",
      "Epoch 6/400:   0%|                                                                 | 0/8 [00:00<?, ?it/s<class 'dict'>]"
     ]
    },
    {
     "name": "stdout",
     "output_type": "stream",
     "text": [
      "Start Validation\n"
     ]
    },
    {
     "name": "stderr",
     "output_type": "stream",
     "text": [
      "Epoch 6/400: 100%|██████████████████████████████████████████████████████| 8/8 [00:01<00:00,  4.10it/s, total_loss=95.4]\n",
      "Epoch 7/400:   0%|                                                                | 0/28 [00:00<?, ?it/s<class 'dict'>]"
     ]
    },
    {
     "name": "stdout",
     "output_type": "stream",
     "text": [
      "Finish Validation\n",
      "Epoch:6/400\n",
      "Train Loss: 98.6397 || Val Loss: 84.7889 \n"
     ]
    },
    {
     "name": "stderr",
     "output_type": "stream",
     "text": [
      "Epoch 7/400: 100%|█████████████████████████| 28/28 [00:14<00:00,  1.90it/s, lr=0.000941, step/s=0.396, total_loss=97.3]\n",
      "Epoch 7/400:   0%|                                                                 | 0/8 [00:00<?, ?it/s<class 'dict'>]"
     ]
    },
    {
     "name": "stdout",
     "output_type": "stream",
     "text": [
      "Start Validation\n"
     ]
    },
    {
     "name": "stderr",
     "output_type": "stream",
     "text": [
      "Epoch 7/400: 100%|███████████████████████████████████████████████████████| 8/8 [00:02<00:00,  3.96it/s, total_loss=101]\n",
      "Epoch 8/400:   0%|                                                                | 0/28 [00:00<?, ?it/s<class 'dict'>]"
     ]
    },
    {
     "name": "stdout",
     "output_type": "stream",
     "text": [
      "Finish Validation\n",
      "Epoch:7/400\n",
      "Train Loss: 93.9233 || Val Loss: 89.8607 \n"
     ]
    },
    {
     "name": "stderr",
     "output_type": "stream",
     "text": [
      "Epoch 8/400: 100%|█████████████████████████| 28/28 [00:14<00:00,  1.91it/s, lr=0.000932, step/s=0.424, total_loss=91.8]\n",
      "Epoch 8/400:   0%|                                                                 | 0/8 [00:00<?, ?it/s<class 'dict'>]"
     ]
    },
    {
     "name": "stdout",
     "output_type": "stream",
     "text": [
      "Start Validation\n"
     ]
    },
    {
     "name": "stderr",
     "output_type": "stream",
     "text": [
      "Epoch 8/400: 100%|████████████████████████████████████████████████████████| 8/8 [00:01<00:00,  4.01it/s, total_loss=86]\n"
     ]
    },
    {
     "name": "stdout",
     "output_type": "stream",
     "text": [
      "Finish Validation\n",
      "Epoch:8/400\n",
      "Train Loss: 88.6196 || Val Loss: 76.4563 \n",
      "achive best val loss , Saving state, iter: 8\n",
      "current best val loss :  76.45633273654514\n"
     ]
    },
    {
     "name": "stderr",
     "output_type": "stream",
     "text": [
      "Epoch 9/400: 100%|█████████████████████████| 28/28 [00:14<00:00,  1.91it/s, lr=0.000923, step/s=0.435, total_loss=85.8]\n",
      "Epoch 9/400:   0%|                                                                 | 0/8 [00:00<?, ?it/s<class 'dict'>]"
     ]
    },
    {
     "name": "stdout",
     "output_type": "stream",
     "text": [
      "Start Validation\n"
     ]
    },
    {
     "name": "stderr",
     "output_type": "stream",
     "text": [
      "Epoch 9/400: 100%|██████████████████████████████████████████████████████| 8/8 [00:01<00:00,  4.11it/s, total_loss=78.7]\n"
     ]
    },
    {
     "name": "stdout",
     "output_type": "stream",
     "text": [
      "Finish Validation\n",
      "Epoch:9/400\n",
      "Train Loss: 82.8758 || Val Loss: 69.9400 \n",
      "achive best val loss , Saving state, iter: 9\n",
      "current best val loss :  69.94000922309027\n"
     ]
    },
    {
     "name": "stderr",
     "output_type": "stream",
     "text": [
      "Epoch 10/400: 100%|███████████████████████████| 28/28 [00:14<00:00,  1.92it/s, lr=0.000914, step/s=0.43, total_loss=83]\n",
      "Epoch 10/400:   0%|                                                                | 0/8 [00:00<?, ?it/s<class 'dict'>]"
     ]
    },
    {
     "name": "stdout",
     "output_type": "stream",
     "text": [
      "Start Validation\n"
     ]
    },
    {
     "name": "stderr",
     "output_type": "stream",
     "text": [
      "Epoch 10/400: 100%|█████████████████████████████████████████████████████| 8/8 [00:02<00:00,  4.00it/s, total_loss=83.9]\n",
      "Epoch 11/400:   0%|                                                               | 0/28 [00:00<?, ?it/s<class 'dict'>]"
     ]
    },
    {
     "name": "stdout",
     "output_type": "stream",
     "text": [
      "Finish Validation\n",
      "Epoch:10/400\n",
      "Train Loss: 80.1108 || Val Loss: 74.5435 \n"
     ]
    },
    {
     "name": "stderr",
     "output_type": "stream",
     "text": [
      "Epoch 11/400: 100%|████████████████████████| 28/28 [00:14<00:00,  1.92it/s, lr=0.000904, step/s=0.403, total_loss=78.3]\n",
      "Epoch 11/400:   0%|                                                                | 0/8 [00:00<?, ?it/s<class 'dict'>]"
     ]
    },
    {
     "name": "stdout",
     "output_type": "stream",
     "text": [
      "Start Validation\n"
     ]
    },
    {
     "name": "stderr",
     "output_type": "stream",
     "text": [
      "Epoch 11/400: 100%|█████████████████████████████████████████████████████| 8/8 [00:01<00:00,  4.02it/s, total_loss=77.2]\n"
     ]
    },
    {
     "name": "stdout",
     "output_type": "stream",
     "text": [
      "Finish Validation\n",
      "Epoch:11/400\n",
      "Train Loss: 75.5773 || Val Loss: 68.6457 \n",
      "achive best val loss , Saving state, iter: 11\n",
      "current best val loss :  68.64565700954861\n"
     ]
    },
    {
     "name": "stderr",
     "output_type": "stream",
     "text": [
      "Epoch 12/400: 100%|████████████████████████| 28/28 [00:14<00:00,  1.92it/s, lr=0.000895, step/s=0.445, total_loss=79.2]\n",
      "Epoch 12/400:   0%|                                                                | 0/8 [00:00<?, ?it/s<class 'dict'>]"
     ]
    },
    {
     "name": "stdout",
     "output_type": "stream",
     "text": [
      "Start Validation\n"
     ]
    },
    {
     "name": "stderr",
     "output_type": "stream",
     "text": [
      "Epoch 12/400: 100%|█████████████████████████████████████████████████████| 8/8 [00:01<00:00,  4.06it/s, total_loss=74.9]\n"
     ]
    },
    {
     "name": "stdout",
     "output_type": "stream",
     "text": [
      "Finish Validation\n",
      "Epoch:12/400\n",
      "Train Loss: 76.4545 || Val Loss: 66.5522 \n",
      "achive best val loss , Saving state, iter: 12\n",
      "current best val loss :  66.55217149522569\n"
     ]
    },
    {
     "name": "stderr",
     "output_type": "stream",
     "text": [
      "Epoch 13/400: 100%|████████████████████████| 28/28 [00:14<00:00,  1.91it/s, lr=0.000886, step/s=0.385, total_loss=76.2]\n",
      "Epoch 13/400:   0%|                                                                | 0/8 [00:00<?, ?it/s<class 'dict'>]"
     ]
    },
    {
     "name": "stdout",
     "output_type": "stream",
     "text": [
      "Start Validation\n"
     ]
    },
    {
     "name": "stderr",
     "output_type": "stream",
     "text": [
      "Epoch 13/400: 100%|█████████████████████████████████████████████████████| 8/8 [00:01<00:00,  4.15it/s, total_loss=90.8]\n",
      "Epoch 14/400:   0%|                                                               | 0/28 [00:00<?, ?it/s<class 'dict'>]"
     ]
    },
    {
     "name": "stdout",
     "output_type": "stream",
     "text": [
      "Finish Validation\n",
      "Epoch:13/400\n",
      "Train Loss: 73.5677 || Val Loss: 80.7130 \n"
     ]
    },
    {
     "name": "stderr",
     "output_type": "stream",
     "text": [
      "Epoch 14/400: 100%|████████████████████████| 28/28 [00:14<00:00,  1.92it/s, lr=0.000878, step/s=0.394, total_loss=73.5]\n",
      "Epoch 14/400:   0%|                                                                | 0/8 [00:00<?, ?it/s<class 'dict'>]"
     ]
    },
    {
     "name": "stdout",
     "output_type": "stream",
     "text": [
      "Start Validation\n"
     ]
    },
    {
     "name": "stderr",
     "output_type": "stream",
     "text": [
      "Epoch 14/400: 100%|█████████████████████████████████████████████████████| 8/8 [00:01<00:00,  4.04it/s, total_loss=85.8]\n",
      "Epoch 15/400:   0%|                                                               | 0/28 [00:00<?, ?it/s<class 'dict'>]"
     ]
    },
    {
     "name": "stdout",
     "output_type": "stream",
     "text": [
      "Finish Validation\n",
      "Epoch:14/400\n",
      "Train Loss: 70.9239 || Val Loss: 76.2418 \n"
     ]
    },
    {
     "name": "stderr",
     "output_type": "stream",
     "text": [
      "Epoch 15/400: 100%|████████████████████████| 28/28 [00:14<00:00,  1.92it/s, lr=0.000869, step/s=0.427, total_loss=75.3]\n",
      "Epoch 15/400:   0%|                                                                | 0/8 [00:00<?, ?it/s<class 'dict'>]"
     ]
    },
    {
     "name": "stdout",
     "output_type": "stream",
     "text": [
      "Start Validation\n"
     ]
    },
    {
     "name": "stderr",
     "output_type": "stream",
     "text": [
      "Epoch 15/400: 100%|█████████████████████████████████████████████████████| 8/8 [00:01<00:00,  4.02it/s, total_loss=79.2]\n",
      "Epoch 16/400:   0%|                                                               | 0/28 [00:00<?, ?it/s<class 'dict'>]"
     ]
    },
    {
     "name": "stdout",
     "output_type": "stream",
     "text": [
      "Finish Validation\n",
      "Epoch:15/400\n",
      "Train Loss: 72.6780 || Val Loss: 70.3583 \n"
     ]
    },
    {
     "name": "stderr",
     "output_type": "stream",
     "text": [
      "Epoch 16/400: 100%|█████████████████████████| 28/28 [00:14<00:00,  1.90it/s, lr=0.00086, step/s=0.407, total_loss=70.6]\n",
      "Epoch 16/400:   0%|                                                                | 0/8 [00:00<?, ?it/s<class 'dict'>]"
     ]
    },
    {
     "name": "stdout",
     "output_type": "stream",
     "text": [
      "Start Validation\n"
     ]
    },
    {
     "name": "stderr",
     "output_type": "stream",
     "text": [
      "Epoch 16/400: 100%|█████████████████████████████████████████████████████| 8/8 [00:01<00:00,  4.09it/s, total_loss=83.1]\n",
      "Epoch 17/400:   0%|                                                               | 0/28 [00:00<?, ?it/s<class 'dict'>]"
     ]
    },
    {
     "name": "stdout",
     "output_type": "stream",
     "text": [
      "Finish Validation\n",
      "Epoch:16/400\n",
      "Train Loss: 68.1249 || Val Loss: 73.8328 \n"
     ]
    },
    {
     "name": "stderr",
     "output_type": "stream",
     "text": [
      "Epoch 17/400: 100%|████████████████████████| 28/28 [00:14<00:00,  1.91it/s, lr=0.000851, step/s=0.425, total_loss=71.8]\n",
      "Epoch 17/400:   0%|                                                                | 0/8 [00:00<?, ?it/s<class 'dict'>]"
     ]
    },
    {
     "name": "stdout",
     "output_type": "stream",
     "text": [
      "Start Validation\n"
     ]
    },
    {
     "name": "stderr",
     "output_type": "stream",
     "text": [
      "Epoch 17/400: 100%|█████████████████████████████████████████████████████| 8/8 [00:02<00:00,  3.93it/s, total_loss=87.5]\n",
      "Epoch 18/400:   0%|                                                               | 0/28 [00:00<?, ?it/s<class 'dict'>]"
     ]
    },
    {
     "name": "stdout",
     "output_type": "stream",
     "text": [
      "Finish Validation\n",
      "Epoch:17/400\n",
      "Train Loss: 69.3480 || Val Loss: 77.7720 \n"
     ]
    },
    {
     "name": "stderr",
     "output_type": "stream",
     "text": [
      "Epoch 18/400: 100%|████████████████████████| 28/28 [00:14<00:00,  1.93it/s, lr=0.000843, step/s=0.407, total_loss=66.1]\n",
      "Epoch 18/400:   0%|                                                                | 0/8 [00:00<?, ?it/s<class 'dict'>]"
     ]
    },
    {
     "name": "stdout",
     "output_type": "stream",
     "text": [
      "Start Validation\n"
     ]
    },
    {
     "name": "stderr",
     "output_type": "stream",
     "text": [
      "Epoch 18/400: 100%|█████████████████████████████████████████████████████| 8/8 [00:01<00:00,  4.10it/s, total_loss=85.1]\n",
      "Epoch 19/400:   0%|                                                               | 0/28 [00:00<?, ?it/s<class 'dict'>]"
     ]
    },
    {
     "name": "stdout",
     "output_type": "stream",
     "text": [
      "Finish Validation\n",
      "Epoch:18/400\n",
      "Train Loss: 63.8641 || Val Loss: 75.6806 \n"
     ]
    },
    {
     "name": "stderr",
     "output_type": "stream",
     "text": [
      "Epoch 19/400: 100%|█████████████████████████| 28/28 [00:14<00:00,  1.92it/s, lr=0.000835, step/s=0.43, total_loss=66.7]\n",
      "Epoch 19/400:   0%|                                                                | 0/8 [00:00<?, ?it/s<class 'dict'>]"
     ]
    },
    {
     "name": "stdout",
     "output_type": "stream",
     "text": [
      "Start Validation\n"
     ]
    },
    {
     "name": "stderr",
     "output_type": "stream",
     "text": [
      "Epoch 19/400: 100%|█████████████████████████████████████████████████████| 8/8 [00:02<00:00,  3.82it/s, total_loss=80.7]\n",
      "Epoch 20/400:   0%|                                                               | 0/28 [00:00<?, ?it/s<class 'dict'>]"
     ]
    },
    {
     "name": "stdout",
     "output_type": "stream",
     "text": [
      "Finish Validation\n",
      "Epoch:19/400\n",
      "Train Loss: 64.4197 || Val Loss: 71.7719 \n"
     ]
    },
    {
     "name": "stderr",
     "output_type": "stream",
     "text": [
      "Epoch 20/400: 100%|████████████████████████| 28/28 [00:14<00:00,  1.90it/s, lr=0.000826, step/s=0.415, total_loss=67.3]\n",
      "Epoch 20/400:   0%|                                                                | 0/8 [00:00<?, ?it/s<class 'dict'>]"
     ]
    },
    {
     "name": "stdout",
     "output_type": "stream",
     "text": [
      "Start Validation\n"
     ]
    },
    {
     "name": "stderr",
     "output_type": "stream",
     "text": [
      "Epoch 20/400: 100%|█████████████████████████████████████████████████████| 8/8 [00:02<00:00,  3.85it/s, total_loss=78.6]\n",
      "Epoch 21/400:   0%|                                                               | 0/28 [00:00<?, ?it/s<class 'dict'>]"
     ]
    },
    {
     "name": "stdout",
     "output_type": "stream",
     "text": [
      "Finish Validation\n",
      "Epoch:20/400\n",
      "Train Loss: 64.9817 || Val Loss: 69.8579 \n"
     ]
    },
    {
     "name": "stderr",
     "output_type": "stream",
     "text": [
      "Epoch 21/400: 100%|████████████████████████| 28/28 [00:14<00:00,  1.91it/s, lr=0.000818, step/s=0.417, total_loss=65.6]\n",
      "Epoch 21/400:   0%|                                                                | 0/8 [00:00<?, ?it/s<class 'dict'>]"
     ]
    },
    {
     "name": "stdout",
     "output_type": "stream",
     "text": [
      "Start Validation\n"
     ]
    },
    {
     "name": "stderr",
     "output_type": "stream",
     "text": [
      "Epoch 21/400: 100%|█████████████████████████████████████████████████████| 8/8 [00:01<00:00,  4.03it/s, total_loss=78.4]\n",
      "Epoch 22/400:   0%|                                                               | 0/28 [00:00<?, ?it/s<class 'dict'>]"
     ]
    },
    {
     "name": "stdout",
     "output_type": "stream",
     "text": [
      "Finish Validation\n",
      "Epoch:21/400\n",
      "Train Loss: 63.3119 || Val Loss: 69.6827 \n"
     ]
    },
    {
     "name": "stderr",
     "output_type": "stream",
     "text": [
      "Epoch 22/400: 100%|████████████████████████████| 28/28 [00:14<00:00,  1.92it/s, lr=0.00081, step/s=0.45, total_loss=64]\n",
      "Epoch 22/400:   0%|                                                                | 0/8 [00:00<?, ?it/s<class 'dict'>]"
     ]
    },
    {
     "name": "stdout",
     "output_type": "stream",
     "text": [
      "Start Validation\n"
     ]
    },
    {
     "name": "stderr",
     "output_type": "stream",
     "text": [
      "Epoch 22/400: 100%|█████████████████████████████████████████████████████| 8/8 [00:01<00:00,  4.08it/s, total_loss=86.7]\n",
      "Epoch 23/400:   0%|                                                               | 0/28 [00:00<?, ?it/s<class 'dict'>]"
     ]
    },
    {
     "name": "stdout",
     "output_type": "stream",
     "text": [
      "Finish Validation\n",
      "Epoch:22/400\n",
      "Train Loss: 61.8195 || Val Loss: 77.0969 \n"
     ]
    },
    {
     "name": "stderr",
     "output_type": "stream",
     "text": [
      "Epoch 23/400: 100%|█████████████████████████| 28/28 [00:14<00:00,  1.92it/s, lr=0.000802, step/s=0.38, total_loss=68.3]\n",
      "Epoch 23/400:   0%|                                                                | 0/8 [00:00<?, ?it/s<class 'dict'>]"
     ]
    },
    {
     "name": "stdout",
     "output_type": "stream",
     "text": [
      "Start Validation\n"
     ]
    },
    {
     "name": "stderr",
     "output_type": "stream",
     "text": [
      "Epoch 23/400: 100%|█████████████████████████████████████████████████████| 8/8 [00:01<00:00,  4.00it/s, total_loss=83.5]\n",
      "Epoch 24/400:   0%|                                                               | 0/28 [00:00<?, ?it/s<class 'dict'>]"
     ]
    },
    {
     "name": "stdout",
     "output_type": "stream",
     "text": [
      "Finish Validation\n",
      "Epoch:23/400\n",
      "Train Loss: 65.9068 || Val Loss: 74.2009 \n"
     ]
    },
    {
     "name": "stderr",
     "output_type": "stream",
     "text": [
      "Epoch 24/400: 100%|████████████████████████| 28/28 [00:14<00:00,  1.90it/s, lr=0.000794, step/s=0.383, total_loss=66.7]\n",
      "Epoch 24/400:   0%|                                                                | 0/8 [00:00<?, ?it/s<class 'dict'>]"
     ]
    },
    {
     "name": "stdout",
     "output_type": "stream",
     "text": [
      "Start Validation\n"
     ]
    },
    {
     "name": "stderr",
     "output_type": "stream",
     "text": [
      "Epoch 24/400: 100%|█████████████████████████████████████████████████████| 8/8 [00:02<00:00,  3.99it/s, total_loss=66.5]\n"
     ]
    },
    {
     "name": "stdout",
     "output_type": "stream",
     "text": [
      "Finish Validation\n",
      "Epoch:24/400\n",
      "Train Loss: 64.4244 || Val Loss: 59.0716 \n",
      "achive best val loss , Saving state, iter: 24\n",
      "current best val loss :  59.071573893229164\n"
     ]
    },
    {
     "name": "stderr",
     "output_type": "stream",
     "text": [
      "Epoch 25/400: 100%|████████████████████████| 28/28 [00:14<00:00,  1.92it/s, lr=0.000786, step/s=0.442, total_loss=63.5]\n",
      "Epoch 25/400:   0%|                                                                | 0/8 [00:00<?, ?it/s<class 'dict'>]"
     ]
    },
    {
     "name": "stdout",
     "output_type": "stream",
     "text": [
      "Start Validation\n"
     ]
    },
    {
     "name": "stderr",
     "output_type": "stream",
     "text": [
      "Epoch 25/400: 100%|█████████████████████████████████████████████████████| 8/8 [00:02<00:00,  3.98it/s, total_loss=80.3]\n",
      "Epoch 26/400:   0%|                                                               | 0/28 [00:00<?, ?it/s<class 'dict'>]"
     ]
    },
    {
     "name": "stdout",
     "output_type": "stream",
     "text": [
      "Finish Validation\n",
      "Epoch:25/400\n",
      "Train Loss: 61.2855 || Val Loss: 71.4062 \n"
     ]
    },
    {
     "name": "stderr",
     "output_type": "stream",
     "text": [
      "Epoch 26/400: 100%|████████████████████████| 28/28 [00:14<00:00,  1.89it/s, lr=0.000778, step/s=0.462, total_loss=63.8]\n",
      "Epoch 26/400:   0%|                                                             | 0/8 [00:00<?, ?it/s, total_loss=84.9]"
     ]
    },
    {
     "name": "stdout",
     "output_type": "stream",
     "text": [
      "Start Validation\n"
     ]
    },
    {
     "name": "stderr",
     "output_type": "stream",
     "text": [
      "Epoch 26/400: 100%|█████████████████████████████████████████████████████| 8/8 [00:02<00:00,  4.00it/s, total_loss=82.7]\n",
      "Epoch 27/400:   0%|                                                               | 0/28 [00:00<?, ?it/s<class 'dict'>]"
     ]
    },
    {
     "name": "stdout",
     "output_type": "stream",
     "text": [
      "Finish Validation\n",
      "Epoch:26/400\n",
      "Train Loss: 61.6061 || Val Loss: 73.4878 \n"
     ]
    },
    {
     "name": "stderr",
     "output_type": "stream",
     "text": [
      "Epoch 27/400: 100%|█████████████████████████| 28/28 [00:14<00:00,  1.90it/s, lr=0.00077, step/s=0.415, total_loss=60.4]\n",
      "Epoch 27/400:   0%|                                                                | 0/8 [00:00<?, ?it/s<class 'dict'>]"
     ]
    },
    {
     "name": "stdout",
     "output_type": "stream",
     "text": [
      "Start Validation\n"
     ]
    },
    {
     "name": "stderr",
     "output_type": "stream",
     "text": [
      "Epoch 27/400: 100%|█████████████████████████████████████████████████████| 8/8 [00:01<00:00,  4.15it/s, total_loss=78.6]\n",
      "Epoch 28/400:   0%|                                                               | 0/28 [00:00<?, ?it/s<class 'dict'>]"
     ]
    },
    {
     "name": "stdout",
     "output_type": "stream",
     "text": [
      "Finish Validation\n",
      "Epoch:27/400\n",
      "Train Loss: 58.3125 || Val Loss: 69.8317 \n"
     ]
    },
    {
     "name": "stderr",
     "output_type": "stream",
     "text": [
      "Epoch 28/400: 100%|████████████████████████| 28/28 [00:14<00:00,  1.88it/s, lr=0.000762, step/s=0.442, total_loss=61.6]\n",
      "Epoch 28/400:   0%|                                                                | 0/8 [00:00<?, ?it/s<class 'dict'>]"
     ]
    },
    {
     "name": "stdout",
     "output_type": "stream",
     "text": [
      "Start Validation\n"
     ]
    },
    {
     "name": "stderr",
     "output_type": "stream",
     "text": [
      "Epoch 28/400: 100%|█████████████████████████████████████████████████████| 8/8 [00:01<00:00,  4.04it/s, total_loss=74.7]\n",
      "Epoch 29/400:   0%|                                                               | 0/28 [00:00<?, ?it/s<class 'dict'>]"
     ]
    },
    {
     "name": "stdout",
     "output_type": "stream",
     "text": [
      "Finish Validation\n",
      "Epoch:28/400\n",
      "Train Loss: 59.4571 || Val Loss: 66.3571 \n"
     ]
    },
    {
     "name": "stderr",
     "output_type": "stream",
     "text": [
      "Epoch 29/400: 100%|████████████████████████| 28/28 [00:14<00:00,  1.89it/s, lr=0.000755, step/s=0.413, total_loss=62.7]\n",
      "Epoch 29/400:   0%|                                                                | 0/8 [00:00<?, ?it/s<class 'dict'>]"
     ]
    },
    {
     "name": "stdout",
     "output_type": "stream",
     "text": [
      "Start Validation\n"
     ]
    },
    {
     "name": "stderr",
     "output_type": "stream",
     "text": [
      "Epoch 29/400: 100%|█████████████████████████████████████████████████████| 8/8 [00:02<00:00,  3.92it/s, total_loss=82.8]\n",
      "Epoch 30/400:   0%|                                                               | 0/28 [00:00<?, ?it/s<class 'dict'>]"
     ]
    },
    {
     "name": "stdout",
     "output_type": "stream",
     "text": [
      "Finish Validation\n",
      "Epoch:29/400\n",
      "Train Loss: 60.5022 || Val Loss: 73.5833 \n"
     ]
    },
    {
     "name": "stderr",
     "output_type": "stream",
     "text": [
      "Epoch 30/400: 100%|████████████████████████| 28/28 [00:14<00:00,  1.91it/s, lr=0.000747, step/s=0.428, total_loss=61.2]\n",
      "Epoch 30/400:   0%|                                                                | 0/8 [00:00<?, ?it/s<class 'dict'>]"
     ]
    },
    {
     "name": "stdout",
     "output_type": "stream",
     "text": [
      "Start Validation\n"
     ]
    },
    {
     "name": "stderr",
     "output_type": "stream",
     "text": [
      "Epoch 30/400: 100%|█████████████████████████████████████████████████████| 8/8 [00:01<00:00,  4.03it/s, total_loss=88.8]\n",
      "Epoch 31/400:   0%|                                                               | 0/28 [00:00<?, ?it/s<class 'dict'>]"
     ]
    },
    {
     "name": "stdout",
     "output_type": "stream",
     "text": [
      "Finish Validation\n",
      "Epoch:30/400\n",
      "Train Loss: 59.1247 || Val Loss: 78.9538 \n"
     ]
    },
    {
     "name": "stderr",
     "output_type": "stream",
     "text": [
      "Epoch 31/400: 100%|█████████████████████████| 28/28 [00:14<00:00,  1.88it/s, lr=0.00074, step/s=0.444, total_loss=58.2]\n",
      "Epoch 31/400:   0%|                                                                | 0/8 [00:00<?, ?it/s<class 'dict'>]"
     ]
    },
    {
     "name": "stdout",
     "output_type": "stream",
     "text": [
      "Start Validation\n"
     ]
    },
    {
     "name": "stderr",
     "output_type": "stream",
     "text": [
      "Epoch 31/400: 100%|█████████████████████████████████████████████████████| 8/8 [00:02<00:00,  3.96it/s, total_loss=93.8]\n",
      "Epoch 32/400:   0%|                                                               | 0/28 [00:00<?, ?it/s<class 'dict'>]"
     ]
    },
    {
     "name": "stdout",
     "output_type": "stream",
     "text": [
      "Finish Validation\n",
      "Epoch:31/400\n",
      "Train Loss: 56.1893 || Val Loss: 83.3526 \n"
     ]
    },
    {
     "name": "stderr",
     "output_type": "stream",
     "text": [
      "Epoch 32/400: 100%|████████████████████████| 28/28 [00:14<00:00,  1.90it/s, lr=0.000732, step/s=0.442, total_loss=61.9]\n",
      "Epoch 32/400:   0%|                                                                | 0/8 [00:00<?, ?it/s<class 'dict'>]"
     ]
    },
    {
     "name": "stdout",
     "output_type": "stream",
     "text": [
      "Start Validation\n"
     ]
    },
    {
     "name": "stderr",
     "output_type": "stream",
     "text": [
      "Epoch 32/400: 100%|█████████████████████████████████████████████████████| 8/8 [00:01<00:00,  4.00it/s, total_loss=87.3]\n",
      "Epoch 33/400:   0%|                                                               | 0/28 [00:00<?, ?it/s<class 'dict'>]"
     ]
    },
    {
     "name": "stdout",
     "output_type": "stream",
     "text": [
      "Finish Validation\n",
      "Epoch:32/400\n",
      "Train Loss: 59.7755 || Val Loss: 77.6079 \n"
     ]
    },
    {
     "name": "stderr",
     "output_type": "stream",
     "text": [
      "Epoch 33/400: 100%|████████████████████████| 28/28 [00:14<00:00,  1.90it/s, lr=0.000725, step/s=0.431, total_loss=59.5]\n",
      "Epoch 33/400:   0%|                                                                | 0/8 [00:00<?, ?it/s<class 'dict'>]"
     ]
    },
    {
     "name": "stdout",
     "output_type": "stream",
     "text": [
      "Start Validation\n"
     ]
    },
    {
     "name": "stderr",
     "output_type": "stream",
     "text": [
      "Epoch 33/400: 100%|█████████████████████████████████████████████████████| 8/8 [00:01<00:00,  4.00it/s, total_loss=80.3]\n",
      "Epoch 34/400:   0%|                                                               | 0/28 [00:00<?, ?it/s<class 'dict'>]"
     ]
    },
    {
     "name": "stdout",
     "output_type": "stream",
     "text": [
      "Finish Validation\n",
      "Epoch:33/400\n",
      "Train Loss: 57.4115 || Val Loss: 71.3791 \n"
     ]
    },
    {
     "name": "stderr",
     "output_type": "stream",
     "text": [
      "Epoch 34/400: 100%|████████████████████████| 28/28 [00:14<00:00,  1.91it/s, lr=0.000718, step/s=0.393, total_loss=58.8]\n",
      "Epoch 34/400:   0%|                                                                | 0/8 [00:00<?, ?it/s<class 'dict'>]"
     ]
    },
    {
     "name": "stdout",
     "output_type": "stream",
     "text": [
      "Start Validation\n"
     ]
    },
    {
     "name": "stderr",
     "output_type": "stream",
     "text": [
      "Epoch 34/400: 100%|█████████████████████████████████████████████████████| 8/8 [00:01<00:00,  4.06it/s, total_loss=70.4]\n",
      "Epoch 35/400:   0%|                                                               | 0/28 [00:00<?, ?it/s<class 'dict'>]"
     ]
    },
    {
     "name": "stdout",
     "output_type": "stream",
     "text": [
      "Finish Validation\n",
      "Epoch:34/400\n",
      "Train Loss: 56.7928 || Val Loss: 62.6103 \n"
     ]
    },
    {
     "name": "stderr",
     "output_type": "stream",
     "text": [
      "Epoch 35/400: 100%|████████████████████████| 28/28 [00:14<00:00,  1.93it/s, lr=0.000711, step/s=0.413, total_loss=58.8]\n",
      "Epoch 35/400:   0%|                                                                | 0/8 [00:00<?, ?it/s<class 'dict'>]"
     ]
    },
    {
     "name": "stdout",
     "output_type": "stream",
     "text": [
      "Start Validation\n"
     ]
    },
    {
     "name": "stderr",
     "output_type": "stream",
     "text": [
      "Epoch 35/400: 100%|█████████████████████████████████████████████████████| 8/8 [00:02<00:00,  3.99it/s, total_loss=67.5]\n",
      "Epoch 36/400:   0%|                                                               | 0/28 [00:00<?, ?it/s<class 'dict'>]"
     ]
    },
    {
     "name": "stdout",
     "output_type": "stream",
     "text": [
      "Finish Validation\n",
      "Epoch:35/400\n",
      "Train Loss: 56.7915 || Val Loss: 60.0107 \n"
     ]
    },
    {
     "name": "stderr",
     "output_type": "stream",
     "text": [
      "Epoch 36/400: 100%|████████████████████████| 28/28 [00:14<00:00,  1.92it/s, lr=0.000703, step/s=0.388, total_loss=60.8]\n",
      "Epoch 36/400:   0%|                                                                | 0/8 [00:00<?, ?it/s<class 'dict'>]"
     ]
    },
    {
     "name": "stdout",
     "output_type": "stream",
     "text": [
      "Start Validation\n"
     ]
    },
    {
     "name": "stderr",
     "output_type": "stream",
     "text": [
      "Epoch 36/400: 100%|█████████████████████████████████████████████████████| 8/8 [00:01<00:00,  4.07it/s, total_loss=83.8]\n",
      "Epoch 37/400:   0%|                                                               | 0/28 [00:00<?, ?it/s<class 'dict'>]"
     ]
    },
    {
     "name": "stdout",
     "output_type": "stream",
     "text": [
      "Finish Validation\n",
      "Epoch:36/400\n",
      "Train Loss: 58.6784 || Val Loss: 74.4938 \n"
     ]
    },
    {
     "name": "stderr",
     "output_type": "stream",
     "text": [
      "Epoch 37/400: 100%|████████████████████████| 28/28 [00:14<00:00,  1.91it/s, lr=0.000696, step/s=0.408, total_loss=60.1]\n",
      "Epoch 37/400:   0%|                                                                | 0/8 [00:00<?, ?it/s<class 'dict'>]"
     ]
    },
    {
     "name": "stdout",
     "output_type": "stream",
     "text": [
      "Start Validation\n"
     ]
    },
    {
     "name": "stderr",
     "output_type": "stream",
     "text": [
      "Epoch 37/400: 100%|█████████████████████████████████████████████████████| 8/8 [00:02<00:00,  3.91it/s, total_loss=64.5]\n"
     ]
    },
    {
     "name": "stdout",
     "output_type": "stream",
     "text": [
      "Finish Validation\n",
      "Epoch:37/400\n",
      "Train Loss: 57.9798 || Val Loss: 57.3267 \n",
      "achive best val loss , Saving state, iter: 37\n",
      "current best val loss :  57.32672797309028\n"
     ]
    },
    {
     "name": "stderr",
     "output_type": "stream",
     "text": [
      "Epoch 38/400: 100%|████████████████████████| 28/28 [00:14<00:00,  1.92it/s, lr=0.000689, step/s=0.396, total_loss=59.8]\n",
      "Epoch 38/400:   0%|                                                                | 0/8 [00:00<?, ?it/s<class 'dict'>]"
     ]
    },
    {
     "name": "stdout",
     "output_type": "stream",
     "text": [
      "Start Validation\n"
     ]
    },
    {
     "name": "stderr",
     "output_type": "stream",
     "text": [
      "Epoch 38/400: 100%|█████████████████████████████████████████████████████| 8/8 [00:02<00:00,  3.98it/s, total_loss=71.7]\n",
      "Epoch 39/400:   0%|                                                               | 0/28 [00:00<?, ?it/s<class 'dict'>]"
     ]
    },
    {
     "name": "stdout",
     "output_type": "stream",
     "text": [
      "Finish Validation\n",
      "Epoch:38/400\n",
      "Train Loss: 57.7747 || Val Loss: 63.7291 \n"
     ]
    },
    {
     "name": "stderr",
     "output_type": "stream",
     "text": [
      "Epoch 39/400: 100%|████████████████████████| 28/28 [00:14<00:00,  1.91it/s, lr=0.000683, step/s=0.434, total_loss=54.7]\n",
      "Epoch 39/400:   0%|                                                                | 0/8 [00:00<?, ?it/s<class 'dict'>]"
     ]
    },
    {
     "name": "stdout",
     "output_type": "stream",
     "text": [
      "Start Validation\n"
     ]
    },
    {
     "name": "stderr",
     "output_type": "stream",
     "text": [
      "Epoch 39/400: 100%|█████████████████████████████████████████████████████| 8/8 [00:01<00:00,  4.02it/s, total_loss=69.5]\n",
      "Epoch 40/400:   0%|                                                               | 0/28 [00:00<?, ?it/s<class 'dict'>]"
     ]
    },
    {
     "name": "stdout",
     "output_type": "stream",
     "text": [
      "Finish Validation\n",
      "Epoch:39/400\n",
      "Train Loss: 52.8211 || Val Loss: 61.7797 \n"
     ]
    },
    {
     "name": "stderr",
     "output_type": "stream",
     "text": [
      "Epoch 40/400: 100%|████████████████████████| 28/28 [00:14<00:00,  1.92it/s, lr=0.000676, step/s=0.415, total_loss=57.8]\n",
      "Epoch 40/400:   0%|                                                                | 0/8 [00:00<?, ?it/s<class 'dict'>]"
     ]
    },
    {
     "name": "stdout",
     "output_type": "stream",
     "text": [
      "Start Validation\n"
     ]
    },
    {
     "name": "stderr",
     "output_type": "stream",
     "text": [
      "Epoch 40/400: 100%|███████████████████████████████████████████████████████| 8/8 [00:01<00:00,  4.05it/s, total_loss=83]\n",
      "Epoch 41/400:   0%|                                                               | 0/28 [00:00<?, ?it/s<class 'dict'>]"
     ]
    },
    {
     "name": "stdout",
     "output_type": "stream",
     "text": [
      "Finish Validation\n",
      "Epoch:40/400\n",
      "Train Loss: 55.8490 || Val Loss: 73.8117 \n"
     ]
    },
    {
     "name": "stderr",
     "output_type": "stream",
     "text": [
      "Epoch 41/400: 100%|████████████████████████| 28/28 [00:14<00:00,  1.91it/s, lr=0.000669, step/s=0.427, total_loss=60.1]\n",
      "Epoch 41/400:   0%|                                                                | 0/8 [00:00<?, ?it/s<class 'dict'>]"
     ]
    },
    {
     "name": "stdout",
     "output_type": "stream",
     "text": [
      "Start Validation\n"
     ]
    },
    {
     "name": "stderr",
     "output_type": "stream",
     "text": [
      "Epoch 41/400: 100%|█████████████████████████████████████████████████████| 8/8 [00:02<00:00,  3.94it/s, total_loss=78.8]\n",
      "Epoch 42/400:   0%|                                                               | 0/28 [00:00<?, ?it/s<class 'dict'>]"
     ]
    },
    {
     "name": "stdout",
     "output_type": "stream",
     "text": [
      "Finish Validation\n",
      "Epoch:41/400\n",
      "Train Loss: 58.0138 || Val Loss: 70.0529 \n"
     ]
    },
    {
     "name": "stderr",
     "output_type": "stream",
     "text": [
      "Epoch 42/400: 100%|████████████████████████| 28/28 [00:14<00:00,  1.90it/s, lr=0.000662, step/s=0.415, total_loss=57.9]\n",
      "Epoch 42/400:   0%|                                                                | 0/8 [00:00<?, ?it/s<class 'dict'>]"
     ]
    },
    {
     "name": "stdout",
     "output_type": "stream",
     "text": [
      "Start Validation\n"
     ]
    },
    {
     "name": "stderr",
     "output_type": "stream",
     "text": [
      "Epoch 42/400: 100%|█████████████████████████████████████████████████████| 8/8 [00:02<00:00,  3.90it/s, total_loss=76.6]\n",
      "Epoch 43/400:   0%|                                                               | 0/28 [00:00<?, ?it/s<class 'dict'>]"
     ]
    },
    {
     "name": "stdout",
     "output_type": "stream",
     "text": [
      "Finish Validation\n",
      "Epoch:42/400\n",
      "Train Loss: 55.8924 || Val Loss: 68.1310 \n"
     ]
    },
    {
     "name": "stderr",
     "output_type": "stream",
     "text": [
      "Epoch 43/400: 100%|██████████████████████████| 28/28 [00:14<00:00,  1.90it/s, lr=0.000656, step/s=0.419, total_loss=57]\n",
      "Epoch 43/400:   0%|                                                                | 0/8 [00:00<?, ?it/s<class 'dict'>]"
     ]
    },
    {
     "name": "stdout",
     "output_type": "stream",
     "text": [
      "Start Validation\n"
     ]
    },
    {
     "name": "stderr",
     "output_type": "stream",
     "text": [
      "Epoch 43/400: 100%|███████████████████████████████████████████████████████| 8/8 [00:01<00:00,  4.07it/s, total_loss=84]\n",
      "Epoch 44/400:   0%|                                                               | 0/28 [00:00<?, ?it/s<class 'dict'>]"
     ]
    },
    {
     "name": "stdout",
     "output_type": "stream",
     "text": [
      "Finish Validation\n",
      "Epoch:43/400\n",
      "Train Loss: 55.0177 || Val Loss: 74.6676 \n"
     ]
    },
    {
     "name": "stderr",
     "output_type": "stream",
     "text": [
      "Epoch 44/400: 100%|████████████████████████| 28/28 [00:14<00:00,  1.92it/s, lr=0.000649, step/s=0.419, total_loss=60.9]\n",
      "Epoch 44/400:   0%|                                                                | 0/8 [00:00<?, ?it/s<class 'dict'>]"
     ]
    },
    {
     "name": "stdout",
     "output_type": "stream",
     "text": [
      "Start Validation\n"
     ]
    },
    {
     "name": "stderr",
     "output_type": "stream",
     "text": [
      "Epoch 44/400: 100%|█████████████████████████████████████████████████████| 8/8 [00:02<00:00,  3.96it/s, total_loss=82.6]\n",
      "Epoch 45/400:   0%|                                                               | 0/28 [00:00<?, ?it/s<class 'dict'>]"
     ]
    },
    {
     "name": "stdout",
     "output_type": "stream",
     "text": [
      "Finish Validation\n",
      "Epoch:44/400\n",
      "Train Loss: 58.7577 || Val Loss: 73.3905 \n"
     ]
    },
    {
     "name": "stderr",
     "output_type": "stream",
     "text": [
      "Epoch 45/400: 100%|████████████████████████| 28/28 [00:14<00:00,  1.92it/s, lr=0.000643, step/s=0.412, total_loss=55.9]\n",
      "Epoch 45/400:   0%|                                                                | 0/8 [00:00<?, ?it/s<class 'dict'>]"
     ]
    },
    {
     "name": "stdout",
     "output_type": "stream",
     "text": [
      "Start Validation\n"
     ]
    },
    {
     "name": "stderr",
     "output_type": "stream",
     "text": [
      "Epoch 45/400: 100%|█████████████████████████████████████████████████████| 8/8 [00:02<00:00,  3.99it/s, total_loss=87.6]\n",
      "Epoch 46/400:   0%|                                                               | 0/28 [00:00<?, ?it/s<class 'dict'>]"
     ]
    },
    {
     "name": "stdout",
     "output_type": "stream",
     "text": [
      "Finish Validation\n",
      "Epoch:45/400\n",
      "Train Loss: 54.0124 || Val Loss: 77.8335 \n"
     ]
    },
    {
     "name": "stderr",
     "output_type": "stream",
     "text": [
      "Epoch 46/400: 100%|████████████████████████| 28/28 [00:14<00:00,  1.93it/s, lr=0.000636, step/s=0.419, total_loss=56.9]\n",
      "Epoch 46/400:   0%|                                                                | 0/8 [00:00<?, ?it/s<class 'dict'>]"
     ]
    },
    {
     "name": "stdout",
     "output_type": "stream",
     "text": [
      "Start Validation\n"
     ]
    },
    {
     "name": "stderr",
     "output_type": "stream",
     "text": [
      "Epoch 46/400: 100%|█████████████████████████████████████████████████████| 8/8 [00:01<00:00,  4.07it/s, total_loss=73.7]\n",
      "Epoch 47/400:   0%|                                                               | 0/28 [00:00<?, ?it/s<class 'dict'>]"
     ]
    },
    {
     "name": "stdout",
     "output_type": "stream",
     "text": [
      "Finish Validation\n",
      "Epoch:46/400\n",
      "Train Loss: 54.9547 || Val Loss: 65.5018 \n"
     ]
    },
    {
     "name": "stderr",
     "output_type": "stream",
     "text": [
      "Epoch 47/400: 100%|█████████████████████████| 28/28 [00:14<00:00,  1.90it/s, lr=0.00063, step/s=0.404, total_loss=54.8]\n",
      "Epoch 47/400:   0%|                                                                | 0/8 [00:00<?, ?it/s<class 'dict'>]"
     ]
    },
    {
     "name": "stdout",
     "output_type": "stream",
     "text": [
      "Start Validation\n"
     ]
    },
    {
     "name": "stderr",
     "output_type": "stream",
     "text": [
      "Epoch 47/400: 100%|█████████████████████████████████████████████████████| 8/8 [00:02<00:00,  3.98it/s, total_loss=85.8]\n",
      "Epoch 48/400:   0%|                                                               | 0/28 [00:00<?, ?it/s<class 'dict'>]"
     ]
    },
    {
     "name": "stdout",
     "output_type": "stream",
     "text": [
      "Finish Validation\n",
      "Epoch:47/400\n",
      "Train Loss: 52.8928 || Val Loss: 76.2892 \n"
     ]
    },
    {
     "name": "stderr",
     "output_type": "stream",
     "text": [
      "Epoch 48/400: 100%|█████████████████████████| 28/28 [00:14<00:00,  1.92it/s, lr=0.000624, step/s=0.43, total_loss=56.5]\n",
      "Epoch 48/400:   0%|                                                                | 0/8 [00:00<?, ?it/s<class 'dict'>]"
     ]
    },
    {
     "name": "stdout",
     "output_type": "stream",
     "text": [
      "Start Validation\n"
     ]
    },
    {
     "name": "stderr",
     "output_type": "stream",
     "text": [
      "Epoch 48/400: 100%|█████████████████████████████████████████████████████| 8/8 [00:02<00:00,  3.94it/s, total_loss=84.3]\n",
      "Epoch 49/400:   0%|                                                               | 0/28 [00:00<?, ?it/s<class 'dict'>]"
     ]
    },
    {
     "name": "stdout",
     "output_type": "stream",
     "text": [
      "Finish Validation\n",
      "Epoch:48/400\n",
      "Train Loss: 54.5986 || Val Loss: 74.9201 \n"
     ]
    },
    {
     "name": "stderr",
     "output_type": "stream",
     "text": [
      "Epoch 49/400: 100%|█████████████████████████| 28/28 [00:14<00:00,  1.92it/s, lr=0.000617, step/s=0.43, total_loss=53.5]\n",
      "Epoch 49/400:   0%|                                                                | 0/8 [00:00<?, ?it/s<class 'dict'>]"
     ]
    },
    {
     "name": "stdout",
     "output_type": "stream",
     "text": [
      "Start Validation\n"
     ]
    },
    {
     "name": "stderr",
     "output_type": "stream",
     "text": [
      "Epoch 49/400: 100%|███████████████████████████████████████████████████████| 8/8 [00:02<00:00,  3.93it/s, total_loss=79]\n",
      "Epoch 50/400:   0%|                                                               | 0/28 [00:00<?, ?it/s<class 'dict'>]"
     ]
    },
    {
     "name": "stdout",
     "output_type": "stream",
     "text": [
      "Finish Validation\n",
      "Epoch:49/400\n",
      "Train Loss: 51.6233 || Val Loss: 70.2467 \n"
     ]
    },
    {
     "name": "stderr",
     "output_type": "stream",
     "text": [
      "Epoch 50/400: 100%|████████████████████████| 28/28 [00:14<00:00,  1.92it/s, lr=0.000611, step/s=0.423, total_loss=54.2]\n",
      "Epoch 50/400:   0%|                                                                | 0/8 [00:00<?, ?it/s<class 'dict'>]"
     ]
    },
    {
     "name": "stdout",
     "output_type": "stream",
     "text": [
      "Start Validation\n"
     ]
    },
    {
     "name": "stderr",
     "output_type": "stream",
     "text": [
      "Epoch 50/400: 100%|█████████████████████████████████████████████████████| 8/8 [00:01<00:00,  4.03it/s, total_loss=78.6]\n",
      "Epoch 51/400:   0%|                                                               | 0/28 [00:00<?, ?it/s<class 'dict'>]"
     ]
    },
    {
     "name": "stdout",
     "output_type": "stream",
     "text": [
      "Finish Validation\n",
      "Epoch:50/400\n",
      "Train Loss: 52.3449 || Val Loss: 69.8871 \n"
     ]
    },
    {
     "name": "stderr",
     "output_type": "stream",
     "text": [
      "Epoch 51/400: 100%|████████████████████████| 28/28 [00:14<00:00,  1.92it/s, lr=0.000605, step/s=0.455, total_loss=52.3]\n",
      "Epoch 51/400:   0%|                                                                | 0/8 [00:00<?, ?it/s<class 'dict'>]"
     ]
    },
    {
     "name": "stdout",
     "output_type": "stream",
     "text": [
      "Start Validation\n"
     ]
    },
    {
     "name": "stderr",
     "output_type": "stream",
     "text": [
      "Epoch 51/400: 100%|█████████████████████████████████████████████████████| 8/8 [00:02<00:00,  3.92it/s, total_loss=85.3]\n",
      "Epoch 52/400:   0%|                                                               | 0/28 [00:00<?, ?it/s<class 'dict'>]"
     ]
    },
    {
     "name": "stdout",
     "output_type": "stream",
     "text": [
      "Finish Validation\n",
      "Epoch:51/400\n",
      "Train Loss: 50.4483 || Val Loss: 75.8209 \n"
     ]
    },
    {
     "name": "stderr",
     "output_type": "stream",
     "text": [
      "Epoch 52/400: 100%|██████████████████████████| 28/28 [00:14<00:00,  1.92it/s, lr=0.000599, step/s=0.385, total_loss=55]\n",
      "Epoch 52/400:   0%|                                                             | 0/8 [00:00<?, ?it/s, total_loss=79.9]"
     ]
    },
    {
     "name": "stdout",
     "output_type": "stream",
     "text": [
      "Start Validation\n"
     ]
    },
    {
     "name": "stderr",
     "output_type": "stream",
     "text": [
      "Epoch 52/400: 100%|█████████████████████████████████████████████████████| 8/8 [00:01<00:00,  4.10it/s, total_loss=68.4]\n",
      "Epoch 53/400:   0%|                                                               | 0/28 [00:00<?, ?it/s<class 'dict'>]"
     ]
    },
    {
     "name": "stdout",
     "output_type": "stream",
     "text": [
      "Finish Validation\n",
      "Epoch:52/400\n",
      "Train Loss: 53.0711 || Val Loss: 60.7598 \n"
     ]
    },
    {
     "name": "stderr",
     "output_type": "stream",
     "text": [
      "Epoch 53/400: 100%|████████████████████████| 28/28 [00:14<00:00,  1.90it/s, lr=0.000593, step/s=0.433, total_loss=56.2]\n",
      "Epoch 53/400:   0%|                                                                | 0/8 [00:00<?, ?it/s<class 'dict'>]"
     ]
    },
    {
     "name": "stdout",
     "output_type": "stream",
     "text": [
      "Start Validation\n"
     ]
    },
    {
     "name": "stderr",
     "output_type": "stream",
     "text": [
      "Epoch 53/400: 100%|█████████████████████████████████████████████████████| 8/8 [00:01<00:00,  4.11it/s, total_loss=81.3]\n",
      "Epoch 54/400:   0%|                                                               | 0/28 [00:00<?, ?it/s<class 'dict'>]"
     ]
    },
    {
     "name": "stdout",
     "output_type": "stream",
     "text": [
      "Finish Validation\n",
      "Epoch:53/400\n",
      "Train Loss: 54.2934 || Val Loss: 72.2932 \n"
     ]
    },
    {
     "name": "stderr",
     "output_type": "stream",
     "text": [
      "Epoch 54/400: 100%|████████████████████████| 28/28 [00:14<00:00,  1.92it/s, lr=0.000587, step/s=0.446, total_loss=51.2]\n",
      "Epoch 54/400:   0%|                                                                | 0/8 [00:00<?, ?it/s<class 'dict'>]"
     ]
    },
    {
     "name": "stdout",
     "output_type": "stream",
     "text": [
      "Start Validation\n"
     ]
    },
    {
     "name": "stderr",
     "output_type": "stream",
     "text": [
      "Epoch 54/400: 100%|█████████████████████████████████████████████████████| 8/8 [00:02<00:00,  3.96it/s, total_loss=88.4]\n",
      "Epoch 55/400:   0%|                                                               | 0/28 [00:00<?, ?it/s<class 'dict'>]"
     ]
    },
    {
     "name": "stdout",
     "output_type": "stream",
     "text": [
      "Finish Validation\n",
      "Epoch:54/400\n",
      "Train Loss: 49.4239 || Val Loss: 78.5647 \n"
     ]
    },
    {
     "name": "stderr",
     "output_type": "stream",
     "text": [
      "Epoch 55/400: 100%|████████████████████████| 28/28 [00:14<00:00,  1.91it/s, lr=0.000581, step/s=0.452, total_loss=53.3]\n",
      "Epoch 55/400:   0%|                                                                | 0/8 [00:00<?, ?it/s<class 'dict'>]"
     ]
    },
    {
     "name": "stdout",
     "output_type": "stream",
     "text": [
      "Start Validation\n"
     ]
    },
    {
     "name": "stderr",
     "output_type": "stream",
     "text": [
      "Epoch 55/400: 100%|█████████████████████████████████████████████████████| 8/8 [00:02<00:00,  3.95it/s, total_loss=77.5]\n",
      "Epoch 56/400:   0%|                                                               | 0/28 [00:00<?, ?it/s<class 'dict'>]"
     ]
    },
    {
     "name": "stdout",
     "output_type": "stream",
     "text": [
      "Finish Validation\n",
      "Epoch:55/400\n",
      "Train Loss: 51.4823 || Val Loss: 68.9215 \n"
     ]
    },
    {
     "name": "stderr",
     "output_type": "stream",
     "text": [
      "Epoch 56/400: 100%|████████████████████████| 28/28 [00:14<00:00,  1.91it/s, lr=0.000575, step/s=0.427, total_loss=51.9]\n",
      "Epoch 56/400:   0%|                                                                | 0/8 [00:00<?, ?it/s<class 'dict'>]"
     ]
    },
    {
     "name": "stdout",
     "output_type": "stream",
     "text": [
      "Start Validation\n"
     ]
    },
    {
     "name": "stderr",
     "output_type": "stream",
     "text": [
      "Epoch 56/400: 100%|███████████████████████████████████████████████████████| 8/8 [00:02<00:00,  3.95it/s, total_loss=89]\n",
      "Epoch 57/400:   0%|                                                               | 0/28 [00:00<?, ?it/s<class 'dict'>]"
     ]
    },
    {
     "name": "stdout",
     "output_type": "stream",
     "text": [
      "Finish Validation\n",
      "Epoch:56/400\n",
      "Train Loss: 50.0764 || Val Loss: 79.1266 \n"
     ]
    },
    {
     "name": "stderr",
     "output_type": "stream",
     "text": [
      "Epoch 57/400: 100%|█████████████████████████| 28/28 [00:14<00:00,  1.90it/s, lr=0.00057, step/s=0.405, total_loss=53.4]\n",
      "Epoch 57/400:   0%|                                                                | 0/8 [00:00<?, ?it/s<class 'dict'>]"
     ]
    },
    {
     "name": "stdout",
     "output_type": "stream",
     "text": [
      "Start Validation\n"
     ]
    },
    {
     "name": "stderr",
     "output_type": "stream",
     "text": [
      "Epoch 57/400: 100%|█████████████████████████████████████████████████████| 8/8 [00:02<00:00,  3.97it/s, total_loss=75.2]\n",
      "Epoch 58/400:   0%|                                                               | 0/28 [00:00<?, ?it/s<class 'dict'>]"
     ]
    },
    {
     "name": "stdout",
     "output_type": "stream",
     "text": [
      "Finish Validation\n",
      "Epoch:57/400\n",
      "Train Loss: 51.5240 || Val Loss: 66.8691 \n"
     ]
    },
    {
     "name": "stderr",
     "output_type": "stream",
     "text": [
      "Epoch 58/400: 100%|████████████████████████| 28/28 [00:14<00:00,  1.92it/s, lr=0.000564, step/s=0.397, total_loss=53.5]\n",
      "Epoch 58/400:   0%|                                                                | 0/8 [00:00<?, ?it/s<class 'dict'>]"
     ]
    },
    {
     "name": "stdout",
     "output_type": "stream",
     "text": [
      "Start Validation\n"
     ]
    },
    {
     "name": "stderr",
     "output_type": "stream",
     "text": [
      "Epoch 58/400: 100%|█████████████████████████████████████████████████████| 8/8 [00:02<00:00,  3.95it/s, total_loss=81.2]\n",
      "Epoch 59/400:   0%|                                                               | 0/28 [00:00<?, ?it/s<class 'dict'>]"
     ]
    },
    {
     "name": "stdout",
     "output_type": "stream",
     "text": [
      "Finish Validation\n",
      "Epoch:58/400\n",
      "Train Loss: 51.6765 || Val Loss: 72.1515 \n"
     ]
    },
    {
     "name": "stderr",
     "output_type": "stream",
     "text": [
      "Epoch 59/400: 100%|████████████████████████| 28/28 [00:14<00:00,  1.92it/s, lr=0.000558, step/s=0.445, total_loss=55.6]\n",
      "Epoch 59/400:   0%|                                                                | 0/8 [00:00<?, ?it/s<class 'dict'>]"
     ]
    },
    {
     "name": "stdout",
     "output_type": "stream",
     "text": [
      "Start Validation\n"
     ]
    },
    {
     "name": "stderr",
     "output_type": "stream",
     "text": [
      "Epoch 59/400: 100%|█████████████████████████████████████████████████████| 8/8 [00:01<00:00,  4.03it/s, total_loss=83.1]\n",
      "Epoch 60/400:   0%|                                                               | 0/28 [00:00<?, ?it/s<class 'dict'>]"
     ]
    },
    {
     "name": "stdout",
     "output_type": "stream",
     "text": [
      "Finish Validation\n",
      "Epoch:59/400\n",
      "Train Loss: 53.6565 || Val Loss: 73.8338 \n"
     ]
    },
    {
     "name": "stderr",
     "output_type": "stream",
     "text": [
      "Epoch 60/400: 100%|██████████████████████████| 28/28 [00:14<00:00,  1.91it/s, lr=0.000553, step/s=0.4, total_loss=50.6]\n",
      "Epoch 60/400:   0%|                                                                | 0/8 [00:00<?, ?it/s<class 'dict'>]"
     ]
    },
    {
     "name": "stdout",
     "output_type": "stream",
     "text": [
      "Start Validation\n"
     ]
    },
    {
     "name": "stderr",
     "output_type": "stream",
     "text": [
      "Epoch 60/400: 100%|█████████████████████████████████████████████████████| 8/8 [00:01<00:00,  4.08it/s, total_loss=76.9]\n",
      "Epoch 61/400:   0%|                                                               | 0/28 [00:00<?, ?it/s<class 'dict'>]"
     ]
    },
    {
     "name": "stdout",
     "output_type": "stream",
     "text": [
      "Finish Validation\n",
      "Epoch:60/400\n",
      "Train Loss: 48.8808 || Val Loss: 68.3185 \n"
     ]
    },
    {
     "name": "stderr",
     "output_type": "stream",
     "text": [
      "Epoch 61/400: 100%|██████████████████████████| 28/28 [00:14<00:00,  1.93it/s, lr=0.000547, step/s=0.395, total_loss=52]\n",
      "Epoch 61/400:   0%|                                                                | 0/8 [00:00<?, ?it/s<class 'dict'>]"
     ]
    },
    {
     "name": "stdout",
     "output_type": "stream",
     "text": [
      "Start Validation\n"
     ]
    },
    {
     "name": "stderr",
     "output_type": "stream",
     "text": [
      "Epoch 61/400: 100%|█████████████████████████████████████████████████████| 8/8 [00:01<00:00,  4.10it/s, total_loss=82.1]\n",
      "Epoch 62/400:   0%|                                                               | 0/28 [00:00<?, ?it/s<class 'dict'>]"
     ]
    },
    {
     "name": "stdout",
     "output_type": "stream",
     "text": [
      "Finish Validation\n",
      "Epoch:61/400\n",
      "Train Loss: 50.2218 || Val Loss: 72.9503 \n"
     ]
    },
    {
     "name": "stderr",
     "output_type": "stream",
     "text": [
      "Epoch 62/400: 100%|████████████████████████| 28/28 [00:14<00:00,  1.92it/s, lr=0.000542, step/s=0.403, total_loss=50.1]\n",
      "Epoch 62/400:   0%|                                                                | 0/8 [00:00<?, ?it/s<class 'dict'>]"
     ]
    },
    {
     "name": "stdout",
     "output_type": "stream",
     "text": [
      "Start Validation\n"
     ]
    },
    {
     "name": "stderr",
     "output_type": "stream",
     "text": [
      "Epoch 62/400: 100%|█████████████████████████████████████████████████████| 8/8 [00:02<00:00,  3.95it/s, total_loss=98.8]\n",
      "Epoch 63/400:   0%|                                                               | 0/28 [00:00<?, ?it/s<class 'dict'>]"
     ]
    },
    {
     "name": "stdout",
     "output_type": "stream",
     "text": [
      "Finish Validation\n",
      "Epoch:62/400\n",
      "Train Loss: 48.3381 || Val Loss: 87.8517 \n"
     ]
    },
    {
     "name": "stderr",
     "output_type": "stream",
     "text": [
      "Epoch 63/400: 100%|█████████████████████████| 28/28 [00:14<00:00,  1.89it/s, lr=0.000536, step/s=0.44, total_loss=51.5]\n",
      "Epoch 63/400:   0%|                                                                | 0/8 [00:00<?, ?it/s<class 'dict'>]"
     ]
    },
    {
     "name": "stdout",
     "output_type": "stream",
     "text": [
      "Start Validation\n"
     ]
    },
    {
     "name": "stderr",
     "output_type": "stream",
     "text": [
      "Epoch 63/400: 100%|█████████████████████████████████████████████████████| 8/8 [00:01<00:00,  4.01it/s, total_loss=79.6]\n",
      "Epoch 64/400:   0%|                                                               | 0/28 [00:00<?, ?it/s<class 'dict'>]"
     ]
    },
    {
     "name": "stdout",
     "output_type": "stream",
     "text": [
      "Finish Validation\n",
      "Epoch:63/400\n",
      "Train Loss: 49.7190 || Val Loss: 70.7549 \n"
     ]
    },
    {
     "name": "stderr",
     "output_type": "stream",
     "text": [
      "Epoch 64/400: 100%|████████████████████████| 28/28 [00:14<00:00,  1.90it/s, lr=0.000531, step/s=0.408, total_loss=56.8]\n",
      "Epoch 64/400:   0%|                                                                | 0/8 [00:00<?, ?it/s<class 'dict'>]"
     ]
    },
    {
     "name": "stdout",
     "output_type": "stream",
     "text": [
      "Start Validation\n"
     ]
    },
    {
     "name": "stderr",
     "output_type": "stream",
     "text": [
      "Epoch 64/400: 100%|█████████████████████████████████████████████████████| 8/8 [00:02<00:00,  4.00it/s, total_loss=88.4]\n",
      "Epoch 65/400:   0%|                                                               | 0/28 [00:00<?, ?it/s<class 'dict'>]"
     ]
    },
    {
     "name": "stdout",
     "output_type": "stream",
     "text": [
      "Finish Validation\n",
      "Epoch:64/400\n",
      "Train Loss: 54.8251 || Val Loss: 78.5559 \n"
     ]
    },
    {
     "name": "stderr",
     "output_type": "stream",
     "text": [
      "Epoch 65/400: 100%|████████████████████████| 28/28 [00:14<00:00,  1.91it/s, lr=0.000526, step/s=0.434, total_loss=49.5]\n",
      "Epoch 65/400:   0%|                                                                | 0/8 [00:00<?, ?it/s<class 'dict'>]"
     ]
    },
    {
     "name": "stdout",
     "output_type": "stream",
     "text": [
      "Start Validation\n"
     ]
    },
    {
     "name": "stderr",
     "output_type": "stream",
     "text": [
      "Epoch 65/400: 100%|█████████████████████████████████████████████████████| 8/8 [00:01<00:00,  4.01it/s, total_loss=93.2]\n",
      "Epoch 66/400:   0%|                                                               | 0/28 [00:00<?, ?it/s<class 'dict'>]"
     ]
    },
    {
     "name": "stdout",
     "output_type": "stream",
     "text": [
      "Finish Validation\n",
      "Epoch:65/400\n",
      "Train Loss: 47.8144 || Val Loss: 82.8662 \n"
     ]
    },
    {
     "name": "stderr",
     "output_type": "stream",
     "text": [
      "Epoch 66/400: 100%|█████████████████████████| 28/28 [00:14<00:00,  1.90it/s, lr=0.00052, step/s=0.421, total_loss=50.3]\n",
      "Epoch 66/400:   0%|                                                                | 0/8 [00:00<?, ?it/s<class 'dict'>]"
     ]
    },
    {
     "name": "stdout",
     "output_type": "stream",
     "text": [
      "Start Validation\n"
     ]
    },
    {
     "name": "stderr",
     "output_type": "stream",
     "text": [
      "Epoch 66/400: 100%|█████████████████████████████████████████████████████| 8/8 [00:01<00:00,  4.04it/s, total_loss=69.8]\n",
      "Epoch 67/400:   0%|                                                               | 0/28 [00:00<?, ?it/s<class 'dict'>]"
     ]
    },
    {
     "name": "stdout",
     "output_type": "stream",
     "text": [
      "Finish Validation\n",
      "Epoch:66/400\n",
      "Train Loss: 48.5733 || Val Loss: 62.0459 \n"
     ]
    },
    {
     "name": "stderr",
     "output_type": "stream",
     "text": [
      "Epoch 67/400: 100%|█████████████████████████| 28/28 [00:14<00:00,  1.91it/s, lr=0.000515, step/s=0.38, total_loss=50.5]\n",
      "Epoch 67/400:   0%|                                                                | 0/8 [00:00<?, ?it/s<class 'dict'>]"
     ]
    },
    {
     "name": "stdout",
     "output_type": "stream",
     "text": [
      "Start Validation\n"
     ]
    },
    {
     "name": "stderr",
     "output_type": "stream",
     "text": [
      "Epoch 67/400: 100%|█████████████████████████████████████████████████████| 8/8 [00:01<00:00,  4.00it/s, total_loss=89.6]\n",
      "Epoch 68/400:   0%|                                                               | 0/28 [00:00<?, ?it/s<class 'dict'>]"
     ]
    },
    {
     "name": "stdout",
     "output_type": "stream",
     "text": [
      "Finish Validation\n",
      "Epoch:67/400\n",
      "Train Loss: 48.7456 || Val Loss: 79.6258 \n"
     ]
    },
    {
     "name": "stderr",
     "output_type": "stream",
     "text": [
      "Epoch 68/400: 100%|█████████████████████████| 28/28 [00:14<00:00,  1.90it/s, lr=0.00051, step/s=0.421, total_loss=53.2]\n",
      "Epoch 68/400:   0%|                                                                | 0/8 [00:00<?, ?it/s<class 'dict'>]"
     ]
    },
    {
     "name": "stdout",
     "output_type": "stream",
     "text": [
      "Start Validation\n"
     ]
    },
    {
     "name": "stderr",
     "output_type": "stream",
     "text": [
      "Epoch 68/400: 100%|█████████████████████████████████████████████████████| 8/8 [00:01<00:00,  4.01it/s, total_loss=80.2]\n",
      "Epoch 69/400:   0%|                                                               | 0/28 [00:00<?, ?it/s<class 'dict'>]"
     ]
    },
    {
     "name": "stdout",
     "output_type": "stream",
     "text": [
      "Finish Validation\n",
      "Epoch:68/400\n",
      "Train Loss: 51.3260 || Val Loss: 71.2927 \n"
     ]
    },
    {
     "name": "stderr",
     "output_type": "stream",
     "text": [
      "Epoch 69/400: 100%|████████████████████████| 28/28 [00:14<00:00,  1.93it/s, lr=0.000505, step/s=0.389, total_loss=49.5]\n",
      "Epoch 69/400:   0%|                                                                | 0/8 [00:00<?, ?it/s<class 'dict'>]"
     ]
    },
    {
     "name": "stdout",
     "output_type": "stream",
     "text": [
      "Start Validation\n"
     ]
    },
    {
     "name": "stderr",
     "output_type": "stream",
     "text": [
      "Epoch 69/400: 100%|█████████████████████████████████████████████████████| 8/8 [00:01<00:00,  4.03it/s, total_loss=82.8]\n",
      "Epoch 70/400:   0%|                                                               | 0/28 [00:00<?, ?it/s<class 'dict'>]"
     ]
    },
    {
     "name": "stdout",
     "output_type": "stream",
     "text": [
      "Finish Validation\n",
      "Epoch:69/400\n",
      "Train Loss: 47.7975 || Val Loss: 73.5942 \n"
     ]
    },
    {
     "name": "stderr",
     "output_type": "stream",
     "text": [
      "Epoch 70/400: 100%|██████████████████████████| 28/28 [00:14<00:00,  1.93it/s, lr=0.0005, step/s=0.413, total_loss=47.4]\n",
      "Epoch 70/400:   0%|                                                                | 0/8 [00:00<?, ?it/s<class 'dict'>]"
     ]
    },
    {
     "name": "stdout",
     "output_type": "stream",
     "text": [
      "Start Validation\n"
     ]
    },
    {
     "name": "stderr",
     "output_type": "stream",
     "text": [
      "Epoch 70/400: 100%|█████████████████████████████████████████████████████| 8/8 [00:02<00:00,  3.94it/s, total_loss=72.7]\n",
      "Epoch 71/400:   0%|                                                               | 0/28 [00:00<?, ?it/s<class 'dict'>]"
     ]
    },
    {
     "name": "stdout",
     "output_type": "stream",
     "text": [
      "Finish Validation\n",
      "Epoch:70/400\n",
      "Train Loss: 45.7541 || Val Loss: 64.6052 \n"
     ]
    },
    {
     "name": "stderr",
     "output_type": "stream",
     "text": [
      "Epoch 71/400: 100%|████████████████████████| 28/28 [00:14<00:00,  1.91it/s, lr=0.000495, step/s=0.427, total_loss=50.9]\n",
      "Epoch 71/400:   0%|                                                                | 0/8 [00:00<?, ?it/s<class 'dict'>]"
     ]
    },
    {
     "name": "stdout",
     "output_type": "stream",
     "text": [
      "Start Validation\n"
     ]
    },
    {
     "name": "stderr",
     "output_type": "stream",
     "text": [
      "Epoch 71/400: 100%|█████████████████████████████████████████████████████| 8/8 [00:01<00:00,  4.01it/s, total_loss=70.8]\n",
      "Epoch 72/400:   0%|                                                               | 0/28 [00:00<?, ?it/s<class 'dict'>]"
     ]
    },
    {
     "name": "stdout",
     "output_type": "stream",
     "text": [
      "Finish Validation\n",
      "Epoch:71/400\n",
      "Train Loss: 49.1114 || Val Loss: 62.9084 \n"
     ]
    },
    {
     "name": "stderr",
     "output_type": "stream",
     "text": [
      "Epoch 72/400: 100%|███████████████████████████| 28/28 [00:14<00:00,  1.91it/s, lr=0.00049, step/s=0.433, total_loss=46]\n",
      "Epoch 72/400:   0%|                                                                | 0/8 [00:00<?, ?it/s<class 'dict'>]"
     ]
    },
    {
     "name": "stdout",
     "output_type": "stream",
     "text": [
      "Start Validation\n"
     ]
    },
    {
     "name": "stderr",
     "output_type": "stream",
     "text": [
      "Epoch 72/400: 100%|█████████████████████████████████████████████████████| 8/8 [00:01<00:00,  4.01it/s, total_loss=85.3]\n",
      "Epoch 73/400:   0%|                                                               | 0/28 [00:00<?, ?it/s<class 'dict'>]"
     ]
    },
    {
     "name": "stdout",
     "output_type": "stream",
     "text": [
      "Finish Validation\n",
      "Epoch:72/400\n",
      "Train Loss: 44.4008 || Val Loss: 75.8152 \n"
     ]
    },
    {
     "name": "stderr",
     "output_type": "stream",
     "text": [
      "Epoch 73/400: 100%|████████████████████████| 28/28 [00:14<00:00,  1.92it/s, lr=0.000485, step/s=0.436, total_loss=49.6]\n",
      "Epoch 73/400:   0%|                                                                | 0/8 [00:00<?, ?it/s<class 'dict'>]"
     ]
    },
    {
     "name": "stdout",
     "output_type": "stream",
     "text": [
      "Start Validation\n"
     ]
    },
    {
     "name": "stderr",
     "output_type": "stream",
     "text": [
      "Epoch 73/400: 100%|█████████████████████████████████████████████████████| 8/8 [00:01<00:00,  4.01it/s, total_loss=75.9]\n",
      "Epoch 74/400:   0%|                                                               | 0/28 [00:00<?, ?it/s<class 'dict'>]"
     ]
    },
    {
     "name": "stdout",
     "output_type": "stream",
     "text": [
      "Finish Validation\n",
      "Epoch:73/400\n",
      "Train Loss: 47.9058 || Val Loss: 67.4917 \n"
     ]
    },
    {
     "name": "stderr",
     "output_type": "stream",
     "text": [
      "Epoch 74/400: 100%|██████████████████████████| 28/28 [00:14<00:00,  1.90it/s, lr=0.00048, step/s=0.42, total_loss=47.1]\n",
      "Epoch 74/400:   0%|                                                                | 0/8 [00:00<?, ?it/s<class 'dict'>]"
     ]
    },
    {
     "name": "stdout",
     "output_type": "stream",
     "text": [
      "Start Validation\n"
     ]
    },
    {
     "name": "stderr",
     "output_type": "stream",
     "text": [
      "Epoch 74/400: 100%|█████████████████████████████████████████████████████| 8/8 [00:02<00:00,  3.91it/s, total_loss=85.8]\n",
      "Epoch 75/400:   0%|                                                               | 0/28 [00:00<?, ?it/s<class 'dict'>]"
     ]
    },
    {
     "name": "stdout",
     "output_type": "stream",
     "text": [
      "Finish Validation\n",
      "Epoch:74/400\n",
      "Train Loss: 45.4712 || Val Loss: 76.2473 \n"
     ]
    },
    {
     "name": "stderr",
     "output_type": "stream",
     "text": [
      "Epoch 75/400: 100%|████████████████████████| 28/28 [00:14<00:00,  1.91it/s, lr=0.000475, step/s=0.389, total_loss=46.8]\n",
      "Epoch 75/400:   0%|                                                                | 0/8 [00:00<?, ?it/s<class 'dict'>]"
     ]
    },
    {
     "name": "stdout",
     "output_type": "stream",
     "text": [
      "Start Validation\n"
     ]
    },
    {
     "name": "stderr",
     "output_type": "stream",
     "text": [
      "Epoch 75/400: 100%|█████████████████████████████████████████████████████| 8/8 [00:01<00:00,  4.06it/s, total_loss=86.3]\n",
      "Epoch 76/400:   0%|                                                               | 0/28 [00:00<?, ?it/s<class 'dict'>]"
     ]
    },
    {
     "name": "stdout",
     "output_type": "stream",
     "text": [
      "Finish Validation\n",
      "Epoch:75/400\n",
      "Train Loss: 45.2233 || Val Loss: 76.6945 \n"
     ]
    },
    {
     "name": "stderr",
     "output_type": "stream",
     "text": [
      "Epoch 76/400: 100%|████████████████████████| 28/28 [00:14<00:00,  1.92it/s, lr=0.000471, step/s=0.405, total_loss=48.3]\n",
      "Epoch 76/400:   0%|                                                                | 0/8 [00:00<?, ?it/s<class 'dict'>]"
     ]
    },
    {
     "name": "stdout",
     "output_type": "stream",
     "text": [
      "Start Validation\n"
     ]
    },
    {
     "name": "stderr",
     "output_type": "stream",
     "text": [
      "Epoch 76/400: 100%|█████████████████████████████████████████████████████| 8/8 [00:02<00:00,  3.95it/s, total_loss=79.5]\n",
      "Epoch 77/400:   0%|                                                               | 0/28 [00:00<?, ?it/s<class 'dict'>]"
     ]
    },
    {
     "name": "stdout",
     "output_type": "stream",
     "text": [
      "Finish Validation\n",
      "Epoch:76/400\n",
      "Train Loss: 46.6625 || Val Loss: 70.6792 \n"
     ]
    },
    {
     "name": "stderr",
     "output_type": "stream",
     "text": [
      "Epoch 77/400: 100%|██████████████████████████| 28/28 [00:14<00:00,  1.92it/s, lr=0.000466, step/s=0.443, total_loss=48]\n",
      "Epoch 77/400:   0%|                                                                | 0/8 [00:00<?, ?it/s<class 'dict'>]"
     ]
    },
    {
     "name": "stdout",
     "output_type": "stream",
     "text": [
      "Start Validation\n"
     ]
    },
    {
     "name": "stderr",
     "output_type": "stream",
     "text": [
      "Epoch 77/400: 100%|█████████████████████████████████████████████████████| 8/8 [00:01<00:00,  4.01it/s, total_loss=73.8]\n",
      "Epoch 78/400:   0%|                                                               | 0/28 [00:00<?, ?it/s<class 'dict'>]"
     ]
    },
    {
     "name": "stdout",
     "output_type": "stream",
     "text": [
      "Finish Validation\n",
      "Epoch:77/400\n",
      "Train Loss: 46.2994 || Val Loss: 65.5658 \n"
     ]
    },
    {
     "name": "stderr",
     "output_type": "stream",
     "text": [
      "Epoch 78/400: 100%|████████████████████████| 28/28 [00:14<00:00,  1.92it/s, lr=0.000461, step/s=0.382, total_loss=46.7]\n",
      "Epoch 78/400:   0%|                                                                | 0/8 [00:00<?, ?it/s<class 'dict'>]"
     ]
    },
    {
     "name": "stdout",
     "output_type": "stream",
     "text": [
      "Start Validation\n"
     ]
    },
    {
     "name": "stderr",
     "output_type": "stream",
     "text": [
      "Epoch 78/400: 100%|█████████████████████████████████████████████████████| 8/8 [00:02<00:00,  3.98it/s, total_loss=80.6]\n",
      "Epoch 79/400:   0%|                                                               | 0/28 [00:00<?, ?it/s<class 'dict'>]"
     ]
    },
    {
     "name": "stdout",
     "output_type": "stream",
     "text": [
      "Finish Validation\n",
      "Epoch:78/400\n",
      "Train Loss: 45.0709 || Val Loss: 71.6841 \n"
     ]
    },
    {
     "name": "stderr",
     "output_type": "stream",
     "text": [
      "Epoch 79/400: 100%|████████████████████████| 28/28 [00:14<00:00,  1.92it/s, lr=0.000457, step/s=0.414, total_loss=45.4]\n",
      "Epoch 79/400:   0%|                                                                | 0/8 [00:00<?, ?it/s<class 'dict'>]"
     ]
    },
    {
     "name": "stdout",
     "output_type": "stream",
     "text": [
      "Start Validation\n"
     ]
    },
    {
     "name": "stderr",
     "output_type": "stream",
     "text": [
      "Epoch 79/400: 100%|█████████████████████████████████████████████████████| 8/8 [00:01<00:00,  4.02it/s, total_loss=80.5]\n",
      "Epoch 80/400:   0%|                                                               | 0/28 [00:00<?, ?it/s<class 'dict'>]"
     ]
    },
    {
     "name": "stdout",
     "output_type": "stream",
     "text": [
      "Finish Validation\n",
      "Epoch:79/400\n",
      "Train Loss: 43.8153 || Val Loss: 71.5419 \n"
     ]
    },
    {
     "name": "stderr",
     "output_type": "stream",
     "text": [
      "Epoch 80/400: 100%|█████████████████████████| 28/28 [00:14<00:00,  1.93it/s, lr=0.000452, step/s=0.42, total_loss=43.9]\n",
      "Epoch 80/400:   0%|                                                                | 0/8 [00:00<?, ?it/s<class 'dict'>]"
     ]
    },
    {
     "name": "stdout",
     "output_type": "stream",
     "text": [
      "Start Validation\n"
     ]
    },
    {
     "name": "stderr",
     "output_type": "stream",
     "text": [
      "Epoch 80/400: 100%|█████████████████████████████████████████████████████| 8/8 [00:02<00:00,  3.90it/s, total_loss=81.9]\n",
      "Epoch 81/400:   0%|                                                               | 0/28 [00:00<?, ?it/s<class 'dict'>]"
     ]
    },
    {
     "name": "stdout",
     "output_type": "stream",
     "text": [
      "Finish Validation\n",
      "Epoch:80/400\n",
      "Train Loss: 42.3451 || Val Loss: 72.7651 \n"
     ]
    },
    {
     "name": "stderr",
     "output_type": "stream",
     "text": [
      "Epoch 81/400: 100%|████████████████████████| 28/28 [00:14<00:00,  1.92it/s, lr=0.000448, step/s=0.432, total_loss=46.7]\n",
      "Epoch 81/400:   0%|                                                                | 0/8 [00:00<?, ?it/s<class 'dict'>]"
     ]
    },
    {
     "name": "stdout",
     "output_type": "stream",
     "text": [
      "Start Validation\n"
     ]
    },
    {
     "name": "stderr",
     "output_type": "stream",
     "text": [
      "Epoch 81/400: 100%|█████████████████████████████████████████████████████| 8/8 [00:02<00:00,  3.88it/s, total_loss=67.1]\n",
      "Epoch 82/400:   0%|                                                               | 0/28 [00:00<?, ?it/s<class 'dict'>]"
     ]
    },
    {
     "name": "stdout",
     "output_type": "stream",
     "text": [
      "Finish Validation\n",
      "Epoch:81/400\n",
      "Train Loss: 45.1014 || Val Loss: 59.6803 \n"
     ]
    },
    {
     "name": "stderr",
     "output_type": "stream",
     "text": [
      "Epoch 82/400: 100%|████████████████████████| 28/28 [00:14<00:00,  1.91it/s, lr=0.000443, step/s=0.411, total_loss=46.3]\n",
      "Epoch 82/400:   0%|                                                                | 0/8 [00:00<?, ?it/s<class 'dict'>]"
     ]
    },
    {
     "name": "stdout",
     "output_type": "stream",
     "text": [
      "Start Validation\n"
     ]
    },
    {
     "name": "stderr",
     "output_type": "stream",
     "text": [
      "Epoch 82/400: 100%|█████████████████████████████████████████████████████| 8/8 [00:01<00:00,  4.02it/s, total_loss=65.1]\n",
      "Epoch 83/400:   0%|                                                               | 0/28 [00:00<?, ?it/s<class 'dict'>]"
     ]
    },
    {
     "name": "stdout",
     "output_type": "stream",
     "text": [
      "Finish Validation\n",
      "Epoch:82/400\n",
      "Train Loss: 44.7063 || Val Loss: 57.8918 \n"
     ]
    },
    {
     "name": "stderr",
     "output_type": "stream",
     "text": [
      "Epoch 83/400: 100%|████████████████████████| 28/28 [00:14<00:00,  1.91it/s, lr=0.000439, step/s=0.399, total_loss=51.2]\n",
      "Epoch 83/400:   0%|                                                                | 0/8 [00:00<?, ?it/s<class 'dict'>]"
     ]
    },
    {
     "name": "stdout",
     "output_type": "stream",
     "text": [
      "Start Validation\n"
     ]
    },
    {
     "name": "stderr",
     "output_type": "stream",
     "text": [
      "Epoch 83/400: 100%|█████████████████████████████████████████████████████| 8/8 [00:02<00:00,  4.00it/s, total_loss=85.3]\n",
      "Epoch 84/400:   0%|                                                               | 0/28 [00:00<?, ?it/s<class 'dict'>]"
     ]
    },
    {
     "name": "stdout",
     "output_type": "stream",
     "text": [
      "Finish Validation\n",
      "Epoch:83/400\n",
      "Train Loss: 49.4268 || Val Loss: 75.8345 \n"
     ]
    },
    {
     "name": "stderr",
     "output_type": "stream",
     "text": [
      "Epoch 84/400: 100%|████████████████████████| 28/28 [00:14<00:00,  1.91it/s, lr=0.000434, step/s=0.419, total_loss=51.5]\n",
      "Epoch 84/400:   0%|                                                                | 0/8 [00:00<?, ?it/s<class 'dict'>]"
     ]
    },
    {
     "name": "stdout",
     "output_type": "stream",
     "text": [
      "Start Validation\n"
     ]
    },
    {
     "name": "stderr",
     "output_type": "stream",
     "text": [
      "Epoch 84/400: 100%|█████████████████████████████████████████████████████| 8/8 [00:01<00:00,  4.14it/s, total_loss=84.8]\n",
      "Epoch 85/400:   0%|                                                               | 0/28 [00:00<?, ?it/s<class 'dict'>]"
     ]
    },
    {
     "name": "stdout",
     "output_type": "stream",
     "text": [
      "Finish Validation\n",
      "Epoch:84/400\n",
      "Train Loss: 49.7553 || Val Loss: 75.3801 \n"
     ]
    },
    {
     "name": "stderr",
     "output_type": "stream",
     "text": [
      "Epoch 85/400: 100%|█████████████████████████| 28/28 [00:14<00:00,  1.94it/s, lr=0.00043, step/s=0.427, total_loss=44.3]\n",
      "Epoch 85/400:   0%|                                                                | 0/8 [00:00<?, ?it/s<class 'dict'>]"
     ]
    },
    {
     "name": "stdout",
     "output_type": "stream",
     "text": [
      "Start Validation\n"
     ]
    },
    {
     "name": "stderr",
     "output_type": "stream",
     "text": [
      "Epoch 85/400: 100%|███████████████████████████████████████████████████████| 8/8 [00:01<00:00,  4.02it/s, total_loss=73]\n",
      "Epoch 86/400:   0%|                                                               | 0/28 [00:00<?, ?it/s<class 'dict'>]"
     ]
    },
    {
     "name": "stdout",
     "output_type": "stream",
     "text": [
      "Finish Validation\n",
      "Epoch:85/400\n",
      "Train Loss: 42.7752 || Val Loss: 64.8700 \n"
     ]
    },
    {
     "name": "stderr",
     "output_type": "stream",
     "text": [
      "Epoch 86/400: 100%|████████████████████████| 28/28 [00:14<00:00,  1.92it/s, lr=0.000426, step/s=0.387, total_loss=46.6]\n",
      "Epoch 86/400:   0%|                                                                | 0/8 [00:00<?, ?it/s<class 'dict'>]"
     ]
    },
    {
     "name": "stdout",
     "output_type": "stream",
     "text": [
      "Start Validation\n"
     ]
    },
    {
     "name": "stderr",
     "output_type": "stream",
     "text": [
      "Epoch 86/400: 100%|█████████████████████████████████████████████████████| 8/8 [00:02<00:00,  4.00it/s, total_loss=77.8]\n",
      "Epoch 87/400:   0%|                                                               | 0/28 [00:00<?, ?it/s<class 'dict'>]"
     ]
    },
    {
     "name": "stdout",
     "output_type": "stream",
     "text": [
      "Finish Validation\n",
      "Epoch:86/400\n",
      "Train Loss: 45.0091 || Val Loss: 69.1958 \n"
     ]
    },
    {
     "name": "stderr",
     "output_type": "stream",
     "text": [
      "Epoch 87/400: 100%|████████████████████████| 28/28 [00:14<00:00,  1.91it/s, lr=0.000421, step/s=0.452, total_loss=47.3]\n",
      "Epoch 87/400:   0%|                                                                | 0/8 [00:00<?, ?it/s<class 'dict'>]"
     ]
    },
    {
     "name": "stdout",
     "output_type": "stream",
     "text": [
      "Start Validation\n"
     ]
    },
    {
     "name": "stderr",
     "output_type": "stream",
     "text": [
      "Epoch 87/400: 100%|█████████████████████████████████████████████████████| 8/8 [00:02<00:00,  3.99it/s, total_loss=90.1]\n",
      "Epoch 88/400:   0%|                                                               | 0/28 [00:00<?, ?it/s<class 'dict'>]"
     ]
    },
    {
     "name": "stdout",
     "output_type": "stream",
     "text": [
      "Finish Validation\n",
      "Epoch:87/400\n",
      "Train Loss: 45.7048 || Val Loss: 80.1169 \n"
     ]
    },
    {
     "name": "stderr",
     "output_type": "stream",
     "text": [
      "Epoch 88/400: 100%|████████████████████████| 28/28 [00:14<00:00,  1.91it/s, lr=0.000417, step/s=0.406, total_loss=46.9]\n",
      "Epoch 88/400:   0%|                                                                | 0/8 [00:00<?, ?it/s<class 'dict'>]"
     ]
    },
    {
     "name": "stdout",
     "output_type": "stream",
     "text": [
      "Start Validation\n"
     ]
    },
    {
     "name": "stderr",
     "output_type": "stream",
     "text": [
      "Epoch 88/400: 100%|█████████████████████████████████████████████████████| 8/8 [00:01<00:00,  4.03it/s, total_loss=76.5]\n",
      "Epoch 89/400:   0%|                                                               | 0/28 [00:00<?, ?it/s<class 'dict'>]"
     ]
    },
    {
     "name": "stdout",
     "output_type": "stream",
     "text": [
      "Finish Validation\n",
      "Epoch:88/400\n",
      "Train Loss: 45.2793 || Val Loss: 68.0016 \n"
     ]
    },
    {
     "name": "stderr",
     "output_type": "stream",
     "text": [
      "Epoch 89/400: 100%|████████████████████████| 28/28 [00:14<00:00,  1.91it/s, lr=0.000413, step/s=0.432, total_loss=45.4]\n",
      "Epoch 89/400:   0%|                                                                | 0/8 [00:00<?, ?it/s<class 'dict'>]"
     ]
    },
    {
     "name": "stdout",
     "output_type": "stream",
     "text": [
      "Start Validation\n"
     ]
    },
    {
     "name": "stderr",
     "output_type": "stream",
     "text": [
      "Epoch 89/400: 100%|███████████████████████████████████████████████████████| 8/8 [00:01<00:00,  4.07it/s, total_loss=70]\n",
      "Epoch 90/400:   0%|                                                               | 0/28 [00:00<?, ?it/s<class 'dict'>]"
     ]
    },
    {
     "name": "stdout",
     "output_type": "stream",
     "text": [
      "Finish Validation\n",
      "Epoch:89/400\n",
      "Train Loss: 43.8227 || Val Loss: 62.2488 \n"
     ]
    },
    {
     "name": "stderr",
     "output_type": "stream",
     "text": [
      "Epoch 90/400: 100%|████████████████████████| 28/28 [00:14<00:00,  1.90it/s, lr=0.000409, step/s=0.411, total_loss=46.4]\n",
      "Epoch 90/400:   0%|                                                                | 0/8 [00:00<?, ?it/s<class 'dict'>]"
     ]
    },
    {
     "name": "stdout",
     "output_type": "stream",
     "text": [
      "Start Validation\n"
     ]
    },
    {
     "name": "stderr",
     "output_type": "stream",
     "text": [
      "Epoch 90/400: 100%|█████████████████████████████████████████████████████| 8/8 [00:02<00:00,  3.95it/s, total_loss=82.4]\n",
      "Epoch 91/400:   0%|                                                               | 0/28 [00:00<?, ?it/s<class 'dict'>]"
     ]
    },
    {
     "name": "stdout",
     "output_type": "stream",
     "text": [
      "Finish Validation\n",
      "Epoch:90/400\n",
      "Train Loss: 44.7634 || Val Loss: 73.2541 \n"
     ]
    },
    {
     "name": "stderr",
     "output_type": "stream",
     "text": [
      "Epoch 91/400: 100%|████████████████████████| 28/28 [00:14<00:00,  1.92it/s, lr=0.000405, step/s=0.429, total_loss=45.5]\n",
      "Epoch 91/400:   0%|                                                                | 0/8 [00:00<?, ?it/s<class 'dict'>]"
     ]
    },
    {
     "name": "stdout",
     "output_type": "stream",
     "text": [
      "Start Validation\n"
     ]
    },
    {
     "name": "stderr",
     "output_type": "stream",
     "text": [
      "Epoch 91/400: 100%|█████████████████████████████████████████████████████| 8/8 [00:02<00:00,  4.00it/s, total_loss=84.2]\n",
      "Epoch 92/400:   0%|                                                               | 0/28 [00:00<?, ?it/s<class 'dict'>]"
     ]
    },
    {
     "name": "stdout",
     "output_type": "stream",
     "text": [
      "Finish Validation\n",
      "Epoch:91/400\n",
      "Train Loss: 43.9514 || Val Loss: 74.8074 \n"
     ]
    },
    {
     "name": "stderr",
     "output_type": "stream",
     "text": [
      "Epoch 92/400: 100%|████████████████████████| 28/28 [00:14<00:00,  1.92it/s, lr=0.000401, step/s=0.448, total_loss=45.6]\n",
      "Epoch 92/400:   0%|                                                                | 0/8 [00:00<?, ?it/s<class 'dict'>]"
     ]
    },
    {
     "name": "stdout",
     "output_type": "stream",
     "text": [
      "Start Validation\n"
     ]
    },
    {
     "name": "stderr",
     "output_type": "stream",
     "text": [
      "Epoch 92/400: 100%|█████████████████████████████████████████████████████| 8/8 [00:02<00:00,  3.98it/s, total_loss=88.4]\n",
      "Epoch 93/400:   0%|                                                               | 0/28 [00:00<?, ?it/s<class 'dict'>]"
     ]
    },
    {
     "name": "stdout",
     "output_type": "stream",
     "text": [
      "Finish Validation\n",
      "Epoch:92/400\n",
      "Train Loss: 44.0585 || Val Loss: 78.5437 \n"
     ]
    },
    {
     "name": "stderr",
     "output_type": "stream",
     "text": [
      "Epoch 93/400: 100%|████████████████████████| 28/28 [00:14<00:00,  1.91it/s, lr=0.000397, step/s=0.423, total_loss=48.5]\n",
      "Epoch 93/400:   0%|                                                                | 0/8 [00:00<?, ?it/s<class 'dict'>]"
     ]
    },
    {
     "name": "stdout",
     "output_type": "stream",
     "text": [
      "Start Validation\n"
     ]
    },
    {
     "name": "stderr",
     "output_type": "stream",
     "text": [
      "Epoch 93/400: 100%|█████████████████████████████████████████████████████| 8/8 [00:02<00:00,  3.90it/s, total_loss=78.7]\n",
      "Epoch 94/400:   0%|                                                               | 0/28 [00:00<?, ?it/s<class 'dict'>]"
     ]
    },
    {
     "name": "stdout",
     "output_type": "stream",
     "text": [
      "Finish Validation\n",
      "Epoch:93/400\n",
      "Train Loss: 46.8550 || Val Loss: 69.9500 \n"
     ]
    },
    {
     "name": "stderr",
     "output_type": "stream",
     "text": [
      "Epoch 94/400: 100%|█████████████████████████| 28/28 [00:14<00:00,  1.90it/s, lr=0.000393, step/s=0.44, total_loss=46.8]\n",
      "Epoch 94/400:   0%|                                                                | 0/8 [00:00<?, ?it/s<class 'dict'>]"
     ]
    },
    {
     "name": "stdout",
     "output_type": "stream",
     "text": [
      "Start Validation\n"
     ]
    },
    {
     "name": "stderr",
     "output_type": "stream",
     "text": [
      "Epoch 94/400: 100%|█████████████████████████████████████████████████████| 8/8 [00:01<00:00,  4.07it/s, total_loss=72.7]\n",
      "Epoch 95/400:   0%|                                                               | 0/28 [00:00<?, ?it/s<class 'dict'>]"
     ]
    },
    {
     "name": "stdout",
     "output_type": "stream",
     "text": [
      "Finish Validation\n",
      "Epoch:94/400\n",
      "Train Loss: 45.1703 || Val Loss: 64.6274 \n"
     ]
    },
    {
     "name": "stderr",
     "output_type": "stream",
     "text": [
      "Epoch 95/400: 100%|████████████████████████| 28/28 [00:14<00:00,  1.93it/s, lr=0.000389, step/s=0.433, total_loss=42.9]\n",
      "Epoch 95/400:   0%|                                                                | 0/8 [00:00<?, ?it/s<class 'dict'>]"
     ]
    },
    {
     "name": "stdout",
     "output_type": "stream",
     "text": [
      "Start Validation\n"
     ]
    },
    {
     "name": "stderr",
     "output_type": "stream",
     "text": [
      "Epoch 95/400: 100%|█████████████████████████████████████████████████████| 8/8 [00:01<00:00,  4.01it/s, total_loss=82.8]\n",
      "Epoch 96/400:   0%|                                                               | 0/28 [00:00<?, ?it/s<class 'dict'>]"
     ]
    },
    {
     "name": "stdout",
     "output_type": "stream",
     "text": [
      "Finish Validation\n",
      "Epoch:95/400\n",
      "Train Loss: 41.4387 || Val Loss: 73.6044 \n"
     ]
    },
    {
     "name": "stderr",
     "output_type": "stream",
     "text": [
      "Epoch 96/400: 100%|█████████████████████████| 28/28 [00:14<00:00,  1.92it/s, lr=0.000385, step/s=0.42, total_loss=45.2]\n",
      "Epoch 96/400:   0%|                                                                | 0/8 [00:00<?, ?it/s<class 'dict'>]"
     ]
    },
    {
     "name": "stdout",
     "output_type": "stream",
     "text": [
      "Start Validation\n"
     ]
    },
    {
     "name": "stderr",
     "output_type": "stream",
     "text": [
      "Epoch 96/400: 100%|███████████████████████████████████████████████████████| 8/8 [00:01<00:00,  4.01it/s, total_loss=86]\n",
      "Epoch 97/400:   0%|                                                               | 0/28 [00:00<?, ?it/s<class 'dict'>]"
     ]
    },
    {
     "name": "stdout",
     "output_type": "stream",
     "text": [
      "Finish Validation\n",
      "Epoch:96/400\n",
      "Train Loss: 43.6244 || Val Loss: 76.4443 \n"
     ]
    },
    {
     "name": "stderr",
     "output_type": "stream",
     "text": [
      "Epoch 97/400: 100%|████████████████████████| 28/28 [00:14<00:00,  1.91it/s, lr=0.000381, step/s=0.371, total_loss=45.9]\n",
      "Epoch 97/400:   0%|                                                                | 0/8 [00:00<?, ?it/s<class 'dict'>]"
     ]
    },
    {
     "name": "stdout",
     "output_type": "stream",
     "text": [
      "Start Validation\n"
     ]
    },
    {
     "name": "stderr",
     "output_type": "stream",
     "text": [
      "Epoch 97/400: 100%|█████████████████████████████████████████████████████| 8/8 [00:01<00:00,  4.01it/s, total_loss=73.7]\n",
      "Epoch 98/400:   0%|                                                               | 0/28 [00:00<?, ?it/s<class 'dict'>]"
     ]
    },
    {
     "name": "stdout",
     "output_type": "stream",
     "text": [
      "Finish Validation\n",
      "Epoch:97/400\n",
      "Train Loss: 44.2935 || Val Loss: 65.5243 \n"
     ]
    },
    {
     "name": "stderr",
     "output_type": "stream",
     "text": [
      "Epoch 98/400: 100%|█████████████████████████| 28/28 [00:14<00:00,  1.91it/s, lr=0.000377, step/s=0.42, total_loss=44.3]\n",
      "Epoch 98/400:   0%|                                                                | 0/8 [00:00<?, ?it/s<class 'dict'>]"
     ]
    },
    {
     "name": "stdout",
     "output_type": "stream",
     "text": [
      "Start Validation\n"
     ]
    },
    {
     "name": "stderr",
     "output_type": "stream",
     "text": [
      "Epoch 98/400: 100%|█████████████████████████████████████████████████████| 8/8 [00:01<00:00,  4.09it/s, total_loss=95.9]\n",
      "Epoch 99/400:   0%|                                                               | 0/28 [00:00<?, ?it/s<class 'dict'>]"
     ]
    },
    {
     "name": "stdout",
     "output_type": "stream",
     "text": [
      "Finish Validation\n",
      "Epoch:98/400\n",
      "Train Loss: 42.7904 || Val Loss: 85.2107 \n"
     ]
    },
    {
     "name": "stderr",
     "output_type": "stream",
     "text": [
      "Epoch 99/400: 100%|████████████████████████| 28/28 [00:14<00:00,  1.92it/s, lr=0.000373, step/s=0.402, total_loss=44.7]\n",
      "Epoch 99/400:   0%|                                                                | 0/8 [00:00<?, ?it/s<class 'dict'>]"
     ]
    },
    {
     "name": "stdout",
     "output_type": "stream",
     "text": [
      "Start Validation\n"
     ]
    },
    {
     "name": "stderr",
     "output_type": "stream",
     "text": [
      "Epoch 99/400: 100%|███████████████████████████████████████████████████████| 8/8 [00:01<00:00,  4.01it/s, total_loss=78]\n",
      "Epoch 100/400:   0%|                                                              | 0/28 [00:00<?, ?it/s<class 'dict'>]"
     ]
    },
    {
     "name": "stdout",
     "output_type": "stream",
     "text": [
      "Finish Validation\n",
      "Epoch:99/400\n",
      "Train Loss: 43.1297 || Val Loss: 69.3436 \n"
     ]
    },
    {
     "name": "stderr",
     "output_type": "stream",
     "text": [
      "Epoch 100/400: 100%|████████████████████████| 28/28 [00:14<00:00,  1.91it/s, lr=0.00037, step/s=0.415, total_loss=44.1]\n",
      "Epoch 100/400:   0%|                                                               | 0/8 [00:00<?, ?it/s<class 'dict'>]"
     ]
    },
    {
     "name": "stdout",
     "output_type": "stream",
     "text": [
      "Start Validation\n"
     ]
    },
    {
     "name": "stderr",
     "output_type": "stream",
     "text": [
      "Epoch 100/400: 100%|████████████████████████████████████████████████████| 8/8 [00:01<00:00,  4.09it/s, total_loss=79.4]\n"
     ]
    },
    {
     "name": "stdout",
     "output_type": "stream",
     "text": [
      "Finish Validation\n",
      "Epoch:100/400\n",
      "Train Loss: 42.5362 || Val Loss: 70.5683 \n"
     ]
    },
    {
     "name": "stderr",
     "output_type": "stream",
     "text": [
      "Epoch 101/400: 100%|███████████████████████| 28/28 [00:15<00:00,  1.85it/s, lr=0.000366, step/s=0.449, total_loss=41.8]\n",
      "Epoch 101/400:   0%|                                                               | 0/8 [00:00<?, ?it/s<class 'dict'>]"
     ]
    },
    {
     "name": "stdout",
     "output_type": "stream",
     "text": [
      "Start Validation\n"
     ]
    },
    {
     "name": "stderr",
     "output_type": "stream",
     "text": [
      "Epoch 101/400: 100%|████████████████████████████████████████████████████| 8/8 [00:02<00:00,  3.73it/s, total_loss=87.7]\n",
      "Epoch 102/400:   0%|                                                              | 0/28 [00:00<?, ?it/s<class 'dict'>]"
     ]
    },
    {
     "name": "stdout",
     "output_type": "stream",
     "text": [
      "Finish Validation\n",
      "Epoch:101/400\n",
      "Train Loss: 40.3143 || Val Loss: 77.9772 \n"
     ]
    },
    {
     "name": "stderr",
     "output_type": "stream",
     "text": [
      "Epoch 102/400: 100%|███████████████████████| 28/28 [00:14<00:00,  1.92it/s, lr=0.000362, step/s=0.425, total_loss=42.8]\n",
      "Epoch 102/400:   0%|                                                               | 0/8 [00:00<?, ?it/s<class 'dict'>]"
     ]
    },
    {
     "name": "stdout",
     "output_type": "stream",
     "text": [
      "Start Validation\n"
     ]
    },
    {
     "name": "stderr",
     "output_type": "stream",
     "text": [
      "Epoch 102/400: 100%|████████████████████████████████████████████████████| 8/8 [00:02<00:00,  3.97it/s, total_loss=82.4]\n",
      "Epoch 103/400:   0%|                                                              | 0/28 [00:00<?, ?it/s<class 'dict'>]"
     ]
    },
    {
     "name": "stdout",
     "output_type": "stream",
     "text": [
      "Finish Validation\n",
      "Epoch:102/400\n",
      "Train Loss: 41.3621 || Val Loss: 73.2868 \n"
     ]
    },
    {
     "name": "stderr",
     "output_type": "stream",
     "text": [
      "Epoch 103/400: 100%|███████████████████████| 28/28 [00:14<00:00,  1.90it/s, lr=0.000359, step/s=0.415, total_loss=47.5]\n",
      "Epoch 103/400:   0%|                                                               | 0/8 [00:00<?, ?it/s<class 'dict'>]"
     ]
    },
    {
     "name": "stdout",
     "output_type": "stream",
     "text": [
      "Start Validation\n"
     ]
    },
    {
     "name": "stderr",
     "output_type": "stream",
     "text": [
      "Epoch 103/400: 100%|████████████████████████████████████████████████████| 8/8 [00:02<00:00,  3.97it/s, total_loss=83.4]\n",
      "Epoch 104/400:   0%|                                                              | 0/28 [00:00<?, ?it/s<class 'dict'>]"
     ]
    },
    {
     "name": "stdout",
     "output_type": "stream",
     "text": [
      "Finish Validation\n",
      "Epoch:103/400\n",
      "Train Loss: 45.8286 || Val Loss: 74.1509 \n"
     ]
    },
    {
     "name": "stderr",
     "output_type": "stream",
     "text": [
      "Epoch 104/400: 100%|███████████████████████| 28/28 [00:14<00:00,  1.93it/s, lr=0.000355, step/s=0.446, total_loss=46.9]\n",
      "Epoch 104/400:   0%|                                                               | 0/8 [00:00<?, ?it/s<class 'dict'>]"
     ]
    },
    {
     "name": "stdout",
     "output_type": "stream",
     "text": [
      "Start Validation\n"
     ]
    },
    {
     "name": "stderr",
     "output_type": "stream",
     "text": [
      "Epoch 104/400: 100%|████████████████████████████████████████████████████| 8/8 [00:01<00:00,  4.08it/s, total_loss=81.8]\n",
      "Epoch 105/400:   0%|                                                              | 0/28 [00:00<?, ?it/s<class 'dict'>]"
     ]
    },
    {
     "name": "stdout",
     "output_type": "stream",
     "text": [
      "Finish Validation\n",
      "Epoch:104/400\n",
      "Train Loss: 45.2955 || Val Loss: 72.7345 \n"
     ]
    },
    {
     "name": "stderr",
     "output_type": "stream",
     "text": [
      "Epoch 105/400: 100%|███████████████████████| 28/28 [00:14<00:00,  1.92it/s, lr=0.000352, step/s=0.415, total_loss=47.6]\n",
      "Epoch 105/400:   0%|                                                               | 0/8 [00:00<?, ?it/s<class 'dict'>]"
     ]
    },
    {
     "name": "stdout",
     "output_type": "stream",
     "text": [
      "Start Validation\n"
     ]
    },
    {
     "name": "stderr",
     "output_type": "stream",
     "text": [
      "Epoch 105/400: 100%|████████████████████████████████████████████████████| 8/8 [00:02<00:00,  3.90it/s, total_loss=85.4]\n",
      "Epoch 106/400:   0%|                                                              | 0/28 [00:00<?, ?it/s<class 'dict'>]"
     ]
    },
    {
     "name": "stdout",
     "output_type": "stream",
     "text": [
      "Finish Validation\n",
      "Epoch:105/400\n",
      "Train Loss: 45.9104 || Val Loss: 75.8763 \n"
     ]
    },
    {
     "name": "stderr",
     "output_type": "stream",
     "text": [
      "Epoch 106/400: 100%|███████████████████████| 28/28 [00:14<00:00,  1.94it/s, lr=0.000348, step/s=0.399, total_loss=41.7]\n",
      "Epoch 106/400:   0%|                                                               | 0/8 [00:00<?, ?it/s<class 'dict'>]"
     ]
    },
    {
     "name": "stdout",
     "output_type": "stream",
     "text": [
      "Start Validation\n"
     ]
    },
    {
     "name": "stderr",
     "output_type": "stream",
     "text": [
      "Epoch 106/400: 100%|██████████████████████████████████████████████████████| 8/8 [00:01<00:00,  4.06it/s, total_loss=71]\n",
      "Epoch 107/400:   0%|                                                              | 0/28 [00:00<?, ?it/s<class 'dict'>]"
     ]
    },
    {
     "name": "stdout",
     "output_type": "stream",
     "text": [
      "Finish Validation\n",
      "Epoch:106/400\n",
      "Train Loss: 40.2291 || Val Loss: 63.1009 \n"
     ]
    },
    {
     "name": "stderr",
     "output_type": "stream",
     "text": [
      "Epoch 107/400: 100%|███████████████████████| 28/28 [00:14<00:00,  1.94it/s, lr=0.000345, step/s=0.409, total_loss=39.9]\n",
      "Epoch 107/400:   0%|                                                               | 0/8 [00:00<?, ?it/s<class 'dict'>]"
     ]
    },
    {
     "name": "stdout",
     "output_type": "stream",
     "text": [
      "Start Validation\n"
     ]
    },
    {
     "name": "stderr",
     "output_type": "stream",
     "text": [
      "Epoch 107/400: 100%|████████████████████████████████████████████████████| 8/8 [00:01<00:00,  4.07it/s, total_loss=79.7]\n",
      "Epoch 108/400:   0%|                                                              | 0/28 [00:00<?, ?it/s<class 'dict'>]"
     ]
    },
    {
     "name": "stdout",
     "output_type": "stream",
     "text": [
      "Finish Validation\n",
      "Epoch:107/400\n",
      "Train Loss: 38.5191 || Val Loss: 70.8866 \n"
     ]
    },
    {
     "name": "stderr",
     "output_type": "stream",
     "text": [
      "Epoch 108/400: 100%|███████████████████████| 28/28 [00:14<00:00,  1.91it/s, lr=0.000341, step/s=0.435, total_loss=43.4]\n",
      "Epoch 108/400:   0%|                                                               | 0/8 [00:00<?, ?it/s<class 'dict'>]"
     ]
    },
    {
     "name": "stdout",
     "output_type": "stream",
     "text": [
      "Start Validation\n"
     ]
    },
    {
     "name": "stderr",
     "output_type": "stream",
     "text": [
      "Epoch 108/400: 100%|████████████████████████████████████████████████████| 8/8 [00:01<00:00,  4.01it/s, total_loss=84.7]\n",
      "Epoch 109/400:   0%|                                                              | 0/28 [00:00<?, ?it/s<class 'dict'>]"
     ]
    },
    {
     "name": "stdout",
     "output_type": "stream",
     "text": [
      "Finish Validation\n",
      "Epoch:108/400\n",
      "Train Loss: 41.9140 || Val Loss: 75.2922 \n"
     ]
    },
    {
     "name": "stderr",
     "output_type": "stream",
     "text": [
      "Epoch 109/400: 100%|█████████████████████████| 28/28 [00:14<00:00,  1.91it/s, lr=0.000338, step/s=0.425, total_loss=45]\n",
      "Epoch 109/400:   0%|                                                               | 0/8 [00:00<?, ?it/s<class 'dict'>]"
     ]
    },
    {
     "name": "stdout",
     "output_type": "stream",
     "text": [
      "Start Validation\n"
     ]
    },
    {
     "name": "stderr",
     "output_type": "stream",
     "text": [
      "Epoch 109/400: 100%|██████████████████████████████████████████████████████| 8/8 [00:01<00:00,  4.10it/s, total_loss=76]\n",
      "Epoch 110/400:   0%|                                                              | 0/28 [00:00<?, ?it/s<class 'dict'>]"
     ]
    },
    {
     "name": "stdout",
     "output_type": "stream",
     "text": [
      "Finish Validation\n",
      "Epoch:109/400\n",
      "Train Loss: 43.4079 || Val Loss: 67.5329 \n"
     ]
    },
    {
     "name": "stderr",
     "output_type": "stream",
     "text": [
      "Epoch 110/400: 100%|███████████████████████| 28/28 [00:14<00:00,  1.92it/s, lr=0.000334, step/s=0.423, total_loss=46.1]\n",
      "Epoch 110/400:   0%|                                                               | 0/8 [00:00<?, ?it/s<class 'dict'>]"
     ]
    },
    {
     "name": "stdout",
     "output_type": "stream",
     "text": [
      "Start Validation\n"
     ]
    },
    {
     "name": "stderr",
     "output_type": "stream",
     "text": [
      "Epoch 110/400: 100%|████████████████████████████████████████████████████| 8/8 [00:01<00:00,  4.04it/s, total_loss=66.6]\n",
      "Epoch 111/400:   0%|                                                              | 0/28 [00:00<?, ?it/s<class 'dict'>]"
     ]
    },
    {
     "name": "stdout",
     "output_type": "stream",
     "text": [
      "Finish Validation\n",
      "Epoch:110/400\n",
      "Train Loss: 44.5542 || Val Loss: 59.2347 \n"
     ]
    },
    {
     "name": "stderr",
     "output_type": "stream",
     "text": [
      "Epoch 111/400: 100%|███████████████████████| 28/28 [00:14<00:00,  1.90it/s, lr=0.000331, step/s=0.405, total_loss=44.2]\n",
      "Epoch 111/400:   0%|                                                             | 0/8 [00:00<?, ?it/s, total_loss=121]"
     ]
    },
    {
     "name": "stdout",
     "output_type": "stream",
     "text": [
      "Start Validation\n"
     ]
    },
    {
     "name": "stderr",
     "output_type": "stream",
     "text": [
      "Epoch 111/400: 100%|████████████████████████████████████████████████████| 8/8 [00:02<00:00,  3.94it/s, total_loss=79.3]\n",
      "Epoch 112/400:   0%|                                                              | 0/28 [00:00<?, ?it/s<class 'dict'>]"
     ]
    },
    {
     "name": "stdout",
     "output_type": "stream",
     "text": [
      "Finish Validation\n",
      "Epoch:111/400\n",
      "Train Loss: 42.7214 || Val Loss: 70.4650 \n"
     ]
    },
    {
     "name": "stderr",
     "output_type": "stream",
     "text": [
      "Epoch 112/400: 100%|████████████████████████| 28/28 [00:14<00:00,  1.91it/s, lr=0.000328, step/s=0.39, total_loss=46.6]\n",
      "Epoch 112/400:   0%|                                                               | 0/8 [00:00<?, ?it/s<class 'dict'>]"
     ]
    },
    {
     "name": "stdout",
     "output_type": "stream",
     "text": [
      "Start Validation\n"
     ]
    },
    {
     "name": "stderr",
     "output_type": "stream",
     "text": [
      "Epoch 112/400: 100%|██████████████████████████████████████████████████████| 8/8 [00:02<00:00,  3.96it/s, total_loss=85]\n",
      "Epoch 113/400:   0%|                                                              | 0/28 [00:00<?, ?it/s<class 'dict'>]"
     ]
    },
    {
     "name": "stdout",
     "output_type": "stream",
     "text": [
      "Finish Validation\n",
      "Epoch:112/400\n",
      "Train Loss: 45.0138 || Val Loss: 75.5892 \n"
     ]
    },
    {
     "name": "stderr",
     "output_type": "stream",
     "text": [
      "Epoch 113/400: 100%|███████████████████████| 28/28 [00:14<00:00,  1.91it/s, lr=0.000324, step/s=0.395, total_loss=43.8]\n",
      "Epoch 113/400:   0%|                                                               | 0/8 [00:00<?, ?it/s<class 'dict'>]"
     ]
    },
    {
     "name": "stdout",
     "output_type": "stream",
     "text": [
      "Start Validation\n"
     ]
    },
    {
     "name": "stderr",
     "output_type": "stream",
     "text": [
      "Epoch 113/400: 100%|████████████████████████████████████████████████████| 8/8 [00:01<00:00,  4.03it/s, total_loss=77.2]\n",
      "Epoch 114/400:   0%|                                                              | 0/28 [00:00<?, ?it/s<class 'dict'>]"
     ]
    },
    {
     "name": "stdout",
     "output_type": "stream",
     "text": [
      "Finish Validation\n",
      "Epoch:113/400\n",
      "Train Loss: 42.2958 || Val Loss: 68.6299 \n"
     ]
    },
    {
     "name": "stderr",
     "output_type": "stream",
     "text": [
      "Epoch 114/400: 100%|████████████████████████| 28/28 [00:14<00:00,  1.94it/s, lr=0.000321, step/s=0.41, total_loss=40.1]\n",
      "Epoch 114/400:   0%|                                                               | 0/8 [00:00<?, ?it/s<class 'dict'>]"
     ]
    },
    {
     "name": "stdout",
     "output_type": "stream",
     "text": [
      "Start Validation\n"
     ]
    },
    {
     "name": "stderr",
     "output_type": "stream",
     "text": [
      "Epoch 114/400: 100%|████████████████████████████████████████████████████| 8/8 [00:02<00:00,  3.99it/s, total_loss=86.3]\n",
      "Epoch 115/400:   0%|                                                              | 0/28 [00:00<?, ?it/s<class 'dict'>]"
     ]
    },
    {
     "name": "stdout",
     "output_type": "stream",
     "text": [
      "Finish Validation\n",
      "Epoch:114/400\n",
      "Train Loss: 38.6984 || Val Loss: 76.7180 \n"
     ]
    },
    {
     "name": "stderr",
     "output_type": "stream",
     "text": [
      "Epoch 115/400: 100%|███████████████████████| 28/28 [00:14<00:00,  1.92it/s, lr=0.000318, step/s=0.426, total_loss=46.8]\n",
      "Epoch 115/400:   0%|                                                               | 0/8 [00:00<?, ?it/s<class 'dict'>]"
     ]
    },
    {
     "name": "stdout",
     "output_type": "stream",
     "text": [
      "Start Validation\n"
     ]
    },
    {
     "name": "stderr",
     "output_type": "stream",
     "text": [
      "Epoch 115/400: 100%|████████████████████████████████████████████████████| 8/8 [00:01<00:00,  4.11it/s, total_loss=76.3]\n",
      "Epoch 116/400:   0%|                                                              | 0/28 [00:00<?, ?it/s<class 'dict'>]"
     ]
    },
    {
     "name": "stdout",
     "output_type": "stream",
     "text": [
      "Finish Validation\n",
      "Epoch:115/400\n",
      "Train Loss: 45.1658 || Val Loss: 67.8515 \n"
     ]
    },
    {
     "name": "stderr",
     "output_type": "stream",
     "text": [
      "Epoch 116/400: 100%|███████████████████████| 28/28 [00:14<00:00,  1.92it/s, lr=0.000315, step/s=0.403, total_loss=43.7]\n",
      "Epoch 116/400:   0%|                                                               | 0/8 [00:00<?, ?it/s<class 'dict'>]"
     ]
    },
    {
     "name": "stdout",
     "output_type": "stream",
     "text": [
      "Start Validation\n"
     ]
    },
    {
     "name": "stderr",
     "output_type": "stream",
     "text": [
      "Epoch 116/400: 100%|████████████████████████████████████████████████████| 8/8 [00:01<00:00,  4.04it/s, total_loss=91.3]\n",
      "Epoch 117/400:   0%|                                                              | 0/28 [00:00<?, ?it/s<class 'dict'>]"
     ]
    },
    {
     "name": "stdout",
     "output_type": "stream",
     "text": [
      "Finish Validation\n",
      "Epoch:116/400\n",
      "Train Loss: 42.2075 || Val Loss: 81.1958 \n"
     ]
    },
    {
     "name": "stderr",
     "output_type": "stream",
     "text": [
      "Epoch 117/400: 100%|███████████████████████| 28/28 [00:14<00:00,  1.93it/s, lr=0.000312, step/s=0.402, total_loss=39.6]\n",
      "Epoch 117/400:   0%|                                                               | 0/8 [00:00<?, ?it/s<class 'dict'>]"
     ]
    },
    {
     "name": "stdout",
     "output_type": "stream",
     "text": [
      "Start Validation\n"
     ]
    },
    {
     "name": "stderr",
     "output_type": "stream",
     "text": [
      "Epoch 117/400: 100%|████████████████████████████████████████████████████| 8/8 [00:02<00:00,  3.95it/s, total_loss=85.9]\n",
      "Epoch 118/400:   0%|                                                              | 0/28 [00:00<?, ?it/s<class 'dict'>]"
     ]
    },
    {
     "name": "stdout",
     "output_type": "stream",
     "text": [
      "Finish Validation\n",
      "Epoch:117/400\n",
      "Train Loss: 38.2375 || Val Loss: 76.3186 \n"
     ]
    },
    {
     "name": "stderr",
     "output_type": "stream",
     "text": [
      "Epoch 118/400: 100%|███████████████████████| 28/28 [00:14<00:00,  1.92it/s, lr=0.000309, step/s=0.432, total_loss=45.9]\n",
      "Epoch 118/400:   0%|                                                               | 0/8 [00:00<?, ?it/s<class 'dict'>]"
     ]
    },
    {
     "name": "stdout",
     "output_type": "stream",
     "text": [
      "Start Validation\n"
     ]
    },
    {
     "name": "stderr",
     "output_type": "stream",
     "text": [
      "Epoch 118/400: 100%|████████████████████████████████████████████████████| 8/8 [00:01<00:00,  4.03it/s, total_loss=83.8]\n",
      "Epoch 119/400:   0%|                                                              | 0/28 [00:00<?, ?it/s<class 'dict'>]"
     ]
    },
    {
     "name": "stdout",
     "output_type": "stream",
     "text": [
      "Finish Validation\n",
      "Epoch:118/400\n",
      "Train Loss: 44.3074 || Val Loss: 74.4511 \n"
     ]
    },
    {
     "name": "stderr",
     "output_type": "stream",
     "text": [
      "Epoch 119/400: 100%|███████████████████████| 28/28 [00:14<00:00,  1.93it/s, lr=0.000305, step/s=0.383, total_loss=41.3]\n",
      "Epoch 119/400:   0%|                                                               | 0/8 [00:00<?, ?it/s<class 'dict'>]"
     ]
    },
    {
     "name": "stdout",
     "output_type": "stream",
     "text": [
      "Start Validation\n"
     ]
    },
    {
     "name": "stderr",
     "output_type": "stream",
     "text": [
      "Epoch 119/400: 100%|████████████████████████████████████████████████████| 8/8 [00:01<00:00,  4.02it/s, total_loss=91.9]\n",
      "Epoch 120/400:   0%|                                                              | 0/28 [00:00<?, ?it/s<class 'dict'>]"
     ]
    },
    {
     "name": "stdout",
     "output_type": "stream",
     "text": [
      "Finish Validation\n",
      "Epoch:119/400\n",
      "Train Loss: 39.8689 || Val Loss: 81.6737 \n"
     ]
    },
    {
     "name": "stderr",
     "output_type": "stream",
     "text": [
      "Epoch 120/400: 100%|███████████████████████| 28/28 [00:14<00:00,  1.95it/s, lr=0.000302, step/s=0.383, total_loss=42.1]\n",
      "Epoch 120/400:   0%|                                                               | 0/8 [00:00<?, ?it/s<class 'dict'>]"
     ]
    },
    {
     "name": "stdout",
     "output_type": "stream",
     "text": [
      "Start Validation\n"
     ]
    },
    {
     "name": "stderr",
     "output_type": "stream",
     "text": [
      "Epoch 120/400: 100%|██████████████████████████████████████████████████████| 8/8 [00:01<00:00,  4.05it/s, total_loss=93]\n",
      "Epoch 121/400:   0%|                                                              | 0/28 [00:00<?, ?it/s<class 'dict'>]"
     ]
    },
    {
     "name": "stdout",
     "output_type": "stream",
     "text": [
      "Finish Validation\n",
      "Epoch:120/400\n",
      "Train Loss: 40.6676 || Val Loss: 82.7077 \n"
     ]
    },
    {
     "name": "stderr",
     "output_type": "stream",
     "text": [
      "Epoch 121/400: 100%|███████████████████████| 28/28 [00:14<00:00,  1.93it/s, lr=0.000299, step/s=0.431, total_loss=41.3]\n",
      "Epoch 121/400:   0%|                                                               | 0/8 [00:00<?, ?it/s<class 'dict'>]"
     ]
    },
    {
     "name": "stdout",
     "output_type": "stream",
     "text": [
      "Start Validation\n"
     ]
    },
    {
     "name": "stderr",
     "output_type": "stream",
     "text": [
      "Epoch 121/400: 100%|████████████████████████████████████████████████████| 8/8 [00:01<00:00,  4.00it/s, total_loss=71.8]\n",
      "Epoch 122/400:   0%|                                                              | 0/28 [00:00<?, ?it/s<class 'dict'>]"
     ]
    },
    {
     "name": "stdout",
     "output_type": "stream",
     "text": [
      "Finish Validation\n",
      "Epoch:121/400\n",
      "Train Loss: 39.8914 || Val Loss: 63.8603 \n"
     ]
    },
    {
     "name": "stderr",
     "output_type": "stream",
     "text": [
      "Epoch 122/400: 100%|████████████████████████| 28/28 [00:14<00:00,  1.93it/s, lr=0.000296, step/s=0.43, total_loss=39.9]\n",
      "Epoch 122/400:   0%|                                                               | 0/8 [00:00<?, ?it/s<class 'dict'>]"
     ]
    },
    {
     "name": "stdout",
     "output_type": "stream",
     "text": [
      "Start Validation\n"
     ]
    },
    {
     "name": "stderr",
     "output_type": "stream",
     "text": [
      "Epoch 122/400: 100%|████████████████████████████████████████████████████| 8/8 [00:02<00:00,  3.98it/s, total_loss=72.9]\n",
      "Epoch 123/400:   0%|                                                              | 0/28 [00:00<?, ?it/s<class 'dict'>]"
     ]
    },
    {
     "name": "stdout",
     "output_type": "stream",
     "text": [
      "Finish Validation\n",
      "Epoch:122/400\n",
      "Train Loss: 38.5502 || Val Loss: 64.7863 \n"
     ]
    },
    {
     "name": "stderr",
     "output_type": "stream",
     "text": [
      "Epoch 123/400: 100%|████████████████████████| 28/28 [00:14<00:00,  1.92it/s, lr=0.000293, step/s=0.38, total_loss=42.8]\n",
      "Epoch 123/400:   0%|                                                               | 0/8 [00:00<?, ?it/s<class 'dict'>]"
     ]
    },
    {
     "name": "stdout",
     "output_type": "stream",
     "text": [
      "Start Validation\n"
     ]
    },
    {
     "name": "stderr",
     "output_type": "stream",
     "text": [
      "Epoch 123/400: 100%|████████████████████████████████████████████████████| 8/8 [00:01<00:00,  4.16it/s, total_loss=82.6]\n",
      "Epoch 124/400:   0%|                                                              | 0/28 [00:00<?, ?it/s<class 'dict'>]"
     ]
    },
    {
     "name": "stdout",
     "output_type": "stream",
     "text": [
      "Finish Validation\n",
      "Epoch:123/400\n",
      "Train Loss: 41.2833 || Val Loss: 73.3945 \n"
     ]
    },
    {
     "name": "stderr",
     "output_type": "stream",
     "text": [
      "Epoch 124/400: 100%|████████████████████████| 28/28 [00:14<00:00,  1.94it/s, lr=0.00029, step/s=0.408, total_loss=41.8]\n",
      "Epoch 124/400:   0%|                                                               | 0/8 [00:00<?, ?it/s<class 'dict'>]"
     ]
    },
    {
     "name": "stdout",
     "output_type": "stream",
     "text": [
      "Start Validation\n"
     ]
    },
    {
     "name": "stderr",
     "output_type": "stream",
     "text": [
      "Epoch 124/400: 100%|████████████████████████████████████████████████████| 8/8 [00:01<00:00,  4.10it/s, total_loss=82.3]\n",
      "Epoch 125/400:   0%|                                                              | 0/28 [00:00<?, ?it/s<class 'dict'>]"
     ]
    },
    {
     "name": "stdout",
     "output_type": "stream",
     "text": [
      "Finish Validation\n",
      "Epoch:124/400\n",
      "Train Loss: 40.4011 || Val Loss: 73.1563 \n"
     ]
    },
    {
     "name": "stderr",
     "output_type": "stream",
     "text": [
      "Epoch 125/400: 100%|████████████████████████| 28/28 [00:14<00:00,  1.92it/s, lr=0.000288, step/s=0.43, total_loss=40.7]\n",
      "Epoch 125/400:   0%|                                                               | 0/8 [00:00<?, ?it/s<class 'dict'>]"
     ]
    },
    {
     "name": "stdout",
     "output_type": "stream",
     "text": [
      "Start Validation\n"
     ]
    },
    {
     "name": "stderr",
     "output_type": "stream",
     "text": [
      "Epoch 125/400: 100%|████████████████████████████████████████████████████| 8/8 [00:01<00:00,  4.02it/s, total_loss=80.8]\n",
      "Epoch 126/400:   0%|                                                              | 0/28 [00:00<?, ?it/s<class 'dict'>]"
     ]
    },
    {
     "name": "stdout",
     "output_type": "stream",
     "text": [
      "Finish Validation\n",
      "Epoch:125/400\n",
      "Train Loss: 39.2929 || Val Loss: 71.8234 \n"
     ]
    },
    {
     "name": "stderr",
     "output_type": "stream",
     "text": [
      "Epoch 126/400: 100%|███████████████████████| 28/28 [00:14<00:00,  1.94it/s, lr=0.000285, step/s=0.418, total_loss=41.4]\n",
      "Epoch 126/400:   0%|                                                               | 0/8 [00:00<?, ?it/s<class 'dict'>]"
     ]
    },
    {
     "name": "stdout",
     "output_type": "stream",
     "text": [
      "Start Validation\n"
     ]
    },
    {
     "name": "stderr",
     "output_type": "stream",
     "text": [
      "Epoch 126/400: 100%|████████████████████████████████████████████████████| 8/8 [00:01<00:00,  4.07it/s, total_loss=79.3]\n",
      "Epoch 127/400:   0%|                                                              | 0/28 [00:00<?, ?it/s<class 'dict'>]"
     ]
    },
    {
     "name": "stdout",
     "output_type": "stream",
     "text": [
      "Finish Validation\n",
      "Epoch:126/400\n",
      "Train Loss: 39.9888 || Val Loss: 70.5319 \n"
     ]
    },
    {
     "name": "stderr",
     "output_type": "stream",
     "text": [
      "Epoch 127/400: 100%|███████████████████████| 28/28 [00:14<00:00,  1.93it/s, lr=0.000282, step/s=0.416, total_loss=41.3]\n",
      "Epoch 127/400:   0%|                                                               | 0/8 [00:00<?, ?it/s<class 'dict'>]"
     ]
    },
    {
     "name": "stdout",
     "output_type": "stream",
     "text": [
      "Start Validation\n"
     ]
    },
    {
     "name": "stderr",
     "output_type": "stream",
     "text": [
      "Epoch 127/400: 100%|████████████████████████████████████████████████████| 8/8 [00:02<00:00,  3.97it/s, total_loss=87.9]\n",
      "Epoch 128/400:   0%|                                                              | 0/28 [00:00<?, ?it/s<class 'dict'>]"
     ]
    },
    {
     "name": "stdout",
     "output_type": "stream",
     "text": [
      "Finish Validation\n",
      "Epoch:127/400\n",
      "Train Loss: 39.8429 || Val Loss: 78.1151 \n"
     ]
    },
    {
     "name": "stderr",
     "output_type": "stream",
     "text": [
      "Epoch 128/400: 100%|█████████████████████████| 28/28 [00:14<00:00,  1.94it/s, lr=0.000279, step/s=0.394, total_loss=42]\n",
      "Epoch 128/400:   0%|                                                               | 0/8 [00:00<?, ?it/s<class 'dict'>]"
     ]
    },
    {
     "name": "stdout",
     "output_type": "stream",
     "text": [
      "Start Validation\n"
     ]
    },
    {
     "name": "stderr",
     "output_type": "stream",
     "text": [
      "Epoch 128/400: 100%|████████████████████████████████████████████████████| 8/8 [00:02<00:00,  3.98it/s, total_loss=71.6]\n",
      "Epoch 129/400:   0%|                                                              | 0/28 [00:00<?, ?it/s<class 'dict'>]"
     ]
    },
    {
     "name": "stdout",
     "output_type": "stream",
     "text": [
      "Finish Validation\n",
      "Epoch:128/400\n",
      "Train Loss: 40.5076 || Val Loss: 63.6398 \n"
     ]
    },
    {
     "name": "stderr",
     "output_type": "stream",
     "text": [
      "Epoch 129/400: 100%|███████████████████████| 28/28 [00:14<00:00,  1.95it/s, lr=0.000276, step/s=0.375, total_loss=39.1]\n",
      "Epoch 129/400:   0%|                                                               | 0/8 [00:00<?, ?it/s<class 'dict'>]"
     ]
    },
    {
     "name": "stdout",
     "output_type": "stream",
     "text": [
      "Start Validation\n"
     ]
    },
    {
     "name": "stderr",
     "output_type": "stream",
     "text": [
      "Epoch 129/400: 100%|████████████████████████████████████████████████████| 8/8 [00:02<00:00,  3.93it/s, total_loss=65.5]\n",
      "Epoch 130/400:   0%|                                                              | 0/28 [00:00<?, ?it/s<class 'dict'>]"
     ]
    },
    {
     "name": "stdout",
     "output_type": "stream",
     "text": [
      "Finish Validation\n",
      "Epoch:129/400\n",
      "Train Loss: 37.7674 || Val Loss: 58.2020 \n"
     ]
    },
    {
     "name": "stderr",
     "output_type": "stream",
     "text": [
      "Epoch 130/400: 100%|███████████████████████| 28/28 [00:14<00:00,  1.94it/s, lr=0.000273, step/s=0.393, total_loss=44.6]\n",
      "Epoch 130/400:   0%|                                                               | 0/8 [00:00<?, ?it/s<class 'dict'>]"
     ]
    },
    {
     "name": "stdout",
     "output_type": "stream",
     "text": [
      "Start Validation\n"
     ]
    },
    {
     "name": "stderr",
     "output_type": "stream",
     "text": [
      "Epoch 130/400: 100%|████████████████████████████████████████████████████| 8/8 [00:01<00:00,  4.10it/s, total_loss=88.2]\n",
      "Epoch 131/400:   0%|                                                              | 0/28 [00:00<?, ?it/s<class 'dict'>]"
     ]
    },
    {
     "name": "stdout",
     "output_type": "stream",
     "text": [
      "Finish Validation\n",
      "Epoch:130/400\n",
      "Train Loss: 43.0175 || Val Loss: 78.4298 \n"
     ]
    },
    {
     "name": "stderr",
     "output_type": "stream",
     "text": [
      "Epoch 131/400: 100%|███████████████████████| 28/28 [00:14<00:00,  1.94it/s, lr=0.000271, step/s=0.432, total_loss=40.4]\n",
      "Epoch 131/400:   0%|                                                               | 0/8 [00:00<?, ?it/s<class 'dict'>]"
     ]
    },
    {
     "name": "stdout",
     "output_type": "stream",
     "text": [
      "Start Validation\n"
     ]
    },
    {
     "name": "stderr",
     "output_type": "stream",
     "text": [
      "Epoch 131/400: 100%|████████████████████████████████████████████████████| 8/8 [00:01<00:00,  4.08it/s, total_loss=78.4]\n",
      "Epoch 132/400:   0%|                                                              | 0/28 [00:00<?, ?it/s<class 'dict'>]"
     ]
    },
    {
     "name": "stdout",
     "output_type": "stream",
     "text": [
      "Finish Validation\n",
      "Epoch:131/400\n",
      "Train Loss: 39.0457 || Val Loss: 69.7288 \n"
     ]
    },
    {
     "name": "stderr",
     "output_type": "stream",
     "text": [
      "Epoch 132/400: 100%|█████████████████████████| 28/28 [00:14<00:00,  1.95it/s, lr=0.000268, step/s=0.384, total_loss=42]\n",
      "Epoch 132/400:   0%|                                                               | 0/8 [00:00<?, ?it/s<class 'dict'>]"
     ]
    },
    {
     "name": "stdout",
     "output_type": "stream",
     "text": [
      "Start Validation\n"
     ]
    },
    {
     "name": "stderr",
     "output_type": "stream",
     "text": [
      "Epoch 132/400: 100%|████████████████████████████████████████████████████| 8/8 [00:01<00:00,  4.02it/s, total_loss=81.8]\n",
      "Epoch 133/400:   0%|                                                              | 0/28 [00:00<?, ?it/s<class 'dict'>]"
     ]
    },
    {
     "name": "stdout",
     "output_type": "stream",
     "text": [
      "Finish Validation\n",
      "Epoch:132/400\n",
      "Train Loss: 40.5883 || Val Loss: 72.6869 \n"
     ]
    },
    {
     "name": "stderr",
     "output_type": "stream",
     "text": [
      "Epoch 133/400: 100%|███████████████████████| 28/28 [00:14<00:00,  1.93it/s, lr=0.000265, step/s=0.416, total_loss=41.7]\n",
      "Epoch 133/400:   0%|                                                               | 0/8 [00:00<?, ?it/s<class 'dict'>]"
     ]
    },
    {
     "name": "stdout",
     "output_type": "stream",
     "text": [
      "Start Validation\n"
     ]
    },
    {
     "name": "stderr",
     "output_type": "stream",
     "text": [
      "Epoch 133/400: 100%|████████████████████████████████████████████████████| 8/8 [00:01<00:00,  4.14it/s, total_loss=72.8]\n",
      "Epoch 134/400:   0%|                                                              | 0/28 [00:00<?, ?it/s<class 'dict'>]"
     ]
    },
    {
     "name": "stdout",
     "output_type": "stream",
     "text": [
      "Finish Validation\n",
      "Epoch:133/400\n",
      "Train Loss: 40.2928 || Val Loss: 64.6860 \n"
     ]
    },
    {
     "name": "stderr",
     "output_type": "stream",
     "text": [
      "Epoch 134/400: 100%|█████████████████████████| 28/28 [00:14<00:00,  1.93it/s, lr=0.000263, step/s=0.451, total_loss=40]\n",
      "Epoch 134/400:   0%|                                                               | 0/8 [00:00<?, ?it/s<class 'dict'>]"
     ]
    },
    {
     "name": "stdout",
     "output_type": "stream",
     "text": [
      "Start Validation\n"
     ]
    },
    {
     "name": "stderr",
     "output_type": "stream",
     "text": [
      "Epoch 134/400: 100%|████████████████████████████████████████████████████| 8/8 [00:01<00:00,  4.11it/s, total_loss=77.2]\n",
      "Epoch 135/400:   0%|                                                              | 0/28 [00:00<?, ?it/s<class 'dict'>]"
     ]
    },
    {
     "name": "stdout",
     "output_type": "stream",
     "text": [
      "Finish Validation\n",
      "Epoch:134/400\n",
      "Train Loss: 38.6625 || Val Loss: 68.6632 \n"
     ]
    },
    {
     "name": "stderr",
     "output_type": "stream",
     "text": [
      "Epoch 135/400: 100%|████████████████████████| 28/28 [00:14<00:00,  1.93it/s, lr=0.00026, step/s=0.391, total_loss=43.3]\n",
      "Epoch 135/400:   0%|                                                               | 0/8 [00:00<?, ?it/s<class 'dict'>]"
     ]
    },
    {
     "name": "stdout",
     "output_type": "stream",
     "text": [
      "Start Validation\n"
     ]
    },
    {
     "name": "stderr",
     "output_type": "stream",
     "text": [
      "Epoch 135/400: 100%|████████████████████████████████████████████████████| 8/8 [00:01<00:00,  4.03it/s, total_loss=71.3]\n",
      "Epoch 136/400:   0%|                                                              | 0/28 [00:00<?, ?it/s<class 'dict'>]"
     ]
    },
    {
     "name": "stdout",
     "output_type": "stream",
     "text": [
      "Finish Validation\n",
      "Epoch:135/400\n",
      "Train Loss: 41.7861 || Val Loss: 63.3346 \n"
     ]
    },
    {
     "name": "stderr",
     "output_type": "stream",
     "text": [
      "Epoch 136/400: 100%|███████████████████████| 28/28 [00:14<00:00,  1.92it/s, lr=0.000257, step/s=0.426, total_loss=43.8]\n",
      "Epoch 136/400:   0%|                                                               | 0/8 [00:00<?, ?it/s<class 'dict'>]"
     ]
    },
    {
     "name": "stdout",
     "output_type": "stream",
     "text": [
      "Start Validation\n"
     ]
    },
    {
     "name": "stderr",
     "output_type": "stream",
     "text": [
      "Epoch 136/400: 100%|████████████████████████████████████████████████████| 8/8 [00:01<00:00,  4.10it/s, total_loss=71.3]\n",
      "Epoch 137/400:   0%|                                                              | 0/28 [00:00<?, ?it/s<class 'dict'>]"
     ]
    },
    {
     "name": "stdout",
     "output_type": "stream",
     "text": [
      "Finish Validation\n",
      "Epoch:136/400\n",
      "Train Loss: 42.2466 || Val Loss: 63.3387 \n"
     ]
    },
    {
     "name": "stderr",
     "output_type": "stream",
     "text": [
      "Epoch 137/400: 100%|███████████████████████| 28/28 [00:14<00:00,  1.95it/s, lr=0.000255, step/s=0.384, total_loss=39.3]\n",
      "Epoch 137/400:   0%|                                                               | 0/8 [00:00<?, ?it/s<class 'dict'>]"
     ]
    },
    {
     "name": "stdout",
     "output_type": "stream",
     "text": [
      "Start Validation\n"
     ]
    },
    {
     "name": "stderr",
     "output_type": "stream",
     "text": [
      "Epoch 137/400: 100%|████████████████████████████████████████████████████| 8/8 [00:01<00:00,  4.11it/s, total_loss=80.4]\n",
      "Epoch 138/400:   0%|                                                              | 0/28 [00:00<?, ?it/s<class 'dict'>]"
     ]
    },
    {
     "name": "stdout",
     "output_type": "stream",
     "text": [
      "Finish Validation\n",
      "Epoch:137/400\n",
      "Train Loss: 37.9214 || Val Loss: 71.4862 \n"
     ]
    },
    {
     "name": "stderr",
     "output_type": "stream",
     "text": [
      "Epoch 138/400: 100%|███████████████████████| 28/28 [00:14<00:00,  1.93it/s, lr=0.000252, step/s=0.428, total_loss=44.1]\n",
      "Epoch 138/400:   0%|                                                               | 0/8 [00:00<?, ?it/s<class 'dict'>]"
     ]
    },
    {
     "name": "stdout",
     "output_type": "stream",
     "text": [
      "Start Validation\n"
     ]
    },
    {
     "name": "stderr",
     "output_type": "stream",
     "text": [
      "Epoch 138/400: 100%|████████████████████████████████████████████████████| 8/8 [00:01<00:00,  4.13it/s, total_loss=78.6]\n",
      "Epoch 139/400:   0%|                                                              | 0/28 [00:00<?, ?it/s<class 'dict'>]"
     ]
    },
    {
     "name": "stdout",
     "output_type": "stream",
     "text": [
      "Finish Validation\n",
      "Epoch:138/400\n",
      "Train Loss: 42.5527 || Val Loss: 69.8536 \n"
     ]
    },
    {
     "name": "stderr",
     "output_type": "stream",
     "text": [
      "Epoch 139/400: 100%|████████████████████████| 28/28 [00:14<00:00,  1.93it/s, lr=0.00025, step/s=0.416, total_loss=39.4]\n",
      "Epoch 139/400:   0%|                                                               | 0/8 [00:00<?, ?it/s<class 'dict'>]"
     ]
    },
    {
     "name": "stdout",
     "output_type": "stream",
     "text": [
      "Start Validation\n"
     ]
    },
    {
     "name": "stderr",
     "output_type": "stream",
     "text": [
      "Epoch 139/400: 100%|████████████████████████████████████████████████████| 8/8 [00:01<00:00,  4.05it/s, total_loss=74.7]\n",
      "Epoch 140/400:   0%|                                                              | 0/28 [00:00<?, ?it/s<class 'dict'>]"
     ]
    },
    {
     "name": "stdout",
     "output_type": "stream",
     "text": [
      "Finish Validation\n",
      "Epoch:139/400\n",
      "Train Loss: 38.0433 || Val Loss: 66.4185 \n"
     ]
    },
    {
     "name": "stderr",
     "output_type": "stream",
     "text": [
      "Epoch 140/400: 100%|█████████████████████████| 28/28 [00:14<00:00,  1.93it/s, lr=0.000247, step/s=0.412, total_loss=44]\n",
      "Epoch 140/400:   0%|                                                               | 0/8 [00:00<?, ?it/s<class 'dict'>]"
     ]
    },
    {
     "name": "stdout",
     "output_type": "stream",
     "text": [
      "Start Validation\n"
     ]
    },
    {
     "name": "stderr",
     "output_type": "stream",
     "text": [
      "Epoch 140/400: 100%|████████████████████████████████████████████████████| 8/8 [00:01<00:00,  4.08it/s, total_loss=80.3]\n",
      "Epoch 141/400:   0%|                                                              | 0/28 [00:00<?, ?it/s<class 'dict'>]"
     ]
    },
    {
     "name": "stdout",
     "output_type": "stream",
     "text": [
      "Finish Validation\n",
      "Epoch:140/400\n",
      "Train Loss: 42.4502 || Val Loss: 71.3788 \n"
     ]
    },
    {
     "name": "stderr",
     "output_type": "stream",
     "text": [
      "Epoch 141/400: 100%|█████████████████████████| 28/28 [00:14<00:00,  1.95it/s, lr=0.000245, step/s=0.408, total_loss=39]\n",
      "Epoch 141/400:   0%|                                                               | 0/8 [00:00<?, ?it/s<class 'dict'>]"
     ]
    },
    {
     "name": "stdout",
     "output_type": "stream",
     "text": [
      "Start Validation\n"
     ]
    },
    {
     "name": "stderr",
     "output_type": "stream",
     "text": [
      "Epoch 141/400: 100%|████████████████████████████████████████████████████| 8/8 [00:01<00:00,  4.01it/s, total_loss=88.9]\n",
      "Epoch 142/400:   0%|                                                              | 0/28 [00:00<?, ?it/s<class 'dict'>]"
     ]
    },
    {
     "name": "stdout",
     "output_type": "stream",
     "text": [
      "Finish Validation\n",
      "Epoch:141/400\n",
      "Train Loss: 37.6894 || Val Loss: 79.0379 \n"
     ]
    },
    {
     "name": "stderr",
     "output_type": "stream",
     "text": [
      "Epoch 142/400: 100%|███████████████████████| 28/28 [00:14<00:00,  1.92it/s, lr=0.000242, step/s=0.405, total_loss=41.8]\n",
      "Epoch 142/400:   0%|                                                               | 0/8 [00:00<?, ?it/s<class 'dict'>]"
     ]
    },
    {
     "name": "stdout",
     "output_type": "stream",
     "text": [
      "Start Validation\n"
     ]
    },
    {
     "name": "stderr",
     "output_type": "stream",
     "text": [
      "Epoch 142/400: 100%|████████████████████████████████████████████████████| 8/8 [00:01<00:00,  4.04it/s, total_loss=67.8]\n",
      "Epoch 143/400:   0%|                                                              | 0/28 [00:00<?, ?it/s<class 'dict'>]"
     ]
    },
    {
     "name": "stdout",
     "output_type": "stream",
     "text": [
      "Finish Validation\n",
      "Epoch:142/400\n",
      "Train Loss: 40.3892 || Val Loss: 60.2396 \n"
     ]
    },
    {
     "name": "stderr",
     "output_type": "stream",
     "text": [
      "Epoch 143/400: 100%|████████████████████████| 28/28 [00:14<00:00,  1.92it/s, lr=0.00024, step/s=0.416, total_loss=43.3]\n",
      "Epoch 143/400:   0%|                                                               | 0/8 [00:00<?, ?it/s<class 'dict'>]"
     ]
    },
    {
     "name": "stdout",
     "output_type": "stream",
     "text": [
      "Start Validation\n"
     ]
    },
    {
     "name": "stderr",
     "output_type": "stream",
     "text": [
      "Epoch 143/400: 100%|████████████████████████████████████████████████████| 8/8 [00:01<00:00,  4.01it/s, total_loss=79.4]\n",
      "Epoch 144/400:   0%|                                                              | 0/28 [00:00<?, ?it/s<class 'dict'>]"
     ]
    },
    {
     "name": "stdout",
     "output_type": "stream",
     "text": [
      "Finish Validation\n",
      "Epoch:143/400\n",
      "Train Loss: 41.7891 || Val Loss: 70.5675 \n"
     ]
    },
    {
     "name": "stderr",
     "output_type": "stream",
     "text": [
      "Epoch 144/400: 100%|███████████████████████| 28/28 [00:14<00:00,  1.93it/s, lr=0.000238, step/s=0.447, total_loss=38.5]\n",
      "Epoch 144/400:   0%|                                                               | 0/8 [00:00<?, ?it/s<class 'dict'>]"
     ]
    },
    {
     "name": "stdout",
     "output_type": "stream",
     "text": [
      "Start Validation\n"
     ]
    },
    {
     "name": "stderr",
     "output_type": "stream",
     "text": [
      "Epoch 144/400: 100%|████████████████████████████████████████████████████| 8/8 [00:01<00:00,  4.00it/s, total_loss=87.5]\n",
      "Epoch 145/400:   0%|                                                              | 0/28 [00:00<?, ?it/s<class 'dict'>]"
     ]
    },
    {
     "name": "stdout",
     "output_type": "stream",
     "text": [
      "Finish Validation\n",
      "Epoch:144/400\n",
      "Train Loss: 37.2171 || Val Loss: 77.7951 \n"
     ]
    },
    {
     "name": "stderr",
     "output_type": "stream",
     "text": [
      "Epoch 145/400: 100%|███████████████████████| 28/28 [00:14<00:00,  1.92it/s, lr=0.000235, step/s=0.385, total_loss=42.4]\n",
      "Epoch 145/400:   0%|                                                               | 0/8 [00:00<?, ?it/s<class 'dict'>]"
     ]
    },
    {
     "name": "stdout",
     "output_type": "stream",
     "text": [
      "Start Validation\n"
     ]
    },
    {
     "name": "stderr",
     "output_type": "stream",
     "text": [
      "Epoch 145/400: 100%|████████████████████████████████████████████████████| 8/8 [00:02<00:00,  4.00it/s, total_loss=85.8]\n",
      "Epoch 146/400:   0%|                                                              | 0/28 [00:00<?, ?it/s<class 'dict'>]"
     ]
    },
    {
     "name": "stdout",
     "output_type": "stream",
     "text": [
      "Finish Validation\n",
      "Epoch:145/400\n",
      "Train Loss: 40.9840 || Val Loss: 76.2294 \n"
     ]
    },
    {
     "name": "stderr",
     "output_type": "stream",
     "text": [
      "Epoch 146/400: 100%|███████████████████████| 28/28 [00:14<00:00,  1.92it/s, lr=0.000233, step/s=0.415, total_loss=44.6]\n",
      "Epoch 146/400:   0%|                                                               | 0/8 [00:00<?, ?it/s<class 'dict'>]"
     ]
    },
    {
     "name": "stdout",
     "output_type": "stream",
     "text": [
      "Start Validation\n"
     ]
    },
    {
     "name": "stderr",
     "output_type": "stream",
     "text": [
      "Epoch 146/400: 100%|██████████████████████████████████████████████████████| 8/8 [00:01<00:00,  4.10it/s, total_loss=80]\n",
      "Epoch 147/400:   0%|                                                              | 0/28 [00:00<?, ?it/s<class 'dict'>]"
     ]
    },
    {
     "name": "stdout",
     "output_type": "stream",
     "text": [
      "Finish Validation\n",
      "Epoch:146/400\n",
      "Train Loss: 43.0860 || Val Loss: 71.0972 \n"
     ]
    },
    {
     "name": "stderr",
     "output_type": "stream",
     "text": [
      "Epoch 147/400: 100%|███████████████████████| 28/28 [00:14<00:00,  1.94it/s, lr=0.000231, step/s=0.398, total_loss=39.5]\n",
      "Epoch 147/400:   0%|                                                               | 0/8 [00:00<?, ?it/s<class 'dict'>]"
     ]
    },
    {
     "name": "stdout",
     "output_type": "stream",
     "text": [
      "Start Validation\n"
     ]
    },
    {
     "name": "stderr",
     "output_type": "stream",
     "text": [
      "Epoch 147/400: 100%|██████████████████████████████████████████████████████| 8/8 [00:01<00:00,  4.06it/s, total_loss=90]\n",
      "Epoch 148/400:   0%|                                                              | 0/28 [00:00<?, ?it/s<class 'dict'>]"
     ]
    },
    {
     "name": "stdout",
     "output_type": "stream",
     "text": [
      "Finish Validation\n",
      "Epoch:147/400\n",
      "Train Loss: 38.1497 || Val Loss: 80.0340 \n"
     ]
    },
    {
     "name": "stderr",
     "output_type": "stream",
     "text": [
      "Epoch 148/400: 100%|███████████████████████| 28/28 [00:14<00:00,  1.95it/s, lr=0.000228, step/s=0.404, total_loss=39.2]\n",
      "Epoch 148/400:   0%|                                                               | 0/8 [00:00<?, ?it/s<class 'dict'>]"
     ]
    },
    {
     "name": "stdout",
     "output_type": "stream",
     "text": [
      "Start Validation\n"
     ]
    },
    {
     "name": "stderr",
     "output_type": "stream",
     "text": [
      "Epoch 148/400: 100%|████████████████████████████████████████████████████| 8/8 [00:01<00:00,  4.10it/s, total_loss=85.8]\n",
      "Epoch 149/400:   0%|                                                              | 0/28 [00:00<?, ?it/s<class 'dict'>]"
     ]
    },
    {
     "name": "stdout",
     "output_type": "stream",
     "text": [
      "Finish Validation\n",
      "Epoch:148/400\n",
      "Train Loss: 37.8396 || Val Loss: 76.2680 \n"
     ]
    },
    {
     "name": "stderr",
     "output_type": "stream",
     "text": [
      "Epoch 149/400: 100%|████████████████████████| 28/28 [00:14<00:00,  1.94it/s, lr=0.000226, step/s=0.42, total_loss=40.1]\n",
      "Epoch 149/400:   0%|                                                               | 0/8 [00:00<?, ?it/s<class 'dict'>]"
     ]
    },
    {
     "name": "stdout",
     "output_type": "stream",
     "text": [
      "Start Validation\n"
     ]
    },
    {
     "name": "stderr",
     "output_type": "stream",
     "text": [
      "Epoch 149/400: 100%|████████████████████████████████████████████████████| 8/8 [00:02<00:00,  3.97it/s, total_loss=79.2]\n",
      "Epoch 150/400:   0%|                                                              | 0/28 [00:00<?, ?it/s<class 'dict'>]"
     ]
    },
    {
     "name": "stdout",
     "output_type": "stream",
     "text": [
      "Finish Validation\n",
      "Epoch:149/400\n",
      "Train Loss: 38.7471 || Val Loss: 70.3806 \n"
     ]
    },
    {
     "name": "stderr",
     "output_type": "stream",
     "text": [
      "Epoch 150/400: 100%|███████████████████████| 28/28 [00:14<00:00,  1.93it/s, lr=0.000224, step/s=0.414, total_loss=40.5]\n",
      "Epoch 150/400:   0%|                                                               | 0/8 [00:00<?, ?it/s<class 'dict'>]"
     ]
    },
    {
     "name": "stdout",
     "output_type": "stream",
     "text": [
      "Start Validation\n"
     ]
    },
    {
     "name": "stderr",
     "output_type": "stream",
     "text": [
      "Epoch 150/400: 100%|████████████████████████████████████████████████████| 8/8 [00:01<00:00,  4.09it/s, total_loss=79.5]\n",
      "Epoch 151/400:   0%|                                                              | 0/28 [00:00<?, ?it/s<class 'dict'>]"
     ]
    },
    {
     "name": "stdout",
     "output_type": "stream",
     "text": [
      "Finish Validation\n",
      "Epoch:150/400\n",
      "Train Loss: 39.1126 || Val Loss: 70.6642 \n"
     ]
    },
    {
     "name": "stderr",
     "output_type": "stream",
     "text": [
      "Epoch 151/400: 100%|███████████████████████| 28/28 [00:14<00:00,  1.92it/s, lr=0.000221, step/s=0.426, total_loss=44.3]\n",
      "Epoch 151/400:   0%|                                                               | 0/8 [00:00<?, ?it/s<class 'dict'>]"
     ]
    },
    {
     "name": "stdout",
     "output_type": "stream",
     "text": [
      "Start Validation\n"
     ]
    },
    {
     "name": "stderr",
     "output_type": "stream",
     "text": [
      "Epoch 151/400: 100%|████████████████████████████████████████████████████| 8/8 [00:01<00:00,  4.06it/s, total_loss=77.5]\n",
      "Epoch 152/400:   0%|                                                              | 0/28 [00:00<?, ?it/s<class 'dict'>]"
     ]
    },
    {
     "name": "stdout",
     "output_type": "stream",
     "text": [
      "Finish Validation\n",
      "Epoch:151/400\n",
      "Train Loss: 42.7730 || Val Loss: 68.9019 \n"
     ]
    },
    {
     "name": "stderr",
     "output_type": "stream",
     "text": [
      "Epoch 152/400: 100%|███████████████████████| 28/28 [00:14<00:00,  1.92it/s, lr=0.000219, step/s=0.392, total_loss=41.8]\n",
      "Epoch 152/400:   0%|                                                               | 0/8 [00:00<?, ?it/s<class 'dict'>]"
     ]
    },
    {
     "name": "stdout",
     "output_type": "stream",
     "text": [
      "Start Validation\n"
     ]
    },
    {
     "name": "stderr",
     "output_type": "stream",
     "text": [
      "Epoch 152/400: 100%|████████████████████████████████████████████████████| 8/8 [00:01<00:00,  4.06it/s, total_loss=86.9]\n",
      "Epoch 153/400:   0%|                                                              | 0/28 [00:00<?, ?it/s<class 'dict'>]"
     ]
    },
    {
     "name": "stdout",
     "output_type": "stream",
     "text": [
      "Finish Validation\n",
      "Epoch:152/400\n",
      "Train Loss: 40.3986 || Val Loss: 77.2440 \n"
     ]
    },
    {
     "name": "stderr",
     "output_type": "stream",
     "text": [
      "Epoch 153/400: 100%|███████████████████████| 28/28 [00:14<00:00,  1.93it/s, lr=0.000217, step/s=0.392, total_loss=40.7]\n",
      "Epoch 153/400:   0%|                                                               | 0/8 [00:00<?, ?it/s<class 'dict'>]"
     ]
    },
    {
     "name": "stdout",
     "output_type": "stream",
     "text": [
      "Start Validation\n"
     ]
    },
    {
     "name": "stderr",
     "output_type": "stream",
     "text": [
      "Epoch 153/400: 100%|████████████████████████████████████████████████████| 8/8 [00:02<00:00,  3.94it/s, total_loss=92.7]\n",
      "Epoch 154/400:   0%|                                                              | 0/28 [00:00<?, ?it/s<class 'dict'>]"
     ]
    },
    {
     "name": "stdout",
     "output_type": "stream",
     "text": [
      "Finish Validation\n",
      "Epoch:153/400\n",
      "Train Loss: 39.3276 || Val Loss: 82.3641 \n"
     ]
    },
    {
     "name": "stderr",
     "output_type": "stream",
     "text": [
      "Epoch 154/400: 100%|███████████████████████| 28/28 [00:14<00:00,  1.91it/s, lr=0.000215, step/s=0.446, total_loss=41.1]\n",
      "Epoch 154/400:   0%|                                                               | 0/8 [00:00<?, ?it/s<class 'dict'>]"
     ]
    },
    {
     "name": "stdout",
     "output_type": "stream",
     "text": [
      "Start Validation\n"
     ]
    },
    {
     "name": "stderr",
     "output_type": "stream",
     "text": [
      "Epoch 154/400: 100%|████████████████████████████████████████████████████| 8/8 [00:02<00:00,  3.99it/s, total_loss=84.8]\n",
      "Epoch 155/400:   0%|                                                              | 0/28 [00:00<?, ?it/s<class 'dict'>]"
     ]
    },
    {
     "name": "stdout",
     "output_type": "stream",
     "text": [
      "Finish Validation\n",
      "Epoch:154/400\n",
      "Train Loss: 39.6752 || Val Loss: 75.3460 \n"
     ]
    },
    {
     "name": "stderr",
     "output_type": "stream",
     "text": [
      "Epoch 155/400: 100%|███████████████████████| 28/28 [00:14<00:00,  1.92it/s, lr=0.000213, step/s=0.427, total_loss=41.9]\n",
      "Epoch 155/400:   0%|                                                               | 0/8 [00:00<?, ?it/s<class 'dict'>]"
     ]
    },
    {
     "name": "stdout",
     "output_type": "stream",
     "text": [
      "Start Validation\n"
     ]
    },
    {
     "name": "stderr",
     "output_type": "stream",
     "text": [
      "Epoch 155/400: 100%|████████████████████████████████████████████████████| 8/8 [00:01<00:00,  4.08it/s, total_loss=88.1]\n",
      "Epoch 156/400:   0%|                                                              | 0/28 [00:00<?, ?it/s<class 'dict'>]"
     ]
    },
    {
     "name": "stdout",
     "output_type": "stream",
     "text": [
      "Finish Validation\n",
      "Epoch:155/400\n",
      "Train Loss: 40.4810 || Val Loss: 78.2946 \n"
     ]
    },
    {
     "name": "stderr",
     "output_type": "stream",
     "text": [
      "Epoch 156/400: 100%|███████████████████████| 28/28 [00:14<00:00,  1.93it/s, lr=0.000211, step/s=0.402, total_loss=42.4]\n",
      "Epoch 156/400:   0%|                                                               | 0/8 [00:00<?, ?it/s<class 'dict'>]"
     ]
    },
    {
     "name": "stdout",
     "output_type": "stream",
     "text": [
      "Start Validation\n"
     ]
    },
    {
     "name": "stderr",
     "output_type": "stream",
     "text": [
      "Epoch 156/400: 100%|████████████████████████████████████████████████████| 8/8 [00:01<00:00,  4.07it/s, total_loss=86.6]\n",
      "Epoch 157/400:   0%|                                                              | 0/28 [00:00<?, ?it/s<class 'dict'>]"
     ]
    },
    {
     "name": "stdout",
     "output_type": "stream",
     "text": [
      "Finish Validation\n",
      "Epoch:156/400\n",
      "Train Loss: 40.9301 || Val Loss: 76.9823 \n"
     ]
    },
    {
     "name": "stderr",
     "output_type": "stream",
     "text": [
      "Epoch 157/400: 100%|███████████████████████| 28/28 [00:14<00:00,  1.92it/s, lr=0.000208, step/s=0.381, total_loss=40.1]\n",
      "Epoch 157/400:   0%|                                                               | 0/8 [00:00<?, ?it/s<class 'dict'>]"
     ]
    },
    {
     "name": "stdout",
     "output_type": "stream",
     "text": [
      "Start Validation\n"
     ]
    },
    {
     "name": "stderr",
     "output_type": "stream",
     "text": [
      "Epoch 157/400: 100%|████████████████████████████████████████████████████| 8/8 [00:02<00:00,  3.95it/s, total_loss=58.1]\n"
     ]
    },
    {
     "name": "stdout",
     "output_type": "stream",
     "text": [
      "Finish Validation\n",
      "Epoch:157/400\n",
      "Train Loss: 38.7180 || Val Loss: 51.6614 \n",
      "achive best val loss , Saving state, iter: 157\n",
      "current best val loss :  51.66138712565104\n"
     ]
    },
    {
     "name": "stderr",
     "output_type": "stream",
     "text": [
      "Epoch 158/400: 100%|███████████████████████| 28/28 [00:14<00:00,  1.93it/s, lr=0.000206, step/s=0.387, total_loss=41.6]\n",
      "Epoch 158/400:   0%|                                                               | 0/8 [00:00<?, ?it/s<class 'dict'>]"
     ]
    },
    {
     "name": "stdout",
     "output_type": "stream",
     "text": [
      "Start Validation\n"
     ]
    },
    {
     "name": "stderr",
     "output_type": "stream",
     "text": [
      "Epoch 158/400: 100%|████████████████████████████████████████████████████| 8/8 [00:01<00:00,  4.08it/s, total_loss=86.7]\n",
      "Epoch 159/400:   0%|                                                              | 0/28 [00:00<?, ?it/s<class 'dict'>]"
     ]
    },
    {
     "name": "stdout",
     "output_type": "stream",
     "text": [
      "Finish Validation\n",
      "Epoch:158/400\n",
      "Train Loss: 40.1610 || Val Loss: 77.0311 \n"
     ]
    },
    {
     "name": "stderr",
     "output_type": "stream",
     "text": [
      "Epoch 159/400: 100%|███████████████████████| 28/28 [00:14<00:00,  1.91it/s, lr=0.000204, step/s=0.434, total_loss=40.3]\n",
      "Epoch 159/400:   0%|                                                               | 0/8 [00:00<?, ?it/s<class 'dict'>]"
     ]
    },
    {
     "name": "stdout",
     "output_type": "stream",
     "text": [
      "Start Validation\n"
     ]
    },
    {
     "name": "stderr",
     "output_type": "stream",
     "text": [
      "Epoch 159/400: 100%|████████████████████████████████████████████████████| 8/8 [00:02<00:00,  3.97it/s, total_loss=84.7]\n",
      "Epoch 160/400:   0%|                                                              | 0/28 [00:00<?, ?it/s<class 'dict'>]"
     ]
    },
    {
     "name": "stdout",
     "output_type": "stream",
     "text": [
      "Finish Validation\n",
      "Epoch:159/400\n",
      "Train Loss: 38.9460 || Val Loss: 75.3041 \n"
     ]
    },
    {
     "name": "stderr",
     "output_type": "stream",
     "text": [
      "Epoch 160/400: 100%|████████████████████████| 28/28 [00:14<00:00,  1.91it/s, lr=0.000202, step/s=0.42, total_loss=41.5]\n",
      "Epoch 160/400:   0%|                                                               | 0/8 [00:00<?, ?it/s<class 'dict'>]"
     ]
    },
    {
     "name": "stdout",
     "output_type": "stream",
     "text": [
      "Start Validation\n"
     ]
    },
    {
     "name": "stderr",
     "output_type": "stream",
     "text": [
      "Epoch 160/400: 100%|████████████████████████████████████████████████████| 8/8 [00:01<00:00,  4.21it/s, total_loss=85.3]\n",
      "Epoch 161/400:   0%|                                                              | 0/28 [00:00<?, ?it/s<class 'dict'>]"
     ]
    },
    {
     "name": "stdout",
     "output_type": "stream",
     "text": [
      "Finish Validation\n",
      "Epoch:160/400\n",
      "Train Loss: 40.0549 || Val Loss: 75.8199 \n"
     ]
    },
    {
     "name": "stderr",
     "output_type": "stream",
     "text": [
      "Epoch 161/400: 100%|█████████████████████████| 28/28 [00:14<00:00,  1.93it/s, lr=0.0002, step/s=0.393, total_loss=43.6]\n",
      "Epoch 161/400:   0%|                                                               | 0/8 [00:00<?, ?it/s<class 'dict'>]"
     ]
    },
    {
     "name": "stdout",
     "output_type": "stream",
     "text": [
      "Start Validation\n"
     ]
    },
    {
     "name": "stderr",
     "output_type": "stream",
     "text": [
      "Epoch 161/400: 100%|████████████████████████████████████████████████████| 8/8 [00:01<00:00,  4.09it/s, total_loss=86.1]\n",
      "Epoch 162/400:   0%|                                                              | 0/28 [00:00<?, ?it/s<class 'dict'>]"
     ]
    },
    {
     "name": "stdout",
     "output_type": "stream",
     "text": [
      "Finish Validation\n",
      "Epoch:161/400\n",
      "Train Loss: 42.1148 || Val Loss: 76.5231 \n"
     ]
    },
    {
     "name": "stderr",
     "output_type": "stream",
     "text": [
      "Epoch 162/400: 100%|███████████████████████| 28/28 [00:14<00:00,  1.93it/s, lr=0.000198, step/s=0.395, total_loss=40.2]\n",
      "Epoch 162/400:   0%|                                                               | 0/8 [00:00<?, ?it/s<class 'dict'>]"
     ]
    },
    {
     "name": "stdout",
     "output_type": "stream",
     "text": [
      "Start Validation\n"
     ]
    },
    {
     "name": "stderr",
     "output_type": "stream",
     "text": [
      "Epoch 162/400: 100%|████████████████████████████████████████████████████| 8/8 [00:01<00:00,  4.16it/s, total_loss=76.5]\n",
      "Epoch 163/400:   0%|                                                              | 0/28 [00:00<?, ?it/s<class 'dict'>]"
     ]
    },
    {
     "name": "stdout",
     "output_type": "stream",
     "text": [
      "Finish Validation\n",
      "Epoch:162/400\n",
      "Train Loss: 38.8372 || Val Loss: 67.9671 \n"
     ]
    },
    {
     "name": "stderr",
     "output_type": "stream",
     "text": [
      "Epoch 163/400: 100%|███████████████████████| 28/28 [00:14<00:00,  1.94it/s, lr=0.000196, step/s=0.378, total_loss=42.4]\n",
      "Epoch 163/400:   0%|                                                               | 0/8 [00:00<?, ?it/s<class 'dict'>]"
     ]
    },
    {
     "name": "stdout",
     "output_type": "stream",
     "text": [
      "Start Validation\n"
     ]
    },
    {
     "name": "stderr",
     "output_type": "stream",
     "text": [
      "Epoch 163/400: 100%|████████████████████████████████████████████████████| 8/8 [00:02<00:00,  3.95it/s, total_loss=81.4]\n",
      "Epoch 164/400:   0%|                                                              | 0/28 [00:00<?, ?it/s<class 'dict'>]"
     ]
    },
    {
     "name": "stdout",
     "output_type": "stream",
     "text": [
      "Finish Validation\n",
      "Epoch:163/400\n",
      "Train Loss: 40.8973 || Val Loss: 72.3120 \n"
     ]
    },
    {
     "name": "stderr",
     "output_type": "stream",
     "text": [
      "Epoch 164/400: 100%|███████████████████████| 28/28 [00:14<00:00,  1.93it/s, lr=0.000194, step/s=0.393, total_loss=38.7]\n",
      "Epoch 164/400:   0%|                                                               | 0/8 [00:00<?, ?it/s<class 'dict'>]"
     ]
    },
    {
     "name": "stdout",
     "output_type": "stream",
     "text": [
      "Start Validation\n"
     ]
    },
    {
     "name": "stderr",
     "output_type": "stream",
     "text": [
      "Epoch 164/400: 100%|██████████████████████████████████████████████████████| 8/8 [00:01<00:00,  4.19it/s, total_loss=83]\n",
      "Epoch 165/400:   0%|                                                              | 0/28 [00:00<?, ?it/s<class 'dict'>]"
     ]
    },
    {
     "name": "stdout",
     "output_type": "stream",
     "text": [
      "Finish Validation\n",
      "Epoch:164/400\n",
      "Train Loss: 37.3842 || Val Loss: 73.8186 \n"
     ]
    },
    {
     "name": "stderr",
     "output_type": "stream",
     "text": [
      "Epoch 165/400: 100%|███████████████████████| 28/28 [00:14<00:00,  1.93it/s, lr=0.000192, step/s=0.425, total_loss=40.2]\n",
      "Epoch 165/400:   0%|                                                               | 0/8 [00:00<?, ?it/s<class 'dict'>]"
     ]
    },
    {
     "name": "stdout",
     "output_type": "stream",
     "text": [
      "Start Validation\n"
     ]
    },
    {
     "name": "stderr",
     "output_type": "stream",
     "text": [
      "Epoch 165/400: 100%|████████████████████████████████████████████████████| 8/8 [00:01<00:00,  4.14it/s, total_loss=75.9]\n",
      "Epoch 166/400:   0%|                                                              | 0/28 [00:00<?, ?it/s<class 'dict'>]"
     ]
    },
    {
     "name": "stdout",
     "output_type": "stream",
     "text": [
      "Finish Validation\n",
      "Epoch:165/400\n",
      "Train Loss: 38.8178 || Val Loss: 67.4568 \n"
     ]
    },
    {
     "name": "stderr",
     "output_type": "stream",
     "text": [
      "Epoch 166/400: 100%|████████████████████████| 28/28 [00:14<00:00,  1.94it/s, lr=0.00019, step/s=0.412, total_loss=39.1]\n",
      "Epoch 166/400:   0%|                                                               | 0/8 [00:00<?, ?it/s<class 'dict'>]"
     ]
    },
    {
     "name": "stdout",
     "output_type": "stream",
     "text": [
      "Start Validation\n"
     ]
    },
    {
     "name": "stderr",
     "output_type": "stream",
     "text": [
      "Epoch 166/400: 100%|████████████████████████████████████████████████████| 8/8 [00:01<00:00,  4.07it/s, total_loss=83.1]\n",
      "Epoch 167/400:   0%|                                                              | 0/28 [00:00<?, ?it/s<class 'dict'>]"
     ]
    },
    {
     "name": "stdout",
     "output_type": "stream",
     "text": [
      "Finish Validation\n",
      "Epoch:166/400\n",
      "Train Loss: 37.7504 || Val Loss: 73.8356 \n"
     ]
    },
    {
     "name": "stderr",
     "output_type": "stream",
     "text": [
      "Epoch 167/400: 100%|███████████████████████| 28/28 [00:14<00:00,  1.92it/s, lr=0.000189, step/s=0.399, total_loss=36.7]\n",
      "Epoch 167/400:   0%|                                                               | 0/8 [00:00<?, ?it/s<class 'dict'>]"
     ]
    },
    {
     "name": "stdout",
     "output_type": "stream",
     "text": [
      "Start Validation\n"
     ]
    },
    {
     "name": "stderr",
     "output_type": "stream",
     "text": [
      "Epoch 167/400: 100%|████████████████████████████████████████████████████| 8/8 [00:01<00:00,  4.02it/s, total_loss=86.4]\n",
      "Epoch 168/400:   0%|                                                              | 0/28 [00:00<?, ?it/s<class 'dict'>]"
     ]
    },
    {
     "name": "stdout",
     "output_type": "stream",
     "text": [
      "Finish Validation\n",
      "Epoch:167/400\n",
      "Train Loss: 35.4408 || Val Loss: 76.8422 \n"
     ]
    },
    {
     "name": "stderr",
     "output_type": "stream",
     "text": [
      "Epoch 168/400: 100%|█████████████████████████| 28/28 [00:14<00:00,  1.94it/s, lr=0.000187, step/s=0.403, total_loss=44]\n",
      "Epoch 168/400:   0%|                                                               | 0/8 [00:00<?, ?it/s<class 'dict'>]"
     ]
    },
    {
     "name": "stdout",
     "output_type": "stream",
     "text": [
      "Start Validation\n"
     ]
    },
    {
     "name": "stderr",
     "output_type": "stream",
     "text": [
      "Epoch 168/400: 100%|██████████████████████████████████████████████████████| 8/8 [00:01<00:00,  4.05it/s, total_loss=69]\n",
      "Epoch 169/400:   0%|                                                              | 0/28 [00:00<?, ?it/s<class 'dict'>]"
     ]
    },
    {
     "name": "stdout",
     "output_type": "stream",
     "text": [
      "Finish Validation\n",
      "Epoch:168/400\n",
      "Train Loss: 42.5109 || Val Loss: 61.3047 \n"
     ]
    },
    {
     "name": "stderr",
     "output_type": "stream",
     "text": [
      "Epoch 169/400: 100%|███████████████████████| 28/28 [00:14<00:00,  1.94it/s, lr=0.000185, step/s=0.419, total_loss=39.1]\n",
      "Epoch 169/400:   0%|                                                               | 0/8 [00:00<?, ?it/s<class 'dict'>]"
     ]
    },
    {
     "name": "stdout",
     "output_type": "stream",
     "text": [
      "Start Validation\n"
     ]
    },
    {
     "name": "stderr",
     "output_type": "stream",
     "text": [
      "Epoch 169/400: 100%|████████████████████████████████████████████████████| 8/8 [00:01<00:00,  4.14it/s, total_loss=72.2]\n",
      "Epoch 170/400:   0%|                                                              | 0/28 [00:00<?, ?it/s<class 'dict'>]"
     ]
    },
    {
     "name": "stdout",
     "output_type": "stream",
     "text": [
      "Finish Validation\n",
      "Epoch:169/400\n",
      "Train Loss: 37.7355 || Val Loss: 64.1510 \n"
     ]
    },
    {
     "name": "stderr",
     "output_type": "stream",
     "text": [
      "Epoch 170/400: 100%|███████████████████████| 28/28 [00:14<00:00,  1.92it/s, lr=0.000183, step/s=0.375, total_loss=37.7]\n",
      "Epoch 170/400:   0%|                                                               | 0/8 [00:00<?, ?it/s<class 'dict'>]"
     ]
    },
    {
     "name": "stdout",
     "output_type": "stream",
     "text": [
      "Start Validation\n"
     ]
    },
    {
     "name": "stderr",
     "output_type": "stream",
     "text": [
      "Epoch 170/400: 100%|████████████████████████████████████████████████████| 8/8 [00:01<00:00,  4.14it/s, total_loss=77.7]\n",
      "Epoch 171/400:   0%|                                                              | 0/28 [00:00<?, ?it/s<class 'dict'>]"
     ]
    },
    {
     "name": "stdout",
     "output_type": "stream",
     "text": [
      "Finish Validation\n",
      "Epoch:170/400\n",
      "Train Loss: 36.3721 || Val Loss: 69.1083 \n"
     ]
    },
    {
     "name": "stderr",
     "output_type": "stream",
     "text": [
      "Epoch 171/400: 100%|███████████████████████| 28/28 [00:14<00:00,  1.94it/s, lr=0.000181, step/s=0.422, total_loss=38.8]\n",
      "Epoch 171/400:   0%|                                                               | 0/8 [00:00<?, ?it/s<class 'dict'>]"
     ]
    },
    {
     "name": "stdout",
     "output_type": "stream",
     "text": [
      "Start Validation\n"
     ]
    },
    {
     "name": "stderr",
     "output_type": "stream",
     "text": [
      "Epoch 171/400: 100%|████████████████████████████████████████████████████| 8/8 [00:01<00:00,  4.06it/s, total_loss=82.7]\n",
      "Epoch 172/400:   0%|                                                              | 0/28 [00:00<?, ?it/s<class 'dict'>]"
     ]
    },
    {
     "name": "stdout",
     "output_type": "stream",
     "text": [
      "Finish Validation\n",
      "Epoch:171/400\n",
      "Train Loss: 37.4920 || Val Loss: 73.4869 \n"
     ]
    },
    {
     "name": "stderr",
     "output_type": "stream",
     "text": [
      "Epoch 172/400: 100%|████████████████████████| 28/28 [00:14<00:00,  1.94it/s, lr=0.000179, step/s=0.42, total_loss=38.5]\n",
      "Epoch 172/400:   0%|                                                               | 0/8 [00:00<?, ?it/s<class 'dict'>]"
     ]
    },
    {
     "name": "stdout",
     "output_type": "stream",
     "text": [
      "Start Validation\n"
     ]
    },
    {
     "name": "stderr",
     "output_type": "stream",
     "text": [
      "Epoch 172/400: 100%|████████████████████████████████████████████████████| 8/8 [00:02<00:00,  3.98it/s, total_loss=74.1]\n",
      "Epoch 173/400:   0%|                                                              | 0/28 [00:00<?, ?it/s<class 'dict'>]"
     ]
    },
    {
     "name": "stdout",
     "output_type": "stream",
     "text": [
      "Finish Validation\n",
      "Epoch:172/400\n",
      "Train Loss: 37.1267 || Val Loss: 65.8478 \n"
     ]
    },
    {
     "name": "stderr",
     "output_type": "stream",
     "text": [
      "Epoch 173/400: 100%|███████████████████████| 28/28 [00:14<00:00,  1.93it/s, lr=0.000178, step/s=0.381, total_loss=36.3]\n",
      "Epoch 173/400:   0%|                                                               | 0/8 [00:00<?, ?it/s<class 'dict'>]"
     ]
    },
    {
     "name": "stdout",
     "output_type": "stream",
     "text": [
      "Start Validation\n"
     ]
    },
    {
     "name": "stderr",
     "output_type": "stream",
     "text": [
      "Epoch 173/400: 100%|████████████████████████████████████████████████████| 8/8 [00:01<00:00,  4.08it/s, total_loss=81.9]\n",
      "Epoch 174/400:   0%|                                                              | 0/28 [00:00<?, ?it/s<class 'dict'>]"
     ]
    },
    {
     "name": "stdout",
     "output_type": "stream",
     "text": [
      "Finish Validation\n",
      "Epoch:173/400\n",
      "Train Loss: 35.0837 || Val Loss: 72.7915 \n"
     ]
    },
    {
     "name": "stderr",
     "output_type": "stream",
     "text": [
      "Epoch 174/400: 100%|███████████████████████| 28/28 [00:14<00:00,  1.93it/s, lr=0.000176, step/s=0.377, total_loss=40.1]\n",
      "Epoch 174/400:   0%|                                                               | 0/8 [00:00<?, ?it/s<class 'dict'>]"
     ]
    },
    {
     "name": "stdout",
     "output_type": "stream",
     "text": [
      "Start Validation\n"
     ]
    },
    {
     "name": "stderr",
     "output_type": "stream",
     "text": [
      "Epoch 174/400: 100%|████████████████████████████████████████████████████| 8/8 [00:01<00:00,  4.04it/s, total_loss=66.4]\n",
      "Epoch 175/400:   0%|                                                              | 0/28 [00:00<?, ?it/s<class 'dict'>]"
     ]
    },
    {
     "name": "stdout",
     "output_type": "stream",
     "text": [
      "Finish Validation\n",
      "Epoch:174/400\n",
      "Train Loss: 38.6767 || Val Loss: 59.0509 \n"
     ]
    },
    {
     "name": "stderr",
     "output_type": "stream",
     "text": [
      "Epoch 175/400: 100%|███████████████████████| 28/28 [00:14<00:00,  1.93it/s, lr=0.000174, step/s=0.397, total_loss=36.2]\n",
      "Epoch 175/400:   0%|                                                               | 0/8 [00:00<?, ?it/s<class 'dict'>]"
     ]
    },
    {
     "name": "stdout",
     "output_type": "stream",
     "text": [
      "Start Validation\n"
     ]
    },
    {
     "name": "stderr",
     "output_type": "stream",
     "text": [
      "Epoch 175/400: 100%|████████████████████████████████████████████████████| 8/8 [00:02<00:00,  3.99it/s, total_loss=78.3]\n",
      "Epoch 176/400:   0%|                                                              | 0/28 [00:00<?, ?it/s<class 'dict'>]"
     ]
    },
    {
     "name": "stdout",
     "output_type": "stream",
     "text": [
      "Finish Validation\n",
      "Epoch:175/400\n",
      "Train Loss: 34.9534 || Val Loss: 69.6355 \n"
     ]
    },
    {
     "name": "stderr",
     "output_type": "stream",
     "text": [
      "Epoch 176/400: 100%|███████████████████████| 28/28 [00:14<00:00,  1.94it/s, lr=0.000172, step/s=0.417, total_loss=38.9]\n",
      "Epoch 176/400:   0%|                                                               | 0/8 [00:00<?, ?it/s<class 'dict'>]"
     ]
    },
    {
     "name": "stdout",
     "output_type": "stream",
     "text": [
      "Start Validation\n"
     ]
    },
    {
     "name": "stderr",
     "output_type": "stream",
     "text": [
      "Epoch 176/400: 100%|██████████████████████████████████████████████████████| 8/8 [00:01<00:00,  4.10it/s, total_loss=78]\n",
      "Epoch 177/400:   0%|                                                              | 0/28 [00:00<?, ?it/s<class 'dict'>]"
     ]
    },
    {
     "name": "stdout",
     "output_type": "stream",
     "text": [
      "Finish Validation\n",
      "Epoch:176/400\n",
      "Train Loss: 37.5610 || Val Loss: 69.3683 \n"
     ]
    },
    {
     "name": "stderr",
     "output_type": "stream",
     "text": [
      "Epoch 177/400: 100%|███████████████████████| 28/28 [00:14<00:00,  1.92it/s, lr=0.000171, step/s=0.478, total_loss=37.1]\n",
      "Epoch 177/400:   0%|                                                               | 0/8 [00:00<?, ?it/s<class 'dict'>]"
     ]
    },
    {
     "name": "stdout",
     "output_type": "stream",
     "text": [
      "Start Validation\n"
     ]
    },
    {
     "name": "stderr",
     "output_type": "stream",
     "text": [
      "Epoch 177/400: 100%|████████████████████████████████████████████████████| 8/8 [00:01<00:00,  4.10it/s, total_loss=81.1]\n",
      "Epoch 178/400:   0%|                                                              | 0/28 [00:00<?, ?it/s<class 'dict'>]"
     ]
    },
    {
     "name": "stdout",
     "output_type": "stream",
     "text": [
      "Finish Validation\n",
      "Epoch:177/400\n",
      "Train Loss: 35.8216 || Val Loss: 72.1175 \n"
     ]
    },
    {
     "name": "stderr",
     "output_type": "stream",
     "text": [
      "Epoch 178/400: 100%|█████████████████████████| 28/28 [00:14<00:00,  1.92it/s, lr=0.000169, step/s=0.394, total_loss=38]\n",
      "Epoch 178/400:   0%|                                                               | 0/8 [00:00<?, ?it/s<class 'dict'>]"
     ]
    },
    {
     "name": "stdout",
     "output_type": "stream",
     "text": [
      "Start Validation\n"
     ]
    },
    {
     "name": "stderr",
     "output_type": "stream",
     "text": [
      "Epoch 178/400: 100%|██████████████████████████████████████████████████████| 8/8 [00:01<00:00,  4.10it/s, total_loss=79]\n",
      "Epoch 179/400:   0%|                                                              | 0/28 [00:00<?, ?it/s<class 'dict'>]"
     ]
    },
    {
     "name": "stdout",
     "output_type": "stream",
     "text": [
      "Finish Validation\n",
      "Epoch:178/400\n",
      "Train Loss: 36.6777 || Val Loss: 70.2101 \n"
     ]
    },
    {
     "name": "stderr",
     "output_type": "stream",
     "text": [
      "Epoch 179/400: 100%|████████████████████████| 28/28 [00:14<00:00,  1.92it/s, lr=0.000167, step/s=0.43, total_loss=37.3]\n",
      "Epoch 179/400:   0%|                                                               | 0/8 [00:00<?, ?it/s<class 'dict'>]"
     ]
    },
    {
     "name": "stdout",
     "output_type": "stream",
     "text": [
      "Start Validation\n"
     ]
    },
    {
     "name": "stderr",
     "output_type": "stream",
     "text": [
      "Epoch 179/400: 100%|████████████████████████████████████████████████████| 8/8 [00:02<00:00,  3.99it/s, total_loss=99.4]\n",
      "Epoch 180/400:   0%|                                                              | 0/28 [00:00<?, ?it/s<class 'dict'>]"
     ]
    },
    {
     "name": "stdout",
     "output_type": "stream",
     "text": [
      "Finish Validation\n",
      "Epoch:179/400\n",
      "Train Loss: 35.9847 || Val Loss: 88.3675 \n"
     ]
    },
    {
     "name": "stderr",
     "output_type": "stream",
     "text": [
      "Epoch 180/400: 100%|███████████████████████| 28/28 [00:14<00:00,  1.91it/s, lr=0.000165, step/s=0.399, total_loss=37.6]\n",
      "Epoch 180/400:   0%|                                                               | 0/8 [00:00<?, ?it/s<class 'dict'>]"
     ]
    },
    {
     "name": "stdout",
     "output_type": "stream",
     "text": [
      "Start Validation\n"
     ]
    },
    {
     "name": "stderr",
     "output_type": "stream",
     "text": [
      "Epoch 180/400: 100%|████████████████████████████████████████████████████| 8/8 [00:01<00:00,  4.12it/s, total_loss=88.6]\n",
      "Epoch 181/400:   0%|                                                              | 0/28 [00:00<?, ?it/s<class 'dict'>]"
     ]
    },
    {
     "name": "stdout",
     "output_type": "stream",
     "text": [
      "Finish Validation\n",
      "Epoch:180/400\n",
      "Train Loss: 36.3304 || Val Loss: 78.7951 \n"
     ]
    },
    {
     "name": "stderr",
     "output_type": "stream",
     "text": [
      "Epoch 181/400: 100%|███████████████████████| 28/28 [00:14<00:00,  1.92it/s, lr=0.000164, step/s=0.409, total_loss=37.5]\n",
      "Epoch 181/400:   0%|                                                               | 0/8 [00:00<?, ?it/s<class 'dict'>]"
     ]
    },
    {
     "name": "stdout",
     "output_type": "stream",
     "text": [
      "Start Validation\n"
     ]
    },
    {
     "name": "stderr",
     "output_type": "stream",
     "text": [
      "Epoch 181/400: 100%|████████████████████████████████████████████████████| 8/8 [00:01<00:00,  4.17it/s, total_loss=89.8]\n",
      "Epoch 182/400:   0%|                                                              | 0/28 [00:00<?, ?it/s<class 'dict'>]"
     ]
    },
    {
     "name": "stdout",
     "output_type": "stream",
     "text": [
      "Finish Validation\n",
      "Epoch:181/400\n",
      "Train Loss: 36.1851 || Val Loss: 79.8603 \n"
     ]
    },
    {
     "name": "stderr",
     "output_type": "stream",
     "text": [
      "Epoch 182/400: 100%|███████████████████████| 28/28 [00:14<00:00,  1.92it/s, lr=0.000162, step/s=0.405, total_loss=38.4]\n",
      "Epoch 182/400:   0%|                                                               | 0/8 [00:00<?, ?it/s<class 'dict'>]"
     ]
    },
    {
     "name": "stdout",
     "output_type": "stream",
     "text": [
      "Start Validation\n"
     ]
    },
    {
     "name": "stderr",
     "output_type": "stream",
     "text": [
      "Epoch 182/400: 100%|████████████████████████████████████████████████████| 8/8 [00:01<00:00,  4.08it/s, total_loss=78.7]\n",
      "Epoch 183/400:   0%|                                                              | 0/28 [00:00<?, ?it/s<class 'dict'>]"
     ]
    },
    {
     "name": "stdout",
     "output_type": "stream",
     "text": [
      "Finish Validation\n",
      "Epoch:182/400\n",
      "Train Loss: 37.0647 || Val Loss: 69.9581 \n"
     ]
    },
    {
     "name": "stderr",
     "output_type": "stream",
     "text": [
      "Epoch 183/400: 100%|███████████████████████| 28/28 [00:14<00:00,  1.92it/s, lr=0.000161, step/s=0.426, total_loss=44.2]\n",
      "Epoch 183/400:   0%|                                                               | 0/8 [00:00<?, ?it/s<class 'dict'>]"
     ]
    },
    {
     "name": "stdout",
     "output_type": "stream",
     "text": [
      "Start Validation\n"
     ]
    },
    {
     "name": "stderr",
     "output_type": "stream",
     "text": [
      "Epoch 183/400: 100%|████████████████████████████████████████████████████| 8/8 [00:01<00:00,  4.09it/s, total_loss=90.6]\n",
      "Epoch 184/400:   0%|                                                              | 0/28 [00:00<?, ?it/s<class 'dict'>]"
     ]
    },
    {
     "name": "stdout",
     "output_type": "stream",
     "text": [
      "Finish Validation\n",
      "Epoch:183/400\n",
      "Train Loss: 42.7131 || Val Loss: 80.4913 \n"
     ]
    },
    {
     "name": "stderr",
     "output_type": "stream",
     "text": [
      "Epoch 184/400: 100%|███████████████████████| 28/28 [00:14<00:00,  1.93it/s, lr=0.000159, step/s=0.433, total_loss=40.1]\n",
      "Epoch 184/400:   0%|                                                               | 0/8 [00:00<?, ?it/s<class 'dict'>]"
     ]
    },
    {
     "name": "stdout",
     "output_type": "stream",
     "text": [
      "Start Validation\n"
     ]
    },
    {
     "name": "stderr",
     "output_type": "stream",
     "text": [
      "Epoch 184/400: 100%|████████████████████████████████████████████████████| 8/8 [00:01<00:00,  4.03it/s, total_loss=86.7]\n",
      "Epoch 185/400:   0%|                                                              | 0/28 [00:00<?, ?it/s<class 'dict'>]"
     ]
    },
    {
     "name": "stdout",
     "output_type": "stream",
     "text": [
      "Finish Validation\n",
      "Epoch:184/400\n",
      "Train Loss: 38.7395 || Val Loss: 77.0916 \n"
     ]
    },
    {
     "name": "stderr",
     "output_type": "stream",
     "text": [
      "Epoch 185/400: 100%|███████████████████████| 28/28 [00:14<00:00,  1.95it/s, lr=0.000157, step/s=0.408, total_loss=36.6]\n",
      "Epoch 185/400:   0%|                                                               | 0/8 [00:00<?, ?it/s<class 'dict'>]"
     ]
    },
    {
     "name": "stdout",
     "output_type": "stream",
     "text": [
      "Start Validation\n"
     ]
    },
    {
     "name": "stderr",
     "output_type": "stream",
     "text": [
      "Epoch 185/400: 100%|████████████████████████████████████████████████████| 8/8 [00:01<00:00,  4.08it/s, total_loss=80.2]\n",
      "Epoch 186/400:   0%|                                                              | 0/28 [00:00<?, ?it/s<class 'dict'>]"
     ]
    },
    {
     "name": "stdout",
     "output_type": "stream",
     "text": [
      "Finish Validation\n",
      "Epoch:185/400\n",
      "Train Loss: 35.3689 || Val Loss: 71.2843 \n"
     ]
    },
    {
     "name": "stderr",
     "output_type": "stream",
     "text": [
      "Epoch 186/400: 100%|████████████████████████| 28/28 [00:14<00:00,  1.94it/s, lr=0.000156, step/s=0.46, total_loss=39.4]\n",
      "Epoch 186/400:   0%|                                                               | 0/8 [00:00<?, ?it/s<class 'dict'>]"
     ]
    },
    {
     "name": "stdout",
     "output_type": "stream",
     "text": [
      "Start Validation\n"
     ]
    },
    {
     "name": "stderr",
     "output_type": "stream",
     "text": [
      "Epoch 186/400: 100%|████████████████████████████████████████████████████| 8/8 [00:02<00:00,  3.98it/s, total_loss=83.5]\n",
      "Epoch 187/400:   0%|                                                              | 0/28 [00:00<?, ?it/s<class 'dict'>]"
     ]
    },
    {
     "name": "stdout",
     "output_type": "stream",
     "text": [
      "Finish Validation\n",
      "Epoch:186/400\n",
      "Train Loss: 38.0854 || Val Loss: 74.1833 \n"
     ]
    },
    {
     "name": "stderr",
     "output_type": "stream",
     "text": [
      "Epoch 187/400: 100%|███████████████████████| 28/28 [00:14<00:00,  1.92it/s, lr=0.000154, step/s=0.395, total_loss=41.2]\n",
      "Epoch 187/400:   0%|                                                               | 0/8 [00:00<?, ?it/s<class 'dict'>]"
     ]
    },
    {
     "name": "stdout",
     "output_type": "stream",
     "text": [
      "Start Validation\n"
     ]
    },
    {
     "name": "stderr",
     "output_type": "stream",
     "text": [
      "Epoch 187/400: 100%|████████████████████████████████████████████████████| 8/8 [00:01<00:00,  4.03it/s, total_loss=74.7]\n",
      "Epoch 188/400:   0%|                                                              | 0/28 [00:00<?, ?it/s<class 'dict'>]"
     ]
    },
    {
     "name": "stdout",
     "output_type": "stream",
     "text": [
      "Finish Validation\n",
      "Epoch:187/400\n",
      "Train Loss: 39.7640 || Val Loss: 66.4177 \n"
     ]
    },
    {
     "name": "stderr",
     "output_type": "stream",
     "text": [
      "Epoch 188/400: 100%|█████████████████████████| 28/28 [00:14<00:00,  1.92it/s, lr=0.000153, step/s=0.437, total_loss=39]\n",
      "Epoch 188/400:   0%|                                                               | 0/8 [00:00<?, ?it/s<class 'dict'>]"
     ]
    },
    {
     "name": "stdout",
     "output_type": "stream",
     "text": [
      "Start Validation\n"
     ]
    },
    {
     "name": "stderr",
     "output_type": "stream",
     "text": [
      "Epoch 188/400: 100%|████████████████████████████████████████████████████| 8/8 [00:01<00:00,  4.13it/s, total_loss=81.2]\n",
      "Epoch 189/400:   0%|                                                              | 0/28 [00:00<?, ?it/s<class 'dict'>]"
     ]
    },
    {
     "name": "stdout",
     "output_type": "stream",
     "text": [
      "Finish Validation\n",
      "Epoch:188/400\n",
      "Train Loss: 37.6246 || Val Loss: 72.1512 \n"
     ]
    },
    {
     "name": "stderr",
     "output_type": "stream",
     "text": [
      "Epoch 189/400: 100%|███████████████████████| 28/28 [00:14<00:00,  1.92it/s, lr=0.000151, step/s=0.403, total_loss=37.6]\n",
      "Epoch 189/400:   0%|                                                               | 0/8 [00:00<?, ?it/s<class 'dict'>]"
     ]
    },
    {
     "name": "stdout",
     "output_type": "stream",
     "text": [
      "Start Validation\n"
     ]
    },
    {
     "name": "stderr",
     "output_type": "stream",
     "text": [
      "Epoch 189/400: 100%|████████████████████████████████████████████████████| 8/8 [00:02<00:00,  3.98it/s, total_loss=74.4]\n",
      "Epoch 190/400:   0%|                                                              | 0/28 [00:00<?, ?it/s<class 'dict'>]"
     ]
    },
    {
     "name": "stdout",
     "output_type": "stream",
     "text": [
      "Finish Validation\n",
      "Epoch:189/400\n",
      "Train Loss: 36.3000 || Val Loss: 66.1392 \n"
     ]
    },
    {
     "name": "stderr",
     "output_type": "stream",
     "text": [
      "Epoch 190/400: 100%|██████████████████████████| 28/28 [00:14<00:00,  1.92it/s, lr=0.00015, step/s=0.4, total_loss=38.8]\n",
      "Epoch 190/400:   0%|                                                               | 0/8 [00:00<?, ?it/s<class 'dict'>]"
     ]
    },
    {
     "name": "stdout",
     "output_type": "stream",
     "text": [
      "Start Validation\n"
     ]
    },
    {
     "name": "stderr",
     "output_type": "stream",
     "text": [
      "Epoch 190/400: 100%|████████████████████████████████████████████████████| 8/8 [00:02<00:00,  3.98it/s, total_loss=82.5]\n",
      "Epoch 191/400:   0%|                                                              | 0/28 [00:00<?, ?it/s<class 'dict'>]"
     ]
    },
    {
     "name": "stdout",
     "output_type": "stream",
     "text": [
      "Finish Validation\n",
      "Epoch:190/400\n",
      "Train Loss: 37.5065 || Val Loss: 73.3508 \n"
     ]
    },
    {
     "name": "stderr",
     "output_type": "stream",
     "text": [
      "Epoch 191/400: 100%|███████████████████████| 28/28 [00:14<00:00,  1.92it/s, lr=0.000148, step/s=0.408, total_loss=39.7]\n",
      "Epoch 191/400:   0%|                                                               | 0/8 [00:00<?, ?it/s<class 'dict'>]"
     ]
    },
    {
     "name": "stdout",
     "output_type": "stream",
     "text": [
      "Start Validation\n"
     ]
    },
    {
     "name": "stderr",
     "output_type": "stream",
     "text": [
      "Epoch 191/400: 100%|████████████████████████████████████████████████████| 8/8 [00:01<00:00,  4.08it/s, total_loss=79.4]\n",
      "Epoch 192/400:   0%|                                                              | 0/28 [00:00<?, ?it/s<class 'dict'>]"
     ]
    },
    {
     "name": "stdout",
     "output_type": "stream",
     "text": [
      "Finish Validation\n",
      "Epoch:191/400\n",
      "Train Loss: 38.2883 || Val Loss: 70.5407 \n"
     ]
    },
    {
     "name": "stderr",
     "output_type": "stream",
     "text": [
      "Epoch 192/400: 100%|███████████████████████| 28/28 [00:14<00:00,  1.93it/s, lr=0.000147, step/s=0.427, total_loss=39.6]\n",
      "Epoch 192/400:   0%|                                                               | 0/8 [00:00<?, ?it/s<class 'dict'>]"
     ]
    },
    {
     "name": "stdout",
     "output_type": "stream",
     "text": [
      "Start Validation\n"
     ]
    },
    {
     "name": "stderr",
     "output_type": "stream",
     "text": [
      "Epoch 192/400: 100%|████████████████████████████████████████████████████| 8/8 [00:01<00:00,  4.09it/s, total_loss=79.1]\n",
      "Epoch 193/400:   0%|                                                              | 0/28 [00:00<?, ?it/s<class 'dict'>]"
     ]
    },
    {
     "name": "stdout",
     "output_type": "stream",
     "text": [
      "Finish Validation\n",
      "Epoch:192/400\n",
      "Train Loss: 38.1893 || Val Loss: 70.3443 \n"
     ]
    },
    {
     "name": "stderr",
     "output_type": "stream",
     "text": [
      "Epoch 193/400: 100%|█████████████████████████| 28/28 [00:14<00:00,  1.92it/s, lr=0.000145, step/s=0.432, total_loss=37]\n",
      "Epoch 193/400:   0%|                                                               | 0/8 [00:00<?, ?it/s<class 'dict'>]"
     ]
    },
    {
     "name": "stdout",
     "output_type": "stream",
     "text": [
      "Start Validation\n"
     ]
    },
    {
     "name": "stderr",
     "output_type": "stream",
     "text": [
      "Epoch 193/400: 100%|████████████████████████████████████████████████████| 8/8 [00:01<00:00,  4.11it/s, total_loss=79.7]\n",
      "Epoch 194/400:   0%|                                                              | 0/28 [00:00<?, ?it/s<class 'dict'>]"
     ]
    },
    {
     "name": "stdout",
     "output_type": "stream",
     "text": [
      "Finish Validation\n",
      "Epoch:193/400\n",
      "Train Loss: 35.7717 || Val Loss: 70.8766 \n"
     ]
    },
    {
     "name": "stderr",
     "output_type": "stream",
     "text": [
      "Epoch 194/400: 100%|███████████████████████| 28/28 [00:14<00:00,  1.93it/s, lr=0.000144, step/s=0.422, total_loss=37.6]\n",
      "Epoch 194/400:   0%|                                                            | 0/8 [00:00<?, ?it/s, total_loss=88.7]"
     ]
    },
    {
     "name": "stdout",
     "output_type": "stream",
     "text": [
      "Start Validation\n"
     ]
    },
    {
     "name": "stderr",
     "output_type": "stream",
     "text": [
      "Epoch 194/400: 100%|████████████████████████████████████████████████████| 8/8 [00:01<00:00,  4.24it/s, total_loss=78.9]\n",
      "Epoch 195/400:   0%|                                                              | 0/28 [00:00<?, ?it/s<class 'dict'>]"
     ]
    },
    {
     "name": "stdout",
     "output_type": "stream",
     "text": [
      "Finish Validation\n",
      "Epoch:194/400\n",
      "Train Loss: 36.2586 || Val Loss: 70.1066 \n"
     ]
    },
    {
     "name": "stderr",
     "output_type": "stream",
     "text": [
      "Epoch 195/400: 100%|███████████████████████| 28/28 [00:14<00:00,  1.91it/s, lr=0.000142, step/s=0.446, total_loss=39.3]\n",
      "Epoch 195/400:   0%|                                                               | 0/8 [00:00<?, ?it/s<class 'dict'>]"
     ]
    },
    {
     "name": "stdout",
     "output_type": "stream",
     "text": [
      "Start Validation\n"
     ]
    },
    {
     "name": "stderr",
     "output_type": "stream",
     "text": [
      "Epoch 195/400: 100%|████████████████████████████████████████████████████| 8/8 [00:01<00:00,  4.10it/s, total_loss=86.3]\n",
      "Epoch 196/400:   0%|                                                              | 0/28 [00:00<?, ?it/s<class 'dict'>]"
     ]
    },
    {
     "name": "stdout",
     "output_type": "stream",
     "text": [
      "Finish Validation\n",
      "Epoch:195/400\n",
      "Train Loss: 37.9619 || Val Loss: 76.6807 \n"
     ]
    },
    {
     "name": "stderr",
     "output_type": "stream",
     "text": [
      "Epoch 196/400: 100%|███████████████████████| 28/28 [00:14<00:00,  1.92it/s, lr=0.000141, step/s=0.408, total_loss=39.5]\n",
      "Epoch 196/400:   0%|                                                               | 0/8 [00:00<?, ?it/s<class 'dict'>]"
     ]
    },
    {
     "name": "stdout",
     "output_type": "stream",
     "text": [
      "Start Validation\n"
     ]
    },
    {
     "name": "stderr",
     "output_type": "stream",
     "text": [
      "Epoch 196/400: 100%|████████████████████████████████████████████████████| 8/8 [00:02<00:00,  4.00it/s, total_loss=71.7]\n",
      "Epoch 197/400:   0%|                                                              | 0/28 [00:00<?, ?it/s<class 'dict'>]"
     ]
    },
    {
     "name": "stdout",
     "output_type": "stream",
     "text": [
      "Finish Validation\n",
      "Epoch:196/400\n",
      "Train Loss: 38.1349 || Val Loss: 63.7193 \n"
     ]
    },
    {
     "name": "stderr",
     "output_type": "stream",
     "text": [
      "Epoch 197/400: 100%|███████████████████████| 28/28 [00:14<00:00,  1.93it/s, lr=0.000139, step/s=0.425, total_loss=38.7]\n",
      "Epoch 197/400:   0%|                                                               | 0/8 [00:00<?, ?it/s<class 'dict'>]"
     ]
    },
    {
     "name": "stdout",
     "output_type": "stream",
     "text": [
      "Start Validation\n"
     ]
    },
    {
     "name": "stderr",
     "output_type": "stream",
     "text": [
      "Epoch 197/400: 100%|████████████████████████████████████████████████████| 8/8 [00:01<00:00,  4.04it/s, total_loss=76.1]\n",
      "Epoch 198/400:   0%|                                                              | 0/28 [00:00<?, ?it/s<class 'dict'>]"
     ]
    },
    {
     "name": "stdout",
     "output_type": "stream",
     "text": [
      "Finish Validation\n",
      "Epoch:197/400\n",
      "Train Loss: 37.3230 || Val Loss: 67.6727 \n"
     ]
    },
    {
     "name": "stderr",
     "output_type": "stream",
     "text": [
      "Epoch 198/400: 100%|███████████████████████| 28/28 [00:14<00:00,  1.93it/s, lr=0.000138, step/s=0.408, total_loss=38.8]\n",
      "Epoch 198/400:   0%|                                                               | 0/8 [00:00<?, ?it/s<class 'dict'>]"
     ]
    },
    {
     "name": "stdout",
     "output_type": "stream",
     "text": [
      "Start Validation\n"
     ]
    },
    {
     "name": "stderr",
     "output_type": "stream",
     "text": [
      "Epoch 198/400: 100%|████████████████████████████████████████████████████| 8/8 [00:01<00:00,  4.14it/s, total_loss=80.8]\n",
      "Epoch 199/400:   0%|                                                              | 0/28 [00:00<?, ?it/s<class 'dict'>]"
     ]
    },
    {
     "name": "stdout",
     "output_type": "stream",
     "text": [
      "Finish Validation\n",
      "Epoch:198/400\n",
      "Train Loss: 37.4725 || Val Loss: 71.8484 \n"
     ]
    },
    {
     "name": "stderr",
     "output_type": "stream",
     "text": [
      "Epoch 199/400: 100%|█████████████████████████| 28/28 [00:14<00:00,  1.93it/s, lr=0.000137, step/s=0.4, total_loss=40.6]\n",
      "Epoch 199/400:   0%|                                                               | 0/8 [00:00<?, ?it/s<class 'dict'>]"
     ]
    },
    {
     "name": "stdout",
     "output_type": "stream",
     "text": [
      "Start Validation\n"
     ]
    },
    {
     "name": "stderr",
     "output_type": "stream",
     "text": [
      "Epoch 199/400: 100%|████████████████████████████████████████████████████| 8/8 [00:01<00:00,  4.18it/s, total_loss=81.7]\n",
      "Epoch 200/400:   0%|                                                              | 0/28 [00:00<?, ?it/s<class 'dict'>]"
     ]
    },
    {
     "name": "stdout",
     "output_type": "stream",
     "text": [
      "Finish Validation\n",
      "Epoch:199/400\n",
      "Train Loss: 39.2208 || Val Loss: 72.6459 \n"
     ]
    },
    {
     "name": "stderr",
     "output_type": "stream",
     "text": [
      "Epoch 200/400: 100%|███████████████████████| 28/28 [00:14<00:00,  1.94it/s, lr=0.000135, step/s=0.406, total_loss=38.3]\n",
      "Epoch 200/400:   0%|                                                               | 0/8 [00:00<?, ?it/s<class 'dict'>]"
     ]
    },
    {
     "name": "stdout",
     "output_type": "stream",
     "text": [
      "Start Validation\n"
     ]
    },
    {
     "name": "stderr",
     "output_type": "stream",
     "text": [
      "Epoch 200/400: 100%|████████████████████████████████████████████████████| 8/8 [00:01<00:00,  4.07it/s, total_loss=78.9]\n"
     ]
    },
    {
     "name": "stdout",
     "output_type": "stream",
     "text": [
      "Finish Validation\n",
      "Epoch:200/400\n",
      "Train Loss: 36.9516 || Val Loss: 70.1444 \n"
     ]
    },
    {
     "name": "stderr",
     "output_type": "stream",
     "text": [
      "Epoch 201/400: 100%|███████████████████████| 28/28 [00:14<00:00,  1.92it/s, lr=0.000134, step/s=0.399, total_loss=39.9]\n",
      "Epoch 201/400:   0%|                                                               | 0/8 [00:00<?, ?it/s<class 'dict'>]"
     ]
    },
    {
     "name": "stdout",
     "output_type": "stream",
     "text": [
      "Start Validation\n"
     ]
    },
    {
     "name": "stderr",
     "output_type": "stream",
     "text": [
      "Epoch 201/400: 100%|████████████████████████████████████████████████████| 8/8 [00:01<00:00,  4.03it/s, total_loss=75.4]\n",
      "Epoch 202/400:   0%|                                                              | 0/28 [00:00<?, ?it/s<class 'dict'>]"
     ]
    },
    {
     "name": "stdout",
     "output_type": "stream",
     "text": [
      "Finish Validation\n",
      "Epoch:201/400\n",
      "Train Loss: 38.5011 || Val Loss: 67.0287 \n"
     ]
    },
    {
     "name": "stderr",
     "output_type": "stream",
     "text": [
      "Epoch 202/400: 100%|███████████████████████| 28/28 [00:14<00:00,  1.94it/s, lr=0.000133, step/s=0.434, total_loss=37.2]\n",
      "Epoch 202/400:   0%|                                                               | 0/8 [00:00<?, ?it/s<class 'dict'>]"
     ]
    },
    {
     "name": "stdout",
     "output_type": "stream",
     "text": [
      "Start Validation\n"
     ]
    },
    {
     "name": "stderr",
     "output_type": "stream",
     "text": [
      "Epoch 202/400: 100%|████████████████████████████████████████████████████| 8/8 [00:01<00:00,  4.15it/s, total_loss=75.4]\n",
      "Epoch 203/400:   0%|                                                              | 0/28 [00:00<?, ?it/s<class 'dict'>]"
     ]
    },
    {
     "name": "stdout",
     "output_type": "stream",
     "text": [
      "Finish Validation\n",
      "Epoch:202/400\n",
      "Train Loss: 35.9022 || Val Loss: 66.9789 \n"
     ]
    },
    {
     "name": "stderr",
     "output_type": "stream",
     "text": [
      "Epoch 203/400: 100%|█████████████████████████| 28/28 [00:14<00:00,  1.94it/s, lr=0.000131, step/s=0.414, total_loss=37]\n",
      "Epoch 203/400:   0%|                                                               | 0/8 [00:00<?, ?it/s<class 'dict'>]"
     ]
    },
    {
     "name": "stdout",
     "output_type": "stream",
     "text": [
      "Start Validation\n"
     ]
    },
    {
     "name": "stderr",
     "output_type": "stream",
     "text": [
      "Epoch 203/400: 100%|██████████████████████████████████████████████████████| 8/8 [00:01<00:00,  4.06it/s, total_loss=80]\n",
      "Epoch 204/400:   0%|                                                              | 0/28 [00:00<?, ?it/s<class 'dict'>]"
     ]
    },
    {
     "name": "stdout",
     "output_type": "stream",
     "text": [
      "Finish Validation\n",
      "Epoch:203/400\n",
      "Train Loss: 35.7258 || Val Loss: 71.1509 \n"
     ]
    },
    {
     "name": "stderr",
     "output_type": "stream",
     "text": [
      "Epoch 204/400: 100%|████████████████████████| 28/28 [00:14<00:00,  1.93it/s, lr=0.00013, step/s=0.422, total_loss=35.8]\n",
      "Epoch 204/400:   0%|                                                               | 0/8 [00:00<?, ?it/s<class 'dict'>]"
     ]
    },
    {
     "name": "stdout",
     "output_type": "stream",
     "text": [
      "Start Validation\n"
     ]
    },
    {
     "name": "stderr",
     "output_type": "stream",
     "text": [
      "Epoch 204/400: 100%|████████████████████████████████████████████████████| 8/8 [00:01<00:00,  4.24it/s, total_loss=72.5]\n",
      "Epoch 205/400:   0%|                                                              | 0/28 [00:00<?, ?it/s<class 'dict'>]"
     ]
    },
    {
     "name": "stdout",
     "output_type": "stream",
     "text": [
      "Finish Validation\n",
      "Epoch:204/400\n",
      "Train Loss: 34.6038 || Val Loss: 64.4279 \n"
     ]
    },
    {
     "name": "stderr",
     "output_type": "stream",
     "text": [
      "Epoch 205/400: 100%|███████████████████████| 28/28 [00:14<00:00,  1.93it/s, lr=0.000129, step/s=0.414, total_loss=39.9]\n",
      "Epoch 205/400:   0%|                                                               | 0/8 [00:00<?, ?it/s<class 'dict'>]"
     ]
    },
    {
     "name": "stdout",
     "output_type": "stream",
     "text": [
      "Start Validation\n"
     ]
    },
    {
     "name": "stderr",
     "output_type": "stream",
     "text": [
      "Epoch 205/400: 100%|████████████████████████████████████████████████████| 8/8 [00:01<00:00,  4.07it/s, total_loss=88.9]\n",
      "Epoch 206/400:   0%|                                                              | 0/28 [00:00<?, ?it/s<class 'dict'>]"
     ]
    },
    {
     "name": "stdout",
     "output_type": "stream",
     "text": [
      "Finish Validation\n",
      "Epoch:205/400\n",
      "Train Loss: 38.5196 || Val Loss: 79.0560 \n"
     ]
    },
    {
     "name": "stderr",
     "output_type": "stream",
     "text": [
      "Epoch 206/400: 100%|███████████████████████| 28/28 [00:14<00:00,  1.92it/s, lr=0.000127, step/s=0.386, total_loss=38.9]\n",
      "Epoch 206/400:   0%|                                                               | 0/8 [00:00<?, ?it/s<class 'dict'>]"
     ]
    },
    {
     "name": "stdout",
     "output_type": "stream",
     "text": [
      "Start Validation\n"
     ]
    },
    {
     "name": "stderr",
     "output_type": "stream",
     "text": [
      "Epoch 206/400: 100%|████████████████████████████████████████████████████| 8/8 [00:01<00:00,  4.06it/s, total_loss=81.2]\n",
      "Epoch 207/400:   0%|                                                              | 0/28 [00:00<?, ?it/s<class 'dict'>]"
     ]
    },
    {
     "name": "stdout",
     "output_type": "stream",
     "text": [
      "Finish Validation\n",
      "Epoch:206/400\n",
      "Train Loss: 37.5361 || Val Loss: 72.2128 \n"
     ]
    },
    {
     "name": "stderr",
     "output_type": "stream",
     "text": [
      "Epoch 207/400: 100%|███████████████████████| 28/28 [00:14<00:00,  1.93it/s, lr=0.000126, step/s=0.414, total_loss=36.5]\n",
      "Epoch 207/400:   0%|                                                               | 0/8 [00:00<?, ?it/s<class 'dict'>]"
     ]
    },
    {
     "name": "stdout",
     "output_type": "stream",
     "text": [
      "Start Validation\n"
     ]
    },
    {
     "name": "stderr",
     "output_type": "stream",
     "text": [
      "Epoch 207/400: 100%|████████████████████████████████████████████████████| 8/8 [00:01<00:00,  4.13it/s, total_loss=88.8]\n",
      "Epoch 208/400:   0%|                                                              | 0/28 [00:00<?, ?it/s<class 'dict'>]"
     ]
    },
    {
     "name": "stdout",
     "output_type": "stream",
     "text": [
      "Finish Validation\n",
      "Epoch:207/400\n",
      "Train Loss: 35.2632 || Val Loss: 78.9397 \n"
     ]
    },
    {
     "name": "stderr",
     "output_type": "stream",
     "text": [
      "Epoch 208/400: 100%|████████████████████████| 28/28 [00:14<00:00,  1.92it/s, lr=0.000125, step/s=0.42, total_loss=41.9]\n",
      "Epoch 208/400:   0%|                                                               | 0/8 [00:00<?, ?it/s<class 'dict'>]"
     ]
    },
    {
     "name": "stdout",
     "output_type": "stream",
     "text": [
      "Start Validation\n"
     ]
    },
    {
     "name": "stderr",
     "output_type": "stream",
     "text": [
      "Epoch 208/400: 100%|████████████████████████████████████████████████████| 8/8 [00:01<00:00,  4.13it/s, total_loss=70.5]\n",
      "Epoch 209/400:   0%|                                                              | 0/28 [00:00<?, ?it/s<class 'dict'>]"
     ]
    },
    {
     "name": "stdout",
     "output_type": "stream",
     "text": [
      "Finish Validation\n",
      "Epoch:208/400\n",
      "Train Loss: 40.4278 || Val Loss: 62.6999 \n"
     ]
    },
    {
     "name": "stderr",
     "output_type": "stream",
     "text": [
      "Epoch 209/400: 100%|███████████████████████| 28/28 [00:14<00:00,  1.93it/s, lr=0.000124, step/s=0.426, total_loss=40.6]\n",
      "Epoch 209/400:   0%|                                                               | 0/8 [00:00<?, ?it/s<class 'dict'>]"
     ]
    },
    {
     "name": "stdout",
     "output_type": "stream",
     "text": [
      "Start Validation\n"
     ]
    },
    {
     "name": "stderr",
     "output_type": "stream",
     "text": [
      "Epoch 209/400: 100%|████████████████████████████████████████████████████| 8/8 [00:01<00:00,  4.13it/s, total_loss=76.2]\n",
      "Epoch 210/400:   0%|                                                              | 0/28 [00:00<?, ?it/s<class 'dict'>]"
     ]
    },
    {
     "name": "stdout",
     "output_type": "stream",
     "text": [
      "Finish Validation\n",
      "Epoch:209/400\n",
      "Train Loss: 39.1725 || Val Loss: 67.7473 \n"
     ]
    },
    {
     "name": "stderr",
     "output_type": "stream",
     "text": [
      "Epoch 210/400: 100%|███████████████████████| 28/28 [00:14<00:00,  1.93it/s, lr=0.000122, step/s=0.412, total_loss=38.1]\n",
      "Epoch 210/400:   0%|                                                               | 0/8 [00:00<?, ?it/s<class 'dict'>]"
     ]
    },
    {
     "name": "stdout",
     "output_type": "stream",
     "text": [
      "Start Validation\n"
     ]
    },
    {
     "name": "stderr",
     "output_type": "stream",
     "text": [
      "Epoch 210/400: 100%|████████████████████████████████████████████████████| 8/8 [00:01<00:00,  4.19it/s, total_loss=77.7]\n",
      "Epoch 211/400:   0%|                                                              | 0/28 [00:00<?, ?it/s<class 'dict'>]"
     ]
    },
    {
     "name": "stdout",
     "output_type": "stream",
     "text": [
      "Finish Validation\n",
      "Epoch:210/400\n",
      "Train Loss: 36.7777 || Val Loss: 69.0927 \n"
     ]
    },
    {
     "name": "stderr",
     "output_type": "stream",
     "text": [
      "Epoch 211/400: 100%|█████████████████████████| 28/28 [00:14<00:00,  1.92it/s, lr=0.000121, step/s=0.417, total_loss=39]\n",
      "Epoch 211/400:   0%|                                                               | 0/8 [00:00<?, ?it/s<class 'dict'>]"
     ]
    },
    {
     "name": "stdout",
     "output_type": "stream",
     "text": [
      "Start Validation\n"
     ]
    },
    {
     "name": "stderr",
     "output_type": "stream",
     "text": [
      "Epoch 211/400: 100%|████████████████████████████████████████████████████| 8/8 [00:01<00:00,  4.06it/s, total_loss=85.7]\n",
      "Epoch 212/400:   0%|                                                              | 0/28 [00:00<?, ?it/s<class 'dict'>]"
     ]
    },
    {
     "name": "stdout",
     "output_type": "stream",
     "text": [
      "Finish Validation\n",
      "Epoch:211/400\n",
      "Train Loss: 37.6490 || Val Loss: 76.1571 \n"
     ]
    },
    {
     "name": "stderr",
     "output_type": "stream",
     "text": [
      "Epoch 212/400: 100%|████████████████████████| 28/28 [00:14<00:00,  1.93it/s, lr=0.00012, step/s=0.397, total_loss=35.5]\n",
      "Epoch 212/400:   0%|                                                               | 0/8 [00:00<?, ?it/s<class 'dict'>]"
     ]
    },
    {
     "name": "stdout",
     "output_type": "stream",
     "text": [
      "Start Validation\n"
     ]
    },
    {
     "name": "stderr",
     "output_type": "stream",
     "text": [
      "Epoch 212/400: 100%|████████████████████████████████████████████████████| 8/8 [00:01<00:00,  4.07it/s, total_loss=79.1]\n",
      "Epoch 213/400:   0%|                                                              | 0/28 [00:00<?, ?it/s<class 'dict'>]"
     ]
    },
    {
     "name": "stdout",
     "output_type": "stream",
     "text": [
      "Finish Validation\n",
      "Epoch:212/400\n",
      "Train Loss: 34.2916 || Val Loss: 70.3187 \n"
     ]
    },
    {
     "name": "stderr",
     "output_type": "stream",
     "text": [
      "Epoch 213/400: 100%|███████████████████████| 28/28 [00:14<00:00,  1.93it/s, lr=0.000119, step/s=0.433, total_loss=36.4]\n",
      "Epoch 213/400:   0%|                                                            | 0/8 [00:00<?, ?it/s, total_loss=83.8]"
     ]
    },
    {
     "name": "stdout",
     "output_type": "stream",
     "text": [
      "Start Validation\n"
     ]
    },
    {
     "name": "stderr",
     "output_type": "stream",
     "text": [
      "Epoch 213/400: 100%|████████████████████████████████████████████████████| 8/8 [00:01<00:00,  4.03it/s, total_loss=78.9]\n",
      "Epoch 214/400:   0%|                                                              | 0/28 [00:00<?, ?it/s<class 'dict'>]"
     ]
    },
    {
     "name": "stdout",
     "output_type": "stream",
     "text": [
      "Finish Validation\n",
      "Epoch:213/400\n",
      "Train Loss: 35.1612 || Val Loss: 70.1109 \n"
     ]
    },
    {
     "name": "stderr",
     "output_type": "stream",
     "text": [
      "Epoch 214/400: 100%|███████████████████████| 28/28 [00:14<00:00,  1.93it/s, lr=0.000118, step/s=0.446, total_loss=34.6]\n",
      "Epoch 214/400:   0%|                                                               | 0/8 [00:00<?, ?it/s<class 'dict'>]"
     ]
    },
    {
     "name": "stdout",
     "output_type": "stream",
     "text": [
      "Start Validation\n"
     ]
    },
    {
     "name": "stderr",
     "output_type": "stream",
     "text": [
      "Epoch 214/400: 100%|████████████████████████████████████████████████████| 8/8 [00:01<00:00,  4.03it/s, total_loss=73.8]\n",
      "Epoch 215/400:   0%|                                                              | 0/28 [00:00<?, ?it/s<class 'dict'>]"
     ]
    },
    {
     "name": "stdout",
     "output_type": "stream",
     "text": [
      "Finish Validation\n",
      "Epoch:214/400\n",
      "Train Loss: 33.4388 || Val Loss: 65.5745 \n"
     ]
    },
    {
     "name": "stderr",
     "output_type": "stream",
     "text": [
      "Epoch 215/400: 100%|███████████████████████| 28/28 [00:14<00:00,  1.93it/s, lr=0.000116, step/s=0.423, total_loss=35.2]\n",
      "Epoch 215/400:   0%|                                                               | 0/8 [00:00<?, ?it/s<class 'dict'>]"
     ]
    },
    {
     "name": "stdout",
     "output_type": "stream",
     "text": [
      "Start Validation\n"
     ]
    },
    {
     "name": "stderr",
     "output_type": "stream",
     "text": [
      "Epoch 215/400: 100%|██████████████████████████████████████████████████████| 8/8 [00:01<00:00,  4.08it/s, total_loss=71]\n",
      "Epoch 216/400:   0%|                                                              | 0/28 [00:00<?, ?it/s<class 'dict'>]"
     ]
    },
    {
     "name": "stdout",
     "output_type": "stream",
     "text": [
      "Finish Validation\n",
      "Epoch:215/400\n",
      "Train Loss: 33.9543 || Val Loss: 63.1285 \n"
     ]
    },
    {
     "name": "stderr",
     "output_type": "stream",
     "text": [
      "Epoch 216/400: 100%|███████████████████████| 28/28 [00:14<00:00,  1.94it/s, lr=0.000115, step/s=0.384, total_loss=36.1]\n",
      "Epoch 216/400:   0%|                                                               | 0/8 [00:00<?, ?it/s<class 'dict'>]"
     ]
    },
    {
     "name": "stdout",
     "output_type": "stream",
     "text": [
      "Start Validation\n"
     ]
    },
    {
     "name": "stderr",
     "output_type": "stream",
     "text": [
      "Epoch 216/400: 100%|████████████████████████████████████████████████████| 8/8 [00:02<00:00,  3.94it/s, total_loss=78.2]\n",
      "Epoch 217/400:   0%|                                                              | 0/28 [00:00<?, ?it/s<class 'dict'>]"
     ]
    },
    {
     "name": "stdout",
     "output_type": "stream",
     "text": [
      "Finish Validation\n",
      "Epoch:216/400\n",
      "Train Loss: 34.8217 || Val Loss: 69.5420 \n"
     ]
    },
    {
     "name": "stderr",
     "output_type": "stream",
     "text": [
      "Epoch 217/400: 100%|███████████████████████| 28/28 [00:14<00:00,  1.94it/s, lr=0.000114, step/s=0.408, total_loss=38.8]\n",
      "Epoch 217/400:   0%|                                                               | 0/8 [00:00<?, ?it/s<class 'dict'>]"
     ]
    },
    {
     "name": "stdout",
     "output_type": "stream",
     "text": [
      "Start Validation\n"
     ]
    },
    {
     "name": "stderr",
     "output_type": "stream",
     "text": [
      "Epoch 217/400: 100%|████████████████████████████████████████████████████| 8/8 [00:01<00:00,  4.15it/s, total_loss=77.8]\n",
      "Epoch 218/400:   0%|                                                              | 0/28 [00:00<?, ?it/s<class 'dict'>]"
     ]
    },
    {
     "name": "stdout",
     "output_type": "stream",
     "text": [
      "Finish Validation\n",
      "Epoch:217/400\n",
      "Train Loss: 37.4589 || Val Loss: 69.1448 \n"
     ]
    },
    {
     "name": "stderr",
     "output_type": "stream",
     "text": [
      "Epoch 218/400: 100%|███████████████████████| 28/28 [00:14<00:00,  1.92it/s, lr=0.000113, step/s=0.415, total_loss=36.4]\n",
      "Epoch 218/400:   0%|                                                               | 0/8 [00:00<?, ?it/s<class 'dict'>]"
     ]
    },
    {
     "name": "stdout",
     "output_type": "stream",
     "text": [
      "Start Validation\n"
     ]
    },
    {
     "name": "stderr",
     "output_type": "stream",
     "text": [
      "Epoch 218/400: 100%|████████████████████████████████████████████████████| 8/8 [00:01<00:00,  4.04it/s, total_loss=75.8]\n",
      "Epoch 219/400:   0%|                                                              | 0/28 [00:00<?, ?it/s<class 'dict'>]"
     ]
    },
    {
     "name": "stdout",
     "output_type": "stream",
     "text": [
      "Finish Validation\n",
      "Epoch:218/400\n",
      "Train Loss: 35.0996 || Val Loss: 67.3801 \n"
     ]
    },
    {
     "name": "stderr",
     "output_type": "stream",
     "text": [
      "Epoch 219/400: 100%|███████████████████████| 28/28 [00:14<00:00,  1.92it/s, lr=0.000112, step/s=0.386, total_loss=37.7]\n",
      "Epoch 219/400:   0%|                                                               | 0/8 [00:00<?, ?it/s<class 'dict'>]"
     ]
    },
    {
     "name": "stdout",
     "output_type": "stream",
     "text": [
      "Start Validation\n"
     ]
    },
    {
     "name": "stderr",
     "output_type": "stream",
     "text": [
      "Epoch 219/400: 100%|██████████████████████████████████████████████████████| 8/8 [00:01<00:00,  4.02it/s, total_loss=83]\n",
      "Epoch 220/400:   0%|                                                              | 0/28 [00:00<?, ?it/s<class 'dict'>]"
     ]
    },
    {
     "name": "stdout",
     "output_type": "stream",
     "text": [
      "Finish Validation\n",
      "Epoch:219/400\n",
      "Train Loss: 36.3964 || Val Loss: 73.7596 \n"
     ]
    },
    {
     "name": "stderr",
     "output_type": "stream",
     "text": [
      "Epoch 220/400: 100%|███████████████████████| 28/28 [00:14<00:00,  1.93it/s, lr=0.000111, step/s=0.412, total_loss=39.5]\n",
      "Epoch 220/400:   0%|                                                               | 0/8 [00:00<?, ?it/s<class 'dict'>]"
     ]
    },
    {
     "name": "stdout",
     "output_type": "stream",
     "text": [
      "Start Validation\n"
     ]
    },
    {
     "name": "stderr",
     "output_type": "stream",
     "text": [
      "Epoch 220/400: 100%|████████████████████████████████████████████████████| 8/8 [00:01<00:00,  4.13it/s, total_loss=74.1]\n",
      "Epoch 221/400:   0%|                                                              | 0/28 [00:00<?, ?it/s<class 'dict'>]"
     ]
    },
    {
     "name": "stdout",
     "output_type": "stream",
     "text": [
      "Finish Validation\n",
      "Epoch:220/400\n",
      "Train Loss: 38.1656 || Val Loss: 65.9042 \n"
     ]
    },
    {
     "name": "stderr",
     "output_type": "stream",
     "text": [
      "Epoch 221/400: 100%|████████████████████████| 28/28 [00:14<00:00,  1.93it/s, lr=0.00011, step/s=0.425, total_loss=35.6]\n",
      "Epoch 221/400:   0%|                                                               | 0/8 [00:00<?, ?it/s<class 'dict'>]"
     ]
    },
    {
     "name": "stdout",
     "output_type": "stream",
     "text": [
      "Start Validation\n"
     ]
    },
    {
     "name": "stderr",
     "output_type": "stream",
     "text": [
      "Epoch 221/400: 100%|████████████████████████████████████████████████████| 8/8 [00:02<00:00,  3.98it/s, total_loss=73.7]\n",
      "Epoch 222/400:   0%|                                                              | 0/28 [00:00<?, ?it/s<class 'dict'>]"
     ]
    },
    {
     "name": "stdout",
     "output_type": "stream",
     "text": [
      "Finish Validation\n",
      "Epoch:221/400\n",
      "Train Loss: 34.3449 || Val Loss: 65.5272 \n"
     ]
    },
    {
     "name": "stderr",
     "output_type": "stream",
     "text": [
      "Epoch 222/400: 100%|███████████████████████| 28/28 [00:14<00:00,  1.93it/s, lr=0.000108, step/s=0.425, total_loss=41.3]\n",
      "Epoch 222/400:   0%|                                                               | 0/8 [00:00<?, ?it/s<class 'dict'>]"
     ]
    },
    {
     "name": "stdout",
     "output_type": "stream",
     "text": [
      "Start Validation\n"
     ]
    },
    {
     "name": "stderr",
     "output_type": "stream",
     "text": [
      "Epoch 222/400: 100%|████████████████████████████████████████████████████| 8/8 [00:01<00:00,  4.13it/s, total_loss=72.5]\n",
      "Epoch 223/400:   0%|                                                              | 0/28 [00:00<?, ?it/s<class 'dict'>]"
     ]
    },
    {
     "name": "stdout",
     "output_type": "stream",
     "text": [
      "Finish Validation\n",
      "Epoch:222/400\n",
      "Train Loss: 39.8771 || Val Loss: 64.4380 \n"
     ]
    },
    {
     "name": "stderr",
     "output_type": "stream",
     "text": [
      "Epoch 223/400: 100%|███████████████████████| 28/28 [00:14<00:00,  1.93it/s, lr=0.000107, step/s=0.391, total_loss=38.7]\n",
      "Epoch 223/400:   0%|                                                               | 0/8 [00:00<?, ?it/s<class 'dict'>]"
     ]
    },
    {
     "name": "stdout",
     "output_type": "stream",
     "text": [
      "Start Validation\n"
     ]
    },
    {
     "name": "stderr",
     "output_type": "stream",
     "text": [
      "Epoch 223/400: 100%|████████████████████████████████████████████████████| 8/8 [00:01<00:00,  4.12it/s, total_loss=72.3]\n",
      "Epoch 224/400:   0%|                                                              | 0/28 [00:00<?, ?it/s<class 'dict'>]"
     ]
    },
    {
     "name": "stdout",
     "output_type": "stream",
     "text": [
      "Finish Validation\n",
      "Epoch:223/400\n",
      "Train Loss: 37.3829 || Val Loss: 64.2880 \n"
     ]
    },
    {
     "name": "stderr",
     "output_type": "stream",
     "text": [
      "Epoch 224/400: 100%|███████████████████████| 28/28 [00:14<00:00,  1.93it/s, lr=0.000106, step/s=0.395, total_loss=35.4]\n",
      "Epoch 224/400:   0%|                                                               | 0/8 [00:00<?, ?it/s<class 'dict'>]"
     ]
    },
    {
     "name": "stdout",
     "output_type": "stream",
     "text": [
      "Start Validation\n"
     ]
    },
    {
     "name": "stderr",
     "output_type": "stream",
     "text": [
      "Epoch 224/400: 100%|████████████████████████████████████████████████████| 8/8 [00:01<00:00,  4.06it/s, total_loss=77.2]\n",
      "Epoch 225/400:   0%|                                                              | 0/28 [00:00<?, ?it/s<class 'dict'>]"
     ]
    },
    {
     "name": "stdout",
     "output_type": "stream",
     "text": [
      "Finish Validation\n",
      "Epoch:224/400\n",
      "Train Loss: 34.1890 || Val Loss: 68.6187 \n"
     ]
    },
    {
     "name": "stderr",
     "output_type": "stream",
     "text": [
      "Epoch 225/400: 100%|█████████████████████████| 28/28 [00:14<00:00,  1.94it/s, lr=0.000105, step/s=0.434, total_loss=36]\n",
      "Epoch 225/400:   0%|                                                               | 0/8 [00:00<?, ?it/s<class 'dict'>]"
     ]
    },
    {
     "name": "stdout",
     "output_type": "stream",
     "text": [
      "Start Validation\n"
     ]
    },
    {
     "name": "stderr",
     "output_type": "stream",
     "text": [
      "Epoch 225/400: 100%|████████████████████████████████████████████████████| 8/8 [00:02<00:00,  3.93it/s, total_loss=73.9]\n",
      "Epoch 226/400:   0%|                                                              | 0/28 [00:00<?, ?it/s<class 'dict'>]"
     ]
    },
    {
     "name": "stdout",
     "output_type": "stream",
     "text": [
      "Finish Validation\n",
      "Epoch:225/400\n",
      "Train Loss: 34.7794 || Val Loss: 65.7104 \n"
     ]
    },
    {
     "name": "stderr",
     "output_type": "stream",
     "text": [
      "Epoch 226/400: 100%|███████████████████████| 28/28 [00:14<00:00,  1.94it/s, lr=0.000104, step/s=0.399, total_loss=34.4]\n",
      "Epoch 226/400:   0%|                                                               | 0/8 [00:00<?, ?it/s<class 'dict'>]"
     ]
    },
    {
     "name": "stdout",
     "output_type": "stream",
     "text": [
      "Start Validation\n"
     ]
    },
    {
     "name": "stderr",
     "output_type": "stream",
     "text": [
      "Epoch 226/400: 100%|████████████████████████████████████████████████████| 8/8 [00:01<00:00,  4.05it/s, total_loss=92.1]\n",
      "Epoch 227/400:   0%|                                                              | 0/28 [00:00<?, ?it/s<class 'dict'>]"
     ]
    },
    {
     "name": "stdout",
     "output_type": "stream",
     "text": [
      "Finish Validation\n",
      "Epoch:226/400\n",
      "Train Loss: 33.2053 || Val Loss: 81.8725 \n"
     ]
    },
    {
     "name": "stderr",
     "output_type": "stream",
     "text": [
      "Epoch 227/400: 100%|███████████████████████| 28/28 [00:14<00:00,  1.94it/s, lr=0.000103, step/s=0.385, total_loss=37.9]\n",
      "Epoch 227/400:   0%|                                                               | 0/8 [00:00<?, ?it/s<class 'dict'>]"
     ]
    },
    {
     "name": "stdout",
     "output_type": "stream",
     "text": [
      "Start Validation\n"
     ]
    },
    {
     "name": "stderr",
     "output_type": "stream",
     "text": [
      "Epoch 227/400: 100%|████████████████████████████████████████████████████| 8/8 [00:01<00:00,  4.05it/s, total_loss=79.4]\n",
      "Epoch 228/400:   0%|                                                              | 0/28 [00:00<?, ?it/s<class 'dict'>]"
     ]
    },
    {
     "name": "stdout",
     "output_type": "stream",
     "text": [
      "Finish Validation\n",
      "Epoch:227/400\n",
      "Train Loss: 36.5498 || Val Loss: 70.5952 \n"
     ]
    },
    {
     "name": "stderr",
     "output_type": "stream",
     "text": [
      "Epoch 228/400: 100%|███████████████████████| 28/28 [00:14<00:00,  1.94it/s, lr=0.000102, step/s=0.399, total_loss=36.8]\n",
      "Epoch 228/400:   0%|                                                               | 0/8 [00:00<?, ?it/s<class 'dict'>]"
     ]
    },
    {
     "name": "stdout",
     "output_type": "stream",
     "text": [
      "Start Validation\n"
     ]
    },
    {
     "name": "stderr",
     "output_type": "stream",
     "text": [
      "Epoch 228/400: 100%|████████████████████████████████████████████████████| 8/8 [00:02<00:00,  3.94it/s, total_loss=79.9]\n",
      "Epoch 229/400:   0%|                                                              | 0/28 [00:00<?, ?it/s<class 'dict'>]"
     ]
    },
    {
     "name": "stdout",
     "output_type": "stream",
     "text": [
      "Finish Validation\n",
      "Epoch:228/400\n",
      "Train Loss: 35.4918 || Val Loss: 71.0498 \n"
     ]
    },
    {
     "name": "stderr",
     "output_type": "stream",
     "text": [
      "Epoch 229/400: 100%|█████████████████████████| 28/28 [00:14<00:00,  1.93it/s, lr=0.000101, step/s=0.4, total_loss=35.4]\n",
      "Epoch 229/400:   0%|                                                               | 0/8 [00:00<?, ?it/s<class 'dict'>]"
     ]
    },
    {
     "name": "stdout",
     "output_type": "stream",
     "text": [
      "Start Validation\n"
     ]
    },
    {
     "name": "stderr",
     "output_type": "stream",
     "text": [
      "Epoch 229/400: 100%|████████████████████████████████████████████████████| 8/8 [00:01<00:00,  4.04it/s, total_loss=78.8]\n",
      "Epoch 230/400:   0%|                                                              | 0/28 [00:00<?, ?it/s<class 'dict'>]"
     ]
    },
    {
     "name": "stdout",
     "output_type": "stream",
     "text": [
      "Finish Validation\n",
      "Epoch:229/400\n",
      "Train Loss: 34.1323 || Val Loss: 70.0666 \n"
     ]
    },
    {
     "name": "stderr",
     "output_type": "stream",
     "text": [
      "Epoch 230/400: 100%|█████████████████████████| 28/28 [00:14<00:00,  1.93it/s, lr=0.0001, step/s=0.417, total_loss=37.2]\n",
      "Epoch 230/400:   0%|                                                               | 0/8 [00:00<?, ?it/s<class 'dict'>]"
     ]
    },
    {
     "name": "stdout",
     "output_type": "stream",
     "text": [
      "Start Validation\n"
     ]
    },
    {
     "name": "stderr",
     "output_type": "stream",
     "text": [
      "Epoch 230/400: 100%|████████████████████████████████████████████████████| 8/8 [00:02<00:00,  3.97it/s, total_loss=73.8]\n",
      "Epoch 231/400:   0%|                                                              | 0/28 [00:00<?, ?it/s<class 'dict'>]"
     ]
    },
    {
     "name": "stdout",
     "output_type": "stream",
     "text": [
      "Finish Validation\n",
      "Epoch:230/400\n",
      "Train Loss: 35.9566 || Val Loss: 65.5797 \n"
     ]
    },
    {
     "name": "stderr",
     "output_type": "stream",
     "text": [
      "Epoch 231/400: 100%|████████████████████████| 28/28 [00:14<00:00,  1.92it/s, lr=9.91e-5, step/s=0.366, total_loss=36.9]\n",
      "Epoch 231/400:   0%|                                                               | 0/8 [00:00<?, ?it/s<class 'dict'>]"
     ]
    },
    {
     "name": "stdout",
     "output_type": "stream",
     "text": [
      "Start Validation\n"
     ]
    },
    {
     "name": "stderr",
     "output_type": "stream",
     "text": [
      "Epoch 231/400: 100%|████████████████████████████████████████████████████| 8/8 [00:01<00:00,  4.15it/s, total_loss=78.9]\n",
      "Epoch 232/400:   0%|                                                              | 0/28 [00:00<?, ?it/s<class 'dict'>]"
     ]
    },
    {
     "name": "stdout",
     "output_type": "stream",
     "text": [
      "Finish Validation\n",
      "Epoch:231/400\n",
      "Train Loss: 35.5892 || Val Loss: 70.1629 \n"
     ]
    },
    {
     "name": "stderr",
     "output_type": "stream",
     "text": [
      "Epoch 232/400: 100%|█████████████████████████| 28/28 [00:14<00:00,  1.93it/s, lr=9.81e-5, step/s=0.39, total_loss=36.5]\n",
      "Epoch 232/400:   0%|                                                               | 0/8 [00:00<?, ?it/s<class 'dict'>]"
     ]
    },
    {
     "name": "stdout",
     "output_type": "stream",
     "text": [
      "Start Validation\n"
     ]
    },
    {
     "name": "stderr",
     "output_type": "stream",
     "text": [
      "Epoch 232/400: 100%|████████████████████████████████████████████████████| 8/8 [00:01<00:00,  4.04it/s, total_loss=77.1]\n",
      "Epoch 233/400:   0%|                                                              | 0/28 [00:00<?, ?it/s<class 'dict'>]"
     ]
    },
    {
     "name": "stdout",
     "output_type": "stream",
     "text": [
      "Finish Validation\n",
      "Epoch:232/400\n",
      "Train Loss: 35.2453 || Val Loss: 68.5516 \n"
     ]
    },
    {
     "name": "stderr",
     "output_type": "stream",
     "text": [
      "Epoch 233/400: 100%|████████████████████████| 28/28 [00:14<00:00,  1.95it/s, lr=9.71e-5, step/s=0.453, total_loss=35.3]\n",
      "Epoch 233/400:   0%|                                                               | 0/8 [00:00<?, ?it/s<class 'dict'>]"
     ]
    },
    {
     "name": "stdout",
     "output_type": "stream",
     "text": [
      "Start Validation\n"
     ]
    },
    {
     "name": "stderr",
     "output_type": "stream",
     "text": [
      "Epoch 233/400: 100%|████████████████████████████████████████████████████| 8/8 [00:01<00:00,  4.06it/s, total_loss=84.3]\n",
      "Epoch 234/400:   0%|                                                              | 0/28 [00:00<?, ?it/s<class 'dict'>]"
     ]
    },
    {
     "name": "stdout",
     "output_type": "stream",
     "text": [
      "Finish Validation\n",
      "Epoch:233/400\n",
      "Train Loss: 34.0630 || Val Loss: 74.8952 \n"
     ]
    },
    {
     "name": "stderr",
     "output_type": "stream",
     "text": [
      "Epoch 234/400: 100%|████████████████████████| 28/28 [00:14<00:00,  1.94it/s, lr=9.62e-5, step/s=0.418, total_loss=36.6]\n",
      "Epoch 234/400:   0%|                                                               | 0/8 [00:00<?, ?it/s<class 'dict'>]"
     ]
    },
    {
     "name": "stdout",
     "output_type": "stream",
     "text": [
      "Start Validation\n"
     ]
    },
    {
     "name": "stderr",
     "output_type": "stream",
     "text": [
      "Epoch 234/400: 100%|████████████████████████████████████████████████████| 8/8 [00:01<00:00,  4.08it/s, total_loss=81.6]\n",
      "Epoch 235/400:   0%|                                                              | 0/28 [00:00<?, ?it/s<class 'dict'>]"
     ]
    },
    {
     "name": "stdout",
     "output_type": "stream",
     "text": [
      "Finish Validation\n",
      "Epoch:234/400\n",
      "Train Loss: 35.3574 || Val Loss: 72.5377 \n"
     ]
    },
    {
     "name": "stderr",
     "output_type": "stream",
     "text": [
      "Epoch 235/400: 100%|████████████████████████| 28/28 [00:14<00:00,  1.93it/s, lr=9.52e-5, step/s=0.386, total_loss=36.7]\n",
      "Epoch 235/400:   0%|                                                               | 0/8 [00:00<?, ?it/s<class 'dict'>]"
     ]
    },
    {
     "name": "stdout",
     "output_type": "stream",
     "text": [
      "Start Validation\n"
     ]
    },
    {
     "name": "stderr",
     "output_type": "stream",
     "text": [
      "Epoch 235/400: 100%|████████████████████████████████████████████████████| 8/8 [00:01<00:00,  4.08it/s, total_loss=73.5]\n",
      "Epoch 236/400:   0%|                                                              | 0/28 [00:00<?, ?it/s<class 'dict'>]"
     ]
    },
    {
     "name": "stdout",
     "output_type": "stream",
     "text": [
      "Finish Validation\n",
      "Epoch:235/400\n",
      "Train Loss: 35.4692 || Val Loss: 65.3001 \n"
     ]
    },
    {
     "name": "stderr",
     "output_type": "stream",
     "text": [
      "Epoch 236/400: 100%|████████████████████████| 28/28 [00:14<00:00,  1.95it/s, lr=9.42e-5, step/s=0.399, total_loss=38.6]\n",
      "Epoch 236/400:   0%|                                                               | 0/8 [00:00<?, ?it/s<class 'dict'>]"
     ]
    },
    {
     "name": "stdout",
     "output_type": "stream",
     "text": [
      "Start Validation\n"
     ]
    },
    {
     "name": "stderr",
     "output_type": "stream",
     "text": [
      "Epoch 236/400: 100%|████████████████████████████████████████████████████| 8/8 [00:01<00:00,  4.05it/s, total_loss=72.6]\n",
      "Epoch 237/400:   0%|                                                              | 0/28 [00:00<?, ?it/s<class 'dict'>]"
     ]
    },
    {
     "name": "stdout",
     "output_type": "stream",
     "text": [
      "Finish Validation\n",
      "Epoch:236/400\n",
      "Train Loss: 37.2259 || Val Loss: 64.5274 \n"
     ]
    },
    {
     "name": "stderr",
     "output_type": "stream",
     "text": [
      "Epoch 237/400: 100%|████████████████████████| 28/28 [00:14<00:00,  1.93it/s, lr=9.33e-5, step/s=0.411, total_loss=38.3]\n",
      "Epoch 237/400:   0%|                                                               | 0/8 [00:00<?, ?it/s<class 'dict'>]"
     ]
    },
    {
     "name": "stdout",
     "output_type": "stream",
     "text": [
      "Start Validation\n"
     ]
    },
    {
     "name": "stderr",
     "output_type": "stream",
     "text": [
      "Epoch 237/400: 100%|████████████████████████████████████████████████████| 8/8 [00:02<00:00,  4.00it/s, total_loss=75.3]\n",
      "Epoch 238/400:   0%|                                                              | 0/28 [00:00<?, ?it/s<class 'dict'>]"
     ]
    },
    {
     "name": "stdout",
     "output_type": "stream",
     "text": [
      "Finish Validation\n",
      "Epoch:237/400\n",
      "Train Loss: 37.0208 || Val Loss: 66.9233 \n"
     ]
    },
    {
     "name": "stderr",
     "output_type": "stream",
     "text": [
      "Epoch 238/400: 100%|███████████████████████████| 28/28 [00:14<00:00,  1.95it/s, lr=9.24e-5, step/s=0.41, total_loss=36]\n",
      "Epoch 238/400:   0%|                                                               | 0/8 [00:00<?, ?it/s<class 'dict'>]"
     ]
    },
    {
     "name": "stdout",
     "output_type": "stream",
     "text": [
      "Start Validation\n"
     ]
    },
    {
     "name": "stderr",
     "output_type": "stream",
     "text": [
      "Epoch 238/400: 100%|████████████████████████████████████████████████████| 8/8 [00:01<00:00,  4.17it/s, total_loss=72.5]\n",
      "Epoch 239/400:   0%|                                                              | 0/28 [00:00<?, ?it/s<class 'dict'>]"
     ]
    },
    {
     "name": "stdout",
     "output_type": "stream",
     "text": [
      "Finish Validation\n",
      "Epoch:238/400\n",
      "Train Loss: 34.7360 || Val Loss: 64.4644 \n"
     ]
    },
    {
     "name": "stderr",
     "output_type": "stream",
     "text": [
      "Epoch 239/400: 100%|████████████████████████| 28/28 [00:14<00:00,  1.92it/s, lr=9.14e-5, step/s=0.407, total_loss=35.2]\n",
      "Epoch 239/400:   0%|                                                               | 0/8 [00:00<?, ?it/s<class 'dict'>]"
     ]
    },
    {
     "name": "stdout",
     "output_type": "stream",
     "text": [
      "Start Validation\n"
     ]
    },
    {
     "name": "stderr",
     "output_type": "stream",
     "text": [
      "Epoch 239/400: 100%|████████████████████████████████████████████████████| 8/8 [00:01<00:00,  4.14it/s, total_loss=77.3]\n",
      "Epoch 240/400:   0%|                                                              | 0/28 [00:00<?, ?it/s<class 'dict'>]"
     ]
    },
    {
     "name": "stdout",
     "output_type": "stream",
     "text": [
      "Finish Validation\n",
      "Epoch:239/400\n",
      "Train Loss: 33.9660 || Val Loss: 68.7267 \n"
     ]
    },
    {
     "name": "stderr",
     "output_type": "stream",
     "text": [
      "Epoch 240/400: 100%|████████████████████████| 28/28 [00:14<00:00,  1.93it/s, lr=9.05e-5, step/s=0.417, total_loss=38.7]\n",
      "Epoch 240/400:   0%|                                                               | 0/8 [00:00<?, ?it/s<class 'dict'>]"
     ]
    },
    {
     "name": "stdout",
     "output_type": "stream",
     "text": [
      "Start Validation\n"
     ]
    },
    {
     "name": "stderr",
     "output_type": "stream",
     "text": [
      "Epoch 240/400: 100%|████████████████████████████████████████████████████| 8/8 [00:01<00:00,  4.06it/s, total_loss=82.6]\n",
      "Epoch 241/400:   0%|                                                              | 0/28 [00:00<?, ?it/s<class 'dict'>]"
     ]
    },
    {
     "name": "stdout",
     "output_type": "stream",
     "text": [
      "Finish Validation\n",
      "Epoch:240/400\n",
      "Train Loss: 37.3895 || Val Loss: 73.4389 \n"
     ]
    },
    {
     "name": "stderr",
     "output_type": "stream",
     "text": [
      "Epoch 241/400: 100%|████████████████████████| 28/28 [00:14<00:00,  1.94it/s, lr=8.96e-5, step/s=0.418, total_loss=36.7]\n",
      "Epoch 241/400:   0%|                                                               | 0/8 [00:00<?, ?it/s<class 'dict'>]"
     ]
    },
    {
     "name": "stdout",
     "output_type": "stream",
     "text": [
      "Start Validation\n"
     ]
    },
    {
     "name": "stderr",
     "output_type": "stream",
     "text": [
      "Epoch 241/400: 100%|████████████████████████████████████████████████████| 8/8 [00:01<00:00,  4.12it/s, total_loss=79.7]\n",
      "Epoch 242/400:   0%|                                                              | 0/28 [00:00<?, ?it/s<class 'dict'>]"
     ]
    },
    {
     "name": "stdout",
     "output_type": "stream",
     "text": [
      "Finish Validation\n",
      "Epoch:241/400\n",
      "Train Loss: 35.3977 || Val Loss: 70.8189 \n"
     ]
    },
    {
     "name": "stderr",
     "output_type": "stream",
     "text": [
      "Epoch 242/400: 100%|████████████████████████| 28/28 [00:14<00:00,  1.92it/s, lr=8.87e-5, step/s=0.371, total_loss=37.1]\n",
      "Epoch 242/400:   0%|                                                               | 0/8 [00:00<?, ?it/s<class 'dict'>]"
     ]
    },
    {
     "name": "stdout",
     "output_type": "stream",
     "text": [
      "Start Validation\n"
     ]
    },
    {
     "name": "stderr",
     "output_type": "stream",
     "text": [
      "Epoch 242/400: 100%|████████████████████████████████████████████████████| 8/8 [00:01<00:00,  4.03it/s, total_loss=87.6]\n",
      "Epoch 243/400:   0%|                                                              | 0/28 [00:00<?, ?it/s<class 'dict'>]"
     ]
    },
    {
     "name": "stdout",
     "output_type": "stream",
     "text": [
      "Finish Validation\n",
      "Epoch:242/400\n",
      "Train Loss: 35.8007 || Val Loss: 77.8577 \n"
     ]
    },
    {
     "name": "stderr",
     "output_type": "stream",
     "text": [
      "Epoch 243/400: 100%|████████████████████████| 28/28 [00:14<00:00,  1.91it/s, lr=8.78e-5, step/s=0.446, total_loss=36.2]\n",
      "Epoch 243/400:   0%|                                                               | 0/8 [00:00<?, ?it/s<class 'dict'>]"
     ]
    },
    {
     "name": "stdout",
     "output_type": "stream",
     "text": [
      "Start Validation\n"
     ]
    },
    {
     "name": "stderr",
     "output_type": "stream",
     "text": [
      "Epoch 243/400: 100%|████████████████████████████████████████████████████| 8/8 [00:01<00:00,  4.16it/s, total_loss=69.1]\n",
      "Epoch 244/400:   0%|                                                              | 0/28 [00:00<?, ?it/s<class 'dict'>]"
     ]
    },
    {
     "name": "stdout",
     "output_type": "stream",
     "text": [
      "Finish Validation\n",
      "Epoch:243/400\n",
      "Train Loss: 34.9750 || Val Loss: 61.4237 \n"
     ]
    },
    {
     "name": "stderr",
     "output_type": "stream",
     "text": [
      "Epoch 244/400: 100%|██████████████████████████| 28/28 [00:14<00:00,  1.92it/s, lr=8.7e-5, step/s=0.43, total_loss=41.6]\n",
      "Epoch 244/400:   0%|                                                               | 0/8 [00:00<?, ?it/s<class 'dict'>]"
     ]
    },
    {
     "name": "stdout",
     "output_type": "stream",
     "text": [
      "Start Validation\n"
     ]
    },
    {
     "name": "stderr",
     "output_type": "stream",
     "text": [
      "Epoch 244/400: 100%|████████████████████████████████████████████████████| 8/8 [00:01<00:00,  4.07it/s, total_loss=75.9]\n",
      "Epoch 245/400:   0%|                                                              | 0/28 [00:00<?, ?it/s<class 'dict'>]"
     ]
    },
    {
     "name": "stdout",
     "output_type": "stream",
     "text": [
      "Finish Validation\n",
      "Epoch:244/400\n",
      "Train Loss: 40.1360 || Val Loss: 67.4466 \n"
     ]
    },
    {
     "name": "stderr",
     "output_type": "stream",
     "text": [
      "Epoch 245/400: 100%|████████████████████████| 28/28 [00:14<00:00,  1.93it/s, lr=8.61e-5, step/s=0.398, total_loss=38.1]\n",
      "Epoch 245/400:   0%|                                                               | 0/8 [00:00<?, ?it/s<class 'dict'>]"
     ]
    },
    {
     "name": "stdout",
     "output_type": "stream",
     "text": [
      "Start Validation\n"
     ]
    },
    {
     "name": "stderr",
     "output_type": "stream",
     "text": [
      "Epoch 245/400: 100%|████████████████████████████████████████████████████| 8/8 [00:02<00:00,  3.97it/s, total_loss=80.5]\n",
      "Epoch 246/400:   0%|                                                              | 0/28 [00:00<?, ?it/s<class 'dict'>]"
     ]
    },
    {
     "name": "stdout",
     "output_type": "stream",
     "text": [
      "Finish Validation\n",
      "Epoch:245/400\n",
      "Train Loss: 36.8246 || Val Loss: 71.5534 \n"
     ]
    },
    {
     "name": "stderr",
     "output_type": "stream",
     "text": [
      "Epoch 246/400: 100%|█████████████████████████| 28/28 [00:14<00:00,  1.92it/s, lr=8.52e-5, step/s=0.39, total_loss=36.6]\n",
      "Epoch 246/400:   0%|                                                               | 0/8 [00:00<?, ?it/s<class 'dict'>]"
     ]
    },
    {
     "name": "stdout",
     "output_type": "stream",
     "text": [
      "Start Validation\n"
     ]
    },
    {
     "name": "stderr",
     "output_type": "stream",
     "text": [
      "Epoch 246/400: 100%|████████████████████████████████████████████████████| 8/8 [00:01<00:00,  4.22it/s, total_loss=73.1]\n",
      "Epoch 247/400:   0%|                                                              | 0/28 [00:00<?, ?it/s<class 'dict'>]"
     ]
    },
    {
     "name": "stdout",
     "output_type": "stream",
     "text": [
      "Finish Validation\n",
      "Epoch:246/400\n",
      "Train Loss: 35.2985 || Val Loss: 65.0209 \n"
     ]
    },
    {
     "name": "stderr",
     "output_type": "stream",
     "text": [
      "Epoch 247/400: 100%|████████████████████████| 28/28 [00:14<00:00,  1.92it/s, lr=8.44e-5, step/s=0.407, total_loss=39.2]\n",
      "Epoch 247/400:   0%|                                                               | 0/8 [00:00<?, ?it/s<class 'dict'>]"
     ]
    },
    {
     "name": "stdout",
     "output_type": "stream",
     "text": [
      "Start Validation\n"
     ]
    },
    {
     "name": "stderr",
     "output_type": "stream",
     "text": [
      "Epoch 247/400: 100%|████████████████████████████████████████████████████| 8/8 [00:01<00:00,  4.10it/s, total_loss=69.7]\n",
      "Epoch 248/400:   0%|                                                              | 0/28 [00:00<?, ?it/s<class 'dict'>]"
     ]
    },
    {
     "name": "stdout",
     "output_type": "stream",
     "text": [
      "Finish Validation\n",
      "Epoch:247/400\n",
      "Train Loss: 37.8159 || Val Loss: 61.9751 \n"
     ]
    },
    {
     "name": "stderr",
     "output_type": "stream",
     "text": [
      "Epoch 248/400: 100%|█████████████████████████| 28/28 [00:14<00:00,  1.93it/s, lr=8.35e-5, step/s=0.43, total_loss=37.2]\n",
      "Epoch 248/400:   0%|                                                               | 0/8 [00:00<?, ?it/s<class 'dict'>]"
     ]
    },
    {
     "name": "stdout",
     "output_type": "stream",
     "text": [
      "Start Validation\n"
     ]
    },
    {
     "name": "stderr",
     "output_type": "stream",
     "text": [
      "Epoch 248/400: 100%|████████████████████████████████████████████████████| 8/8 [00:01<00:00,  4.04it/s, total_loss=73.8]\n",
      "Epoch 249/400:   0%|                                                              | 0/28 [00:00<?, ?it/s<class 'dict'>]"
     ]
    },
    {
     "name": "stdout",
     "output_type": "stream",
     "text": [
      "Finish Validation\n",
      "Epoch:248/400\n",
      "Train Loss: 35.9531 || Val Loss: 65.6028 \n"
     ]
    },
    {
     "name": "stderr",
     "output_type": "stream",
     "text": [
      "Epoch 249/400: 100%|████████████████████████| 28/28 [00:14<00:00,  1.91it/s, lr=8.27e-5, step/s=0.414, total_loss=36.9]\n",
      "Epoch 249/400:   0%|                                                               | 0/8 [00:00<?, ?it/s<class 'dict'>]"
     ]
    },
    {
     "name": "stdout",
     "output_type": "stream",
     "text": [
      "Start Validation\n"
     ]
    },
    {
     "name": "stderr",
     "output_type": "stream",
     "text": [
      "Epoch 249/400: 100%|██████████████████████████████████████████████████████| 8/8 [00:01<00:00,  4.08it/s, total_loss=82]\n",
      "Epoch 250/400:   0%|                                                              | 0/28 [00:00<?, ?it/s<class 'dict'>]"
     ]
    },
    {
     "name": "stdout",
     "output_type": "stream",
     "text": [
      "Finish Validation\n",
      "Epoch:249/400\n",
      "Train Loss: 35.5854 || Val Loss: 72.9270 \n"
     ]
    },
    {
     "name": "stderr",
     "output_type": "stream",
     "text": [
      "Epoch 250/400: 100%|████████████████████████| 28/28 [00:14<00:00,  1.93it/s, lr=8.19e-5, step/s=0.402, total_loss=36.5]\n",
      "Epoch 250/400:   0%|                                                               | 0/8 [00:00<?, ?it/s<class 'dict'>]"
     ]
    },
    {
     "name": "stdout",
     "output_type": "stream",
     "text": [
      "Start Validation\n"
     ]
    },
    {
     "name": "stderr",
     "output_type": "stream",
     "text": [
      "Epoch 250/400: 100%|████████████████████████████████████████████████████| 8/8 [00:01<00:00,  4.06it/s, total_loss=77.2]\n",
      "Epoch 251/400:   0%|                                                              | 0/28 [00:00<?, ?it/s<class 'dict'>]"
     ]
    },
    {
     "name": "stdout",
     "output_type": "stream",
     "text": [
      "Finish Validation\n",
      "Epoch:250/400\n",
      "Train Loss: 35.2440 || Val Loss: 68.6329 \n"
     ]
    },
    {
     "name": "stderr",
     "output_type": "stream",
     "text": [
      "Epoch 251/400: 100%|████████████████████████| 28/28 [00:14<00:00,  1.91it/s, lr=8.11e-5, step/s=0.421, total_loss=37.1]\n",
      "Epoch 251/400:   0%|                                                               | 0/8 [00:00<?, ?it/s<class 'dict'>]"
     ]
    },
    {
     "name": "stdout",
     "output_type": "stream",
     "text": [
      "Start Validation\n"
     ]
    },
    {
     "name": "stderr",
     "output_type": "stream",
     "text": [
      "Epoch 251/400: 100%|████████████████████████████████████████████████████| 8/8 [00:01<00:00,  4.07it/s, total_loss=76.6]\n",
      "Epoch 252/400:   0%|                                                              | 0/28 [00:00<?, ?it/s<class 'dict'>]"
     ]
    },
    {
     "name": "stdout",
     "output_type": "stream",
     "text": [
      "Finish Validation\n",
      "Epoch:251/400\n",
      "Train Loss: 35.7894 || Val Loss: 68.0993 \n"
     ]
    },
    {
     "name": "stderr",
     "output_type": "stream",
     "text": [
      "Epoch 252/400: 100%|████████████████████████| 28/28 [00:14<00:00,  1.90it/s, lr=8.02e-5, step/s=0.446, total_loss=37.3]\n",
      "Epoch 252/400:   0%|                                                               | 0/8 [00:00<?, ?it/s<class 'dict'>]"
     ]
    },
    {
     "name": "stdout",
     "output_type": "stream",
     "text": [
      "Start Validation\n"
     ]
    },
    {
     "name": "stderr",
     "output_type": "stream",
     "text": [
      "Epoch 252/400: 100%|████████████████████████████████████████████████████| 8/8 [00:01<00:00,  4.05it/s, total_loss=73.6]\n",
      "Epoch 253/400:   0%|                                                              | 0/28 [00:00<?, ?it/s<class 'dict'>]"
     ]
    },
    {
     "name": "stdout",
     "output_type": "stream",
     "text": [
      "Finish Validation\n",
      "Epoch:252/400\n",
      "Train Loss: 35.9689 || Val Loss: 65.4321 \n"
     ]
    },
    {
     "name": "stderr",
     "output_type": "stream",
     "text": [
      "Epoch 253/400: 100%|████████████████████████████| 28/28 [00:14<00:00,  1.94it/s, lr=7.94e-5, step/s=0.4, total_loss=37]\n",
      "Epoch 253/400:   0%|                                                               | 0/8 [00:00<?, ?it/s<class 'dict'>]"
     ]
    },
    {
     "name": "stdout",
     "output_type": "stream",
     "text": [
      "Start Validation\n"
     ]
    },
    {
     "name": "stderr",
     "output_type": "stream",
     "text": [
      "Epoch 253/400: 100%|████████████████████████████████████████████████████| 8/8 [00:01<00:00,  4.15it/s, total_loss=75.4]\n",
      "Epoch 254/400:   0%|                                                              | 0/28 [00:00<?, ?it/s<class 'dict'>]"
     ]
    },
    {
     "name": "stdout",
     "output_type": "stream",
     "text": [
      "Finish Validation\n",
      "Epoch:253/400\n",
      "Train Loss: 35.7122 || Val Loss: 66.9818 \n"
     ]
    },
    {
     "name": "stderr",
     "output_type": "stream",
     "text": [
      "Epoch 254/400: 100%|████████████████████████| 28/28 [00:14<00:00,  1.94it/s, lr=7.87e-5, step/s=0.383, total_loss=34.7]\n",
      "Epoch 254/400:   0%|                                                               | 0/8 [00:00<?, ?it/s<class 'dict'>]"
     ]
    },
    {
     "name": "stdout",
     "output_type": "stream",
     "text": [
      "Start Validation\n"
     ]
    },
    {
     "name": "stderr",
     "output_type": "stream",
     "text": [
      "Epoch 254/400: 100%|████████████████████████████████████████████████████| 8/8 [00:01<00:00,  4.00it/s, total_loss=81.1]\n",
      "Epoch 255/400:   0%|                                                              | 0/28 [00:00<?, ?it/s<class 'dict'>]"
     ]
    },
    {
     "name": "stdout",
     "output_type": "stream",
     "text": [
      "Finish Validation\n",
      "Epoch:254/400\n",
      "Train Loss: 33.4585 || Val Loss: 72.1237 \n"
     ]
    },
    {
     "name": "stderr",
     "output_type": "stream",
     "text": [
      "Epoch 255/400: 100%|████████████████████████| 28/28 [00:14<00:00,  1.93it/s, lr=7.79e-5, step/s=0.392, total_loss=38.1]\n",
      "Epoch 255/400:   0%|                                                               | 0/8 [00:00<?, ?it/s<class 'dict'>]"
     ]
    },
    {
     "name": "stdout",
     "output_type": "stream",
     "text": [
      "Start Validation\n"
     ]
    },
    {
     "name": "stderr",
     "output_type": "stream",
     "text": [
      "Epoch 255/400: 100%|████████████████████████████████████████████████████| 8/8 [00:02<00:00,  3.99it/s, total_loss=70.2]\n",
      "Epoch 256/400:   0%|                                                              | 0/28 [00:00<?, ?it/s<class 'dict'>]"
     ]
    },
    {
     "name": "stdout",
     "output_type": "stream",
     "text": [
      "Finish Validation\n",
      "Epoch:255/400\n",
      "Train Loss: 36.8250 || Val Loss: 62.4129 \n"
     ]
    },
    {
     "name": "stderr",
     "output_type": "stream",
     "text": [
      "Epoch 256/400: 100%|██████████████████████████| 28/28 [00:14<00:00,  1.94it/s, lr=7.71e-5, step/s=0.428, total_loss=38]\n",
      "Epoch 256/400:   0%|                                                               | 0/8 [00:00<?, ?it/s<class 'dict'>]"
     ]
    },
    {
     "name": "stdout",
     "output_type": "stream",
     "text": [
      "Start Validation\n"
     ]
    },
    {
     "name": "stderr",
     "output_type": "stream",
     "text": [
      "Epoch 256/400: 100%|████████████████████████████████████████████████████| 8/8 [00:01<00:00,  4.01it/s, total_loss=67.8]\n",
      "Epoch 257/400:   0%|                                                              | 0/28 [00:00<?, ?it/s<class 'dict'>]"
     ]
    },
    {
     "name": "stdout",
     "output_type": "stream",
     "text": [
      "Finish Validation\n",
      "Epoch:256/400\n",
      "Train Loss: 36.6874 || Val Loss: 60.2450 \n"
     ]
    },
    {
     "name": "stderr",
     "output_type": "stream",
     "text": [
      "Epoch 257/400: 100%|████████████████████████| 28/28 [00:14<00:00,  1.91it/s, lr=7.63e-5, step/s=0.396, total_loss=37.5]\n",
      "Epoch 257/400:   0%|                                                               | 0/8 [00:00<?, ?it/s<class 'dict'>]"
     ]
    },
    {
     "name": "stdout",
     "output_type": "stream",
     "text": [
      "Start Validation\n"
     ]
    },
    {
     "name": "stderr",
     "output_type": "stream",
     "text": [
      "Epoch 257/400: 100%|████████████████████████████████████████████████████| 8/8 [00:01<00:00,  4.11it/s, total_loss=88.8]\n",
      "Epoch 258/400:   0%|                                                              | 0/28 [00:00<?, ?it/s<class 'dict'>]"
     ]
    },
    {
     "name": "stdout",
     "output_type": "stream",
     "text": [
      "Finish Validation\n",
      "Epoch:257/400\n",
      "Train Loss: 36.1796 || Val Loss: 78.9634 \n"
     ]
    },
    {
     "name": "stderr",
     "output_type": "stream",
     "text": [
      "Epoch 258/400: 100%|█████████████████████████| 28/28 [00:14<00:00,  1.94it/s, lr=7.56e-5, step/s=0.41, total_loss=36.5]\n",
      "Epoch 258/400:   0%|                                                               | 0/8 [00:00<?, ?it/s<class 'dict'>]"
     ]
    },
    {
     "name": "stdout",
     "output_type": "stream",
     "text": [
      "Start Validation\n"
     ]
    },
    {
     "name": "stderr",
     "output_type": "stream",
     "text": [
      "Epoch 258/400: 100%|████████████████████████████████████████████████████| 8/8 [00:01<00:00,  4.09it/s, total_loss=66.2]\n",
      "Epoch 259/400:   0%|                                                              | 0/28 [00:00<?, ?it/s<class 'dict'>]"
     ]
    },
    {
     "name": "stdout",
     "output_type": "stream",
     "text": [
      "Finish Validation\n",
      "Epoch:258/400\n",
      "Train Loss: 35.2729 || Val Loss: 58.8616 \n"
     ]
    },
    {
     "name": "stderr",
     "output_type": "stream",
     "text": [
      "Epoch 259/400: 100%|████████████████████████| 28/28 [00:14<00:00,  1.93it/s, lr=7.48e-5, step/s=0.396, total_loss=37.4]\n",
      "Epoch 259/400:   0%|                                                               | 0/8 [00:00<?, ?it/s<class 'dict'>]"
     ]
    },
    {
     "name": "stdout",
     "output_type": "stream",
     "text": [
      "Start Validation\n"
     ]
    },
    {
     "name": "stderr",
     "output_type": "stream",
     "text": [
      "Epoch 259/400: 100%|████████████████████████████████████████████████████| 8/8 [00:01<00:00,  4.09it/s, total_loss=70.2]\n",
      "Epoch 260/400:   0%|                                                              | 0/28 [00:00<?, ?it/s<class 'dict'>]"
     ]
    },
    {
     "name": "stdout",
     "output_type": "stream",
     "text": [
      "Finish Validation\n",
      "Epoch:259/400\n",
      "Train Loss: 36.1577 || Val Loss: 62.3713 \n"
     ]
    },
    {
     "name": "stderr",
     "output_type": "stream",
     "text": [
      "Epoch 260/400: 100%|█████████████████████████| 28/28 [00:14<00:00,  1.92it/s, lr=7.4e-5, step/s=0.415, total_loss=36.8]\n",
      "Epoch 260/400:   0%|                                                               | 0/8 [00:00<?, ?it/s<class 'dict'>]"
     ]
    },
    {
     "name": "stdout",
     "output_type": "stream",
     "text": [
      "Start Validation\n"
     ]
    },
    {
     "name": "stderr",
     "output_type": "stream",
     "text": [
      "Epoch 260/400: 100%|████████████████████████████████████████████████████| 8/8 [00:01<00:00,  4.02it/s, total_loss=78.1]\n",
      "Epoch 261/400:   0%|                                                              | 0/28 [00:00<?, ?it/s<class 'dict'>]"
     ]
    },
    {
     "name": "stdout",
     "output_type": "stream",
     "text": [
      "Finish Validation\n",
      "Epoch:260/400\n",
      "Train Loss: 35.5469 || Val Loss: 69.4083 \n"
     ]
    },
    {
     "name": "stderr",
     "output_type": "stream",
     "text": [
      "Epoch 261/400: 100%|█████████████████████████| 28/28 [00:14<00:00,  1.92it/s, lr=7.33e-5, step/s=0.39, total_loss=34.7]\n",
      "Epoch 261/400:   0%|                                                               | 0/8 [00:00<?, ?it/s<class 'dict'>]"
     ]
    },
    {
     "name": "stdout",
     "output_type": "stream",
     "text": [
      "Start Validation\n"
     ]
    },
    {
     "name": "stderr",
     "output_type": "stream",
     "text": [
      "Epoch 261/400: 100%|████████████████████████████████████████████████████| 8/8 [00:01<00:00,  4.10it/s, total_loss=77.2]\n",
      "Epoch 262/400:   0%|                                                              | 0/28 [00:00<?, ?it/s<class 'dict'>]"
     ]
    },
    {
     "name": "stdout",
     "output_type": "stream",
     "text": [
      "Finish Validation\n",
      "Epoch:261/400\n",
      "Train Loss: 33.5366 || Val Loss: 68.6132 \n"
     ]
    },
    {
     "name": "stderr",
     "output_type": "stream",
     "text": [
      "Epoch 262/400: 100%|████████████████████████| 28/28 [00:14<00:00,  1.92it/s, lr=7.26e-5, step/s=0.434, total_loss=34.3]\n",
      "Epoch 262/400:   0%|                                                               | 0/8 [00:00<?, ?it/s<class 'dict'>]"
     ]
    },
    {
     "name": "stdout",
     "output_type": "stream",
     "text": [
      "Start Validation\n"
     ]
    },
    {
     "name": "stderr",
     "output_type": "stream",
     "text": [
      "Epoch 262/400: 100%|████████████████████████████████████████████████████| 8/8 [00:01<00:00,  4.13it/s, total_loss=72.8]\n",
      "Epoch 263/400:   0%|                                                              | 0/28 [00:00<?, ?it/s<class 'dict'>]"
     ]
    },
    {
     "name": "stdout",
     "output_type": "stream",
     "text": [
      "Finish Validation\n",
      "Epoch:262/400\n",
      "Train Loss: 33.1515 || Val Loss: 64.7434 \n"
     ]
    },
    {
     "name": "stderr",
     "output_type": "stream",
     "text": [
      "Epoch 263/400: 100%|██████████████████████████| 28/28 [00:14<00:00,  1.94it/s, lr=7.18e-5, step/s=0.375, total_loss=34]\n",
      "Epoch 263/400:   0%|                                                               | 0/8 [00:00<?, ?it/s<class 'dict'>]"
     ]
    },
    {
     "name": "stdout",
     "output_type": "stream",
     "text": [
      "Start Validation\n"
     ]
    },
    {
     "name": "stderr",
     "output_type": "stream",
     "text": [
      "Epoch 263/400: 100%|████████████████████████████████████████████████████| 8/8 [00:01<00:00,  4.04it/s, total_loss=80.9]\n",
      "Epoch 264/400:   0%|                                                              | 0/28 [00:00<?, ?it/s<class 'dict'>]"
     ]
    },
    {
     "name": "stdout",
     "output_type": "stream",
     "text": [
      "Finish Validation\n",
      "Epoch:263/400\n",
      "Train Loss: 32.8638 || Val Loss: 71.9033 \n"
     ]
    },
    {
     "name": "stderr",
     "output_type": "stream",
     "text": [
      "Epoch 264/400: 100%|████████████████████████| 28/28 [00:14<00:00,  1.93it/s, lr=7.11e-5, step/s=0.387, total_loss=35.1]\n",
      "Epoch 264/400:   0%|                                                               | 0/8 [00:00<?, ?it/s<class 'dict'>]"
     ]
    },
    {
     "name": "stdout",
     "output_type": "stream",
     "text": [
      "Start Validation\n"
     ]
    },
    {
     "name": "stderr",
     "output_type": "stream",
     "text": [
      "Epoch 264/400: 100%|████████████████████████████████████████████████████| 8/8 [00:01<00:00,  4.04it/s, total_loss=71.5]\n",
      "Epoch 265/400:   0%|                                                              | 0/28 [00:00<?, ?it/s<class 'dict'>]"
     ]
    },
    {
     "name": "stdout",
     "output_type": "stream",
     "text": [
      "Finish Validation\n",
      "Epoch:264/400\n",
      "Train Loss: 33.8919 || Val Loss: 63.5836 \n"
     ]
    },
    {
     "name": "stderr",
     "output_type": "stream",
     "text": [
      "Epoch 265/400: 100%|████████████████████████| 28/28 [00:14<00:00,  1.92it/s, lr=7.04e-5, step/s=0.424, total_loss=40.6]\n",
      "Epoch 265/400:   0%|                                                               | 0/8 [00:00<?, ?it/s<class 'dict'>]"
     ]
    },
    {
     "name": "stdout",
     "output_type": "stream",
     "text": [
      "Start Validation\n"
     ]
    },
    {
     "name": "stderr",
     "output_type": "stream",
     "text": [
      "Epoch 265/400: 100%|████████████████████████████████████████████████████| 8/8 [00:01<00:00,  4.07it/s, total_loss=63.9]\n",
      "Epoch 266/400:   0%|                                                              | 0/28 [00:00<?, ?it/s<class 'dict'>]"
     ]
    },
    {
     "name": "stdout",
     "output_type": "stream",
     "text": [
      "Finish Validation\n",
      "Epoch:265/400\n",
      "Train Loss: 39.1666 || Val Loss: 56.7874 \n"
     ]
    },
    {
     "name": "stderr",
     "output_type": "stream",
     "text": [
      "Epoch 266/400: 100%|████████████████████████| 28/28 [00:14<00:00,  1.94it/s, lr=6.97e-5, step/s=0.417, total_loss=37.8]\n",
      "Epoch 266/400:   0%|                                                               | 0/8 [00:00<?, ?it/s<class 'dict'>]"
     ]
    },
    {
     "name": "stdout",
     "output_type": "stream",
     "text": [
      "Start Validation\n"
     ]
    },
    {
     "name": "stderr",
     "output_type": "stream",
     "text": [
      "Epoch 266/400: 100%|████████████████████████████████████████████████████| 8/8 [00:01<00:00,  4.14it/s, total_loss=69.5]\n",
      "Epoch 267/400:   0%|                                                              | 0/28 [00:00<?, ?it/s<class 'dict'>]"
     ]
    },
    {
     "name": "stdout",
     "output_type": "stream",
     "text": [
      "Finish Validation\n",
      "Epoch:266/400\n",
      "Train Loss: 36.5238 || Val Loss: 61.7642 \n"
     ]
    },
    {
     "name": "stderr",
     "output_type": "stream",
     "text": [
      "Epoch 267/400: 100%|█████████████████████████| 28/28 [00:14<00:00,  1.95it/s, lr=6.9e-5, step/s=0.405, total_loss=37.7]\n",
      "Epoch 267/400:   0%|                                                               | 0/8 [00:00<?, ?it/s<class 'dict'>]"
     ]
    },
    {
     "name": "stdout",
     "output_type": "stream",
     "text": [
      "Start Validation\n"
     ]
    },
    {
     "name": "stderr",
     "output_type": "stream",
     "text": [
      "Epoch 267/400: 100%|████████████████████████████████████████████████████| 8/8 [00:01<00:00,  4.17it/s, total_loss=73.4]\n",
      "Epoch 268/400:   0%|                                                              | 0/28 [00:00<?, ?it/s<class 'dict'>]"
     ]
    },
    {
     "name": "stdout",
     "output_type": "stream",
     "text": [
      "Finish Validation\n",
      "Epoch:267/400\n",
      "Train Loss: 36.4273 || Val Loss: 65.2065 \n"
     ]
    },
    {
     "name": "stderr",
     "output_type": "stream",
     "text": [
      "Epoch 268/400: 100%|████████████████████████| 28/28 [00:14<00:00,  1.93it/s, lr=6.83e-5, step/s=0.379, total_loss=36.5]\n",
      "Epoch 268/400:   0%|                                                               | 0/8 [00:00<?, ?it/s<class 'dict'>]"
     ]
    },
    {
     "name": "stdout",
     "output_type": "stream",
     "text": [
      "Start Validation\n"
     ]
    },
    {
     "name": "stderr",
     "output_type": "stream",
     "text": [
      "Epoch 268/400: 100%|████████████████████████████████████████████████████| 8/8 [00:02<00:00,  3.98it/s, total_loss=65.8]\n",
      "Epoch 269/400:   0%|                                                              | 0/28 [00:00<?, ?it/s<class 'dict'>]"
     ]
    },
    {
     "name": "stdout",
     "output_type": "stream",
     "text": [
      "Finish Validation\n",
      "Epoch:268/400\n",
      "Train Loss: 35.2311 || Val Loss: 58.4640 \n"
     ]
    },
    {
     "name": "stderr",
     "output_type": "stream",
     "text": [
      "Epoch 269/400: 100%|████████████████████████| 28/28 [00:14<00:00,  1.94it/s, lr=6.76e-5, step/s=0.403, total_loss=36.4]\n",
      "Epoch 269/400:   0%|                                                               | 0/8 [00:00<?, ?it/s<class 'dict'>]"
     ]
    },
    {
     "name": "stdout",
     "output_type": "stream",
     "text": [
      "Start Validation\n"
     ]
    },
    {
     "name": "stderr",
     "output_type": "stream",
     "text": [
      "Epoch 269/400: 100%|████████████████████████████████████████████████████| 8/8 [00:02<00:00,  3.98it/s, total_loss=73.8]\n",
      "Epoch 270/400:   0%|                                                              | 0/28 [00:00<?, ?it/s<class 'dict'>]"
     ]
    },
    {
     "name": "stdout",
     "output_type": "stream",
     "text": [
      "Finish Validation\n",
      "Epoch:269/400\n",
      "Train Loss: 35.1466 || Val Loss: 65.6052 \n"
     ]
    },
    {
     "name": "stderr",
     "output_type": "stream",
     "text": [
      "Epoch 270/400: 100%|█████████████████████████| 28/28 [00:14<00:00,  1.93it/s, lr=6.7e-5, step/s=0.415, total_loss=35.1]\n",
      "Epoch 270/400:   0%|                                                               | 0/8 [00:00<?, ?it/s<class 'dict'>]"
     ]
    },
    {
     "name": "stdout",
     "output_type": "stream",
     "text": [
      "Start Validation\n"
     ]
    },
    {
     "name": "stderr",
     "output_type": "stream",
     "text": [
      "Epoch 270/400: 100%|████████████████████████████████████████████████████| 8/8 [00:01<00:00,  4.12it/s, total_loss=70.3]\n",
      "Epoch 271/400:   0%|                                                              | 0/28 [00:00<?, ?it/s<class 'dict'>]"
     ]
    },
    {
     "name": "stdout",
     "output_type": "stream",
     "text": [
      "Finish Validation\n",
      "Epoch:270/400\n",
      "Train Loss: 33.9327 || Val Loss: 62.4481 \n"
     ]
    },
    {
     "name": "stderr",
     "output_type": "stream",
     "text": [
      "Epoch 271/400: 100%|████████████████████████| 28/28 [00:14<00:00,  1.95it/s, lr=6.63e-5, step/s=0.409, total_loss=33.7]\n",
      "Epoch 271/400:   0%|                                                               | 0/8 [00:00<?, ?it/s<class 'dict'>]"
     ]
    },
    {
     "name": "stdout",
     "output_type": "stream",
     "text": [
      "Start Validation\n"
     ]
    },
    {
     "name": "stderr",
     "output_type": "stream",
     "text": [
      "Epoch 271/400: 100%|████████████████████████████████████████████████████| 8/8 [00:01<00:00,  4.03it/s, total_loss=66.2]\n",
      "Epoch 272/400:   0%|                                                              | 0/28 [00:00<?, ?it/s<class 'dict'>]"
     ]
    },
    {
     "name": "stdout",
     "output_type": "stream",
     "text": [
      "Finish Validation\n",
      "Epoch:271/400\n",
      "Train Loss: 32.5592 || Val Loss: 58.8184 \n"
     ]
    },
    {
     "name": "stderr",
     "output_type": "stream",
     "text": [
      "Epoch 272/400: 100%|████████████████████████| 28/28 [00:14<00:00,  1.93it/s, lr=6.56e-5, step/s=0.405, total_loss=34.4]\n",
      "Epoch 272/400:   0%|                                                               | 0/8 [00:00<?, ?it/s<class 'dict'>]"
     ]
    },
    {
     "name": "stdout",
     "output_type": "stream",
     "text": [
      "Start Validation\n"
     ]
    },
    {
     "name": "stderr",
     "output_type": "stream",
     "text": [
      "Epoch 272/400: 100%|████████████████████████████████████████████████████| 8/8 [00:01<00:00,  4.01it/s, total_loss=88.2]\n",
      "Epoch 273/400:   0%|                                                              | 0/28 [00:00<?, ?it/s<class 'dict'>]"
     ]
    },
    {
     "name": "stdout",
     "output_type": "stream",
     "text": [
      "Finish Validation\n",
      "Epoch:272/400\n",
      "Train Loss: 33.2341 || Val Loss: 78.4163 \n"
     ]
    },
    {
     "name": "stderr",
     "output_type": "stream",
     "text": [
      "Epoch 273/400: 100%|███████████████████████████| 28/28 [00:14<00:00,  1.93it/s, lr=6.5e-5, step/s=0.417, total_loss=35]\n",
      "Epoch 273/400:   0%|                                                               | 0/8 [00:00<?, ?it/s<class 'dict'>]"
     ]
    },
    {
     "name": "stdout",
     "output_type": "stream",
     "text": [
      "Start Validation\n"
     ]
    },
    {
     "name": "stderr",
     "output_type": "stream",
     "text": [
      "Epoch 273/400: 100%|████████████████████████████████████████████████████| 8/8 [00:01<00:00,  4.21it/s, total_loss=78.2]\n",
      "Epoch 274/400:   0%|                                                              | 0/28 [00:00<?, ?it/s<class 'dict'>]"
     ]
    },
    {
     "name": "stdout",
     "output_type": "stream",
     "text": [
      "Finish Validation\n",
      "Epoch:273/400\n",
      "Train Loss: 33.7671 || Val Loss: 69.4933 \n"
     ]
    },
    {
     "name": "stderr",
     "output_type": "stream",
     "text": [
      "Epoch 274/400: 100%|████████████████████████| 28/28 [00:14<00:00,  1.94it/s, lr=6.43e-5, step/s=0.403, total_loss=36.7]\n",
      "Epoch 274/400:   0%|                                                               | 0/8 [00:00<?, ?it/s<class 'dict'>]"
     ]
    },
    {
     "name": "stdout",
     "output_type": "stream",
     "text": [
      "Start Validation\n"
     ]
    },
    {
     "name": "stderr",
     "output_type": "stream",
     "text": [
      "Epoch 274/400: 100%|████████████████████████████████████████████████████| 8/8 [00:01<00:00,  4.02it/s, total_loss=72.6]\n",
      "Epoch 275/400:   0%|                                                              | 0/28 [00:00<?, ?it/s<class 'dict'>]"
     ]
    },
    {
     "name": "stdout",
     "output_type": "stream",
     "text": [
      "Finish Validation\n",
      "Epoch:274/400\n",
      "Train Loss: 35.4021 || Val Loss: 64.5349 \n"
     ]
    },
    {
     "name": "stderr",
     "output_type": "stream",
     "text": [
      "Epoch 275/400: 100%|████████████████████████| 28/28 [00:14<00:00,  1.94it/s, lr=6.37e-5, step/s=0.435, total_loss=37.6]\n",
      "Epoch 275/400:   0%|                                                               | 0/8 [00:00<?, ?it/s<class 'dict'>]"
     ]
    },
    {
     "name": "stdout",
     "output_type": "stream",
     "text": [
      "Start Validation\n"
     ]
    },
    {
     "name": "stderr",
     "output_type": "stream",
     "text": [
      "Epoch 275/400: 100%|████████████████████████████████████████████████████| 8/8 [00:01<00:00,  4.05it/s, total_loss=71.9]\n",
      "Epoch 276/400:   0%|                                                              | 0/28 [00:00<?, ?it/s<class 'dict'>]"
     ]
    },
    {
     "name": "stdout",
     "output_type": "stream",
     "text": [
      "Finish Validation\n",
      "Epoch:275/400\n",
      "Train Loss: 36.2565 || Val Loss: 63.9506 \n"
     ]
    },
    {
     "name": "stderr",
     "output_type": "stream",
     "text": [
      "Epoch 276/400: 100%|█████████████████████████| 28/28 [00:14<00:00,  1.93it/s, lr=6.3e-5, step/s=0.396, total_loss=35.6]\n",
      "Epoch 276/400:   0%|                                                               | 0/8 [00:00<?, ?it/s<class 'dict'>]"
     ]
    },
    {
     "name": "stdout",
     "output_type": "stream",
     "text": [
      "Start Validation\n"
     ]
    },
    {
     "name": "stderr",
     "output_type": "stream",
     "text": [
      "Epoch 276/400: 100%|████████████████████████████████████████████████████| 8/8 [00:01<00:00,  4.04it/s, total_loss=69.3]\n",
      "Epoch 277/400:   0%|                                                              | 0/28 [00:00<?, ?it/s<class 'dict'>]"
     ]
    },
    {
     "name": "stdout",
     "output_type": "stream",
     "text": [
      "Finish Validation\n",
      "Epoch:276/400\n",
      "Train Loss: 34.3934 || Val Loss: 61.6302 \n"
     ]
    },
    {
     "name": "stderr",
     "output_type": "stream",
     "text": [
      "Epoch 277/400: 100%|████████████████████████| 28/28 [00:14<00:00,  1.92it/s, lr=6.24e-5, step/s=0.408, total_loss=38.7]\n",
      "Epoch 277/400:   0%|                                                               | 0/8 [00:00<?, ?it/s<class 'dict'>]"
     ]
    },
    {
     "name": "stdout",
     "output_type": "stream",
     "text": [
      "Start Validation\n"
     ]
    },
    {
     "name": "stderr",
     "output_type": "stream",
     "text": [
      "Epoch 277/400: 100%|████████████████████████████████████████████████████| 8/8 [00:01<00:00,  4.03it/s, total_loss=79.8]\n",
      "Epoch 278/400:   0%|                                                              | 0/28 [00:00<?, ?it/s<class 'dict'>]"
     ]
    },
    {
     "name": "stdout",
     "output_type": "stream",
     "text": [
      "Finish Validation\n",
      "Epoch:277/400\n",
      "Train Loss: 37.3195 || Val Loss: 70.9285 \n"
     ]
    },
    {
     "name": "stderr",
     "output_type": "stream",
     "text": [
      "Epoch 278/400: 100%|████████████████████████| 28/28 [00:14<00:00,  1.91it/s, lr=6.18e-5, step/s=0.422, total_loss=37.3]\n",
      "Epoch 278/400:   0%|                                                               | 0/8 [00:00<?, ?it/s<class 'dict'>]"
     ]
    },
    {
     "name": "stdout",
     "output_type": "stream",
     "text": [
      "Start Validation\n"
     ]
    },
    {
     "name": "stderr",
     "output_type": "stream",
     "text": [
      "Epoch 278/400: 100%|████████████████████████████████████████████████████| 8/8 [00:01<00:00,  4.06it/s, total_loss=79.6]\n",
      "Epoch 279/400:   0%|                                                              | 0/28 [00:00<?, ?it/s<class 'dict'>]"
     ]
    },
    {
     "name": "stdout",
     "output_type": "stream",
     "text": [
      "Finish Validation\n",
      "Epoch:278/400\n",
      "Train Loss: 35.9818 || Val Loss: 70.7692 \n"
     ]
    },
    {
     "name": "stderr",
     "output_type": "stream",
     "text": [
      "Epoch 279/400: 100%|████████████████████████| 28/28 [00:14<00:00,  1.94it/s, lr=6.12e-5, step/s=0.405, total_loss=35.7]\n",
      "Epoch 279/400:   0%|                                                               | 0/8 [00:00<?, ?it/s<class 'dict'>]"
     ]
    },
    {
     "name": "stdout",
     "output_type": "stream",
     "text": [
      "Start Validation\n"
     ]
    },
    {
     "name": "stderr",
     "output_type": "stream",
     "text": [
      "Epoch 279/400: 100%|████████████████████████████████████████████████████| 8/8 [00:02<00:00,  3.94it/s, total_loss=74.5]\n",
      "Epoch 280/400:   0%|                                                              | 0/28 [00:00<?, ?it/s<class 'dict'>]"
     ]
    },
    {
     "name": "stdout",
     "output_type": "stream",
     "text": [
      "Finish Validation\n",
      "Epoch:279/400\n",
      "Train Loss: 34.4960 || Val Loss: 66.2593 \n"
     ]
    },
    {
     "name": "stderr",
     "output_type": "stream",
     "text": [
      "Epoch 280/400: 100%|████████████████████████| 28/28 [00:14<00:00,  1.91it/s, lr=6.06e-5, step/s=0.417, total_loss=37.3]\n",
      "Epoch 280/400:   0%|                                                               | 0/8 [00:00<?, ?it/s<class 'dict'>]"
     ]
    },
    {
     "name": "stdout",
     "output_type": "stream",
     "text": [
      "Start Validation\n"
     ]
    },
    {
     "name": "stderr",
     "output_type": "stream",
     "text": [
      "Epoch 280/400: 100%|████████████████████████████████████████████████████| 8/8 [00:01<00:00,  4.16it/s, total_loss=82.1]\n",
      "Epoch 281/400:   0%|                                                              | 0/28 [00:00<?, ?it/s<class 'dict'>]"
     ]
    },
    {
     "name": "stdout",
     "output_type": "stream",
     "text": [
      "Finish Validation\n",
      "Epoch:280/400\n",
      "Train Loss: 36.0050 || Val Loss: 72.9389 \n"
     ]
    },
    {
     "name": "stderr",
     "output_type": "stream",
     "text": [
      "Epoch 281/400: 100%|███████████████████████████| 28/28 [00:14<00:00,  1.93it/s, lr=6e-5, step/s=0.435, total_loss=40.5]\n",
      "Epoch 281/400:   0%|                                                               | 0/8 [00:00<?, ?it/s<class 'dict'>]"
     ]
    },
    {
     "name": "stdout",
     "output_type": "stream",
     "text": [
      "Start Validation\n"
     ]
    },
    {
     "name": "stderr",
     "output_type": "stream",
     "text": [
      "Epoch 281/400: 100%|████████████████████████████████████████████████████| 8/8 [00:01<00:00,  4.10it/s, total_loss=73.3]\n",
      "Epoch 282/400:   0%|                                                              | 0/28 [00:00<?, ?it/s<class 'dict'>]"
     ]
    },
    {
     "name": "stdout",
     "output_type": "stream",
     "text": [
      "Finish Validation\n",
      "Epoch:281/400\n",
      "Train Loss: 39.1128 || Val Loss: 65.1160 \n"
     ]
    },
    {
     "name": "stderr",
     "output_type": "stream",
     "text": [
      "Epoch 282/400: 100%|████████████████████████| 28/28 [00:14<00:00,  1.94it/s, lr=5.94e-5, step/s=0.373, total_loss=36.1]\n",
      "Epoch 282/400:   0%|                                                               | 0/8 [00:00<?, ?it/s<class 'dict'>]"
     ]
    },
    {
     "name": "stdout",
     "output_type": "stream",
     "text": [
      "Start Validation\n"
     ]
    },
    {
     "name": "stderr",
     "output_type": "stream",
     "text": [
      "Epoch 282/400: 100%|████████████████████████████████████████████████████| 8/8 [00:02<00:00,  3.96it/s, total_loss=72.9]\n",
      "Epoch 283/400:   0%|                                                              | 0/28 [00:00<?, ?it/s<class 'dict'>]"
     ]
    },
    {
     "name": "stdout",
     "output_type": "stream",
     "text": [
      "Finish Validation\n",
      "Epoch:282/400\n",
      "Train Loss: 34.8350 || Val Loss: 64.7599 \n"
     ]
    },
    {
     "name": "stderr",
     "output_type": "stream",
     "text": [
      "Epoch 283/400: 100%|████████████████████████| 28/28 [00:14<00:00,  1.92it/s, lr=5.88e-5, step/s=0.442, total_loss=40.6]\n",
      "Epoch 283/400:   0%|                                                               | 0/8 [00:00<?, ?it/s<class 'dict'>]"
     ]
    },
    {
     "name": "stdout",
     "output_type": "stream",
     "text": [
      "Start Validation\n"
     ]
    },
    {
     "name": "stderr",
     "output_type": "stream",
     "text": [
      "Epoch 283/400: 100%|████████████████████████████████████████████████████| 8/8 [00:01<00:00,  4.09it/s, total_loss=85.1]\n",
      "Epoch 284/400:   0%|                                                              | 0/28 [00:00<?, ?it/s<class 'dict'>]"
     ]
    },
    {
     "name": "stdout",
     "output_type": "stream",
     "text": [
      "Finish Validation\n",
      "Epoch:283/400\n",
      "Train Loss: 39.2237 || Val Loss: 75.6124 \n"
     ]
    },
    {
     "name": "stderr",
     "output_type": "stream",
     "text": [
      "Epoch 284/400: 100%|██████████████████████████| 28/28 [00:14<00:00,  1.93it/s, lr=5.82e-5, step/s=0.395, total_loss=37]\n",
      "Epoch 284/400:   0%|                                                               | 0/8 [00:00<?, ?it/s<class 'dict'>]"
     ]
    },
    {
     "name": "stdout",
     "output_type": "stream",
     "text": [
      "Start Validation\n"
     ]
    },
    {
     "name": "stderr",
     "output_type": "stream",
     "text": [
      "Epoch 284/400: 100%|████████████████████████████████████████████████████| 8/8 [00:01<00:00,  4.27it/s, total_loss=75.5]\n",
      "Epoch 285/400:   0%|                                                              | 0/28 [00:00<?, ?it/s<class 'dict'>]"
     ]
    },
    {
     "name": "stdout",
     "output_type": "stream",
     "text": [
      "Finish Validation\n",
      "Epoch:284/400\n",
      "Train Loss: 35.7145 || Val Loss: 67.0696 \n"
     ]
    },
    {
     "name": "stderr",
     "output_type": "stream",
     "text": [
      "Epoch 285/400: 100%|████████████████████████| 28/28 [00:14<00:00,  1.93it/s, lr=5.76e-5, step/s=0.415, total_loss=36.3]\n",
      "Epoch 285/400:   0%|                                                               | 0/8 [00:00<?, ?it/s<class 'dict'>]"
     ]
    },
    {
     "name": "stdout",
     "output_type": "stream",
     "text": [
      "Start Validation\n"
     ]
    },
    {
     "name": "stderr",
     "output_type": "stream",
     "text": [
      "Epoch 285/400: 100%|████████████████████████████████████████████████████| 8/8 [00:01<00:00,  4.11it/s, total_loss=78.2]\n",
      "Epoch 286/400:   0%|                                                              | 0/28 [00:00<?, ?it/s<class 'dict'>]"
     ]
    },
    {
     "name": "stdout",
     "output_type": "stream",
     "text": [
      "Finish Validation\n",
      "Epoch:285/400\n",
      "Train Loss: 35.0847 || Val Loss: 69.4708 \n"
     ]
    },
    {
     "name": "stderr",
     "output_type": "stream",
     "text": [
      "Epoch 286/400: 100%|█████████████████████████| 28/28 [00:14<00:00,  1.94it/s, lr=5.7e-5, step/s=0.425, total_loss=36.4]\n",
      "Epoch 286/400:   0%|                                                               | 0/8 [00:00<?, ?it/s<class 'dict'>]"
     ]
    },
    {
     "name": "stdout",
     "output_type": "stream",
     "text": [
      "Start Validation\n"
     ]
    },
    {
     "name": "stderr",
     "output_type": "stream",
     "text": [
      "Epoch 286/400: 100%|████████████████████████████████████████████████████| 8/8 [00:01<00:00,  4.08it/s, total_loss=77.5]\n",
      "Epoch 287/400:   0%|                                                              | 0/28 [00:00<?, ?it/s<class 'dict'>]"
     ]
    },
    {
     "name": "stdout",
     "output_type": "stream",
     "text": [
      "Finish Validation\n",
      "Epoch:286/400\n",
      "Train Loss: 35.1229 || Val Loss: 68.8811 \n"
     ]
    },
    {
     "name": "stderr",
     "output_type": "stream",
     "text": [
      "Epoch 287/400: 100%|████████████████████████| 28/28 [00:14<00:00,  1.92it/s, lr=5.65e-5, step/s=0.389, total_loss=37.3]\n",
      "Epoch 287/400:   0%|                                                               | 0/8 [00:00<?, ?it/s<class 'dict'>]"
     ]
    },
    {
     "name": "stdout",
     "output_type": "stream",
     "text": [
      "Start Validation\n"
     ]
    },
    {
     "name": "stderr",
     "output_type": "stream",
     "text": [
      "Epoch 287/400: 100%|██████████████████████████████████████████████████████| 8/8 [00:01<00:00,  4.05it/s, total_loss=77]\n",
      "Epoch 288/400:   0%|                                                              | 0/28 [00:00<?, ?it/s<class 'dict'>]"
     ]
    },
    {
     "name": "stdout",
     "output_type": "stream",
     "text": [
      "Finish Validation\n",
      "Epoch:287/400\n",
      "Train Loss: 35.9869 || Val Loss: 68.4225 \n"
     ]
    },
    {
     "name": "stderr",
     "output_type": "stream",
     "text": [
      "Epoch 288/400: 100%|████████████████████████| 28/28 [00:14<00:00,  1.94it/s, lr=5.59e-5, step/s=0.388, total_loss=38.3]\n",
      "Epoch 288/400:   0%|                                                               | 0/8 [00:00<?, ?it/s<class 'dict'>]"
     ]
    },
    {
     "name": "stdout",
     "output_type": "stream",
     "text": [
      "Start Validation\n"
     ]
    },
    {
     "name": "stderr",
     "output_type": "stream",
     "text": [
      "Epoch 288/400: 100%|████████████████████████████████████████████████████| 8/8 [00:01<00:00,  4.10it/s, total_loss=80.3]\n",
      "Epoch 289/400:   0%|                                                              | 0/28 [00:00<?, ?it/s<class 'dict'>]"
     ]
    },
    {
     "name": "stdout",
     "output_type": "stream",
     "text": [
      "Finish Validation\n",
      "Epoch:288/400\n",
      "Train Loss: 37.0001 || Val Loss: 71.4073 \n"
     ]
    },
    {
     "name": "stderr",
     "output_type": "stream",
     "text": [
      "Epoch 289/400: 100%|████████████████████████| 28/28 [00:14<00:00,  1.95it/s, lr=5.53e-5, step/s=0.405, total_loss=33.3]\n",
      "Epoch 289/400:   0%|                                                               | 0/8 [00:00<?, ?it/s<class 'dict'>]"
     ]
    },
    {
     "name": "stdout",
     "output_type": "stream",
     "text": [
      "Start Validation\n"
     ]
    },
    {
     "name": "stderr",
     "output_type": "stream",
     "text": [
      "Epoch 289/400: 100%|████████████████████████████████████████████████████| 8/8 [00:01<00:00,  4.05it/s, total_loss=70.4]\n",
      "Epoch 290/400:   0%|                                                              | 0/28 [00:00<?, ?it/s<class 'dict'>]"
     ]
    },
    {
     "name": "stdout",
     "output_type": "stream",
     "text": [
      "Finish Validation\n",
      "Epoch:289/400\n",
      "Train Loss: 32.1504 || Val Loss: 62.5336 \n"
     ]
    },
    {
     "name": "stderr",
     "output_type": "stream",
     "text": [
      "Epoch 290/400: 100%|████████████████████████| 28/28 [00:14<00:00,  1.93it/s, lr=5.48e-5, step/s=0.414, total_loss=37.6]\n",
      "Epoch 290/400:   0%|                                                               | 0/8 [00:00<?, ?it/s<class 'dict'>]"
     ]
    },
    {
     "name": "stdout",
     "output_type": "stream",
     "text": [
      "Start Validation\n"
     ]
    },
    {
     "name": "stderr",
     "output_type": "stream",
     "text": [
      "Epoch 290/400: 100%|████████████████████████████████████████████████████| 8/8 [00:01<00:00,  4.12it/s, total_loss=82.4]\n",
      "Epoch 291/400:   0%|                                                              | 0/28 [00:00<?, ?it/s<class 'dict'>]"
     ]
    },
    {
     "name": "stdout",
     "output_type": "stream",
     "text": [
      "Finish Validation\n",
      "Epoch:290/400\n",
      "Train Loss: 36.3245 || Val Loss: 73.2023 \n"
     ]
    },
    {
     "name": "stderr",
     "output_type": "stream",
     "text": [
      "Epoch 291/400: 100%|████████████████████████| 28/28 [00:14<00:00,  1.94it/s, lr=5.42e-5, step/s=0.404, total_loss=34.8]\n",
      "Epoch 291/400:   0%|                                                               | 0/8 [00:00<?, ?it/s<class 'dict'>]"
     ]
    },
    {
     "name": "stdout",
     "output_type": "stream",
     "text": [
      "Start Validation\n"
     ]
    },
    {
     "name": "stderr",
     "output_type": "stream",
     "text": [
      "Epoch 291/400: 100%|████████████████████████████████████████████████████| 8/8 [00:01<00:00,  4.04it/s, total_loss=79.4]\n",
      "Epoch 292/400:   0%|                                                              | 0/28 [00:00<?, ?it/s<class 'dict'>]"
     ]
    },
    {
     "name": "stdout",
     "output_type": "stream",
     "text": [
      "Finish Validation\n",
      "Epoch:291/400\n",
      "Train Loss: 33.5528 || Val Loss: 70.5970 \n"
     ]
    },
    {
     "name": "stderr",
     "output_type": "stream",
     "text": [
      "Epoch 292/400: 100%|██████████████████████████| 28/28 [00:14<00:00,  1.94it/s, lr=5.37e-5, step/s=0.407, total_loss=35]\n",
      "Epoch 292/400:   0%|                                                               | 0/8 [00:00<?, ?it/s<class 'dict'>]"
     ]
    },
    {
     "name": "stdout",
     "output_type": "stream",
     "text": [
      "Start Validation\n"
     ]
    },
    {
     "name": "stderr",
     "output_type": "stream",
     "text": [
      "Epoch 292/400: 100%|████████████████████████████████████████████████████| 8/8 [00:01<00:00,  4.00it/s, total_loss=69.9]\n",
      "Epoch 293/400:   0%|                                                              | 0/28 [00:00<?, ?it/s<class 'dict'>]"
     ]
    },
    {
     "name": "stdout",
     "output_type": "stream",
     "text": [
      "Finish Validation\n",
      "Epoch:292/400\n",
      "Train Loss: 33.7475 || Val Loss: 62.1349 \n"
     ]
    },
    {
     "name": "stderr",
     "output_type": "stream",
     "text": [
      "Epoch 293/400: 100%|██████████████████████████| 28/28 [00:14<00:00,  1.93it/s, lr=5.31e-5, step/s=0.411, total_loss=37]\n",
      "Epoch 293/400:   0%|                                                               | 0/8 [00:00<?, ?it/s<class 'dict'>]"
     ]
    },
    {
     "name": "stdout",
     "output_type": "stream",
     "text": [
      "Start Validation\n"
     ]
    },
    {
     "name": "stderr",
     "output_type": "stream",
     "text": [
      "Epoch 293/400: 100%|██████████████████████████████████████████████████████| 8/8 [00:01<00:00,  4.06it/s, total_loss=83]\n",
      "Epoch 294/400:   0%|                                                              | 0/28 [00:00<?, ?it/s<class 'dict'>]"
     ]
    },
    {
     "name": "stdout",
     "output_type": "stream",
     "text": [
      "Finish Validation\n",
      "Epoch:293/400\n",
      "Train Loss: 35.7072 || Val Loss: 73.7758 \n"
     ]
    },
    {
     "name": "stderr",
     "output_type": "stream",
     "text": [
      "Epoch 294/400: 100%|████████████████████████| 28/28 [00:14<00:00,  1.93it/s, lr=5.26e-5, step/s=0.408, total_loss=35.6]\n",
      "Epoch 294/400:   0%|                                                               | 0/8 [00:00<?, ?it/s<class 'dict'>]"
     ]
    },
    {
     "name": "stdout",
     "output_type": "stream",
     "text": [
      "Start Validation\n"
     ]
    },
    {
     "name": "stderr",
     "output_type": "stream",
     "text": [
      "Epoch 294/400: 100%|████████████████████████████████████████████████████| 8/8 [00:01<00:00,  4.03it/s, total_loss=70.8]\n",
      "Epoch 295/400:   0%|                                                              | 0/28 [00:00<?, ?it/s<class 'dict'>]"
     ]
    },
    {
     "name": "stdout",
     "output_type": "stream",
     "text": [
      "Finish Validation\n",
      "Epoch:294/400\n",
      "Train Loss: 34.3277 || Val Loss: 62.9422 \n"
     ]
    },
    {
     "name": "stderr",
     "output_type": "stream",
     "text": [
      "Epoch 295/400: 100%|████████████████████████| 28/28 [00:14<00:00,  1.92it/s, lr=5.21e-5, step/s=0.433, total_loss=33.7]\n",
      "Epoch 295/400:   0%|                                                               | 0/8 [00:00<?, ?it/s<class 'dict'>]"
     ]
    },
    {
     "name": "stdout",
     "output_type": "stream",
     "text": [
      "Start Validation\n"
     ]
    },
    {
     "name": "stderr",
     "output_type": "stream",
     "text": [
      "Epoch 295/400: 100%|████████████████████████████████████████████████████| 8/8 [00:01<00:00,  4.24it/s, total_loss=69.8]\n",
      "Epoch 296/400:   0%|                                                              | 0/28 [00:00<?, ?it/s<class 'dict'>]"
     ]
    },
    {
     "name": "stdout",
     "output_type": "stream",
     "text": [
      "Finish Validation\n",
      "Epoch:295/400\n",
      "Train Loss: 32.5217 || Val Loss: 62.0162 \n"
     ]
    },
    {
     "name": "stderr",
     "output_type": "stream",
     "text": [
      "Epoch 296/400: 100%|████████████████████████| 28/28 [00:14<00:00,  1.92it/s, lr=5.16e-5, step/s=0.415, total_loss=36.6]\n",
      "Epoch 296/400:   0%|                                                               | 0/8 [00:00<?, ?it/s<class 'dict'>]"
     ]
    },
    {
     "name": "stdout",
     "output_type": "stream",
     "text": [
      "Start Validation\n"
     ]
    },
    {
     "name": "stderr",
     "output_type": "stream",
     "text": [
      "Epoch 296/400: 100%|████████████████████████████████████████████████████| 8/8 [00:01<00:00,  4.11it/s, total_loss=82.9]\n",
      "Epoch 297/400:   0%|                                                              | 0/28 [00:00<?, ?it/s<class 'dict'>]"
     ]
    },
    {
     "name": "stdout",
     "output_type": "stream",
     "text": [
      "Finish Validation\n",
      "Epoch:296/400\n",
      "Train Loss: 35.3798 || Val Loss: 73.6476 \n"
     ]
    },
    {
     "name": "stderr",
     "output_type": "stream",
     "text": [
      "Epoch 297/400: 100%|████████████████████████| 28/28 [00:14<00:00,  1.94it/s, lr=5.11e-5, step/s=0.395, total_loss=35.9]\n",
      "Epoch 297/400:   0%|                                                               | 0/8 [00:00<?, ?it/s<class 'dict'>]"
     ]
    },
    {
     "name": "stdout",
     "output_type": "stream",
     "text": [
      "Start Validation\n"
     ]
    },
    {
     "name": "stderr",
     "output_type": "stream",
     "text": [
      "Epoch 297/400: 100%|████████████████████████████████████████████████████| 8/8 [00:01<00:00,  4.10it/s, total_loss=75.5]\n",
      "Epoch 298/400:   0%|                                                              | 0/28 [00:00<?, ?it/s<class 'dict'>]"
     ]
    },
    {
     "name": "stdout",
     "output_type": "stream",
     "text": [
      "Finish Validation\n",
      "Epoch:297/400\n",
      "Train Loss: 34.6562 || Val Loss: 67.0890 \n"
     ]
    },
    {
     "name": "stderr",
     "output_type": "stream",
     "text": [
      "Epoch 298/400: 100%|████████████████████████| 28/28 [00:14<00:00,  1.94it/s, lr=5.05e-5, step/s=0.382, total_loss=36.1]\n",
      "Epoch 298/400:   0%|                                                               | 0/8 [00:00<?, ?it/s<class 'dict'>]"
     ]
    },
    {
     "name": "stdout",
     "output_type": "stream",
     "text": [
      "Start Validation\n"
     ]
    },
    {
     "name": "stderr",
     "output_type": "stream",
     "text": [
      "Epoch 298/400: 100%|████████████████████████████████████████████████████| 8/8 [00:01<00:00,  4.09it/s, total_loss=74.2]\n",
      "Epoch 299/400:   0%|                                                              | 0/28 [00:00<?, ?it/s<class 'dict'>]"
     ]
    },
    {
     "name": "stdout",
     "output_type": "stream",
     "text": [
      "Finish Validation\n",
      "Epoch:298/400\n",
      "Train Loss: 34.8247 || Val Loss: 65.9758 \n"
     ]
    },
    {
     "name": "stderr",
     "output_type": "stream",
     "text": [
      "Epoch 299/400: 100%|███████████████████████████| 28/28 [00:14<00:00,  1.93it/s, lr=5e-5, step/s=0.409, total_loss=38.1]\n",
      "Epoch 299/400:   0%|                                                               | 0/8 [00:00<?, ?it/s<class 'dict'>]"
     ]
    },
    {
     "name": "stdout",
     "output_type": "stream",
     "text": [
      "Start Validation\n"
     ]
    },
    {
     "name": "stderr",
     "output_type": "stream",
     "text": [
      "Epoch 299/400: 100%|████████████████████████████████████████████████████| 8/8 [00:01<00:00,  4.05it/s, total_loss=66.3]\n",
      "Epoch 300/400:   0%|                                                              | 0/28 [00:00<?, ?it/s<class 'dict'>]"
     ]
    },
    {
     "name": "stdout",
     "output_type": "stream",
     "text": [
      "Finish Validation\n",
      "Epoch:299/400\n",
      "Train Loss: 36.7734 || Val Loss: 58.9347 \n"
     ]
    },
    {
     "name": "stderr",
     "output_type": "stream",
     "text": [
      "Epoch 300/400: 100%|████████████████████████| 28/28 [00:14<00:00,  1.92it/s, lr=4.95e-5, step/s=0.417, total_loss=34.6]\n",
      "Epoch 300/400:   0%|                                                               | 0/8 [00:00<?, ?it/s<class 'dict'>]"
     ]
    },
    {
     "name": "stdout",
     "output_type": "stream",
     "text": [
      "Start Validation\n"
     ]
    },
    {
     "name": "stderr",
     "output_type": "stream",
     "text": [
      "Epoch 300/400: 100%|████████████████████████████████████████████████████| 8/8 [00:01<00:00,  4.14it/s, total_loss=75.4]\n"
     ]
    },
    {
     "name": "stdout",
     "output_type": "stream",
     "text": [
      "Finish Validation\n",
      "Epoch:300/400\n",
      "Train Loss: 33.4026 || Val Loss: 67.0176 \n"
     ]
    },
    {
     "name": "stderr",
     "output_type": "stream",
     "text": [
      "Epoch 301/400: 100%|█████████████████████████| 28/28 [00:14<00:00,  1.95it/s, lr=4.9e-5, step/s=0.415, total_loss=35.6]\n",
      "Epoch 301/400:   0%|                                                               | 0/8 [00:00<?, ?it/s<class 'dict'>]"
     ]
    },
    {
     "name": "stdout",
     "output_type": "stream",
     "text": [
      "Start Validation\n"
     ]
    },
    {
     "name": "stderr",
     "output_type": "stream",
     "text": [
      "Epoch 301/400: 100%|████████████████████████████████████████████████████| 8/8 [00:01<00:00,  4.08it/s, total_loss=86.2]\n",
      "Epoch 302/400:   0%|                                                              | 0/28 [00:00<?, ?it/s<class 'dict'>]"
     ]
    },
    {
     "name": "stdout",
     "output_type": "stream",
     "text": [
      "Finish Validation\n",
      "Epoch:301/400\n",
      "Train Loss: 34.3581 || Val Loss: 76.6639 \n"
     ]
    },
    {
     "name": "stderr",
     "output_type": "stream",
     "text": [
      "Epoch 302/400: 100%|██████████████████████████| 28/28 [00:14<00:00,  1.90it/s, lr=4.86e-5, step/s=0.413, total_loss=38]\n",
      "Epoch 302/400:   0%|                                                               | 0/8 [00:00<?, ?it/s<class 'dict'>]"
     ]
    },
    {
     "name": "stdout",
     "output_type": "stream",
     "text": [
      "Start Validation\n"
     ]
    },
    {
     "name": "stderr",
     "output_type": "stream",
     "text": [
      "Epoch 302/400: 100%|████████████████████████████████████████████████████| 8/8 [00:01<00:00,  4.02it/s, total_loss=83.8]\n",
      "Epoch 303/400:   0%|                                                              | 0/28 [00:00<?, ?it/s<class 'dict'>]"
     ]
    },
    {
     "name": "stdout",
     "output_type": "stream",
     "text": [
      "Finish Validation\n",
      "Epoch:302/400\n",
      "Train Loss: 36.6458 || Val Loss: 74.4491 \n"
     ]
    },
    {
     "name": "stderr",
     "output_type": "stream",
     "text": [
      "Epoch 303/400: 100%|████████████████████████| 28/28 [00:14<00:00,  1.92it/s, lr=4.81e-5, step/s=0.395, total_loss=33.8]\n",
      "Epoch 303/400:   0%|                                                               | 0/8 [00:00<?, ?it/s<class 'dict'>]"
     ]
    },
    {
     "name": "stdout",
     "output_type": "stream",
     "text": [
      "Start Validation\n"
     ]
    },
    {
     "name": "stderr",
     "output_type": "stream",
     "text": [
      "Epoch 303/400: 100%|██████████████████████████████████████████████████████| 8/8 [00:02<00:00,  3.99it/s, total_loss=75]\n",
      "Epoch 304/400:   0%|                                                              | 0/28 [00:00<?, ?it/s<class 'dict'>]"
     ]
    },
    {
     "name": "stdout",
     "output_type": "stream",
     "text": [
      "Finish Validation\n",
      "Epoch:303/400\n",
      "Train Loss: 32.6558 || Val Loss: 66.6279 \n"
     ]
    },
    {
     "name": "stderr",
     "output_type": "stream",
     "text": [
      "Epoch 304/400: 100%|████████████████████████| 28/28 [00:14<00:00,  1.92it/s, lr=4.76e-5, step/s=0.419, total_loss=34.3]\n",
      "Epoch 304/400:   0%|                                                               | 0/8 [00:00<?, ?it/s<class 'dict'>]"
     ]
    },
    {
     "name": "stdout",
     "output_type": "stream",
     "text": [
      "Start Validation\n"
     ]
    },
    {
     "name": "stderr",
     "output_type": "stream",
     "text": [
      "Epoch 304/400: 100%|████████████████████████████████████████████████████| 8/8 [00:01<00:00,  4.05it/s, total_loss=78.2]\n",
      "Epoch 305/400:   0%|                                                              | 0/28 [00:00<?, ?it/s<class 'dict'>]"
     ]
    },
    {
     "name": "stdout",
     "output_type": "stream",
     "text": [
      "Finish Validation\n",
      "Epoch:304/400\n",
      "Train Loss: 33.1545 || Val Loss: 69.5473 \n"
     ]
    },
    {
     "name": "stderr",
     "output_type": "stream",
     "text": [
      "Epoch 305/400: 100%|████████████████████████| 28/28 [00:14<00:00,  1.93it/s, lr=4.71e-5, step/s=0.415, total_loss=33.8]\n",
      "Epoch 305/400:   0%|                                                               | 0/8 [00:00<?, ?it/s<class 'dict'>]"
     ]
    },
    {
     "name": "stdout",
     "output_type": "stream",
     "text": [
      "Start Validation\n"
     ]
    },
    {
     "name": "stderr",
     "output_type": "stream",
     "text": [
      "Epoch 305/400: 100%|████████████████████████████████████████████████████| 8/8 [00:01<00:00,  4.04it/s, total_loss=70.6]\n",
      "Epoch 306/400:   0%|                                                              | 0/28 [00:00<?, ?it/s<class 'dict'>]"
     ]
    },
    {
     "name": "stdout",
     "output_type": "stream",
     "text": [
      "Finish Validation\n",
      "Epoch:305/400\n",
      "Train Loss: 32.5956 || Val Loss: 62.7895 \n"
     ]
    },
    {
     "name": "stderr",
     "output_type": "stream",
     "text": [
      "Epoch 306/400: 100%|████████████████████████| 28/28 [00:14<00:00,  1.94it/s, lr=4.66e-5, step/s=0.385, total_loss=35.3]\n",
      "Epoch 306/400:   0%|                                                               | 0/8 [00:00<?, ?it/s<class 'dict'>]"
     ]
    },
    {
     "name": "stdout",
     "output_type": "stream",
     "text": [
      "Start Validation\n"
     ]
    },
    {
     "name": "stderr",
     "output_type": "stream",
     "text": [
      "Epoch 306/400: 100%|████████████████████████████████████████████████████| 8/8 [00:01<00:00,  4.10it/s, total_loss=77.8]\n",
      "Epoch 307/400:   0%|                                                              | 0/28 [00:00<?, ?it/s<class 'dict'>]"
     ]
    },
    {
     "name": "stdout",
     "output_type": "stream",
     "text": [
      "Finish Validation\n",
      "Epoch:306/400\n",
      "Train Loss: 34.0680 || Val Loss: 69.1922 \n"
     ]
    },
    {
     "name": "stderr",
     "output_type": "stream",
     "text": [
      "Epoch 307/400: 100%|████████████████████████| 28/28 [00:14<00:00,  1.91it/s, lr=4.62e-5, step/s=0.416, total_loss=35.6]\n",
      "Epoch 307/400:   0%|                                                               | 0/8 [00:00<?, ?it/s<class 'dict'>]"
     ]
    },
    {
     "name": "stdout",
     "output_type": "stream",
     "text": [
      "Start Validation\n"
     ]
    },
    {
     "name": "stderr",
     "output_type": "stream",
     "text": [
      "Epoch 307/400: 100%|████████████████████████████████████████████████████| 8/8 [00:01<00:00,  4.15it/s, total_loss=77.4]\n",
      "Epoch 308/400:   0%|                                                              | 0/28 [00:00<?, ?it/s<class 'dict'>]"
     ]
    },
    {
     "name": "stdout",
     "output_type": "stream",
     "text": [
      "Finish Validation\n",
      "Epoch:307/400\n",
      "Train Loss: 34.3951 || Val Loss: 68.8039 \n"
     ]
    },
    {
     "name": "stderr",
     "output_type": "stream",
     "text": [
      "Epoch 308/400: 100%|████████████████████████| 28/28 [00:14<00:00,  1.92it/s, lr=4.57e-5, step/s=0.427, total_loss=35.1]\n",
      "Epoch 308/400:   0%|                                                               | 0/8 [00:00<?, ?it/s<class 'dict'>]"
     ]
    },
    {
     "name": "stdout",
     "output_type": "stream",
     "text": [
      "Start Validation\n"
     ]
    },
    {
     "name": "stderr",
     "output_type": "stream",
     "text": [
      "Epoch 308/400: 100%|██████████████████████████████████████████████████████| 8/8 [00:01<00:00,  4.06it/s, total_loss=78]\n",
      "Epoch 309/400:   0%|                                                              | 0/28 [00:00<?, ?it/s<class 'dict'>]"
     ]
    },
    {
     "name": "stdout",
     "output_type": "stream",
     "text": [
      "Finish Validation\n",
      "Epoch:308/400\n",
      "Train Loss: 33.8600 || Val Loss: 69.3251 \n"
     ]
    },
    {
     "name": "stderr",
     "output_type": "stream",
     "text": [
      "Epoch 309/400: 100%|████████████████████████| 28/28 [00:14<00:00,  1.94it/s, lr=4.53e-5, step/s=0.384, total_loss=34.3]\n",
      "Epoch 309/400:   0%|                                                               | 0/8 [00:00<?, ?it/s<class 'dict'>]"
     ]
    },
    {
     "name": "stdout",
     "output_type": "stream",
     "text": [
      "Start Validation\n"
     ]
    },
    {
     "name": "stderr",
     "output_type": "stream",
     "text": [
      "Epoch 309/400: 100%|████████████████████████████████████████████████████| 8/8 [00:02<00:00,  3.96it/s, total_loss=73.8]\n",
      "Epoch 310/400:   0%|                                                              | 0/28 [00:00<?, ?it/s<class 'dict'>]"
     ]
    },
    {
     "name": "stdout",
     "output_type": "stream",
     "text": [
      "Finish Validation\n",
      "Epoch:309/400\n",
      "Train Loss: 33.1052 || Val Loss: 65.5701 \n"
     ]
    },
    {
     "name": "stderr",
     "output_type": "stream",
     "text": [
      "Epoch 310/400: 100%|████████████████████████| 28/28 [00:14<00:00,  1.92it/s, lr=4.48e-5, step/s=0.423, total_loss=37.7]\n",
      "Epoch 310/400:   0%|                                                               | 0/8 [00:00<?, ?it/s<class 'dict'>]"
     ]
    },
    {
     "name": "stdout",
     "output_type": "stream",
     "text": [
      "Start Validation\n"
     ]
    },
    {
     "name": "stderr",
     "output_type": "stream",
     "text": [
      "Epoch 310/400: 100%|████████████████████████████████████████████████████| 8/8 [00:01<00:00,  4.07it/s, total_loss=83.1]\n",
      "Epoch 311/400:   0%|                                                              | 0/28 [00:00<?, ?it/s<class 'dict'>]"
     ]
    },
    {
     "name": "stdout",
     "output_type": "stream",
     "text": [
      "Finish Validation\n",
      "Epoch:310/400\n",
      "Train Loss: 36.4112 || Val Loss: 73.8388 \n"
     ]
    },
    {
     "name": "stderr",
     "output_type": "stream",
     "text": [
      "Epoch 311/400: 100%|███████████████████████████| 28/28 [00:14<00:00,  1.94it/s, lr=4.44e-5, step/s=0.38, total_loss=35]\n",
      "Epoch 311/400:   0%|                                                               | 0/8 [00:00<?, ?it/s<class 'dict'>]"
     ]
    },
    {
     "name": "stdout",
     "output_type": "stream",
     "text": [
      "Start Validation\n"
     ]
    },
    {
     "name": "stderr",
     "output_type": "stream",
     "text": [
      "Epoch 311/400: 100%|████████████████████████████████████████████████████| 8/8 [00:01<00:00,  4.02it/s, total_loss=65.6]\n",
      "Epoch 312/400:   0%|                                                              | 0/28 [00:00<?, ?it/s<class 'dict'>]"
     ]
    },
    {
     "name": "stdout",
     "output_type": "stream",
     "text": [
      "Finish Validation\n",
      "Epoch:311/400\n",
      "Train Loss: 33.8074 || Val Loss: 58.2851 \n"
     ]
    },
    {
     "name": "stderr",
     "output_type": "stream",
     "text": [
      "Epoch 312/400: 100%|████████████████████████| 28/28 [00:14<00:00,  1.93it/s, lr=4.39e-5, step/s=0.417, total_loss=36.4]\n",
      "Epoch 312/400:   0%|                                                               | 0/8 [00:00<?, ?it/s<class 'dict'>]"
     ]
    },
    {
     "name": "stdout",
     "output_type": "stream",
     "text": [
      "Start Validation\n"
     ]
    },
    {
     "name": "stderr",
     "output_type": "stream",
     "text": [
      "Epoch 312/400: 100%|████████████████████████████████████████████████████| 8/8 [00:01<00:00,  4.00it/s, total_loss=76.4]\n",
      "Epoch 313/400:   0%|                                                              | 0/28 [00:00<?, ?it/s<class 'dict'>]"
     ]
    },
    {
     "name": "stdout",
     "output_type": "stream",
     "text": [
      "Finish Validation\n",
      "Epoch:312/400\n",
      "Train Loss: 35.1520 || Val Loss: 67.9289 \n"
     ]
    },
    {
     "name": "stderr",
     "output_type": "stream",
     "text": [
      "Epoch 313/400: 100%|████████████████████████| 28/28 [00:14<00:00,  1.93it/s, lr=4.35e-5, step/s=0.414, total_loss=34.1]\n",
      "Epoch 313/400:   0%|                                                               | 0/8 [00:00<?, ?it/s<class 'dict'>]"
     ]
    },
    {
     "name": "stdout",
     "output_type": "stream",
     "text": [
      "Start Validation\n"
     ]
    },
    {
     "name": "stderr",
     "output_type": "stream",
     "text": [
      "Epoch 313/400: 100%|████████████████████████████████████████████████████| 8/8 [00:01<00:00,  4.15it/s, total_loss=82.2]\n",
      "Epoch 314/400:   0%|                                                              | 0/28 [00:00<?, ?it/s<class 'dict'>]"
     ]
    },
    {
     "name": "stdout",
     "output_type": "stream",
     "text": [
      "Finish Validation\n",
      "Epoch:313/400\n",
      "Train Loss: 32.9394 || Val Loss: 73.0277 \n"
     ]
    },
    {
     "name": "stderr",
     "output_type": "stream",
     "text": [
      "Epoch 314/400: 100%|█████████████████████████| 28/28 [00:14<00:00,  1.93it/s, lr=4.3e-5, step/s=0.388, total_loss=37.3]\n",
      "Epoch 314/400:   0%|                                                               | 0/8 [00:00<?, ?it/s<class 'dict'>]"
     ]
    },
    {
     "name": "stdout",
     "output_type": "stream",
     "text": [
      "Start Validation\n"
     ]
    },
    {
     "name": "stderr",
     "output_type": "stream",
     "text": [
      "Epoch 314/400: 100%|████████████████████████████████████████████████████| 8/8 [00:02<00:00,  3.97it/s, total_loss=84.1]\n",
      "Epoch 315/400:   0%|                                                              | 0/28 [00:00<?, ?it/s<class 'dict'>]"
     ]
    },
    {
     "name": "stdout",
     "output_type": "stream",
     "text": [
      "Finish Validation\n",
      "Epoch:314/400\n",
      "Train Loss: 36.0615 || Val Loss: 74.7387 \n"
     ]
    },
    {
     "name": "stderr",
     "output_type": "stream",
     "text": [
      "Epoch 315/400: 100%|████████████████████████| 28/28 [00:14<00:00,  1.93it/s, lr=4.26e-5, step/s=0.415, total_loss=35.4]\n",
      "Epoch 315/400:   0%|                                                               | 0/8 [00:00<?, ?it/s<class 'dict'>]"
     ]
    },
    {
     "name": "stdout",
     "output_type": "stream",
     "text": [
      "Start Validation\n"
     ]
    },
    {
     "name": "stderr",
     "output_type": "stream",
     "text": [
      "Epoch 315/400: 100%|██████████████████████████████████████████████████████| 8/8 [00:01<00:00,  4.21it/s, total_loss=80]\n",
      "Epoch 316/400:   0%|                                                              | 0/28 [00:00<?, ?it/s<class 'dict'>]"
     ]
    },
    {
     "name": "stdout",
     "output_type": "stream",
     "text": [
      "Finish Validation\n",
      "Epoch:315/400\n",
      "Train Loss: 34.2031 || Val Loss: 71.1287 \n"
     ]
    },
    {
     "name": "stderr",
     "output_type": "stream",
     "text": [
      "Epoch 316/400: 100%|████████████████████████| 28/28 [00:14<00:00,  1.93it/s, lr=4.22e-5, step/s=0.417, total_loss=36.7]\n",
      "Epoch 316/400:   0%|                                                               | 0/8 [00:00<?, ?it/s<class 'dict'>]"
     ]
    },
    {
     "name": "stdout",
     "output_type": "stream",
     "text": [
      "Start Validation\n"
     ]
    },
    {
     "name": "stderr",
     "output_type": "stream",
     "text": [
      "Epoch 316/400: 100%|████████████████████████████████████████████████████| 8/8 [00:01<00:00,  4.09it/s, total_loss=76.8]\n",
      "Epoch 317/400:   0%|                                                              | 0/28 [00:00<?, ?it/s<class 'dict'>]"
     ]
    },
    {
     "name": "stdout",
     "output_type": "stream",
     "text": [
      "Finish Validation\n",
      "Epoch:316/400\n",
      "Train Loss: 35.4703 || Val Loss: 68.2967 \n"
     ]
    },
    {
     "name": "stderr",
     "output_type": "stream",
     "text": [
      "Epoch 317/400: 100%|████████████████████████| 28/28 [00:14<00:00,  1.89it/s, lr=4.18e-5, step/s=0.449, total_loss=32.2]\n",
      "Epoch 317/400:   0%|                                                               | 0/8 [00:00<?, ?it/s<class 'dict'>]"
     ]
    },
    {
     "name": "stdout",
     "output_type": "stream",
     "text": [
      "Start Validation\n"
     ]
    },
    {
     "name": "stderr",
     "output_type": "stream",
     "text": [
      "Epoch 317/400: 100%|████████████████████████████████████████████████████| 8/8 [00:02<00:00,  3.70it/s, total_loss=70.1]\n",
      "Epoch 318/400:   0%|                                                              | 0/28 [00:00<?, ?it/s<class 'dict'>]"
     ]
    },
    {
     "name": "stdout",
     "output_type": "stream",
     "text": [
      "Finish Validation\n",
      "Epoch:317/400\n",
      "Train Loss: 31.0717 || Val Loss: 62.2980 \n"
     ]
    },
    {
     "name": "stderr",
     "output_type": "stream",
     "text": [
      "Epoch 318/400: 100%|████████████████████████| 28/28 [00:15<00:00,  1.86it/s, lr=4.13e-5, step/s=0.395, total_loss=35.5]\n",
      "Epoch 318/400:   0%|                                                               | 0/8 [00:00<?, ?it/s<class 'dict'>]"
     ]
    },
    {
     "name": "stdout",
     "output_type": "stream",
     "text": [
      "Start Validation\n"
     ]
    },
    {
     "name": "stderr",
     "output_type": "stream",
     "text": [
      "Epoch 318/400: 100%|████████████████████████████████████████████████████| 8/8 [00:02<00:00,  3.87it/s, total_loss=74.9]\n",
      "Epoch 319/400:   0%|                                                              | 0/28 [00:00<?, ?it/s<class 'dict'>]"
     ]
    },
    {
     "name": "stdout",
     "output_type": "stream",
     "text": [
      "Finish Validation\n",
      "Epoch:318/400\n",
      "Train Loss: 34.2427 || Val Loss: 66.6089 \n"
     ]
    },
    {
     "name": "stderr",
     "output_type": "stream",
     "text": [
      "Epoch 319/400: 100%|████████████████████████| 28/28 [00:14<00:00,  1.89it/s, lr=4.09e-5, step/s=0.432, total_loss=35.3]\n",
      "Epoch 319/400:   0%|                                                               | 0/8 [00:00<?, ?it/s<class 'dict'>]"
     ]
    },
    {
     "name": "stdout",
     "output_type": "stream",
     "text": [
      "Start Validation\n"
     ]
    },
    {
     "name": "stderr",
     "output_type": "stream",
     "text": [
      "Epoch 319/400: 100%|████████████████████████████████████████████████████| 8/8 [00:01<00:00,  4.02it/s, total_loss=68.6]\n",
      "Epoch 320/400:   0%|                                                              | 0/28 [00:00<?, ?it/s<class 'dict'>]"
     ]
    },
    {
     "name": "stdout",
     "output_type": "stream",
     "text": [
      "Finish Validation\n",
      "Epoch:319/400\n",
      "Train Loss: 34.1135 || Val Loss: 61.0036 \n"
     ]
    },
    {
     "name": "stderr",
     "output_type": "stream",
     "text": [
      "Epoch 320/400: 100%|████████████████████████| 28/28 [00:14<00:00,  1.89it/s, lr=4.05e-5, step/s=0.433, total_loss=34.5]\n",
      "Epoch 320/400:   0%|                                                               | 0/8 [00:00<?, ?it/s<class 'dict'>]"
     ]
    },
    {
     "name": "stdout",
     "output_type": "stream",
     "text": [
      "Start Validation\n"
     ]
    },
    {
     "name": "stderr",
     "output_type": "stream",
     "text": [
      "Epoch 320/400: 100%|████████████████████████████████████████████████████| 8/8 [00:02<00:00,  3.99it/s, total_loss=79.2]\n",
      "Epoch 321/400:   0%|                                                              | 0/28 [00:00<?, ?it/s<class 'dict'>]"
     ]
    },
    {
     "name": "stdout",
     "output_type": "stream",
     "text": [
      "Finish Validation\n",
      "Epoch:320/400\n",
      "Train Loss: 33.2861 || Val Loss: 70.3733 \n"
     ]
    },
    {
     "name": "stderr",
     "output_type": "stream",
     "text": [
      "Epoch 321/400: 100%|████████████████████████| 28/28 [00:15<00:00,  1.81it/s, lr=4.01e-5, step/s=0.475, total_loss=37.1]\n",
      "Epoch 321/400:   0%|                                                               | 0/8 [00:00<?, ?it/s<class 'dict'>]"
     ]
    },
    {
     "name": "stdout",
     "output_type": "stream",
     "text": [
      "Start Validation\n"
     ]
    },
    {
     "name": "stderr",
     "output_type": "stream",
     "text": [
      "Epoch 321/400: 100%|████████████████████████████████████████████████████| 8/8 [00:02<00:00,  3.62it/s, total_loss=76.3]\n",
      "Epoch 322/400:   0%|                                                              | 0/28 [00:00<?, ?it/s<class 'dict'>]"
     ]
    },
    {
     "name": "stdout",
     "output_type": "stream",
     "text": [
      "Finish Validation\n",
      "Epoch:321/400\n",
      "Train Loss: 35.8004 || Val Loss: 67.8389 \n"
     ]
    },
    {
     "name": "stderr",
     "output_type": "stream",
     "text": [
      "Epoch 322/400: 100%|████████████████████████| 28/28 [00:14<00:00,  1.88it/s, lr=3.97e-5, step/s=0.412, total_loss=34.9]\n",
      "Epoch 322/400:   0%|                                                               | 0/8 [00:00<?, ?it/s<class 'dict'>]"
     ]
    },
    {
     "name": "stdout",
     "output_type": "stream",
     "text": [
      "Start Validation\n"
     ]
    },
    {
     "name": "stderr",
     "output_type": "stream",
     "text": [
      "Epoch 322/400: 100%|████████████████████████████████████████████████████| 8/8 [00:02<00:00,  4.00it/s, total_loss=74.5]\n",
      "Epoch 323/400:   0%|                                                              | 0/28 [00:00<?, ?it/s<class 'dict'>]"
     ]
    },
    {
     "name": "stdout",
     "output_type": "stream",
     "text": [
      "Finish Validation\n",
      "Epoch:322/400\n",
      "Train Loss: 33.7051 || Val Loss: 66.2527 \n"
     ]
    },
    {
     "name": "stderr",
     "output_type": "stream",
     "text": [
      "Epoch 323/400: 100%|████████████████████████| 28/28 [00:14<00:00,  1.92it/s, lr=3.93e-5, step/s=0.398, total_loss=34.4]\n",
      "Epoch 323/400:   0%|                                                               | 0/8 [00:00<?, ?it/s<class 'dict'>]"
     ]
    },
    {
     "name": "stdout",
     "output_type": "stream",
     "text": [
      "Start Validation\n"
     ]
    },
    {
     "name": "stderr",
     "output_type": "stream",
     "text": [
      "Epoch 323/400: 100%|████████████████████████████████████████████████████| 8/8 [00:02<00:00,  3.97it/s, total_loss=82.1]\n",
      "Epoch 324/400:   0%|                                                              | 0/28 [00:00<?, ?it/s<class 'dict'>]"
     ]
    },
    {
     "name": "stdout",
     "output_type": "stream",
     "text": [
      "Finish Validation\n",
      "Epoch:323/400\n",
      "Train Loss: 33.2548 || Val Loss: 72.9725 \n"
     ]
    },
    {
     "name": "stderr",
     "output_type": "stream",
     "text": [
      "Epoch 324/400: 100%|████████████████████████| 28/28 [00:14<00:00,  1.92it/s, lr=3.89e-5, step/s=0.396, total_loss=34.7]\n",
      "Epoch 324/400:   0%|                                                               | 0/8 [00:00<?, ?it/s<class 'dict'>]"
     ]
    },
    {
     "name": "stdout",
     "output_type": "stream",
     "text": [
      "Start Validation\n"
     ]
    },
    {
     "name": "stderr",
     "output_type": "stream",
     "text": [
      "Epoch 324/400: 100%|████████████████████████████████████████████████████| 8/8 [00:02<00:00,  3.90it/s, total_loss=74.2]\n",
      "Epoch 325/400:   0%|                                                              | 0/28 [00:00<?, ?it/s<class 'dict'>]"
     ]
    },
    {
     "name": "stdout",
     "output_type": "stream",
     "text": [
      "Finish Validation\n",
      "Epoch:324/400\n",
      "Train Loss: 33.5169 || Val Loss: 65.9887 \n"
     ]
    },
    {
     "name": "stderr",
     "output_type": "stream",
     "text": [
      "Epoch 325/400: 100%|████████████████████████| 28/28 [00:14<00:00,  1.90it/s, lr=3.85e-5, step/s=0.428, total_loss=39.5]\n",
      "Epoch 325/400:   0%|                                                               | 0/8 [00:00<?, ?it/s<class 'dict'>]"
     ]
    },
    {
     "name": "stdout",
     "output_type": "stream",
     "text": [
      "Start Validation\n"
     ]
    },
    {
     "name": "stderr",
     "output_type": "stream",
     "text": [
      "Epoch 325/400: 100%|████████████████████████████████████████████████████| 8/8 [00:02<00:00,  3.99it/s, total_loss=80.8]\n",
      "Epoch 326/400:   0%|                                                              | 0/28 [00:00<?, ?it/s<class 'dict'>]"
     ]
    },
    {
     "name": "stdout",
     "output_type": "stream",
     "text": [
      "Finish Validation\n",
      "Epoch:325/400\n",
      "Train Loss: 38.1078 || Val Loss: 71.8202 \n"
     ]
    },
    {
     "name": "stderr",
     "output_type": "stream",
     "text": [
      "Epoch 326/400: 100%|████████████████████████| 28/28 [00:14<00:00,  1.90it/s, lr=3.81e-5, step/s=0.458, total_loss=36.4]\n",
      "Epoch 326/400:   0%|                                                               | 0/8 [00:00<?, ?it/s<class 'dict'>]"
     ]
    },
    {
     "name": "stdout",
     "output_type": "stream",
     "text": [
      "Start Validation\n"
     ]
    },
    {
     "name": "stderr",
     "output_type": "stream",
     "text": [
      "Epoch 326/400: 100%|██████████████████████████████████████████████████████| 8/8 [00:02<00:00,  3.96it/s, total_loss=66]\n",
      "Epoch 327/400:   0%|                                                              | 0/28 [00:00<?, ?it/s<class 'dict'>]"
     ]
    },
    {
     "name": "stdout",
     "output_type": "stream",
     "text": [
      "Finish Validation\n",
      "Epoch:326/400\n",
      "Train Loss: 35.1183 || Val Loss: 58.7071 \n"
     ]
    },
    {
     "name": "stderr",
     "output_type": "stream",
     "text": [
      "Epoch 327/400: 100%|██████████████████████████| 28/28 [00:14<00:00,  1.90it/s, lr=3.78e-5, step/s=0.425, total_loss=35]\n",
      "Epoch 327/400:   0%|                                                               | 0/8 [00:00<?, ?it/s<class 'dict'>]"
     ]
    },
    {
     "name": "stdout",
     "output_type": "stream",
     "text": [
      "Start Validation\n"
     ]
    },
    {
     "name": "stderr",
     "output_type": "stream",
     "text": [
      "Epoch 327/400: 100%|████████████████████████████████████████████████████| 8/8 [00:02<00:00,  3.96it/s, total_loss=69.2]\n",
      "Epoch 328/400:   0%|                                                              | 0/28 [00:00<?, ?it/s<class 'dict'>]"
     ]
    },
    {
     "name": "stdout",
     "output_type": "stream",
     "text": [
      "Finish Validation\n",
      "Epoch:327/400\n",
      "Train Loss: 33.8153 || Val Loss: 61.4775 \n"
     ]
    },
    {
     "name": "stderr",
     "output_type": "stream",
     "text": [
      "Epoch 328/400: 100%|████████████████████████| 28/28 [00:14<00:00,  1.91it/s, lr=3.74e-5, step/s=0.439, total_loss=32.7]\n",
      "Epoch 328/400:   0%|                                                               | 0/8 [00:00<?, ?it/s<class 'dict'>]"
     ]
    },
    {
     "name": "stdout",
     "output_type": "stream",
     "text": [
      "Start Validation\n"
     ]
    },
    {
     "name": "stderr",
     "output_type": "stream",
     "text": [
      "Epoch 328/400: 100%|████████████████████████████████████████████████████| 8/8 [00:01<00:00,  4.01it/s, total_loss=79.7]\n",
      "Epoch 329/400:   0%|                                                              | 0/28 [00:00<?, ?it/s<class 'dict'>]"
     ]
    },
    {
     "name": "stdout",
     "output_type": "stream",
     "text": [
      "Finish Validation\n",
      "Epoch:328/400\n",
      "Train Loss: 31.5792 || Val Loss: 70.8578 \n"
     ]
    },
    {
     "name": "stderr",
     "output_type": "stream",
     "text": [
      "Epoch 329/400: 100%|█████████████████████████| 28/28 [00:14<00:00,  1.90it/s, lr=3.7e-5, step/s=0.379, total_loss=37.7]\n",
      "Epoch 329/400:   0%|                                                               | 0/8 [00:00<?, ?it/s<class 'dict'>]"
     ]
    },
    {
     "name": "stdout",
     "output_type": "stream",
     "text": [
      "Start Validation\n"
     ]
    },
    {
     "name": "stderr",
     "output_type": "stream",
     "text": [
      "Epoch 329/400: 100%|████████████████████████████████████████████████████| 8/8 [00:02<00:00,  3.96it/s, total_loss=88.8]\n",
      "Epoch 330/400:   0%|                                                              | 0/28 [00:00<?, ?it/s<class 'dict'>]"
     ]
    },
    {
     "name": "stdout",
     "output_type": "stream",
     "text": [
      "Finish Validation\n",
      "Epoch:329/400\n",
      "Train Loss: 36.3877 || Val Loss: 78.9246 \n"
     ]
    },
    {
     "name": "stderr",
     "output_type": "stream",
     "text": [
      "Epoch 330/400: 100%|████████████████████████| 28/28 [00:14<00:00,  1.91it/s, lr=3.66e-5, step/s=0.436, total_loss=38.3]\n",
      "Epoch 330/400:   0%|                                                               | 0/8 [00:00<?, ?it/s<class 'dict'>]"
     ]
    },
    {
     "name": "stdout",
     "output_type": "stream",
     "text": [
      "Start Validation\n"
     ]
    },
    {
     "name": "stderr",
     "output_type": "stream",
     "text": [
      "Epoch 330/400: 100%|████████████████████████████████████████████████████| 8/8 [00:02<00:00,  3.92it/s, total_loss=82.5]\n",
      "Epoch 331/400:   0%|                                                              | 0/28 [00:00<?, ?it/s<class 'dict'>]"
     ]
    },
    {
     "name": "stdout",
     "output_type": "stream",
     "text": [
      "Finish Validation\n",
      "Epoch:330/400\n",
      "Train Loss: 36.9669 || Val Loss: 73.3324 \n"
     ]
    },
    {
     "name": "stderr",
     "output_type": "stream",
     "text": [
      "Epoch 331/400: 100%|████████████████████████| 28/28 [00:14<00:00,  1.91it/s, lr=3.63e-5, step/s=0.435, total_loss=35.4]\n",
      "Epoch 331/400:   0%|                                                               | 0/8 [00:00<?, ?it/s<class 'dict'>]"
     ]
    },
    {
     "name": "stdout",
     "output_type": "stream",
     "text": [
      "Start Validation\n"
     ]
    },
    {
     "name": "stderr",
     "output_type": "stream",
     "text": [
      "Epoch 331/400: 100%|████████████████████████████████████████████████████| 8/8 [00:02<00:00,  3.99it/s, total_loss=64.3]\n",
      "Epoch 332/400:   0%|                                                              | 0/28 [00:00<?, ?it/s<class 'dict'>]"
     ]
    },
    {
     "name": "stdout",
     "output_type": "stream",
     "text": [
      "Finish Validation\n",
      "Epoch:331/400\n",
      "Train Loss: 34.1349 || Val Loss: 57.1735 \n"
     ]
    },
    {
     "name": "stderr",
     "output_type": "stream",
     "text": [
      "Epoch 332/400: 100%|████████████████████████| 28/28 [00:14<00:00,  1.91it/s, lr=3.59e-5, step/s=0.404, total_loss=34.7]\n",
      "Epoch 332/400:   0%|                                                               | 0/8 [00:00<?, ?it/s<class 'dict'>]"
     ]
    },
    {
     "name": "stdout",
     "output_type": "stream",
     "text": [
      "Start Validation\n"
     ]
    },
    {
     "name": "stderr",
     "output_type": "stream",
     "text": [
      "Epoch 332/400: 100%|████████████████████████████████████████████████████| 8/8 [00:01<00:00,  4.04it/s, total_loss=72.2]\n",
      "Epoch 333/400:   0%|                                                              | 0/28 [00:00<?, ?it/s<class 'dict'>]"
     ]
    },
    {
     "name": "stdout",
     "output_type": "stream",
     "text": [
      "Finish Validation\n",
      "Epoch:332/400\n",
      "Train Loss: 33.5171 || Val Loss: 64.2057 \n"
     ]
    },
    {
     "name": "stderr",
     "output_type": "stream",
     "text": [
      "Epoch 333/400: 100%|████████████████████████| 28/28 [00:14<00:00,  1.92it/s, lr=3.56e-5, step/s=0.404, total_loss=39.3]\n",
      "Epoch 333/400:   0%|                                                               | 0/8 [00:00<?, ?it/s<class 'dict'>]"
     ]
    },
    {
     "name": "stdout",
     "output_type": "stream",
     "text": [
      "Start Validation\n"
     ]
    },
    {
     "name": "stderr",
     "output_type": "stream",
     "text": [
      "Epoch 333/400: 100%|████████████████████████████████████████████████████| 8/8 [00:01<00:00,  4.00it/s, total_loss=76.9]\n",
      "Epoch 334/400:   0%|                                                              | 0/28 [00:00<?, ?it/s<class 'dict'>]"
     ]
    },
    {
     "name": "stdout",
     "output_type": "stream",
     "text": [
      "Finish Validation\n",
      "Epoch:333/400\n",
      "Train Loss: 37.9550 || Val Loss: 68.3533 \n"
     ]
    },
    {
     "name": "stderr",
     "output_type": "stream",
     "text": [
      "Epoch 334/400: 100%|████████████████████████| 28/28 [00:14<00:00,  1.92it/s, lr=3.52e-5, step/s=0.409, total_loss=34.8]\n",
      "Epoch 334/400:   0%|                                                               | 0/8 [00:00<?, ?it/s<class 'dict'>]"
     ]
    },
    {
     "name": "stdout",
     "output_type": "stream",
     "text": [
      "Start Validation\n"
     ]
    },
    {
     "name": "stderr",
     "output_type": "stream",
     "text": [
      "Epoch 334/400: 100%|████████████████████████████████████████████████████| 8/8 [00:01<00:00,  4.07it/s, total_loss=72.4]\n",
      "Epoch 335/400:   0%|                                                              | 0/28 [00:00<?, ?it/s<class 'dict'>]"
     ]
    },
    {
     "name": "stdout",
     "output_type": "stream",
     "text": [
      "Finish Validation\n",
      "Epoch:334/400\n",
      "Train Loss: 33.5876 || Val Loss: 64.3735 \n"
     ]
    },
    {
     "name": "stderr",
     "output_type": "stream",
     "text": [
      "Epoch 335/400: 100%|██████████████████████████| 28/28 [00:14<00:00,  1.91it/s, lr=3.48e-5, step/s=0.416, total_loss=37]\n",
      "Epoch 335/400:   0%|                                                               | 0/8 [00:00<?, ?it/s<class 'dict'>]"
     ]
    },
    {
     "name": "stdout",
     "output_type": "stream",
     "text": [
      "Start Validation\n"
     ]
    },
    {
     "name": "stderr",
     "output_type": "stream",
     "text": [
      "Epoch 335/400: 100%|████████████████████████████████████████████████████| 8/8 [00:02<00:00,  3.90it/s, total_loss=75.6]\n",
      "Epoch 336/400:   0%|                                                              | 0/28 [00:00<?, ?it/s<class 'dict'>]"
     ]
    },
    {
     "name": "stdout",
     "output_type": "stream",
     "text": [
      "Finish Validation\n",
      "Epoch:335/400\n",
      "Train Loss: 35.6925 || Val Loss: 67.1774 \n"
     ]
    },
    {
     "name": "stderr",
     "output_type": "stream",
     "text": [
      "Epoch 336/400: 100%|████████████████████████| 28/28 [00:14<00:00,  1.93it/s, lr=3.45e-5, step/s=0.426, total_loss=38.1]\n",
      "Epoch 336/400:   0%|                                                               | 0/8 [00:00<?, ?it/s<class 'dict'>]"
     ]
    },
    {
     "name": "stdout",
     "output_type": "stream",
     "text": [
      "Start Validation\n"
     ]
    },
    {
     "name": "stderr",
     "output_type": "stream",
     "text": [
      "Epoch 336/400: 100%|████████████████████████████████████████████████████| 8/8 [00:02<00:00,  3.91it/s, total_loss=85.9]\n",
      "Epoch 337/400:   0%|                                                              | 0/28 [00:00<?, ?it/s<class 'dict'>]"
     ]
    },
    {
     "name": "stdout",
     "output_type": "stream",
     "text": [
      "Finish Validation\n",
      "Epoch:336/400\n",
      "Train Loss: 36.8253 || Val Loss: 76.3205 \n"
     ]
    },
    {
     "name": "stderr",
     "output_type": "stream",
     "text": [
      "Epoch 337/400: 100%|████████████████████████| 28/28 [00:14<00:00,  1.91it/s, lr=3.42e-5, step/s=0.406, total_loss=34.1]\n",
      "Epoch 337/400:   0%|                                                               | 0/8 [00:00<?, ?it/s<class 'dict'>]"
     ]
    },
    {
     "name": "stdout",
     "output_type": "stream",
     "text": [
      "Start Validation\n"
     ]
    },
    {
     "name": "stderr",
     "output_type": "stream",
     "text": [
      "Epoch 337/400: 100%|████████████████████████████████████████████████████| 8/8 [00:01<00:00,  4.00it/s, total_loss=81.3]\n",
      "Epoch 338/400:   0%|                                                              | 0/28 [00:00<?, ?it/s<class 'dict'>]"
     ]
    },
    {
     "name": "stdout",
     "output_type": "stream",
     "text": [
      "Finish Validation\n",
      "Epoch:337/400\n",
      "Train Loss: 32.9022 || Val Loss: 72.2892 \n"
     ]
    },
    {
     "name": "stderr",
     "output_type": "stream",
     "text": [
      "Epoch 338/400: 100%|█████████████████████████| 28/28 [00:14<00:00,  1.92it/s, lr=3.38e-5, step/s=0.41, total_loss=36.5]\n",
      "Epoch 338/400:   0%|                                                               | 0/8 [00:00<?, ?it/s<class 'dict'>]"
     ]
    },
    {
     "name": "stdout",
     "output_type": "stream",
     "text": [
      "Start Validation\n"
     ]
    },
    {
     "name": "stderr",
     "output_type": "stream",
     "text": [
      "Epoch 338/400: 100%|████████████████████████████████████████████████████| 8/8 [00:02<00:00,  3.98it/s, total_loss=78.3]\n",
      "Epoch 339/400:   0%|                                                              | 0/28 [00:00<?, ?it/s<class 'dict'>]"
     ]
    },
    {
     "name": "stdout",
     "output_type": "stream",
     "text": [
      "Finish Validation\n",
      "Epoch:338/400\n",
      "Train Loss: 35.2806 || Val Loss: 69.6351 \n"
     ]
    },
    {
     "name": "stderr",
     "output_type": "stream",
     "text": [
      "Epoch 339/400: 100%|████████████████████████| 28/28 [00:14<00:00,  1.91it/s, lr=3.35e-5, step/s=0.397, total_loss=36.3]\n",
      "Epoch 339/400:   0%|                                                               | 0/8 [00:00<?, ?it/s<class 'dict'>]"
     ]
    },
    {
     "name": "stdout",
     "output_type": "stream",
     "text": [
      "Start Validation\n"
     ]
    },
    {
     "name": "stderr",
     "output_type": "stream",
     "text": [
      "Epoch 339/400: 100%|████████████████████████████████████████████████████| 8/8 [00:02<00:00,  3.89it/s, total_loss=70.3]\n",
      "Epoch 340/400:   0%|                                                              | 0/28 [00:00<?, ?it/s<class 'dict'>]"
     ]
    },
    {
     "name": "stdout",
     "output_type": "stream",
     "text": [
      "Finish Validation\n",
      "Epoch:339/400\n",
      "Train Loss: 35.0757 || Val Loss: 62.4648 \n"
     ]
    },
    {
     "name": "stderr",
     "output_type": "stream",
     "text": [
      "Epoch 340/400: 100%|████████████████████████| 28/28 [00:14<00:00,  1.91it/s, lr=3.31e-5, step/s=0.404, total_loss=33.3]\n",
      "Epoch 340/400:   0%|                                                               | 0/8 [00:00<?, ?it/s<class 'dict'>]"
     ]
    },
    {
     "name": "stdout",
     "output_type": "stream",
     "text": [
      "Start Validation\n"
     ]
    },
    {
     "name": "stderr",
     "output_type": "stream",
     "text": [
      "Epoch 340/400: 100%|████████████████████████████████████████████████████| 8/8 [00:01<00:00,  4.01it/s, total_loss=70.2]\n",
      "Epoch 341/400:   0%|                                                              | 0/28 [00:00<?, ?it/s<class 'dict'>]"
     ]
    },
    {
     "name": "stdout",
     "output_type": "stream",
     "text": [
      "Finish Validation\n",
      "Epoch:340/400\n",
      "Train Loss: 32.1487 || Val Loss: 62.4037 \n"
     ]
    },
    {
     "name": "stderr",
     "output_type": "stream",
     "text": [
      "Epoch 341/400: 100%|█████████████████████████| 28/28 [00:14<00:00,  1.93it/s, lr=3.28e-5, step/s=0.41, total_loss=36.9]\n",
      "Epoch 341/400:   0%|                                                               | 0/8 [00:00<?, ?it/s<class 'dict'>]"
     ]
    },
    {
     "name": "stdout",
     "output_type": "stream",
     "text": [
      "Start Validation\n"
     ]
    },
    {
     "name": "stderr",
     "output_type": "stream",
     "text": [
      "Epoch 341/400: 100%|████████████████████████████████████████████████████| 8/8 [00:02<00:00,  3.95it/s, total_loss=84.7]\n",
      "Epoch 342/400:   0%|                                                              | 0/28 [00:00<?, ?it/s<class 'dict'>]"
     ]
    },
    {
     "name": "stdout",
     "output_type": "stream",
     "text": [
      "Finish Validation\n",
      "Epoch:341/400\n",
      "Train Loss: 35.6392 || Val Loss: 75.2928 \n"
     ]
    },
    {
     "name": "stderr",
     "output_type": "stream",
     "text": [
      "Epoch 342/400: 100%|████████████████████████| 28/28 [00:14<00:00,  1.92it/s, lr=3.25e-5, step/s=0.402, total_loss=31.1]\n",
      "Epoch 342/400:   0%|                                                               | 0/8 [00:00<?, ?it/s<class 'dict'>]"
     ]
    },
    {
     "name": "stdout",
     "output_type": "stream",
     "text": [
      "Start Validation\n"
     ]
    },
    {
     "name": "stderr",
     "output_type": "stream",
     "text": [
      "Epoch 342/400: 100%|████████████████████████████████████████████████████| 8/8 [00:02<00:00,  3.88it/s, total_loss=80.4]\n",
      "Epoch 343/400:   0%|                                                              | 0/28 [00:00<?, ?it/s<class 'dict'>]"
     ]
    },
    {
     "name": "stdout",
     "output_type": "stream",
     "text": [
      "Finish Validation\n",
      "Epoch:342/400\n",
      "Train Loss: 30.0223 || Val Loss: 71.4390 \n"
     ]
    },
    {
     "name": "stderr",
     "output_type": "stream",
     "text": [
      "Epoch 343/400: 100%|████████████████████████| 28/28 [00:15<00:00,  1.82it/s, lr=3.22e-5, step/s=0.407, total_loss=34.6]\n",
      "Epoch 343/400:   0%|                                                               | 0/8 [00:00<?, ?it/s<class 'dict'>]"
     ]
    },
    {
     "name": "stdout",
     "output_type": "stream",
     "text": [
      "Start Validation\n"
     ]
    },
    {
     "name": "stderr",
     "output_type": "stream",
     "text": [
      "Epoch 343/400: 100%|████████████████████████████████████████████████████| 8/8 [00:01<00:00,  4.01it/s, total_loss=72.6]\n",
      "Epoch 344/400:   0%|                                                              | 0/28 [00:00<?, ?it/s<class 'dict'>]"
     ]
    },
    {
     "name": "stdout",
     "output_type": "stream",
     "text": [
      "Finish Validation\n",
      "Epoch:343/400\n",
      "Train Loss: 33.4187 || Val Loss: 64.4897 \n"
     ]
    },
    {
     "name": "stderr",
     "output_type": "stream",
     "text": [
      "Epoch 344/400: 100%|████████████████████████| 28/28 [00:15<00:00,  1.78it/s, lr=3.18e-5, step/s=0.429, total_loss=38.5]\n",
      "Epoch 344/400:   0%|                                                               | 0/8 [00:00<?, ?it/s<class 'dict'>]"
     ]
    },
    {
     "name": "stdout",
     "output_type": "stream",
     "text": [
      "Start Validation\n"
     ]
    },
    {
     "name": "stderr",
     "output_type": "stream",
     "text": [
      "Epoch 344/400: 100%|████████████████████████████████████████████████████| 8/8 [00:02<00:00,  3.72it/s, total_loss=82.9]\n",
      "Epoch 345/400:   0%|                                                              | 0/28 [00:00<?, ?it/s<class 'dict'>]"
     ]
    },
    {
     "name": "stdout",
     "output_type": "stream",
     "text": [
      "Finish Validation\n",
      "Epoch:344/400\n",
      "Train Loss: 37.1787 || Val Loss: 73.7123 \n"
     ]
    },
    {
     "name": "stderr",
     "output_type": "stream",
     "text": [
      "Epoch 345/400: 100%|██████████████████████████| 28/28 [00:15<00:00,  1.86it/s, lr=3.15e-5, step/s=0.412, total_loss=36]\n",
      "Epoch 345/400:   0%|                                                               | 0/8 [00:00<?, ?it/s<class 'dict'>]"
     ]
    },
    {
     "name": "stdout",
     "output_type": "stream",
     "text": [
      "Start Validation\n"
     ]
    },
    {
     "name": "stderr",
     "output_type": "stream",
     "text": [
      "Epoch 345/400: 100%|████████████████████████████████████████████████████| 8/8 [00:02<00:00,  3.77it/s, total_loss=69.6]\n",
      "Epoch 346/400:   0%|                                                              | 0/28 [00:00<?, ?it/s<class 'dict'>]"
     ]
    },
    {
     "name": "stdout",
     "output_type": "stream",
     "text": [
      "Finish Validation\n",
      "Epoch:345/400\n",
      "Train Loss: 34.7851 || Val Loss: 61.8977 \n"
     ]
    },
    {
     "name": "stderr",
     "output_type": "stream",
     "text": [
      "Epoch 346/400: 100%|████████████████████████| 28/28 [00:15<00:00,  1.77it/s, lr=3.12e-5, step/s=0.421, total_loss=36.2]\n",
      "Epoch 346/400:   0%|                                                               | 0/8 [00:00<?, ?it/s<class 'dict'>]"
     ]
    },
    {
     "name": "stdout",
     "output_type": "stream",
     "text": [
      "Start Validation\n"
     ]
    },
    {
     "name": "stderr",
     "output_type": "stream",
     "text": [
      "Epoch 346/400: 100%|████████████████████████████████████████████████████| 8/8 [00:02<00:00,  3.68it/s, total_loss=82.5]\n",
      "Epoch 347/400:   0%|                                                              | 0/28 [00:00<?, ?it/s<class 'dict'>]"
     ]
    },
    {
     "name": "stdout",
     "output_type": "stream",
     "text": [
      "Finish Validation\n",
      "Epoch:346/400\n",
      "Train Loss: 34.9147 || Val Loss: 73.3767 \n"
     ]
    },
    {
     "name": "stderr",
     "output_type": "stream",
     "text": [
      "Epoch 347/400: 100%|████████████████████████| 28/28 [00:15<00:00,  1.81it/s, lr=3.09e-5, step/s=0.433, total_loss=38.6]\n",
      "Epoch 347/400:   0%|                                                               | 0/8 [00:00<?, ?it/s<class 'dict'>]"
     ]
    },
    {
     "name": "stdout",
     "output_type": "stream",
     "text": [
      "Start Validation\n"
     ]
    },
    {
     "name": "stderr",
     "output_type": "stream",
     "text": [
      "Epoch 347/400: 100%|████████████████████████████████████████████████████| 8/8 [00:02<00:00,  3.91it/s, total_loss=71.5]\n",
      "Epoch 348/400:   0%|                                                              | 0/28 [00:00<?, ?it/s<class 'dict'>]"
     ]
    },
    {
     "name": "stdout",
     "output_type": "stream",
     "text": [
      "Finish Validation\n",
      "Epoch:347/400\n",
      "Train Loss: 37.2982 || Val Loss: 63.5470 \n"
     ]
    },
    {
     "name": "stderr",
     "output_type": "stream",
     "text": [
      "Epoch 348/400: 100%|████████████████████████| 28/28 [00:15<00:00,  1.84it/s, lr=3.06e-5, step/s=0.435, total_loss=33.9]\n",
      "Epoch 348/400:   0%|                                                               | 0/8 [00:00<?, ?it/s<class 'dict'>]"
     ]
    },
    {
     "name": "stdout",
     "output_type": "stream",
     "text": [
      "Start Validation\n"
     ]
    },
    {
     "name": "stderr",
     "output_type": "stream",
     "text": [
      "Epoch 348/400: 100%|████████████████████████████████████████████████████| 8/8 [00:02<00:00,  3.94it/s, total_loss=79.3]\n",
      "Epoch 349/400:   0%|                                                              | 0/28 [00:00<?, ?it/s<class 'dict'>]"
     ]
    },
    {
     "name": "stdout",
     "output_type": "stream",
     "text": [
      "Finish Validation\n",
      "Epoch:348/400\n",
      "Train Loss: 32.7530 || Val Loss: 70.5135 \n"
     ]
    },
    {
     "name": "stderr",
     "output_type": "stream",
     "text": [
      "Epoch 349/400: 100%|████████████████████████| 28/28 [00:14<00:00,  1.89it/s, lr=3.03e-5, step/s=0.425, total_loss=36.2]\n",
      "Epoch 349/400:   0%|                                                               | 0/8 [00:00<?, ?it/s<class 'dict'>]"
     ]
    },
    {
     "name": "stdout",
     "output_type": "stream",
     "text": [
      "Start Validation\n"
     ]
    },
    {
     "name": "stderr",
     "output_type": "stream",
     "text": [
      "Epoch 349/400: 100%|████████████████████████████████████████████████████| 8/8 [00:02<00:00,  3.86it/s, total_loss=70.1]\n",
      "Epoch 350/400:   0%|                                                              | 0/28 [00:00<?, ?it/s<class 'dict'>]"
     ]
    },
    {
     "name": "stdout",
     "output_type": "stream",
     "text": [
      "Finish Validation\n",
      "Epoch:349/400\n",
      "Train Loss: 34.9792 || Val Loss: 62.2708 \n"
     ]
    },
    {
     "name": "stderr",
     "output_type": "stream",
     "text": [
      "Epoch 350/400: 100%|███████████████████████████| 28/28 [00:15<00:00,  1.86it/s, lr=3e-5, step/s=0.477, total_loss=31.8]\n",
      "Epoch 350/400:   0%|                                                               | 0/8 [00:00<?, ?it/s<class 'dict'>]"
     ]
    },
    {
     "name": "stdout",
     "output_type": "stream",
     "text": [
      "Start Validation\n"
     ]
    },
    {
     "name": "stderr",
     "output_type": "stream",
     "text": [
      "Epoch 350/400: 100%|████████████████████████████████████████████████████| 8/8 [00:02<00:00,  4.00it/s, total_loss=79.5]\n",
      "Epoch 351/400:   0%|                                                              | 0/28 [00:00<?, ?it/s<class 'dict'>]"
     ]
    },
    {
     "name": "stdout",
     "output_type": "stream",
     "text": [
      "Finish Validation\n",
      "Epoch:350/400\n",
      "Train Loss: 30.7187 || Val Loss: 70.6781 \n"
     ]
    },
    {
     "name": "stderr",
     "output_type": "stream",
     "text": [
      "Epoch 351/400: 100%|████████████████████████| 28/28 [00:14<00:00,  1.87it/s, lr=2.97e-5, step/s=0.434, total_loss=36.2]\n",
      "Epoch 351/400:   0%|                                                               | 0/8 [00:00<?, ?it/s<class 'dict'>]"
     ]
    },
    {
     "name": "stdout",
     "output_type": "stream",
     "text": [
      "Start Validation\n"
     ]
    },
    {
     "name": "stderr",
     "output_type": "stream",
     "text": [
      "Epoch 351/400: 100%|████████████████████████████████████████████████████| 8/8 [00:02<00:00,  4.00it/s, total_loss=83.1]\n",
      "Epoch 352/400:   0%|                                                              | 0/28 [00:00<?, ?it/s<class 'dict'>]"
     ]
    },
    {
     "name": "stdout",
     "output_type": "stream",
     "text": [
      "Finish Validation\n",
      "Epoch:351/400\n",
      "Train Loss: 34.9270 || Val Loss: 73.8784 \n"
     ]
    },
    {
     "name": "stderr",
     "output_type": "stream",
     "text": [
      "Epoch 352/400: 100%|████████████████████████| 28/28 [00:15<00:00,  1.85it/s, lr=2.94e-5, step/s=0.458, total_loss=34.9]\n",
      "Epoch 352/400:   0%|                                                               | 0/8 [00:00<?, ?it/s<class 'dict'>]"
     ]
    },
    {
     "name": "stdout",
     "output_type": "stream",
     "text": [
      "Start Validation\n"
     ]
    },
    {
     "name": "stderr",
     "output_type": "stream",
     "text": [
      "Epoch 352/400: 100%|████████████████████████████████████████████████████| 8/8 [00:02<00:00,  3.77it/s, total_loss=73.1]\n",
      "Epoch 353/400:   0%|                                                              | 0/28 [00:00<?, ?it/s<class 'dict'>]"
     ]
    },
    {
     "name": "stdout",
     "output_type": "stream",
     "text": [
      "Finish Validation\n",
      "Epoch:352/400\n",
      "Train Loss: 33.7037 || Val Loss: 64.9792 \n"
     ]
    },
    {
     "name": "stderr",
     "output_type": "stream",
     "text": [
      "Epoch 353/400: 100%|████████████████████████| 28/28 [00:14<00:00,  1.89it/s, lr=2.91e-5, step/s=0.405, total_loss=31.7]\n",
      "Epoch 353/400:   0%|                                                               | 0/8 [00:00<?, ?it/s<class 'dict'>]"
     ]
    },
    {
     "name": "stdout",
     "output_type": "stream",
     "text": [
      "Start Validation\n"
     ]
    },
    {
     "name": "stderr",
     "output_type": "stream",
     "text": [
      "Epoch 353/400: 100%|████████████████████████████████████████████████████| 8/8 [00:02<00:00,  3.95it/s, total_loss=69.5]\n",
      "Epoch 354/400:   0%|                                                              | 0/28 [00:00<?, ?it/s<class 'dict'>]"
     ]
    },
    {
     "name": "stdout",
     "output_type": "stream",
     "text": [
      "Finish Validation\n",
      "Epoch:353/400\n",
      "Train Loss: 30.5814 || Val Loss: 61.7837 \n"
     ]
    },
    {
     "name": "stderr",
     "output_type": "stream",
     "text": [
      "Epoch 354/400: 100%|████████████████████████| 28/28 [00:14<00:00,  1.87it/s, lr=2.88e-5, step/s=0.412, total_loss=35.3]\n",
      "Epoch 354/400:   0%|                                                               | 0/8 [00:00<?, ?it/s<class 'dict'>]"
     ]
    },
    {
     "name": "stdout",
     "output_type": "stream",
     "text": [
      "Start Validation\n"
     ]
    },
    {
     "name": "stderr",
     "output_type": "stream",
     "text": [
      "Epoch 354/400: 100%|████████████████████████████████████████████████████| 8/8 [00:02<00:00,  3.88it/s, total_loss=62.6]\n",
      "Epoch 355/400:   0%|                                                              | 0/28 [00:00<?, ?it/s<class 'dict'>]"
     ]
    },
    {
     "name": "stdout",
     "output_type": "stream",
     "text": [
      "Finish Validation\n",
      "Epoch:354/400\n",
      "Train Loss: 34.0730 || Val Loss: 55.6051 \n"
     ]
    },
    {
     "name": "stderr",
     "output_type": "stream",
     "text": [
      "Epoch 355/400: 100%|████████████████████████| 28/28 [00:15<00:00,  1.83it/s, lr=2.85e-5, step/s=0.439, total_loss=36.2]\n",
      "Epoch 355/400:   0%|                                                               | 0/8 [00:00<?, ?it/s<class 'dict'>]"
     ]
    },
    {
     "name": "stdout",
     "output_type": "stream",
     "text": [
      "Start Validation\n"
     ]
    },
    {
     "name": "stderr",
     "output_type": "stream",
     "text": [
      "Epoch 355/400: 100%|████████████████████████████████████████████████████| 8/8 [00:02<00:00,  3.88it/s, total_loss=76.9]\n",
      "Epoch 356/400:   0%|                                                              | 0/28 [00:00<?, ?it/s<class 'dict'>]"
     ]
    },
    {
     "name": "stdout",
     "output_type": "stream",
     "text": [
      "Finish Validation\n",
      "Epoch:355/400\n",
      "Train Loss: 34.9540 || Val Loss: 68.3322 \n"
     ]
    },
    {
     "name": "stderr",
     "output_type": "stream",
     "text": [
      "Epoch 356/400: 100%|████████████████████████| 28/28 [00:15<00:00,  1.85it/s, lr=2.82e-5, step/s=0.436, total_loss=36.8]\n",
      "Epoch 356/400:   0%|                                                               | 0/8 [00:00<?, ?it/s<class 'dict'>]"
     ]
    },
    {
     "name": "stdout",
     "output_type": "stream",
     "text": [
      "Start Validation\n"
     ]
    },
    {
     "name": "stderr",
     "output_type": "stream",
     "text": [
      "Epoch 356/400: 100%|████████████████████████████████████████████████████| 8/8 [00:02<00:00,  3.91it/s, total_loss=73.6]\n",
      "Epoch 357/400:   0%|                                                              | 0/28 [00:00<?, ?it/s<class 'dict'>]"
     ]
    },
    {
     "name": "stdout",
     "output_type": "stream",
     "text": [
      "Finish Validation\n",
      "Epoch:356/400\n",
      "Train Loss: 35.5664 || Val Loss: 65.4070 \n"
     ]
    },
    {
     "name": "stderr",
     "output_type": "stream",
     "text": [
      "Epoch 357/400: 100%|████████████████████████| 28/28 [00:14<00:00,  1.88it/s, lr=2.79e-5, step/s=0.434, total_loss=37.1]\n",
      "Epoch 357/400:   0%|                                                               | 0/8 [00:00<?, ?it/s<class 'dict'>]"
     ]
    },
    {
     "name": "stdout",
     "output_type": "stream",
     "text": [
      "Start Validation\n"
     ]
    },
    {
     "name": "stderr",
     "output_type": "stream",
     "text": [
      "Epoch 357/400: 100%|████████████████████████████████████████████████████| 8/8 [00:02<00:00,  3.89it/s, total_loss=66.1]\n",
      "Epoch 358/400:   0%|                                                              | 0/28 [00:00<?, ?it/s<class 'dict'>]"
     ]
    },
    {
     "name": "stdout",
     "output_type": "stream",
     "text": [
      "Finish Validation\n",
      "Epoch:357/400\n",
      "Train Loss: 35.7870 || Val Loss: 58.7125 \n"
     ]
    },
    {
     "name": "stderr",
     "output_type": "stream",
     "text": [
      "Epoch 358/400: 100%|████████████████████████| 28/28 [00:14<00:00,  1.88it/s, lr=2.77e-5, step/s=0.384, total_loss=31.4]\n",
      "Epoch 358/400:   0%|                                                               | 0/8 [00:00<?, ?it/s<class 'dict'>]"
     ]
    },
    {
     "name": "stdout",
     "output_type": "stream",
     "text": [
      "Start Validation\n"
     ]
    },
    {
     "name": "stderr",
     "output_type": "stream",
     "text": [
      "Epoch 358/400: 100%|████████████████████████████████████████████████████| 8/8 [00:02<00:00,  3.92it/s, total_loss=74.7]\n",
      "Epoch 359/400:   0%|                                                              | 0/28 [00:00<?, ?it/s<class 'dict'>]"
     ]
    },
    {
     "name": "stdout",
     "output_type": "stream",
     "text": [
      "Finish Validation\n",
      "Epoch:358/400\n",
      "Train Loss: 30.3574 || Val Loss: 66.3661 \n"
     ]
    },
    {
     "name": "stderr",
     "output_type": "stream",
     "text": [
      "Epoch 359/400: 100%|████████████████████████| 28/28 [00:15<00:00,  1.86it/s, lr=2.74e-5, step/s=0.437, total_loss=32.8]\n",
      "Epoch 359/400:   0%|                                                               | 0/8 [00:00<?, ?it/s<class 'dict'>]"
     ]
    },
    {
     "name": "stdout",
     "output_type": "stream",
     "text": [
      "Start Validation\n"
     ]
    },
    {
     "name": "stderr",
     "output_type": "stream",
     "text": [
      "Epoch 359/400: 100%|████████████████████████████████████████████████████| 8/8 [00:02<00:00,  3.86it/s, total_loss=66.2]\n",
      "Epoch 360/400:   0%|                                                              | 0/28 [00:00<?, ?it/s<class 'dict'>]"
     ]
    },
    {
     "name": "stdout",
     "output_type": "stream",
     "text": [
      "Finish Validation\n",
      "Epoch:359/400\n",
      "Train Loss: 31.6732 || Val Loss: 58.8581 \n"
     ]
    },
    {
     "name": "stderr",
     "output_type": "stream",
     "text": [
      "Epoch 360/400: 100%|█████████████████████████| 28/28 [00:14<00:00,  1.87it/s, lr=2.71e-5, step/s=0.44, total_loss=35.1]\n",
      "Epoch 360/400:   0%|                                                               | 0/8 [00:00<?, ?it/s<class 'dict'>]"
     ]
    },
    {
     "name": "stdout",
     "output_type": "stream",
     "text": [
      "Start Validation\n"
     ]
    },
    {
     "name": "stderr",
     "output_type": "stream",
     "text": [
      "Epoch 360/400: 100%|████████████████████████████████████████████████████| 8/8 [00:02<00:00,  3.96it/s, total_loss=91.2]\n",
      "Epoch 361/400:   0%|                                                              | 0/28 [00:00<?, ?it/s<class 'dict'>]"
     ]
    },
    {
     "name": "stdout",
     "output_type": "stream",
     "text": [
      "Finish Validation\n",
      "Epoch:360/400\n",
      "Train Loss: 33.8437 || Val Loss: 81.0553 \n"
     ]
    },
    {
     "name": "stderr",
     "output_type": "stream",
     "text": [
      "Epoch 361/400: 100%|████████████████████████| 28/28 [00:15<00:00,  1.85it/s, lr=2.68e-5, step/s=0.416, total_loss=35.9]\n",
      "Epoch 361/400:   0%|                                                               | 0/8 [00:00<?, ?it/s<class 'dict'>]"
     ]
    },
    {
     "name": "stdout",
     "output_type": "stream",
     "text": [
      "Start Validation\n"
     ]
    },
    {
     "name": "stderr",
     "output_type": "stream",
     "text": [
      "Epoch 361/400: 100%|████████████████████████████████████████████████████| 8/8 [00:02<00:00,  3.87it/s, total_loss=81.8]\n",
      "Epoch 362/400:   0%|                                                              | 0/28 [00:00<?, ?it/s<class 'dict'>]"
     ]
    },
    {
     "name": "stdout",
     "output_type": "stream",
     "text": [
      "Finish Validation\n",
      "Epoch:361/400\n",
      "Train Loss: 34.6483 || Val Loss: 72.7111 \n"
     ]
    },
    {
     "name": "stderr",
     "output_type": "stream",
     "text": [
      "Epoch 362/400: 100%|████████████████████████| 28/28 [00:15<00:00,  1.86it/s, lr=2.66e-5, step/s=0.402, total_loss=37.7]\n",
      "Epoch 362/400:   0%|                                                               | 0/8 [00:00<?, ?it/s<class 'dict'>]"
     ]
    },
    {
     "name": "stdout",
     "output_type": "stream",
     "text": [
      "Start Validation\n"
     ]
    },
    {
     "name": "stderr",
     "output_type": "stream",
     "text": [
      "Epoch 362/400: 100%|████████████████████████████████████████████████████| 8/8 [00:02<00:00,  3.83it/s, total_loss=71.1]\n",
      "Epoch 363/400:   0%|                                                              | 0/28 [00:00<?, ?it/s<class 'dict'>]"
     ]
    },
    {
     "name": "stdout",
     "output_type": "stream",
     "text": [
      "Finish Validation\n",
      "Epoch:362/400\n",
      "Train Loss: 36.4225 || Val Loss: 63.1779 \n"
     ]
    },
    {
     "name": "stderr",
     "output_type": "stream",
     "text": [
      "Epoch 363/400: 100%|█████████████████████████| 28/28 [00:14<00:00,  1.87it/s, lr=2.63e-5, step/s=0.44, total_loss=33.8]\n",
      "Epoch 363/400:   0%|                                                               | 0/8 [00:00<?, ?it/s<class 'dict'>]"
     ]
    },
    {
     "name": "stdout",
     "output_type": "stream",
     "text": [
      "Start Validation\n"
     ]
    },
    {
     "name": "stderr",
     "output_type": "stream",
     "text": [
      "Epoch 363/400: 100%|████████████████████████████████████████████████████| 8/8 [00:02<00:00,  3.89it/s, total_loss=67.2]\n",
      "Epoch 364/400:   0%|                                                              | 0/28 [00:00<?, ?it/s<class 'dict'>]"
     ]
    },
    {
     "name": "stdout",
     "output_type": "stream",
     "text": [
      "Finish Validation\n",
      "Epoch:363/400\n",
      "Train Loss: 32.6694 || Val Loss: 59.7137 \n"
     ]
    },
    {
     "name": "stderr",
     "output_type": "stream",
     "text": [
      "Epoch 364/400: 100%|█████████████████████████| 28/28 [00:14<00:00,  1.87it/s, lr=2.6e-5, step/s=0.392, total_loss=37.1]\n",
      "Epoch 364/400:   0%|                                                               | 0/8 [00:00<?, ?it/s<class 'dict'>]"
     ]
    },
    {
     "name": "stdout",
     "output_type": "stream",
     "text": [
      "Start Validation\n"
     ]
    },
    {
     "name": "stderr",
     "output_type": "stream",
     "text": [
      "Epoch 364/400: 100%|████████████████████████████████████████████████████| 8/8 [00:02<00:00,  4.00it/s, total_loss=76.5]\n",
      "Epoch 365/400:   0%|                                                              | 0/28 [00:00<?, ?it/s<class 'dict'>]"
     ]
    },
    {
     "name": "stdout",
     "output_type": "stream",
     "text": [
      "Finish Validation\n",
      "Epoch:364/400\n",
      "Train Loss: 35.8098 || Val Loss: 68.0252 \n"
     ]
    },
    {
     "name": "stderr",
     "output_type": "stream",
     "text": [
      "Epoch 365/400: 100%|████████████████████████| 28/28 [00:14<00:00,  1.87it/s, lr=2.58e-5, step/s=0.458, total_loss=32.2]\n",
      "Epoch 365/400:   0%|                                                               | 0/8 [00:00<?, ?it/s<class 'dict'>]"
     ]
    },
    {
     "name": "stdout",
     "output_type": "stream",
     "text": [
      "Start Validation\n"
     ]
    },
    {
     "name": "stderr",
     "output_type": "stream",
     "text": [
      "Epoch 365/400: 100%|████████████████████████████████████████████████████| 8/8 [00:02<00:00,  3.92it/s, total_loss=66.8]\n",
      "Epoch 366/400:   0%|                                                              | 0/28 [00:00<?, ?it/s<class 'dict'>]"
     ]
    },
    {
     "name": "stdout",
     "output_type": "stream",
     "text": [
      "Finish Validation\n",
      "Epoch:365/400\n",
      "Train Loss: 31.0690 || Val Loss: 59.3822 \n"
     ]
    },
    {
     "name": "stderr",
     "output_type": "stream",
     "text": [
      "Epoch 366/400: 100%|██████████████████████████| 28/28 [00:15<00:00,  1.87it/s, lr=2.55e-5, step/s=0.428, total_loss=35]\n",
      "Epoch 366/400:   0%|                                                               | 0/8 [00:00<?, ?it/s<class 'dict'>]"
     ]
    },
    {
     "name": "stdout",
     "output_type": "stream",
     "text": [
      "Start Validation\n"
     ]
    },
    {
     "name": "stderr",
     "output_type": "stream",
     "text": [
      "Epoch 366/400: 100%|████████████████████████████████████████████████████| 8/8 [00:02<00:00,  3.87it/s, total_loss=72.1]\n",
      "Epoch 367/400:   0%|                                                              | 0/28 [00:00<?, ?it/s<class 'dict'>]"
     ]
    },
    {
     "name": "stdout",
     "output_type": "stream",
     "text": [
      "Finish Validation\n",
      "Epoch:366/400\n",
      "Train Loss: 33.7720 || Val Loss: 64.1152 \n"
     ]
    },
    {
     "name": "stderr",
     "output_type": "stream",
     "text": [
      "Epoch 367/400: 100%|█████████████████████████| 28/28 [00:14<00:00,  1.87it/s, lr=2.53e-5, step/s=0.42, total_loss=35.5]\n",
      "Epoch 367/400:   0%|                                                               | 0/8 [00:00<?, ?it/s<class 'dict'>]"
     ]
    },
    {
     "name": "stdout",
     "output_type": "stream",
     "text": [
      "Start Validation\n"
     ]
    },
    {
     "name": "stderr",
     "output_type": "stream",
     "text": [
      "Epoch 367/400: 100%|████████████████████████████████████████████████████| 8/8 [00:02<00:00,  3.97it/s, total_loss=80.5]\n",
      "Epoch 368/400:   0%|                                                              | 0/28 [00:00<?, ?it/s<class 'dict'>]"
     ]
    },
    {
     "name": "stdout",
     "output_type": "stream",
     "text": [
      "Finish Validation\n",
      "Epoch:367/400\n",
      "Train Loss: 34.2320 || Val Loss: 71.5669 \n"
     ]
    },
    {
     "name": "stderr",
     "output_type": "stream",
     "text": [
      "Epoch 368/400: 100%|█████████████████████████| 28/28 [00:14<00:00,  1.88it/s, lr=2.5e-5, step/s=0.447, total_loss=35.5]\n",
      "Epoch 368/400:   0%|                                                               | 0/8 [00:00<?, ?it/s<class 'dict'>]"
     ]
    },
    {
     "name": "stdout",
     "output_type": "stream",
     "text": [
      "Start Validation\n"
     ]
    },
    {
     "name": "stderr",
     "output_type": "stream",
     "text": [
      "Epoch 368/400: 100%|████████████████████████████████████████████████████| 8/8 [00:02<00:00,  3.93it/s, total_loss=79.9]\n",
      "Epoch 369/400:   0%|                                                              | 0/28 [00:00<?, ?it/s<class 'dict'>]"
     ]
    },
    {
     "name": "stdout",
     "output_type": "stream",
     "text": [
      "Finish Validation\n",
      "Epoch:368/400\n",
      "Train Loss: 34.2474 || Val Loss: 71.0418 \n"
     ]
    },
    {
     "name": "stderr",
     "output_type": "stream",
     "text": [
      "Epoch 369/400: 100%|████████████████████████| 28/28 [00:14<00:00,  1.89it/s, lr=2.48e-5, step/s=0.414, total_loss=34.8]\n",
      "Epoch 369/400:   0%|                                                               | 0/8 [00:00<?, ?it/s<class 'dict'>]"
     ]
    },
    {
     "name": "stdout",
     "output_type": "stream",
     "text": [
      "Start Validation\n"
     ]
    },
    {
     "name": "stderr",
     "output_type": "stream",
     "text": [
      "Epoch 369/400: 100%|████████████████████████████████████████████████████| 8/8 [00:02<00:00,  3.96it/s, total_loss=76.3]\n",
      "Epoch 370/400:   0%|                                                              | 0/28 [00:00<?, ?it/s<class 'dict'>]"
     ]
    },
    {
     "name": "stdout",
     "output_type": "stream",
     "text": [
      "Finish Validation\n",
      "Epoch:369/400\n",
      "Train Loss: 33.6290 || Val Loss: 67.7856 \n"
     ]
    },
    {
     "name": "stderr",
     "output_type": "stream",
     "text": [
      "Epoch 370/400: 100%|████████████████████████| 28/28 [00:14<00:00,  1.88it/s, lr=2.45e-5, step/s=0.394, total_loss=34.5]\n",
      "Epoch 370/400:   0%|                                                               | 0/8 [00:00<?, ?it/s<class 'dict'>]"
     ]
    },
    {
     "name": "stdout",
     "output_type": "stream",
     "text": [
      "Start Validation\n"
     ]
    },
    {
     "name": "stderr",
     "output_type": "stream",
     "text": [
      "Epoch 370/400: 100%|████████████████████████████████████████████████████| 8/8 [00:02<00:00,  3.91it/s, total_loss=71.9]\n",
      "Epoch 371/400:   0%|                                                              | 0/28 [00:00<?, ?it/s<class 'dict'>]"
     ]
    },
    {
     "name": "stdout",
     "output_type": "stream",
     "text": [
      "Finish Validation\n",
      "Epoch:370/400\n",
      "Train Loss: 33.3560 || Val Loss: 63.9152 \n"
     ]
    },
    {
     "name": "stderr",
     "output_type": "stream",
     "text": [
      "Epoch 371/400: 100%|████████████████████████| 28/28 [00:14<00:00,  1.87it/s, lr=2.43e-5, step/s=0.412, total_loss=35.2]\n",
      "Epoch 371/400:   0%|                                                               | 0/8 [00:00<?, ?it/s<class 'dict'>]"
     ]
    },
    {
     "name": "stdout",
     "output_type": "stream",
     "text": [
      "Start Validation\n"
     ]
    },
    {
     "name": "stderr",
     "output_type": "stream",
     "text": [
      "Epoch 371/400: 100%|████████████████████████████████████████████████████| 8/8 [00:02<00:00,  3.96it/s, total_loss=68.2]\n",
      "Epoch 372/400:   0%|                                                              | 0/28 [00:00<?, ?it/s<class 'dict'>]"
     ]
    },
    {
     "name": "stdout",
     "output_type": "stream",
     "text": [
      "Finish Validation\n",
      "Epoch:371/400\n",
      "Train Loss: 33.9536 || Val Loss: 60.6197 \n"
     ]
    },
    {
     "name": "stderr",
     "output_type": "stream",
     "text": [
      "Epoch 372/400: 100%|██████████████████████████| 28/28 [00:14<00:00,  1.87it/s, lr=2.4e-5, step/s=0.42, total_loss=35.7]\n",
      "Epoch 372/400:   0%|                                                               | 0/8 [00:00<?, ?it/s<class 'dict'>]"
     ]
    },
    {
     "name": "stdout",
     "output_type": "stream",
     "text": [
      "Start Validation\n"
     ]
    },
    {
     "name": "stderr",
     "output_type": "stream",
     "text": [
      "Epoch 372/400: 100%|████████████████████████████████████████████████████| 8/8 [00:01<00:00,  4.04it/s, total_loss=74.6]\n",
      "Epoch 373/400:   0%|                                                              | 0/28 [00:00<?, ?it/s<class 'dict'>]"
     ]
    },
    {
     "name": "stdout",
     "output_type": "stream",
     "text": [
      "Finish Validation\n",
      "Epoch:372/400\n",
      "Train Loss: 34.4615 || Val Loss: 66.3019 \n"
     ]
    },
    {
     "name": "stderr",
     "output_type": "stream",
     "text": [
      "Epoch 373/400: 100%|████████████████████████| 28/28 [00:14<00:00,  1.88it/s, lr=2.38e-5, step/s=0.424, total_loss=37.6]\n",
      "Epoch 373/400:   0%|                                                               | 0/8 [00:00<?, ?it/s<class 'dict'>]"
     ]
    },
    {
     "name": "stdout",
     "output_type": "stream",
     "text": [
      "Start Validation\n"
     ]
    },
    {
     "name": "stderr",
     "output_type": "stream",
     "text": [
      "Epoch 373/400: 100%|████████████████████████████████████████████████████| 8/8 [00:02<00:00,  3.94it/s, total_loss=79.9]\n",
      "Epoch 374/400:   0%|                                                              | 0/28 [00:00<?, ?it/s<class 'dict'>]"
     ]
    },
    {
     "name": "stdout",
     "output_type": "stream",
     "text": [
      "Finish Validation\n",
      "Epoch:373/400\n",
      "Train Loss: 36.3478 || Val Loss: 71.0594 \n"
     ]
    },
    {
     "name": "stderr",
     "output_type": "stream",
     "text": [
      "Epoch 374/400: 100%|██████████████████████████| 28/28 [00:14<00:00,  1.87it/s, lr=2.35e-5, step/s=0.442, total_loss=32]\n",
      "Epoch 374/400:   0%|                                                               | 0/8 [00:00<?, ?it/s<class 'dict'>]"
     ]
    },
    {
     "name": "stdout",
     "output_type": "stream",
     "text": [
      "Start Validation\n"
     ]
    },
    {
     "name": "stderr",
     "output_type": "stream",
     "text": [
      "Epoch 374/400: 100%|████████████████████████████████████████████████████| 8/8 [00:02<00:00,  3.85it/s, total_loss=78.9]\n",
      "Epoch 375/400:   0%|                                                              | 0/28 [00:00<?, ?it/s<class 'dict'>]"
     ]
    },
    {
     "name": "stdout",
     "output_type": "stream",
     "text": [
      "Finish Validation\n",
      "Epoch:374/400\n",
      "Train Loss: 30.9085 || Val Loss: 70.1347 \n"
     ]
    },
    {
     "name": "stderr",
     "output_type": "stream",
     "text": [
      "Epoch 375/400: 100%|████████████████████████| 28/28 [00:14<00:00,  1.87it/s, lr=2.33e-5, step/s=0.418, total_loss=30.2]\n",
      "Epoch 375/400:   0%|                                                               | 0/8 [00:00<?, ?it/s<class 'dict'>]"
     ]
    },
    {
     "name": "stdout",
     "output_type": "stream",
     "text": [
      "Start Validation\n"
     ]
    },
    {
     "name": "stderr",
     "output_type": "stream",
     "text": [
      "Epoch 375/400: 100%|████████████████████████████████████████████████████| 8/8 [00:01<00:00,  4.04it/s, total_loss=70.2]\n",
      "Epoch 376/400:   0%|                                                              | 0/28 [00:00<?, ?it/s<class 'dict'>]"
     ]
    },
    {
     "name": "stdout",
     "output_type": "stream",
     "text": [
      "Finish Validation\n",
      "Epoch:375/400\n",
      "Train Loss: 29.1543 || Val Loss: 62.3613 \n"
     ]
    },
    {
     "name": "stderr",
     "output_type": "stream",
     "text": [
      "Epoch 376/400: 100%|████████████████████████| 28/28 [00:14<00:00,  1.87it/s, lr=2.31e-5, step/s=0.424, total_loss=34.1]\n",
      "Epoch 376/400:   0%|                                                               | 0/8 [00:00<?, ?it/s<class 'dict'>]"
     ]
    },
    {
     "name": "stdout",
     "output_type": "stream",
     "text": [
      "Start Validation\n"
     ]
    },
    {
     "name": "stderr",
     "output_type": "stream",
     "text": [
      "Epoch 376/400: 100%|████████████████████████████████████████████████████| 8/8 [00:02<00:00,  3.92it/s, total_loss=80.3]\n",
      "Epoch 377/400:   0%|                                                              | 0/28 [00:00<?, ?it/s<class 'dict'>]"
     ]
    },
    {
     "name": "stdout",
     "output_type": "stream",
     "text": [
      "Finish Validation\n",
      "Epoch:376/400\n",
      "Train Loss: 32.9022 || Val Loss: 71.3969 \n"
     ]
    },
    {
     "name": "stderr",
     "output_type": "stream",
     "text": [
      "Epoch 377/400: 100%|████████████████████████| 28/28 [00:14<00:00,  1.87it/s, lr=2.28e-5, step/s=0.468, total_loss=38.2]\n",
      "Epoch 377/400:   0%|                                                               | 0/8 [00:00<?, ?it/s<class 'dict'>]"
     ]
    },
    {
     "name": "stdout",
     "output_type": "stream",
     "text": [
      "Start Validation\n"
     ]
    },
    {
     "name": "stderr",
     "output_type": "stream",
     "text": [
      "Epoch 377/400: 100%|████████████████████████████████████████████████████| 8/8 [00:02<00:00,  3.89it/s, total_loss=79.2]\n",
      "Epoch 378/400:   0%|                                                              | 0/28 [00:00<?, ?it/s<class 'dict'>]"
     ]
    },
    {
     "name": "stdout",
     "output_type": "stream",
     "text": [
      "Finish Validation\n",
      "Epoch:377/400\n",
      "Train Loss: 36.8649 || Val Loss: 70.4315 \n"
     ]
    },
    {
     "name": "stderr",
     "output_type": "stream",
     "text": [
      "Epoch 378/400: 100%|█████████████████████████| 28/28 [00:14<00:00,  1.87it/s, lr=2.26e-5, step/s=0.44, total_loss=34.4]\n",
      "Epoch 378/400:   0%|                                                               | 0/8 [00:00<?, ?it/s<class 'dict'>]"
     ]
    },
    {
     "name": "stdout",
     "output_type": "stream",
     "text": [
      "Start Validation\n"
     ]
    },
    {
     "name": "stderr",
     "output_type": "stream",
     "text": [
      "Epoch 378/400: 100%|████████████████████████████████████████████████████| 8/8 [00:01<00:00,  4.02it/s, total_loss=80.1]\n",
      "Epoch 379/400:   0%|                                                              | 0/28 [00:00<?, ?it/s<class 'dict'>]"
     ]
    },
    {
     "name": "stdout",
     "output_type": "stream",
     "text": [
      "Finish Validation\n",
      "Epoch:378/400\n",
      "Train Loss: 33.2295 || Val Loss: 71.2328 \n"
     ]
    },
    {
     "name": "stderr",
     "output_type": "stream",
     "text": [
      "Epoch 379/400: 100%|████████████████████████| 28/28 [00:14<00:00,  1.88it/s, lr=2.24e-5, step/s=0.445, total_loss=35.6]\n",
      "Epoch 379/400:   0%|                                                               | 0/8 [00:00<?, ?it/s<class 'dict'>]"
     ]
    },
    {
     "name": "stdout",
     "output_type": "stream",
     "text": [
      "Start Validation\n"
     ]
    },
    {
     "name": "stderr",
     "output_type": "stream",
     "text": [
      "Epoch 379/400: 100%|██████████████████████████████████████████████████████| 8/8 [00:02<00:00,  3.97it/s, total_loss=75]\n",
      "Epoch 380/400:   0%|                                                              | 0/28 [00:00<?, ?it/s<class 'dict'>]"
     ]
    },
    {
     "name": "stdout",
     "output_type": "stream",
     "text": [
      "Finish Validation\n",
      "Epoch:379/400\n",
      "Train Loss: 34.4198 || Val Loss: 66.6628 \n"
     ]
    },
    {
     "name": "stderr",
     "output_type": "stream",
     "text": [
      "Epoch 380/400: 100%|████████████████████████| 28/28 [00:14<00:00,  1.87it/s, lr=2.22e-5, step/s=0.397, total_loss=35.9]\n",
      "Epoch 380/400:   0%|                                                               | 0/8 [00:00<?, ?it/s<class 'dict'>]"
     ]
    },
    {
     "name": "stdout",
     "output_type": "stream",
     "text": [
      "Start Validation\n"
     ]
    },
    {
     "name": "stderr",
     "output_type": "stream",
     "text": [
      "Epoch 380/400: 100%|██████████████████████████████████████████████████████| 8/8 [00:02<00:00,  3.92it/s, total_loss=79]\n",
      "Epoch 381/400:   0%|                                                              | 0/28 [00:00<?, ?it/s<class 'dict'>]"
     ]
    },
    {
     "name": "stdout",
     "output_type": "stream",
     "text": [
      "Finish Validation\n",
      "Epoch:380/400\n",
      "Train Loss: 34.7093 || Val Loss: 70.2453 \n"
     ]
    },
    {
     "name": "stderr",
     "output_type": "stream",
     "text": [
      "Epoch 381/400: 100%|██████████████████████████| 28/28 [00:14<00:00,  1.88it/s, lr=2.19e-5, step/s=0.439, total_loss=34]\n",
      "Epoch 381/400:   0%|                                                               | 0/8 [00:00<?, ?it/s<class 'dict'>]"
     ]
    },
    {
     "name": "stdout",
     "output_type": "stream",
     "text": [
      "Start Validation\n"
     ]
    },
    {
     "name": "stderr",
     "output_type": "stream",
     "text": [
      "Epoch 381/400: 100%|████████████████████████████████████████████████████| 8/8 [00:02<00:00,  3.93it/s, total_loss=88.9]\n",
      "Epoch 382/400:   0%|                                                              | 0/28 [00:00<?, ?it/s<class 'dict'>]"
     ]
    },
    {
     "name": "stdout",
     "output_type": "stream",
     "text": [
      "Finish Validation\n",
      "Epoch:381/400\n",
      "Train Loss: 32.8269 || Val Loss: 79.0310 \n"
     ]
    },
    {
     "name": "stderr",
     "output_type": "stream",
     "text": [
      "Epoch 382/400: 100%|████████████████████████| 28/28 [00:15<00:00,  1.85it/s, lr=2.17e-5, step/s=0.458, total_loss=36.1]\n",
      "Epoch 382/400:   0%|                                                               | 0/8 [00:00<?, ?it/s<class 'dict'>]"
     ]
    },
    {
     "name": "stdout",
     "output_type": "stream",
     "text": [
      "Start Validation\n"
     ]
    },
    {
     "name": "stderr",
     "output_type": "stream",
     "text": [
      "Epoch 382/400: 100%|████████████████████████████████████████████████████| 8/8 [00:02<00:00,  3.92it/s, total_loss=67.9]\n",
      "Epoch 383/400:   0%|                                                              | 0/28 [00:00<?, ?it/s<class 'dict'>]"
     ]
    },
    {
     "name": "stdout",
     "output_type": "stream",
     "text": [
      "Finish Validation\n",
      "Epoch:382/400\n",
      "Train Loss: 34.8624 || Val Loss: 60.3749 \n"
     ]
    },
    {
     "name": "stderr",
     "output_type": "stream",
     "text": [
      "Epoch 383/400: 100%|█████████████████████████| 28/28 [00:14<00:00,  1.87it/s, lr=2.15e-5, step/s=0.43, total_loss=35.8]\n",
      "Epoch 383/400:   0%|                                                               | 0/8 [00:00<?, ?it/s<class 'dict'>]"
     ]
    },
    {
     "name": "stdout",
     "output_type": "stream",
     "text": [
      "Start Validation\n"
     ]
    },
    {
     "name": "stderr",
     "output_type": "stream",
     "text": [
      "Epoch 383/400: 100%|██████████████████████████████████████████████████████| 8/8 [00:02<00:00,  3.96it/s, total_loss=82]\n",
      "Epoch 384/400:   0%|                                                              | 0/28 [00:00<?, ?it/s<class 'dict'>]"
     ]
    },
    {
     "name": "stdout",
     "output_type": "stream",
     "text": [
      "Finish Validation\n",
      "Epoch:383/400\n",
      "Train Loss: 34.6106 || Val Loss: 72.8593 \n"
     ]
    },
    {
     "name": "stderr",
     "output_type": "stream",
     "text": [
      "Epoch 384/400: 100%|████████████████████████| 28/28 [00:15<00:00,  1.85it/s, lr=2.13e-5, step/s=0.406, total_loss=37.9]\n",
      "Epoch 384/400:   0%|                                                               | 0/8 [00:00<?, ?it/s<class 'dict'>]"
     ]
    },
    {
     "name": "stdout",
     "output_type": "stream",
     "text": [
      "Start Validation\n"
     ]
    },
    {
     "name": "stderr",
     "output_type": "stream",
     "text": [
      "Epoch 384/400: 100%|████████████████████████████████████████████████████| 8/8 [00:02<00:00,  3.86it/s, total_loss=80.8]\n",
      "Epoch 385/400:   0%|                                                              | 0/28 [00:00<?, ?it/s<class 'dict'>]"
     ]
    },
    {
     "name": "stdout",
     "output_type": "stream",
     "text": [
      "Finish Validation\n",
      "Epoch:384/400\n",
      "Train Loss: 36.5972 || Val Loss: 71.8589 \n"
     ]
    },
    {
     "name": "stderr",
     "output_type": "stream",
     "text": [
      "Epoch 385/400: 100%|████████████████████████| 28/28 [00:15<00:00,  1.86it/s, lr=2.11e-5, step/s=0.424, total_loss=35.1]\n",
      "Epoch 385/400:   0%|                                                               | 0/8 [00:00<?, ?it/s<class 'dict'>]"
     ]
    },
    {
     "name": "stdout",
     "output_type": "stream",
     "text": [
      "Start Validation\n"
     ]
    },
    {
     "name": "stderr",
     "output_type": "stream",
     "text": [
      "Epoch 385/400: 100%|████████████████████████████████████████████████████| 8/8 [00:02<00:00,  3.85it/s, total_loss=81.6]\n",
      "Epoch 386/400:   0%|                                                              | 0/28 [00:00<?, ?it/s<class 'dict'>]"
     ]
    },
    {
     "name": "stdout",
     "output_type": "stream",
     "text": [
      "Finish Validation\n",
      "Epoch:385/400\n",
      "Train Loss: 33.8681 || Val Loss: 72.5394 \n"
     ]
    },
    {
     "name": "stderr",
     "output_type": "stream",
     "text": [
      "Epoch 386/400: 100%|████████████████████████| 28/28 [00:14<00:00,  1.87it/s, lr=2.09e-5, step/s=0.412, total_loss=33.1]\n",
      "Epoch 386/400:   0%|                                                               | 0/8 [00:00<?, ?it/s<class 'dict'>]"
     ]
    },
    {
     "name": "stdout",
     "output_type": "stream",
     "text": [
      "Start Validation\n"
     ]
    },
    {
     "name": "stderr",
     "output_type": "stream",
     "text": [
      "Epoch 386/400: 100%|████████████████████████████████████████████████████| 8/8 [00:02<00:00,  3.88it/s, total_loss=69.3]\n",
      "Epoch 387/400:   0%|                                                              | 0/28 [00:00<?, ?it/s<class 'dict'>]"
     ]
    },
    {
     "name": "stdout",
     "output_type": "stream",
     "text": [
      "Finish Validation\n",
      "Epoch:386/400\n",
      "Train Loss: 31.9362 || Val Loss: 61.6290 \n"
     ]
    },
    {
     "name": "stderr",
     "output_type": "stream",
     "text": [
      "Epoch 387/400: 100%|████████████████████████| 28/28 [00:14<00:00,  1.87it/s, lr=2.07e-5, step/s=0.407, total_loss=36.4]\n",
      "Epoch 387/400:   0%|                                                               | 0/8 [00:00<?, ?it/s<class 'dict'>]"
     ]
    },
    {
     "name": "stdout",
     "output_type": "stream",
     "text": [
      "Start Validation\n"
     ]
    },
    {
     "name": "stderr",
     "output_type": "stream",
     "text": [
      "Epoch 387/400: 100%|████████████████████████████████████████████████████| 8/8 [00:02<00:00,  3.95it/s, total_loss=76.9]\n",
      "Epoch 388/400:   0%|                                                              | 0/28 [00:00<?, ?it/s<class 'dict'>]"
     ]
    },
    {
     "name": "stdout",
     "output_type": "stream",
     "text": [
      "Finish Validation\n",
      "Epoch:387/400\n",
      "Train Loss: 35.1071 || Val Loss: 68.3452 \n"
     ]
    },
    {
     "name": "stderr",
     "output_type": "stream",
     "text": [
      "Epoch 388/400: 100%|████████████████████████| 28/28 [00:14<00:00,  1.88it/s, lr=2.05e-5, step/s=0.408, total_loss=34.7]\n",
      "Epoch 388/400:   0%|                                                               | 0/8 [00:00<?, ?it/s<class 'dict'>]"
     ]
    },
    {
     "name": "stdout",
     "output_type": "stream",
     "text": [
      "Start Validation\n"
     ]
    },
    {
     "name": "stderr",
     "output_type": "stream",
     "text": [
      "Epoch 388/400: 100%|████████████████████████████████████████████████████| 8/8 [00:02<00:00,  3.81it/s, total_loss=71.8]\n",
      "Epoch 389/400:   0%|                                                              | 0/28 [00:00<?, ?it/s<class 'dict'>]"
     ]
    },
    {
     "name": "stdout",
     "output_type": "stream",
     "text": [
      "Finish Validation\n",
      "Epoch:388/400\n",
      "Train Loss: 33.5351 || Val Loss: 63.7898 \n"
     ]
    },
    {
     "name": "stderr",
     "output_type": "stream",
     "text": [
      "Epoch 389/400: 100%|████████████████████████| 28/28 [00:15<00:00,  1.86it/s, lr=2.03e-5, step/s=0.453, total_loss=35.7]\n",
      "Epoch 389/400:   0%|                                                               | 0/8 [00:00<?, ?it/s<class 'dict'>]"
     ]
    },
    {
     "name": "stdout",
     "output_type": "stream",
     "text": [
      "Start Validation\n"
     ]
    },
    {
     "name": "stderr",
     "output_type": "stream",
     "text": [
      "Epoch 389/400: 100%|████████████████████████████████████████████████████| 8/8 [00:02<00:00,  3.98it/s, total_loss=67.6]\n",
      "Epoch 390/400:   0%|                                                              | 0/28 [00:00<?, ?it/s<class 'dict'>]"
     ]
    },
    {
     "name": "stdout",
     "output_type": "stream",
     "text": [
      "Finish Validation\n",
      "Epoch:389/400\n",
      "Train Loss: 34.4888 || Val Loss: 60.0713 \n"
     ]
    },
    {
     "name": "stderr",
     "output_type": "stream",
     "text": [
      "Epoch 390/400: 100%|███████████████████████████| 28/28 [00:14<00:00,  1.88it/s, lr=2e-5, step/s=0.377, total_loss=33.8]\n",
      "Epoch 390/400:   0%|                                                               | 0/8 [00:00<?, ?it/s<class 'dict'>]"
     ]
    },
    {
     "name": "stdout",
     "output_type": "stream",
     "text": [
      "Start Validation\n"
     ]
    },
    {
     "name": "stderr",
     "output_type": "stream",
     "text": [
      "Epoch 390/400: 100%|████████████████████████████████████████████████████| 8/8 [00:02<00:00,  3.90it/s, total_loss=73.9]\n",
      "Epoch 391/400:   0%|                                                              | 0/28 [00:00<?, ?it/s<class 'dict'>]"
     ]
    },
    {
     "name": "stdout",
     "output_type": "stream",
     "text": [
      "Finish Validation\n",
      "Epoch:390/400\n",
      "Train Loss: 32.6726 || Val Loss: 65.6562 \n"
     ]
    },
    {
     "name": "stderr",
     "output_type": "stream",
     "text": [
      "Epoch 391/400: 100%|████████████████████████| 28/28 [00:14<00:00,  1.87it/s, lr=1.98e-5, step/s=0.383, total_loss=35.5]\n",
      "Epoch 391/400:   0%|                                                               | 0/8 [00:00<?, ?it/s<class 'dict'>]"
     ]
    },
    {
     "name": "stdout",
     "output_type": "stream",
     "text": [
      "Start Validation\n"
     ]
    },
    {
     "name": "stderr",
     "output_type": "stream",
     "text": [
      "Epoch 391/400: 100%|██████████████████████████████████████████████████████| 8/8 [00:02<00:00,  3.93it/s, total_loss=75]\n",
      "Epoch 392/400:   0%|                                                              | 0/28 [00:00<?, ?it/s<class 'dict'>]"
     ]
    },
    {
     "name": "stdout",
     "output_type": "stream",
     "text": [
      "Finish Validation\n",
      "Epoch:391/400\n",
      "Train Loss: 34.2792 || Val Loss: 66.6598 \n"
     ]
    },
    {
     "name": "stderr",
     "output_type": "stream",
     "text": [
      "Epoch 392/400: 100%|████████████████████████| 28/28 [00:15<00:00,  1.86it/s, lr=1.96e-5, step/s=0.482, total_loss=36.3]\n",
      "Epoch 392/400:   0%|                                                               | 0/8 [00:00<?, ?it/s<class 'dict'>]"
     ]
    },
    {
     "name": "stdout",
     "output_type": "stream",
     "text": [
      "Start Validation\n"
     ]
    },
    {
     "name": "stderr",
     "output_type": "stream",
     "text": [
      "Epoch 392/400: 100%|████████████████████████████████████████████████████| 8/8 [00:02<00:00,  3.97it/s, total_loss=74.2]\n",
      "Epoch 393/400:   0%|                                                              | 0/28 [00:00<?, ?it/s<class 'dict'>]"
     ]
    },
    {
     "name": "stdout",
     "output_type": "stream",
     "text": [
      "Finish Validation\n",
      "Epoch:392/400\n",
      "Train Loss: 35.0440 || Val Loss: 65.9403 \n"
     ]
    },
    {
     "name": "stderr",
     "output_type": "stream",
     "text": [
      "Epoch 393/400: 100%|████████████████████████| 28/28 [00:15<00:00,  1.87it/s, lr=1.95e-5, step/s=0.427, total_loss=36.6]\n",
      "Epoch 393/400:   0%|                                                               | 0/8 [00:00<?, ?it/s<class 'dict'>]"
     ]
    },
    {
     "name": "stdout",
     "output_type": "stream",
     "text": [
      "Start Validation\n"
     ]
    },
    {
     "name": "stderr",
     "output_type": "stream",
     "text": [
      "Epoch 393/400: 100%|████████████████████████████████████████████████████| 8/8 [00:02<00:00,  3.95it/s, total_loss=69.7]\n",
      "Epoch 394/400:   0%|                                                              | 0/28 [00:00<?, ?it/s<class 'dict'>]"
     ]
    },
    {
     "name": "stdout",
     "output_type": "stream",
     "text": [
      "Finish Validation\n",
      "Epoch:393/400\n",
      "Train Loss: 35.3162 || Val Loss: 61.9357 \n"
     ]
    },
    {
     "name": "stderr",
     "output_type": "stream",
     "text": [
      "Epoch 394/400: 100%|████████████████████████| 28/28 [00:14<00:00,  1.88it/s, lr=1.93e-5, step/s=0.395, total_loss=32.6]\n",
      "Epoch 394/400:   0%|                                                               | 0/8 [00:00<?, ?it/s<class 'dict'>]"
     ]
    },
    {
     "name": "stdout",
     "output_type": "stream",
     "text": [
      "Start Validation\n"
     ]
    },
    {
     "name": "stderr",
     "output_type": "stream",
     "text": [
      "Epoch 394/400: 100%|████████████████████████████████████████████████████| 8/8 [00:02<00:00,  3.88it/s, total_loss=79.9]\n",
      "Epoch 395/400:   0%|                                                              | 0/28 [00:00<?, ?it/s<class 'dict'>]"
     ]
    },
    {
     "name": "stdout",
     "output_type": "stream",
     "text": [
      "Finish Validation\n",
      "Epoch:394/400\n",
      "Train Loss: 31.4560 || Val Loss: 71.0041 \n"
     ]
    },
    {
     "name": "stderr",
     "output_type": "stream",
     "text": [
      "Epoch 395/400: 100%|███████████████████████████| 28/28 [00:14<00:00,  1.87it/s, lr=1.91e-5, step/s=0.41, total_loss=37]\n",
      "Epoch 395/400:   0%|                                                               | 0/8 [00:00<?, ?it/s<class 'dict'>]"
     ]
    },
    {
     "name": "stdout",
     "output_type": "stream",
     "text": [
      "Start Validation\n"
     ]
    },
    {
     "name": "stderr",
     "output_type": "stream",
     "text": [
      "Epoch 395/400: 100%|████████████████████████████████████████████████████| 8/8 [00:02<00:00,  3.96it/s, total_loss=81.4]\n",
      "Epoch 396/400:   0%|                                                              | 0/28 [00:00<?, ?it/s<class 'dict'>]"
     ]
    },
    {
     "name": "stdout",
     "output_type": "stream",
     "text": [
      "Finish Validation\n",
      "Epoch:395/400\n",
      "Train Loss: 35.7450 || Val Loss: 72.3769 \n"
     ]
    },
    {
     "name": "stderr",
     "output_type": "stream",
     "text": [
      "Epoch 396/400: 100%|████████████████████████| 28/28 [00:14<00:00,  1.88it/s, lr=1.89e-5, step/s=0.423, total_loss=34.4]\n",
      "Epoch 396/400:   0%|                                                               | 0/8 [00:00<?, ?it/s<class 'dict'>]"
     ]
    },
    {
     "name": "stdout",
     "output_type": "stream",
     "text": [
      "Start Validation\n"
     ]
    },
    {
     "name": "stderr",
     "output_type": "stream",
     "text": [
      "Epoch 396/400: 100%|████████████████████████████████████████████████████| 8/8 [00:02<00:00,  3.87it/s, total_loss=79.2]\n",
      "Epoch 397/400:   0%|                                                              | 0/28 [00:00<?, ?it/s<class 'dict'>]"
     ]
    },
    {
     "name": "stdout",
     "output_type": "stream",
     "text": [
      "Finish Validation\n",
      "Epoch:396/400\n",
      "Train Loss: 33.1916 || Val Loss: 70.3687 \n"
     ]
    },
    {
     "name": "stderr",
     "output_type": "stream",
     "text": [
      "Epoch 397/400: 100%|████████████████████████| 28/28 [00:15<00:00,  1.86it/s, lr=1.87e-5, step/s=0.426, total_loss=34.8]\n",
      "Epoch 397/400:   0%|                                                               | 0/8 [00:00<?, ?it/s<class 'dict'>]"
     ]
    },
    {
     "name": "stdout",
     "output_type": "stream",
     "text": [
      "Start Validation\n"
     ]
    },
    {
     "name": "stderr",
     "output_type": "stream",
     "text": [
      "Epoch 397/400: 100%|████████████████████████████████████████████████████| 8/8 [00:02<00:00,  3.91it/s, total_loss=78.2]\n",
      "Epoch 398/400:   0%|                                                              | 0/28 [00:00<?, ?it/s<class 'dict'>]"
     ]
    },
    {
     "name": "stdout",
     "output_type": "stream",
     "text": [
      "Finish Validation\n",
      "Epoch:397/400\n",
      "Train Loss: 33.6053 || Val Loss: 69.5227 \n"
     ]
    },
    {
     "name": "stderr",
     "output_type": "stream",
     "text": [
      "Epoch 398/400: 100%|████████████████████████| 28/28 [00:14<00:00,  1.87it/s, lr=1.85e-5, step/s=0.425, total_loss=34.6]\n",
      "Epoch 398/400:   0%|                                                               | 0/8 [00:00<?, ?it/s<class 'dict'>]"
     ]
    },
    {
     "name": "stdout",
     "output_type": "stream",
     "text": [
      "Start Validation\n"
     ]
    },
    {
     "name": "stderr",
     "output_type": "stream",
     "text": [
      "Epoch 398/400: 100%|████████████████████████████████████████████████████| 8/8 [00:02<00:00,  3.82it/s, total_loss=79.9]\n",
      "Epoch 399/400:   0%|                                                              | 0/28 [00:00<?, ?it/s<class 'dict'>]"
     ]
    },
    {
     "name": "stdout",
     "output_type": "stream",
     "text": [
      "Finish Validation\n",
      "Epoch:398/400\n",
      "Train Loss: 33.4315 || Val Loss: 70.9916 \n"
     ]
    },
    {
     "name": "stderr",
     "output_type": "stream",
     "text": [
      "Epoch 399/400: 100%|████████████████████████| 28/28 [00:14<00:00,  1.88it/s, lr=1.83e-5, step/s=0.432, total_loss=35.9]\n",
      "Epoch 399/400:   0%|                                                               | 0/8 [00:00<?, ?it/s<class 'dict'>]"
     ]
    },
    {
     "name": "stdout",
     "output_type": "stream",
     "text": [
      "Start Validation\n"
     ]
    },
    {
     "name": "stderr",
     "output_type": "stream",
     "text": [
      "Epoch 399/400: 100%|██████████████████████████████████████████████████████| 8/8 [00:02<00:00,  3.87it/s, total_loss=78]\n",
      "Epoch 400/400:   0%|                                                              | 0/28 [00:00<?, ?it/s<class 'dict'>]"
     ]
    },
    {
     "name": "stdout",
     "output_type": "stream",
     "text": [
      "Finish Validation\n",
      "Epoch:399/400\n",
      "Train Loss: 34.6374 || Val Loss: 69.3013 \n"
     ]
    },
    {
     "name": "stderr",
     "output_type": "stream",
     "text": [
      "Epoch 400/400: 100%|████████████████████████| 28/28 [00:14<00:00,  1.87it/s, lr=1.81e-5, step/s=0.439, total_loss=31.8]\n",
      "Epoch 400/400:   0%|                                                               | 0/8 [00:00<?, ?it/s<class 'dict'>]"
     ]
    },
    {
     "name": "stdout",
     "output_type": "stream",
     "text": [
      "Start Validation\n"
     ]
    },
    {
     "name": "stderr",
     "output_type": "stream",
     "text": [
      "Epoch 400/400: 100%|████████████████████████████████████████████████████| 8/8 [00:02<00:00,  3.96it/s, total_loss=71.7]\n"
     ]
    },
    {
     "name": "stdout",
     "output_type": "stream",
     "text": [
      "Finish Validation\n",
      "Epoch:400/400\n",
      "Train Loss: 30.6973 || Val Loss: 63.7643 \n"
     ]
    },
    {
     "name": "stderr",
     "output_type": "stream",
     "text": [
      "Epoch 401/500: 100%|███████████████████████████| 56/56 [00:24<00:00,  2.32it/s, lr=0.0001, step/s=0.242, total_loss=35]\n",
      "Epoch 401/500:   0%|                                                           | 0/17 [00:00<?, ?it/s, total_loss=82.8]"
     ]
    },
    {
     "name": "stdout",
     "output_type": "stream",
     "text": [
      "Start Validation\n"
     ]
    },
    {
     "name": "stderr",
     "output_type": "stream",
     "text": [
      "Epoch 401/500: 100%|████████████████████████████████████████████████████| 17/17 [00:02<00:00,  6.97it/s, total_loss=69]\n",
      "Epoch 402/500:   0%|                                                              | 0/56 [00:00<?, ?it/s<class 'dict'>]"
     ]
    },
    {
     "name": "stdout",
     "output_type": "stream",
     "text": [
      "Finish Validation\n",
      "Epoch:401/500\n",
      "Train Loss: 34.3978 || Val Loss: 65.2101 \n"
     ]
    },
    {
     "name": "stderr",
     "output_type": "stream",
     "text": [
      "Epoch 402/500: 100%|█████████████████████████| 56/56 [00:22<00:00,  2.52it/s, lr=9.9e-5, step/s=0.242, total_loss=39.1]\n",
      "Epoch 402/500:   0%|                                                            | 0/17 [00:00<?, ?it/s, total_loss=136]"
     ]
    },
    {
     "name": "stdout",
     "output_type": "stream",
     "text": [
      "Start Validation\n"
     ]
    },
    {
     "name": "stderr",
     "output_type": "stream",
     "text": [
      "Epoch 402/500: 100%|██████████████████████████████████████████████████| 17/17 [00:02<00:00,  6.82it/s, total_loss=74.6]\n",
      "Epoch 403/500:   0%|                                                              | 0/56 [00:00<?, ?it/s<class 'dict'>]"
     ]
    },
    {
     "name": "stdout",
     "output_type": "stream",
     "text": [
      "Finish Validation\n",
      "Epoch:402/500\n",
      "Train Loss: 38.4214 || Val Loss: 70.4293 \n"
     ]
    },
    {
     "name": "stderr",
     "output_type": "stream",
     "text": [
      "Epoch 403/500: 100%|█████████████████████████| 56/56 [00:22<00:00,  2.53it/s, lr=9.8e-5, step/s=0.257, total_loss=36.9]\n",
      "Epoch 403/500:   0%|                                                           | 0/17 [00:00<?, ?it/s, total_loss=73.1]"
     ]
    },
    {
     "name": "stdout",
     "output_type": "stream",
     "text": [
      "Start Validation\n"
     ]
    },
    {
     "name": "stderr",
     "output_type": "stream",
     "text": [
      "Epoch 403/500: 100%|██████████████████████████████████████████████████| 17/17 [00:02<00:00,  6.96it/s, total_loss=77.4]\n",
      "Epoch 404/500:   0%|                                                              | 0/56 [00:00<?, ?it/s<class 'dict'>]"
     ]
    },
    {
     "name": "stdout",
     "output_type": "stream",
     "text": [
      "Finish Validation\n",
      "Epoch:403/500\n",
      "Train Loss: 36.2061 || Val Loss: 73.0615 \n"
     ]
    },
    {
     "name": "stderr",
     "output_type": "stream",
     "text": [
      "Epoch 404/500: 100%|█████████████████████████| 56/56 [00:21<00:00,  2.55it/s, lr=9.7e-5, step/s=0.253, total_loss=35.4]\n",
      "Epoch 404/500:   0%|                                                           | 0/17 [00:00<?, ?it/s, total_loss=56.9]"
     ]
    },
    {
     "name": "stdout",
     "output_type": "stream",
     "text": [
      "Start Validation\n"
     ]
    },
    {
     "name": "stderr",
     "output_type": "stream",
     "text": [
      "Epoch 404/500: 100%|██████████████████████████████████████████████████| 17/17 [00:02<00:00,  6.70it/s, total_loss=82.1]\n",
      "Epoch 405/500:   0%|                                                              | 0/56 [00:00<?, ?it/s<class 'dict'>]"
     ]
    },
    {
     "name": "stdout",
     "output_type": "stream",
     "text": [
      "Finish Validation\n",
      "Epoch:404/500\n",
      "Train Loss: 34.7553 || Val Loss: 77.5308 \n"
     ]
    },
    {
     "name": "stderr",
     "output_type": "stream",
     "text": [
      "Epoch 405/500: 100%|███████████████████████████| 56/56 [00:22<00:00,  2.54it/s, lr=9.61e-5, step/s=0.26, total_loss=33]\n",
      "Epoch 405/500:   0%|                                                           | 0/17 [00:00<?, ?it/s, total_loss=98.5]"
     ]
    },
    {
     "name": "stdout",
     "output_type": "stream",
     "text": [
      "Start Validation\n"
     ]
    },
    {
     "name": "stderr",
     "output_type": "stream",
     "text": [
      "Epoch 405/500: 100%|██████████████████████████████████████████████████| 17/17 [00:02<00:00,  6.84it/s, total_loss=78.6]\n",
      "Epoch 406/500:   0%|                                                              | 0/56 [00:00<?, ?it/s<class 'dict'>]"
     ]
    },
    {
     "name": "stdout",
     "output_type": "stream",
     "text": [
      "Finish Validation\n",
      "Epoch:405/500\n",
      "Train Loss: 32.3882 || Val Loss: 74.2617 \n"
     ]
    },
    {
     "name": "stderr",
     "output_type": "stream",
     "text": [
      "Epoch 406/500: 100%|████████████████████████| 56/56 [00:22<00:00,  2.52it/s, lr=9.51e-5, step/s=0.259, total_loss=36.5]\n",
      "Epoch 406/500:   0%|                                                           | 0/17 [00:00<?, ?it/s, total_loss=71.8]"
     ]
    },
    {
     "name": "stdout",
     "output_type": "stream",
     "text": [
      "Start Validation\n"
     ]
    },
    {
     "name": "stderr",
     "output_type": "stream",
     "text": [
      "Epoch 406/500: 100%|██████████████████████████████████████████████████| 17/17 [00:02<00:00,  6.89it/s, total_loss=71.2]\n",
      "Epoch 407/500:   0%|                                                              | 0/56 [00:00<?, ?it/s<class 'dict'>]"
     ]
    },
    {
     "name": "stdout",
     "output_type": "stream",
     "text": [
      "Finish Validation\n",
      "Epoch:406/500\n",
      "Train Loss: 35.8183 || Val Loss: 67.2036 \n"
     ]
    },
    {
     "name": "stderr",
     "output_type": "stream",
     "text": [
      "Epoch 407/500: 100%|████████████████████████| 56/56 [00:21<00:00,  2.55it/s, lr=9.41e-5, step/s=0.262, total_loss=32.2]\n",
      "Epoch 407/500:   0%|                                                           | 0/17 [00:00<?, ?it/s, total_loss=62.3]"
     ]
    },
    {
     "name": "stdout",
     "output_type": "stream",
     "text": [
      "Start Validation\n"
     ]
    },
    {
     "name": "stderr",
     "output_type": "stream",
     "text": [
      "Epoch 407/500: 100%|██████████████████████████████████████████████████| 17/17 [00:02<00:00,  6.72it/s, total_loss=75.5]\n",
      "Epoch 408/500:   0%|                                                              | 0/56 [00:00<?, ?it/s<class 'dict'>]"
     ]
    },
    {
     "name": "stdout",
     "output_type": "stream",
     "text": [
      "Finish Validation\n",
      "Epoch:407/500\n",
      "Train Loss: 31.6084 || Val Loss: 71.2990 \n"
     ]
    },
    {
     "name": "stderr",
     "output_type": "stream",
     "text": [
      "Epoch 408/500: 100%|████████████████████████| 56/56 [00:22<00:00,  2.55it/s, lr=9.32e-5, step/s=0.238, total_loss=31.2]\n",
      "Epoch 408/500:   0%|                                                           | 0/17 [00:00<?, ?it/s, total_loss=66.1]"
     ]
    },
    {
     "name": "stdout",
     "output_type": "stream",
     "text": [
      "Start Validation\n"
     ]
    },
    {
     "name": "stderr",
     "output_type": "stream",
     "text": [
      "Epoch 408/500: 100%|██████████████████████████████████████████████████| 17/17 [00:02<00:00,  6.98it/s, total_loss=73.2]\n",
      "Epoch 409/500:   0%|                                                              | 0/56 [00:00<?, ?it/s<class 'dict'>]"
     ]
    },
    {
     "name": "stdout",
     "output_type": "stream",
     "text": [
      "Finish Validation\n",
      "Epoch:408/500\n",
      "Train Loss: 30.6496 || Val Loss: 69.1372 \n"
     ]
    },
    {
     "name": "stderr",
     "output_type": "stream",
     "text": [
      "Epoch 409/500: 100%|█████████████████████████| 56/56 [00:22<00:00,  2.53it/s, lr=9.23e-5, step/s=0.29, total_loss=33.1]\n",
      "Epoch 409/500:   0%|                                                           | 0/17 [00:00<?, ?it/s, total_loss=56.9]"
     ]
    },
    {
     "name": "stdout",
     "output_type": "stream",
     "text": [
      "Start Validation\n"
     ]
    },
    {
     "name": "stderr",
     "output_type": "stream",
     "text": [
      "Epoch 409/500: 100%|██████████████████████████████████████████████████| 17/17 [00:02<00:00,  6.82it/s, total_loss=76.5]\n",
      "Epoch 410/500:   0%|                                                              | 0/56 [00:00<?, ?it/s<class 'dict'>]"
     ]
    },
    {
     "name": "stdout",
     "output_type": "stream",
     "text": [
      "Finish Validation\n",
      "Epoch:409/500\n",
      "Train Loss: 32.5413 || Val Loss: 72.2494 \n"
     ]
    },
    {
     "name": "stderr",
     "output_type": "stream",
     "text": [
      "Epoch 410/500: 100%|████████████████████████| 56/56 [00:22<00:00,  2.54it/s, lr=9.14e-5, step/s=0.241, total_loss=34.1]\n",
      "Epoch 410/500:   0%|                                                           | 0/17 [00:00<?, ?it/s, total_loss=60.3]"
     ]
    },
    {
     "name": "stdout",
     "output_type": "stream",
     "text": [
      "Start Validation\n"
     ]
    },
    {
     "name": "stderr",
     "output_type": "stream",
     "text": [
      "Epoch 410/500: 100%|██████████████████████████████████████████████████| 17/17 [00:02<00:00,  6.71it/s, total_loss=74.7]\n",
      "Epoch 411/500:   0%|                                                              | 0/56 [00:00<?, ?it/s<class 'dict'>]"
     ]
    },
    {
     "name": "stdout",
     "output_type": "stream",
     "text": [
      "Finish Validation\n",
      "Epoch:410/500\n",
      "Train Loss: 33.5110 || Val Loss: 70.5801 \n"
     ]
    },
    {
     "name": "stderr",
     "output_type": "stream",
     "text": [
      "Epoch 411/500: 100%|████████████████████████| 56/56 [00:22<00:00,  2.54it/s, lr=9.04e-5, step/s=0.246, total_loss=32.6]\n",
      "Epoch 411/500:   0%|                                                           | 0/17 [00:00<?, ?it/s, total_loss=52.6]"
     ]
    },
    {
     "name": "stdout",
     "output_type": "stream",
     "text": [
      "Start Validation\n"
     ]
    },
    {
     "name": "stderr",
     "output_type": "stream",
     "text": [
      "Epoch 411/500: 100%|████████████████████████████████████████████████████| 17/17 [00:02<00:00,  6.76it/s, total_loss=76]\n",
      "Epoch 412/500:   0%|                                                              | 0/56 [00:00<?, ?it/s<class 'dict'>]"
     ]
    },
    {
     "name": "stdout",
     "output_type": "stream",
     "text": [
      "Finish Validation\n",
      "Epoch:411/500\n",
      "Train Loss: 32.0105 || Val Loss: 71.7849 \n"
     ]
    },
    {
     "name": "stderr",
     "output_type": "stream",
     "text": [
      "Epoch 412/500: 100%|████████████████████████| 56/56 [00:22<00:00,  2.52it/s, lr=8.95e-5, step/s=0.282, total_loss=29.1]\n",
      "Epoch 412/500:   0%|                                                            | 0/17 [00:00<?, ?it/s, total_loss=123]"
     ]
    },
    {
     "name": "stdout",
     "output_type": "stream",
     "text": [
      "Start Validation\n"
     ]
    },
    {
     "name": "stderr",
     "output_type": "stream",
     "text": [
      "Epoch 412/500: 100%|██████████████████████████████████████████████████| 17/17 [00:02<00:00,  6.81it/s, total_loss=89.8]\n",
      "Epoch 413/500:   0%|                                                              | 0/56 [00:00<?, ?it/s<class 'dict'>]"
     ]
    },
    {
     "name": "stdout",
     "output_type": "stream",
     "text": [
      "Finish Validation\n",
      "Epoch:412/500\n",
      "Train Loss: 28.5953 || Val Loss: 84.7877 \n"
     ]
    },
    {
     "name": "stderr",
     "output_type": "stream",
     "text": [
      "Epoch 413/500: 100%|████████████████████████| 56/56 [00:21<00:00,  2.55it/s, lr=8.86e-5, step/s=0.247, total_loss=32.6]\n",
      "Epoch 413/500:   0%|                                                            | 0/17 [00:00<?, ?it/s, total_loss=154]"
     ]
    },
    {
     "name": "stdout",
     "output_type": "stream",
     "text": [
      "Start Validation\n"
     ]
    },
    {
     "name": "stderr",
     "output_type": "stream",
     "text": [
      "Epoch 413/500: 100%|██████████████████████████████████████████████████| 17/17 [00:02<00:00,  6.94it/s, total_loss=75.2]\n",
      "Epoch 414/500:   0%|                                                              | 0/56 [00:00<?, ?it/s<class 'dict'>]"
     ]
    },
    {
     "name": "stdout",
     "output_type": "stream",
     "text": [
      "Finish Validation\n",
      "Epoch:413/500\n",
      "Train Loss: 32.0341 || Val Loss: 71.0468 \n"
     ]
    },
    {
     "name": "stderr",
     "output_type": "stream",
     "text": [
      "Epoch 414/500: 100%|████████████████████████| 56/56 [00:22<00:00,  2.53it/s, lr=8.78e-5, step/s=0.232, total_loss=33.6]\n",
      "Epoch 414/500:   0%|                                                           | 0/17 [00:00<?, ?it/s, total_loss=65.2]"
     ]
    },
    {
     "name": "stdout",
     "output_type": "stream",
     "text": [
      "Start Validation\n"
     ]
    },
    {
     "name": "stderr",
     "output_type": "stream",
     "text": [
      "Epoch 414/500: 100%|██████████████████████████████████████████████████| 17/17 [00:02<00:00,  6.78it/s, total_loss=81.6]\n",
      "Epoch 415/500:   0%|                                                              | 0/56 [00:00<?, ?it/s<class 'dict'>]"
     ]
    },
    {
     "name": "stdout",
     "output_type": "stream",
     "text": [
      "Finish Validation\n",
      "Epoch:414/500\n",
      "Train Loss: 33.0242 || Val Loss: 77.0667 \n"
     ]
    },
    {
     "name": "stderr",
     "output_type": "stream",
     "text": [
      "Epoch 415/500: 100%|████████████████████████| 56/56 [00:21<00:00,  2.55it/s, lr=8.69e-5, step/s=0.253, total_loss=35.7]\n",
      "Epoch 415/500:   0%|                                                            | 0/17 [00:00<?, ?it/s, total_loss=136]"
     ]
    },
    {
     "name": "stdout",
     "output_type": "stream",
     "text": [
      "Start Validation\n"
     ]
    },
    {
     "name": "stderr",
     "output_type": "stream",
     "text": [
      "Epoch 415/500: 100%|██████████████████████████████████████████████████| 17/17 [00:02<00:00,  6.80it/s, total_loss=72.5]\n",
      "Epoch 416/500:   0%|                                                              | 0/56 [00:00<?, ?it/s<class 'dict'>]"
     ]
    },
    {
     "name": "stdout",
     "output_type": "stream",
     "text": [
      "Finish Validation\n",
      "Epoch:415/500\n",
      "Train Loss: 35.0691 || Val Loss: 68.4893 \n"
     ]
    },
    {
     "name": "stderr",
     "output_type": "stream",
     "text": [
      "Epoch 416/500: 100%|█████████████████████████| 56/56 [00:21<00:00,  2.56it/s, lr=8.6e-5, step/s=0.233, total_loss=33.4]\n",
      "Epoch 416/500:   0%|                                                            | 0/17 [00:00<?, ?it/s, total_loss=172]"
     ]
    },
    {
     "name": "stdout",
     "output_type": "stream",
     "text": [
      "Start Validation\n"
     ]
    },
    {
     "name": "stderr",
     "output_type": "stream",
     "text": [
      "Epoch 416/500: 100%|██████████████████████████████████████████████████| 17/17 [00:02<00:00,  6.89it/s, total_loss=71.8]\n",
      "Epoch 417/500:   0%|                                                              | 0/56 [00:00<?, ?it/s<class 'dict'>]"
     ]
    },
    {
     "name": "stdout",
     "output_type": "stream",
     "text": [
      "Finish Validation\n",
      "Epoch:416/500\n",
      "Train Loss: 32.7706 || Val Loss: 67.8263 \n"
     ]
    },
    {
     "name": "stderr",
     "output_type": "stream",
     "text": [
      "Epoch 417/500: 100%|████████████████████████| 56/56 [00:22<00:00,  2.54it/s, lr=8.51e-5, step/s=0.247, total_loss=33.1]\n",
      "Epoch 417/500:   0%|                                                           | 0/17 [00:00<?, ?it/s, total_loss=90.5]"
     ]
    },
    {
     "name": "stdout",
     "output_type": "stream",
     "text": [
      "Start Validation\n"
     ]
    },
    {
     "name": "stderr",
     "output_type": "stream",
     "text": [
      "Epoch 417/500: 100%|██████████████████████████████████████████████████| 17/17 [00:02<00:00,  7.12it/s, total_loss=77.1]\n",
      "Epoch 418/500:   0%|                                                              | 0/56 [00:00<?, ?it/s<class 'dict'>]"
     ]
    },
    {
     "name": "stdout",
     "output_type": "stream",
     "text": [
      "Finish Validation\n",
      "Epoch:417/500\n",
      "Train Loss: 32.5491 || Val Loss: 72.7808 \n"
     ]
    },
    {
     "name": "stderr",
     "output_type": "stream",
     "text": [
      "Epoch 418/500: 100%|████████████████████████| 56/56 [00:21<00:00,  2.57it/s, lr=8.43e-5, step/s=0.242, total_loss=33.1]\n",
      "Epoch 418/500:   0%|                                                           | 0/17 [00:00<?, ?it/s, total_loss=65.9]"
     ]
    },
    {
     "name": "stdout",
     "output_type": "stream",
     "text": [
      "Start Validation\n"
     ]
    },
    {
     "name": "stderr",
     "output_type": "stream",
     "text": [
      "Epoch 418/500: 100%|██████████████████████████████████████████████████| 17/17 [00:02<00:00,  6.88it/s, total_loss=70.7]\n",
      "Epoch 419/500:   0%|                                                              | 0/56 [00:00<?, ?it/s<class 'dict'>]"
     ]
    },
    {
     "name": "stdout",
     "output_type": "stream",
     "text": [
      "Finish Validation\n",
      "Epoch:418/500\n",
      "Train Loss: 32.4902 || Val Loss: 66.8091 \n"
     ]
    },
    {
     "name": "stderr",
     "output_type": "stream",
     "text": [
      "Epoch 419/500: 100%|████████████████████████| 56/56 [00:21<00:00,  2.55it/s, lr=8.35e-5, step/s=0.242, total_loss=34.7]\n",
      "Epoch 419/500:   0%|                                                           | 0/17 [00:00<?, ?it/s, total_loss=47.4]"
     ]
    },
    {
     "name": "stdout",
     "output_type": "stream",
     "text": [
      "Start Validation\n"
     ]
    },
    {
     "name": "stderr",
     "output_type": "stream",
     "text": [
      "Epoch 419/500: 100%|██████████████████████████████████████████████████| 17/17 [00:02<00:00,  7.08it/s, total_loss=68.3]\n",
      "Epoch 420/500:   0%|                                                              | 0/56 [00:00<?, ?it/s<class 'dict'>]"
     ]
    },
    {
     "name": "stdout",
     "output_type": "stream",
     "text": [
      "Finish Validation\n",
      "Epoch:419/500\n",
      "Train Loss: 34.0875 || Val Loss: 64.4772 \n"
     ]
    },
    {
     "name": "stderr",
     "output_type": "stream",
     "text": [
      "Epoch 420/500: 100%|████████████████████████| 56/56 [00:21<00:00,  2.56it/s, lr=8.26e-5, step/s=0.226, total_loss=31.8]\n",
      "Epoch 420/500:   0%|                                                           | 0/17 [00:00<?, ?it/s, total_loss=70.2]"
     ]
    },
    {
     "name": "stdout",
     "output_type": "stream",
     "text": [
      "Start Validation\n"
     ]
    },
    {
     "name": "stderr",
     "output_type": "stream",
     "text": [
      "Epoch 420/500: 100%|██████████████████████████████████████████████████| 17/17 [00:02<00:00,  6.89it/s, total_loss=69.8]\n",
      "Epoch 421/500:   0%|                                                              | 0/56 [00:00<?, ?it/s<class 'dict'>]"
     ]
    },
    {
     "name": "stdout",
     "output_type": "stream",
     "text": [
      "Finish Validation\n",
      "Epoch:420/500\n",
      "Train Loss: 31.2064 || Val Loss: 65.8772 \n"
     ]
    },
    {
     "name": "stderr",
     "output_type": "stream",
     "text": [
      "Epoch 421/500: 100%|████████████████████████| 56/56 [00:21<00:00,  2.56it/s, lr=8.18e-5, step/s=0.281, total_loss=34.1]\n",
      "Epoch 421/500:   0%|                                                            | 0/17 [00:00<?, ?it/s, total_loss=119]"
     ]
    },
    {
     "name": "stdout",
     "output_type": "stream",
     "text": [
      "Start Validation\n"
     ]
    },
    {
     "name": "stderr",
     "output_type": "stream",
     "text": [
      "Epoch 421/500: 100%|██████████████████████████████████████████████████| 17/17 [00:02<00:00,  7.08it/s, total_loss=68.3]\n",
      "Epoch 422/500:   0%|                                                              | 0/56 [00:00<?, ?it/s<class 'dict'>]"
     ]
    },
    {
     "name": "stdout",
     "output_type": "stream",
     "text": [
      "Finish Validation\n",
      "Epoch:421/500\n",
      "Train Loss: 33.4655 || Val Loss: 64.5489 \n"
     ]
    },
    {
     "name": "stderr",
     "output_type": "stream",
     "text": [
      "Epoch 422/500: 100%|█████████████████████████| 56/56 [00:21<00:00,  2.56it/s, lr=8.1e-5, step/s=0.245, total_loss=32.7]\n",
      "Epoch 422/500:   0%|                                                           | 0/17 [00:00<?, ?it/s, total_loss=71.8]"
     ]
    },
    {
     "name": "stdout",
     "output_type": "stream",
     "text": [
      "Start Validation\n"
     ]
    },
    {
     "name": "stderr",
     "output_type": "stream",
     "text": [
      "Epoch 422/500: 100%|██████████████████████████████████████████████████| 17/17 [00:02<00:00,  7.05it/s, total_loss=68.6]\n",
      "Epoch 423/500:   0%|                                                              | 0/56 [00:00<?, ?it/s<class 'dict'>]"
     ]
    },
    {
     "name": "stdout",
     "output_type": "stream",
     "text": [
      "Finish Validation\n",
      "Epoch:422/500\n",
      "Train Loss: 32.1344 || Val Loss: 64.7863 \n"
     ]
    },
    {
     "name": "stderr",
     "output_type": "stream",
     "text": [
      "Epoch 423/500: 100%|█████████████████████████| 56/56 [00:22<00:00,  2.54it/s, lr=8.02e-5, step/s=0.24, total_loss=32.7]\n",
      "Epoch 423/500:   0%|                                                             | 0/17 [00:00<?, ?it/s, total_loss=47]"
     ]
    },
    {
     "name": "stdout",
     "output_type": "stream",
     "text": [
      "Start Validation\n"
     ]
    },
    {
     "name": "stderr",
     "output_type": "stream",
     "text": [
      "Epoch 423/500: 100%|████████████████████████████████████████████████████| 17/17 [00:02<00:00,  6.99it/s, total_loss=67]\n",
      "Epoch 424/500:   0%|                                                              | 0/56 [00:00<?, ?it/s<class 'dict'>]"
     ]
    },
    {
     "name": "stdout",
     "output_type": "stream",
     "text": [
      "Finish Validation\n",
      "Epoch:423/500\n",
      "Train Loss: 32.1058 || Val Loss: 63.2402 \n"
     ]
    },
    {
     "name": "stderr",
     "output_type": "stream",
     "text": [
      "Epoch 424/500: 100%|████████████████████████| 56/56 [00:21<00:00,  2.55it/s, lr=7.94e-5, step/s=0.243, total_loss=33.1]\n",
      "Epoch 424/500:   0%|                                                           | 0/17 [00:00<?, ?it/s, total_loss=62.5]"
     ]
    },
    {
     "name": "stdout",
     "output_type": "stream",
     "text": [
      "Start Validation\n"
     ]
    },
    {
     "name": "stderr",
     "output_type": "stream",
     "text": [
      "Epoch 424/500: 100%|████████████████████████████████████████████████████| 17/17 [00:02<00:00,  6.95it/s, total_loss=67]\n",
      "Epoch 425/500:   0%|                                                              | 0/56 [00:00<?, ?it/s<class 'dict'>]"
     ]
    },
    {
     "name": "stdout",
     "output_type": "stream",
     "text": [
      "Finish Validation\n",
      "Epoch:424/500\n",
      "Train Loss: 32.4839 || Val Loss: 63.2355 \n"
     ]
    },
    {
     "name": "stderr",
     "output_type": "stream",
     "text": [
      "Epoch 425/500: 100%|█████████████████████████| 56/56 [00:21<00:00,  2.55it/s, lr=7.86e-5, step/s=0.25, total_loss=34.3]\n",
      "Epoch 425/500:   0%|                                                           | 0/17 [00:00<?, ?it/s, total_loss=57.3]"
     ]
    },
    {
     "name": "stdout",
     "output_type": "stream",
     "text": [
      "Start Validation\n"
     ]
    },
    {
     "name": "stderr",
     "output_type": "stream",
     "text": [
      "Epoch 425/500: 100%|██████████████████████████████████████████████████| 17/17 [00:02<00:00,  6.75it/s, total_loss=68.1]\n",
      "Epoch 426/500:   0%|                                                              | 0/56 [00:00<?, ?it/s<class 'dict'>]"
     ]
    },
    {
     "name": "stdout",
     "output_type": "stream",
     "text": [
      "Finish Validation\n",
      "Epoch:425/500\n",
      "Train Loss: 33.6616 || Val Loss: 64.3366 \n"
     ]
    },
    {
     "name": "stderr",
     "output_type": "stream",
     "text": [
      "Epoch 426/500: 100%|████████████████████████| 56/56 [00:22<00:00,  2.54it/s, lr=7.78e-5, step/s=0.256, total_loss=30.1]\n",
      "Epoch 426/500:   0%|                                                            | 0/17 [00:00<?, ?it/s, total_loss=132]"
     ]
    },
    {
     "name": "stdout",
     "output_type": "stream",
     "text": [
      "Start Validation\n"
     ]
    },
    {
     "name": "stderr",
     "output_type": "stream",
     "text": [
      "Epoch 426/500: 100%|██████████████████████████████████████████████████| 17/17 [00:02<00:00,  6.96it/s, total_loss=75.8]\n",
      "Epoch 427/500:   0%|                                                              | 0/56 [00:00<?, ?it/s<class 'dict'>]"
     ]
    },
    {
     "name": "stdout",
     "output_type": "stream",
     "text": [
      "Finish Validation\n",
      "Epoch:426/500\n",
      "Train Loss: 29.5769 || Val Loss: 71.5546 \n"
     ]
    },
    {
     "name": "stderr",
     "output_type": "stream",
     "text": [
      "Epoch 427/500: 100%|██████████████████████████| 56/56 [00:21<00:00,  2.55it/s, lr=7.7e-5, step/s=0.24, total_loss=33.5]\n",
      "Epoch 427/500:   0%|                                                            | 0/17 [00:00<?, ?it/s, total_loss=119]"
     ]
    },
    {
     "name": "stdout",
     "output_type": "stream",
     "text": [
      "Start Validation\n"
     ]
    },
    {
     "name": "stderr",
     "output_type": "stream",
     "text": [
      "Epoch 427/500: 100%|██████████████████████████████████████████████████| 17/17 [00:02<00:00,  6.96it/s, total_loss=68.6]\n",
      "Epoch 428/500:   0%|                                                              | 0/56 [00:00<?, ?it/s<class 'dict'>]"
     ]
    },
    {
     "name": "stdout",
     "output_type": "stream",
     "text": [
      "Finish Validation\n",
      "Epoch:427/500\n",
      "Train Loss: 32.9614 || Val Loss: 64.8238 \n"
     ]
    },
    {
     "name": "stderr",
     "output_type": "stream",
     "text": [
      "Epoch 428/500: 100%|████████████████████████| 56/56 [00:22<00:00,  2.54it/s, lr=7.62e-5, step/s=0.267, total_loss=31.7]\n",
      "Epoch 428/500:   0%|                                                           | 0/17 [00:00<?, ?it/s, total_loss=34.1]"
     ]
    },
    {
     "name": "stdout",
     "output_type": "stream",
     "text": [
      "Start Validation\n"
     ]
    },
    {
     "name": "stderr",
     "output_type": "stream",
     "text": [
      "Epoch 428/500: 100%|██████████████████████████████████████████████████| 17/17 [00:02<00:00,  6.82it/s, total_loss=70.6]\n",
      "Epoch 429/500:   0%|                                                              | 0/56 [00:00<?, ?it/s<class 'dict'>]"
     ]
    },
    {
     "name": "stdout",
     "output_type": "stream",
     "text": [
      "Finish Validation\n",
      "Epoch:428/500\n",
      "Train Loss: 31.1563 || Val Loss: 66.6691 \n"
     ]
    },
    {
     "name": "stderr",
     "output_type": "stream",
     "text": [
      "Epoch 429/500: 100%|████████████████████████| 56/56 [00:22<00:00,  2.52it/s, lr=7.55e-5, step/s=0.241, total_loss=34.4]\n",
      "Epoch 429/500:   0%|                                                           | 0/17 [00:00<?, ?it/s, total_loss=52.9]"
     ]
    },
    {
     "name": "stdout",
     "output_type": "stream",
     "text": [
      "Start Validation\n"
     ]
    },
    {
     "name": "stderr",
     "output_type": "stream",
     "text": [
      "Epoch 429/500: 100%|██████████████████████████████████████████████████| 17/17 [00:02<00:00,  7.08it/s, total_loss=70.5]\n",
      "Epoch 430/500:   0%|                                                              | 0/56 [00:00<?, ?it/s<class 'dict'>]"
     ]
    },
    {
     "name": "stdout",
     "output_type": "stream",
     "text": [
      "Finish Validation\n",
      "Epoch:429/500\n",
      "Train Loss: 33.8317 || Val Loss: 66.6263 \n"
     ]
    },
    {
     "name": "stderr",
     "output_type": "stream",
     "text": [
      "Epoch 430/500: 100%|████████████████████████| 56/56 [00:21<00:00,  2.55it/s, lr=7.47e-5, step/s=0.236, total_loss=28.5]\n",
      "Epoch 430/500:   0%|                                                           | 0/17 [00:00<?, ?it/s, total_loss=51.3]"
     ]
    },
    {
     "name": "stdout",
     "output_type": "stream",
     "text": [
      "Start Validation\n"
     ]
    },
    {
     "name": "stderr",
     "output_type": "stream",
     "text": [
      "Epoch 430/500: 100%|██████████████████████████████████████████████████| 17/17 [00:02<00:00,  7.06it/s, total_loss=62.8]\n",
      "Epoch 431/500:   0%|                                                              | 0/56 [00:00<?, ?it/s<class 'dict'>]"
     ]
    },
    {
     "name": "stdout",
     "output_type": "stream",
     "text": [
      "Finish Validation\n",
      "Epoch:430/500\n",
      "Train Loss: 28.0137 || Val Loss: 59.3082 \n"
     ]
    },
    {
     "name": "stderr",
     "output_type": "stream",
     "text": [
      "Epoch 431/500: 100%|█████████████████████████| 56/56 [00:21<00:00,  2.57it/s, lr=7.4e-5, step/s=0.235, total_loss=29.1]\n",
      "Epoch 431/500:   0%|                                                           | 0/17 [00:00<?, ?it/s, total_loss=47.2]"
     ]
    },
    {
     "name": "stdout",
     "output_type": "stream",
     "text": [
      "Start Validation\n"
     ]
    },
    {
     "name": "stderr",
     "output_type": "stream",
     "text": [
      "Epoch 431/500: 100%|██████████████████████████████████████████████████| 17/17 [00:02<00:00,  6.82it/s, total_loss=74.3]\n",
      "Epoch 432/500:   0%|                                                              | 0/56 [00:00<?, ?it/s<class 'dict'>]"
     ]
    },
    {
     "name": "stdout",
     "output_type": "stream",
     "text": [
      "Finish Validation\n",
      "Epoch:431/500\n",
      "Train Loss: 28.5679 || Val Loss: 70.2043 \n"
     ]
    },
    {
     "name": "stderr",
     "output_type": "stream",
     "text": [
      "Epoch 432/500: 100%|████████████████████████| 56/56 [00:21<00:00,  2.56it/s, lr=7.32e-5, step/s=0.249, total_loss=29.9]\n",
      "Epoch 432/500:   0%|                                                           | 0/17 [00:00<?, ?it/s, total_loss=60.1]"
     ]
    },
    {
     "name": "stdout",
     "output_type": "stream",
     "text": [
      "Start Validation\n"
     ]
    },
    {
     "name": "stderr",
     "output_type": "stream",
     "text": [
      "Epoch 432/500: 100%|██████████████████████████████████████████████████| 17/17 [00:02<00:00,  6.87it/s, total_loss=71.5]\n",
      "Epoch 433/500:   0%|                                                              | 0/56 [00:00<?, ?it/s<class 'dict'>]"
     ]
    },
    {
     "name": "stdout",
     "output_type": "stream",
     "text": [
      "Finish Validation\n",
      "Epoch:432/500\n",
      "Train Loss: 29.4195 || Val Loss: 67.5419 \n"
     ]
    },
    {
     "name": "stderr",
     "output_type": "stream",
     "text": [
      "Epoch 433/500: 100%|█████████████████████████| 56/56 [00:22<00:00,  2.55it/s, lr=7.25e-5, step/s=0.23, total_loss=32.9]\n",
      "Epoch 433/500:   0%|                                                           | 0/17 [00:00<?, ?it/s, total_loss=50.8]"
     ]
    },
    {
     "name": "stdout",
     "output_type": "stream",
     "text": [
      "Start Validation\n"
     ]
    },
    {
     "name": "stderr",
     "output_type": "stream",
     "text": [
      "Epoch 433/500: 100%|██████████████████████████████████████████████████| 17/17 [00:02<00:00,  6.88it/s, total_loss=76.6]\n",
      "Epoch 434/500:   0%|                                                              | 0/56 [00:00<?, ?it/s<class 'dict'>]"
     ]
    },
    {
     "name": "stdout",
     "output_type": "stream",
     "text": [
      "Finish Validation\n",
      "Epoch:433/500\n",
      "Train Loss: 32.3328 || Val Loss: 72.3182 \n"
     ]
    },
    {
     "name": "stderr",
     "output_type": "stream",
     "text": [
      "Epoch 434/500: 100%|████████████████████████| 56/56 [00:21<00:00,  2.55it/s, lr=7.18e-5, step/s=0.252, total_loss=29.6]\n",
      "Epoch 434/500:   0%|                                                           | 0/17 [00:00<?, ?it/s, total_loss=79.9]"
     ]
    },
    {
     "name": "stdout",
     "output_type": "stream",
     "text": [
      "Start Validation\n"
     ]
    },
    {
     "name": "stderr",
     "output_type": "stream",
     "text": [
      "Epoch 434/500: 100%|██████████████████████████████████████████████████| 17/17 [00:02<00:00,  7.09it/s, total_loss=71.3]\n",
      "Epoch 435/500:   0%|                                                              | 0/56 [00:00<?, ?it/s<class 'dict'>]"
     ]
    },
    {
     "name": "stdout",
     "output_type": "stream",
     "text": [
      "Finish Validation\n",
      "Epoch:434/500\n",
      "Train Loss: 29.1103 || Val Loss: 67.3607 \n"
     ]
    },
    {
     "name": "stderr",
     "output_type": "stream",
     "text": [
      "Epoch 435/500: 100%|████████████████████████| 56/56 [00:22<00:00,  2.54it/s, lr=7.11e-5, step/s=0.256, total_loss=32.8]\n",
      "Epoch 435/500:   0%|                                                            | 0/17 [00:00<?, ?it/s, total_loss=148]"
     ]
    },
    {
     "name": "stdout",
     "output_type": "stream",
     "text": [
      "Start Validation\n"
     ]
    },
    {
     "name": "stderr",
     "output_type": "stream",
     "text": [
      "Epoch 435/500: 100%|████████████████████████████████████████████████████| 17/17 [00:02<00:00,  6.95it/s, total_loss=77]\n",
      "Epoch 436/500:   0%|                                                              | 0/56 [00:00<?, ?it/s<class 'dict'>]"
     ]
    },
    {
     "name": "stdout",
     "output_type": "stream",
     "text": [
      "Finish Validation\n",
      "Epoch:435/500\n",
      "Train Loss: 32.2356 || Val Loss: 72.7098 \n"
     ]
    },
    {
     "name": "stderr",
     "output_type": "stream",
     "text": [
      "Epoch 436/500: 100%|████████████████████████| 56/56 [00:21<00:00,  2.56it/s, lr=7.03e-5, step/s=0.241, total_loss=29.5]\n",
      "Epoch 436/500:   0%|                                                           | 0/17 [00:00<?, ?it/s, total_loss=47.2]"
     ]
    },
    {
     "name": "stdout",
     "output_type": "stream",
     "text": [
      "Start Validation\n"
     ]
    },
    {
     "name": "stderr",
     "output_type": "stream",
     "text": [
      "Epoch 436/500: 100%|████████████████████████████████████████████████████| 17/17 [00:02<00:00,  6.96it/s, total_loss=72]\n",
      "Epoch 437/500:   0%|                                                              | 0/56 [00:00<?, ?it/s<class 'dict'>]"
     ]
    },
    {
     "name": "stdout",
     "output_type": "stream",
     "text": [
      "Finish Validation\n",
      "Epoch:436/500\n",
      "Train Loss: 28.9855 || Val Loss: 68.0358 \n"
     ]
    },
    {
     "name": "stderr",
     "output_type": "stream",
     "text": [
      "Epoch 437/500: 100%|████████████████████████| 56/56 [00:21<00:00,  2.56it/s, lr=6.96e-5, step/s=0.242, total_loss=31.7]\n",
      "Epoch 437/500:   0%|                                                            | 0/17 [00:00<?, ?it/s, total_loss=128]"
     ]
    },
    {
     "name": "stdout",
     "output_type": "stream",
     "text": [
      "Start Validation\n"
     ]
    },
    {
     "name": "stderr",
     "output_type": "stream",
     "text": [
      "Epoch 437/500: 100%|██████████████████████████████████████████████████| 17/17 [00:02<00:00,  7.00it/s, total_loss=63.9]\n",
      "Epoch 438/500:   0%|                                                              | 0/56 [00:00<?, ?it/s<class 'dict'>]"
     ]
    },
    {
     "name": "stdout",
     "output_type": "stream",
     "text": [
      "Finish Validation\n",
      "Epoch:437/500\n",
      "Train Loss: 31.1882 || Val Loss: 60.3960 \n"
     ]
    },
    {
     "name": "stderr",
     "output_type": "stream",
     "text": [
      "Epoch 438/500: 100%|████████████████████████| 56/56 [00:21<00:00,  2.55it/s, lr=6.89e-5, step/s=0.268, total_loss=29.6]\n",
      "Epoch 438/500:   0%|                                                           | 0/17 [00:00<?, ?it/s, total_loss=64.6]"
     ]
    },
    {
     "name": "stdout",
     "output_type": "stream",
     "text": [
      "Start Validation\n"
     ]
    },
    {
     "name": "stderr",
     "output_type": "stream",
     "text": [
      "Epoch 438/500: 100%|██████████████████████████████████████████████████| 17/17 [00:02<00:00,  6.94it/s, total_loss=68.1]\n",
      "Epoch 439/500:   0%|                                                              | 0/56 [00:00<?, ?it/s<class 'dict'>]"
     ]
    },
    {
     "name": "stdout",
     "output_type": "stream",
     "text": [
      "Finish Validation\n",
      "Epoch:438/500\n",
      "Train Loss: 29.0804 || Val Loss: 64.3072 \n"
     ]
    },
    {
     "name": "stderr",
     "output_type": "stream",
     "text": [
      "Epoch 439/500: 100%|████████████████████████| 56/56 [00:21<00:00,  2.55it/s, lr=6.83e-5, step/s=0.244, total_loss=29.4]\n",
      "Epoch 439/500:   0%|                                                           | 0/17 [00:00<?, ?it/s, total_loss=67.5]"
     ]
    },
    {
     "name": "stdout",
     "output_type": "stream",
     "text": [
      "Start Validation\n"
     ]
    },
    {
     "name": "stderr",
     "output_type": "stream",
     "text": [
      "Epoch 439/500: 100%|██████████████████████████████████████████████████| 17/17 [00:02<00:00,  6.95it/s, total_loss=67.7]\n",
      "Epoch 440/500:   0%|                                                              | 0/56 [00:00<?, ?it/s<class 'dict'>]"
     ]
    },
    {
     "name": "stdout",
     "output_type": "stream",
     "text": [
      "Finish Validation\n",
      "Epoch:439/500\n",
      "Train Loss: 28.9065 || Val Loss: 63.9055 \n"
     ]
    },
    {
     "name": "stderr",
     "output_type": "stream",
     "text": [
      "Epoch 440/500: 100%|████████████████████████| 56/56 [00:21<00:00,  2.55it/s, lr=6.76e-5, step/s=0.252, total_loss=27.8]\n",
      "Epoch 440/500:   0%|                                                           | 0/17 [00:00<?, ?it/s, total_loss=41.2]"
     ]
    },
    {
     "name": "stdout",
     "output_type": "stream",
     "text": [
      "Start Validation\n"
     ]
    },
    {
     "name": "stderr",
     "output_type": "stream",
     "text": [
      "Epoch 440/500: 100%|████████████████████████████████████████████████████| 17/17 [00:02<00:00,  7.05it/s, total_loss=65]\n",
      "Epoch 441/500:   0%|                                                              | 0/56 [00:00<?, ?it/s<class 'dict'>]"
     ]
    },
    {
     "name": "stdout",
     "output_type": "stream",
     "text": [
      "Finish Validation\n",
      "Epoch:440/500\n",
      "Train Loss: 27.3230 || Val Loss: 61.3680 \n"
     ]
    },
    {
     "name": "stderr",
     "output_type": "stream",
     "text": [
      "Epoch 441/500: 100%|█████████████████████████| 56/56 [00:21<00:00,  2.55it/s, lr=6.69e-5, step/s=0.24, total_loss=30.4]\n",
      "Epoch 441/500:   0%|                                                            | 0/17 [00:00<?, ?it/s, total_loss=153]"
     ]
    },
    {
     "name": "stdout",
     "output_type": "stream",
     "text": [
      "Start Validation\n"
     ]
    },
    {
     "name": "stderr",
     "output_type": "stream",
     "text": [
      "Epoch 441/500: 100%|██████████████████████████████████████████████████| 17/17 [00:02<00:00,  6.83it/s, total_loss=71.7]\n",
      "Epoch 442/500:   0%|                                                              | 0/56 [00:00<?, ?it/s<class 'dict'>]"
     ]
    },
    {
     "name": "stdout",
     "output_type": "stream",
     "text": [
      "Finish Validation\n",
      "Epoch:441/500\n",
      "Train Loss: 29.8819 || Val Loss: 67.7639 \n"
     ]
    },
    {
     "name": "stderr",
     "output_type": "stream",
     "text": [
      "Epoch 442/500: 100%|████████████████████████| 56/56 [00:21<00:00,  2.56it/s, lr=6.62e-5, step/s=0.256, total_loss=30.3]\n",
      "Epoch 442/500:   0%|                                                           | 0/17 [00:00<?, ?it/s, total_loss=68.4]"
     ]
    },
    {
     "name": "stdout",
     "output_type": "stream",
     "text": [
      "Start Validation\n"
     ]
    },
    {
     "name": "stderr",
     "output_type": "stream",
     "text": [
      "Epoch 442/500: 100%|██████████████████████████████████████████████████| 17/17 [00:02<00:00,  6.82it/s, total_loss=76.3]\n",
      "Epoch 443/500:   0%|                                                              | 0/56 [00:00<?, ?it/s<class 'dict'>]"
     ]
    },
    {
     "name": "stdout",
     "output_type": "stream",
     "text": [
      "Finish Validation\n",
      "Epoch:442/500\n",
      "Train Loss: 29.7992 || Val Loss: 72.0595 \n"
     ]
    },
    {
     "name": "stderr",
     "output_type": "stream",
     "text": [
      "Epoch 443/500: 100%|████████████████████████| 56/56 [00:21<00:00,  2.55it/s, lr=6.56e-5, step/s=0.259, total_loss=28.9]\n",
      "Epoch 443/500:   0%|                                                           | 0/17 [00:00<?, ?it/s, total_loss=64.6]"
     ]
    },
    {
     "name": "stdout",
     "output_type": "stream",
     "text": [
      "Start Validation\n"
     ]
    },
    {
     "name": "stderr",
     "output_type": "stream",
     "text": [
      "Epoch 443/500: 100%|██████████████████████████████████████████████████| 17/17 [00:02<00:00,  7.05it/s, total_loss=70.2]\n",
      "Epoch 444/500:   0%|                                                              | 0/56 [00:00<?, ?it/s<class 'dict'>]"
     ]
    },
    {
     "name": "stdout",
     "output_type": "stream",
     "text": [
      "Finish Validation\n",
      "Epoch:443/500\n",
      "Train Loss: 28.3955 || Val Loss: 66.3054 \n"
     ]
    },
    {
     "name": "stderr",
     "output_type": "stream",
     "text": [
      "Epoch 444/500: 100%|████████████████████████| 56/56 [00:21<00:00,  2.56it/s, lr=6.49e-5, step/s=0.268, total_loss=30.9]\n",
      "Epoch 444/500:   0%|                                                           | 0/17 [00:00<?, ?it/s, total_loss=57.1]"
     ]
    },
    {
     "name": "stdout",
     "output_type": "stream",
     "text": [
      "Start Validation\n"
     ]
    },
    {
     "name": "stderr",
     "output_type": "stream",
     "text": [
      "Epoch 444/500: 100%|██████████████████████████████████████████████████| 17/17 [00:02<00:00,  6.98it/s, total_loss=66.1]\n",
      "Epoch 445/500:   0%|                                                              | 0/56 [00:00<?, ?it/s<class 'dict'>]"
     ]
    },
    {
     "name": "stdout",
     "output_type": "stream",
     "text": [
      "Finish Validation\n",
      "Epoch:444/500\n",
      "Train Loss: 30.3871 || Val Loss: 62.4674 \n"
     ]
    },
    {
     "name": "stderr",
     "output_type": "stream",
     "text": [
      "Epoch 445/500: 100%|████████████████████████| 56/56 [00:21<00:00,  2.55it/s, lr=6.43e-5, step/s=0.222, total_loss=30.4]\n",
      "Epoch 445/500:   0%|                                                           | 0/17 [00:00<?, ?it/s, total_loss=58.9]"
     ]
    },
    {
     "name": "stdout",
     "output_type": "stream",
     "text": [
      "Start Validation\n"
     ]
    },
    {
     "name": "stderr",
     "output_type": "stream",
     "text": [
      "Epoch 445/500: 100%|██████████████████████████████████████████████████| 17/17 [00:02<00:00,  7.07it/s, total_loss=74.1]\n",
      "Epoch 446/500:   0%|                                                              | 0/56 [00:00<?, ?it/s<class 'dict'>]"
     ]
    },
    {
     "name": "stdout",
     "output_type": "stream",
     "text": [
      "Finish Validation\n",
      "Epoch:445/500\n",
      "Train Loss: 29.9101 || Val Loss: 69.9887 \n"
     ]
    },
    {
     "name": "stderr",
     "output_type": "stream",
     "text": [
      "Epoch 446/500: 100%|████████████████████████| 56/56 [00:21<00:00,  2.56it/s, lr=6.36e-5, step/s=0.235, total_loss=29.3]\n",
      "Epoch 446/500:   0%|                                                           | 0/17 [00:00<?, ?it/s, total_loss=92.7]"
     ]
    },
    {
     "name": "stdout",
     "output_type": "stream",
     "text": [
      "Start Validation\n"
     ]
    },
    {
     "name": "stderr",
     "output_type": "stream",
     "text": [
      "Epoch 446/500: 100%|██████████████████████████████████████████████████| 17/17 [00:02<00:00,  6.78it/s, total_loss=75.7]\n",
      "Epoch 447/500:   0%|                                                              | 0/56 [00:00<?, ?it/s<class 'dict'>]"
     ]
    },
    {
     "name": "stdout",
     "output_type": "stream",
     "text": [
      "Finish Validation\n",
      "Epoch:446/500\n",
      "Train Loss: 28.7858 || Val Loss: 71.4721 \n"
     ]
    },
    {
     "name": "stderr",
     "output_type": "stream",
     "text": [
      "Epoch 447/500: 100%|█████████████████████████| 56/56 [00:21<00:00,  2.56it/s, lr=6.3e-5, step/s=0.235, total_loss=30.6]\n",
      "Epoch 447/500:   0%|                                                             | 0/17 [00:00<?, ?it/s, total_loss=48]"
     ]
    },
    {
     "name": "stdout",
     "output_type": "stream",
     "text": [
      "Start Validation\n"
     ]
    },
    {
     "name": "stderr",
     "output_type": "stream",
     "text": [
      "Epoch 447/500: 100%|██████████████████████████████████████████████████| 17/17 [00:02<00:00,  6.80it/s, total_loss=75.3]\n",
      "Epoch 448/500:   0%|                                                              | 0/56 [00:00<?, ?it/s<class 'dict'>]"
     ]
    },
    {
     "name": "stdout",
     "output_type": "stream",
     "text": [
      "Finish Validation\n",
      "Epoch:447/500\n",
      "Train Loss: 30.0683 || Val Loss: 71.0910 \n"
     ]
    },
    {
     "name": "stderr",
     "output_type": "stream",
     "text": [
      "Epoch 448/500: 100%|████████████████████████| 56/56 [00:21<00:00,  2.56it/s, lr=6.24e-5, step/s=0.231, total_loss=30.5]\n",
      "Epoch 448/500:   0%|                                                            | 0/17 [00:00<?, ?it/s, total_loss=128]"
     ]
    },
    {
     "name": "stdout",
     "output_type": "stream",
     "text": [
      "Start Validation\n"
     ]
    },
    {
     "name": "stderr",
     "output_type": "stream",
     "text": [
      "Epoch 448/500: 100%|████████████████████████████████████████████████████| 17/17 [00:02<00:00,  6.94it/s, total_loss=71]\n",
      "Epoch 449/500:   0%|                                                              | 0/56 [00:00<?, ?it/s<class 'dict'>]"
     ]
    },
    {
     "name": "stdout",
     "output_type": "stream",
     "text": [
      "Finish Validation\n",
      "Epoch:448/500\n",
      "Train Loss: 29.9422 || Val Loss: 67.0187 \n"
     ]
    },
    {
     "name": "stderr",
     "output_type": "stream",
     "text": [
      "Epoch 449/500: 100%|██████████████████████████| 56/56 [00:21<00:00,  2.56it/s, lr=6.17e-5, step/s=0.242, total_loss=30]\n",
      "Epoch 449/500:   0%|                                                           | 0/17 [00:00<?, ?it/s, total_loss=78.4]"
     ]
    },
    {
     "name": "stdout",
     "output_type": "stream",
     "text": [
      "Start Validation\n"
     ]
    },
    {
     "name": "stderr",
     "output_type": "stream",
     "text": [
      "Epoch 449/500: 100%|██████████████████████████████████████████████████| 17/17 [00:02<00:00,  6.96it/s, total_loss=75.4]\n",
      "Epoch 450/500:   0%|                                                              | 0/56 [00:00<?, ?it/s<class 'dict'>]"
     ]
    },
    {
     "name": "stdout",
     "output_type": "stream",
     "text": [
      "Finish Validation\n",
      "Epoch:449/500\n",
      "Train Loss: 29.4526 || Val Loss: 71.2110 \n"
     ]
    },
    {
     "name": "stderr",
     "output_type": "stream",
     "text": [
      "Epoch 450/500: 100%|████████████████████████| 56/56 [00:21<00:00,  2.55it/s, lr=6.11e-5, step/s=0.233, total_loss=28.7]\n",
      "Epoch 450/500:   0%|                                                           | 0/17 [00:00<?, ?it/s, total_loss=76.3]"
     ]
    },
    {
     "name": "stdout",
     "output_type": "stream",
     "text": [
      "Start Validation\n"
     ]
    },
    {
     "name": "stderr",
     "output_type": "stream",
     "text": [
      "Epoch 450/500: 100%|██████████████████████████████████████████████████| 17/17 [00:02<00:00,  6.80it/s, total_loss=64.4]\n",
      "Epoch 451/500:   0%|                                                              | 0/56 [00:00<?, ?it/s<class 'dict'>]"
     ]
    },
    {
     "name": "stdout",
     "output_type": "stream",
     "text": [
      "Finish Validation\n",
      "Epoch:450/500\n",
      "Train Loss: 28.1756 || Val Loss: 60.7855 \n"
     ]
    },
    {
     "name": "stderr",
     "output_type": "stream",
     "text": [
      "Epoch 451/500: 100%|████████████████████████| 56/56 [00:21<00:00,  2.55it/s, lr=6.05e-5, step/s=0.237, total_loss=28.2]\n",
      "Epoch 451/500:   0%|                                                           | 0/17 [00:00<?, ?it/s, total_loss=53.5]"
     ]
    },
    {
     "name": "stdout",
     "output_type": "stream",
     "text": [
      "Start Validation\n"
     ]
    },
    {
     "name": "stderr",
     "output_type": "stream",
     "text": [
      "Epoch 451/500: 100%|██████████████████████████████████████████████████| 17/17 [00:02<00:00,  7.05it/s, total_loss=85.2]\n",
      "Epoch 452/500:   0%|                                                              | 0/56 [00:00<?, ?it/s<class 'dict'>]"
     ]
    },
    {
     "name": "stdout",
     "output_type": "stream",
     "text": [
      "Finish Validation\n",
      "Epoch:451/500\n",
      "Train Loss: 27.6987 || Val Loss: 80.4302 \n"
     ]
    },
    {
     "name": "stderr",
     "output_type": "stream",
     "text": [
      "Epoch 452/500: 100%|███████████████████████████| 56/56 [00:22<00:00,  2.54it/s, lr=5.99e-5, step/s=0.22, total_loss=27]\n",
      "Epoch 452/500:   0%|                                                            | 0/17 [00:00<?, ?it/s, total_loss=127]"
     ]
    },
    {
     "name": "stdout",
     "output_type": "stream",
     "text": [
      "Start Validation\n"
     ]
    },
    {
     "name": "stderr",
     "output_type": "stream",
     "text": [
      "Epoch 452/500: 100%|██████████████████████████████████████████████████| 17/17 [00:02<00:00,  6.95it/s, total_loss=75.4]\n",
      "Epoch 453/500:   0%|                                                              | 0/56 [00:00<?, ?it/s<class 'dict'>]"
     ]
    },
    {
     "name": "stdout",
     "output_type": "stream",
     "text": [
      "Finish Validation\n",
      "Epoch:452/500\n",
      "Train Loss: 26.5704 || Val Loss: 71.2097 \n"
     ]
    },
    {
     "name": "stderr",
     "output_type": "stream",
     "text": [
      "Epoch 453/500: 100%|████████████████████████| 56/56 [00:21<00:00,  2.55it/s, lr=5.93e-5, step/s=0.232, total_loss=29.6]\n",
      "Epoch 453/500:   0%|                                                           | 0/17 [00:00<?, ?it/s, total_loss=96.4]"
     ]
    },
    {
     "name": "stdout",
     "output_type": "stream",
     "text": [
      "Start Validation\n"
     ]
    },
    {
     "name": "stderr",
     "output_type": "stream",
     "text": [
      "Epoch 453/500: 100%|██████████████████████████████████████████████████| 17/17 [00:02<00:00,  7.10it/s, total_loss=77.3]\n",
      "Epoch 454/500:   0%|                                                              | 0/56 [00:00<?, ?it/s<class 'dict'>]"
     ]
    },
    {
     "name": "stdout",
     "output_type": "stream",
     "text": [
      "Finish Validation\n",
      "Epoch:453/500\n",
      "Train Loss: 29.0521 || Val Loss: 72.9754 \n"
     ]
    },
    {
     "name": "stderr",
     "output_type": "stream",
     "text": [
      "Epoch 454/500: 100%|████████████████████████| 56/56 [00:22<00:00,  2.54it/s, lr=5.87e-5, step/s=0.252, total_loss=27.5]\n",
      "Epoch 454/500:   0%|                                                           | 0/17 [00:00<?, ?it/s, total_loss=53.7]"
     ]
    },
    {
     "name": "stdout",
     "output_type": "stream",
     "text": [
      "Start Validation\n"
     ]
    },
    {
     "name": "stderr",
     "output_type": "stream",
     "text": [
      "Epoch 454/500: 100%|██████████████████████████████████████████████████| 17/17 [00:02<00:00,  7.07it/s, total_loss=73.3]\n",
      "Epoch 455/500:   0%|                                                              | 0/56 [00:00<?, ?it/s<class 'dict'>]"
     ]
    },
    {
     "name": "stdout",
     "output_type": "stream",
     "text": [
      "Finish Validation\n",
      "Epoch:454/500\n",
      "Train Loss: 27.0364 || Val Loss: 69.2654 \n"
     ]
    },
    {
     "name": "stderr",
     "output_type": "stream",
     "text": [
      "Epoch 455/500: 100%|████████████████████████| 56/56 [00:21<00:00,  2.57it/s, lr=5.81e-5, step/s=0.227, total_loss=29.9]\n",
      "Epoch 455/500:   0%|                                                           | 0/17 [00:00<?, ?it/s, total_loss=62.4]"
     ]
    },
    {
     "name": "stdout",
     "output_type": "stream",
     "text": [
      "Start Validation\n"
     ]
    },
    {
     "name": "stderr",
     "output_type": "stream",
     "text": [
      "Epoch 455/500: 100%|██████████████████████████████████████████████████| 17/17 [00:02<00:00,  7.05it/s, total_loss=75.3]\n",
      "Epoch 456/500:   0%|                                                              | 0/56 [00:00<?, ?it/s<class 'dict'>]"
     ]
    },
    {
     "name": "stdout",
     "output_type": "stream",
     "text": [
      "Finish Validation\n",
      "Epoch:455/500\n",
      "Train Loss: 29.3809 || Val Loss: 71.1290 \n"
     ]
    },
    {
     "name": "stderr",
     "output_type": "stream",
     "text": [
      "Epoch 456/500: 100%|████████████████████████| 56/56 [00:21<00:00,  2.55it/s, lr=5.75e-5, step/s=0.244, total_loss=31.2]\n",
      "Epoch 456/500:   0%|                                                           | 0/17 [00:00<?, ?it/s, total_loss=53.6]"
     ]
    },
    {
     "name": "stdout",
     "output_type": "stream",
     "text": [
      "Start Validation\n"
     ]
    },
    {
     "name": "stderr",
     "output_type": "stream",
     "text": [
      "Epoch 456/500: 100%|██████████████████████████████████████████████████| 17/17 [00:02<00:00,  6.92it/s, total_loss=70.7]\n",
      "Epoch 457/500:   0%|                                                              | 0/56 [00:00<?, ?it/s<class 'dict'>]"
     ]
    },
    {
     "name": "stdout",
     "output_type": "stream",
     "text": [
      "Finish Validation\n",
      "Epoch:456/500\n",
      "Train Loss: 30.6394 || Val Loss: 66.7499 \n"
     ]
    },
    {
     "name": "stderr",
     "output_type": "stream",
     "text": [
      "Epoch 457/500: 100%|█████████████████████████| 56/56 [00:21<00:00,  2.57it/s, lr=5.7e-5, step/s=0.235, total_loss=29.9]\n",
      "Epoch 457/500:   0%|                                                            | 0/17 [00:00<?, ?it/s, total_loss=151]"
     ]
    },
    {
     "name": "stdout",
     "output_type": "stream",
     "text": [
      "Start Validation\n"
     ]
    },
    {
     "name": "stderr",
     "output_type": "stream",
     "text": [
      "Epoch 457/500: 100%|██████████████████████████████████████████████████| 17/17 [00:02<00:00,  7.13it/s, total_loss=76.1]\n",
      "Epoch 458/500:   0%|                                                              | 0/56 [00:00<?, ?it/s<class 'dict'>]"
     ]
    },
    {
     "name": "stdout",
     "output_type": "stream",
     "text": [
      "Finish Validation\n",
      "Epoch:457/500\n",
      "Train Loss: 29.3489 || Val Loss: 71.9059 \n"
     ]
    },
    {
     "name": "stderr",
     "output_type": "stream",
     "text": [
      "Epoch 458/500: 100%|████████████████████████| 56/56 [00:21<00:00,  2.55it/s, lr=5.64e-5, step/s=0.268, total_loss=28.1]\n",
      "Epoch 458/500:   0%|                                                           | 0/17 [00:00<?, ?it/s, total_loss=72.4]"
     ]
    },
    {
     "name": "stdout",
     "output_type": "stream",
     "text": [
      "Start Validation\n"
     ]
    },
    {
     "name": "stderr",
     "output_type": "stream",
     "text": [
      "Epoch 458/500: 100%|██████████████████████████████████████████████████| 17/17 [00:02<00:00,  6.76it/s, total_loss=78.3]\n",
      "Epoch 459/500:   0%|                                                              | 0/56 [00:00<?, ?it/s<class 'dict'>]"
     ]
    },
    {
     "name": "stdout",
     "output_type": "stream",
     "text": [
      "Finish Validation\n",
      "Epoch:458/500\n",
      "Train Loss: 27.6173 || Val Loss: 73.9522 \n"
     ]
    },
    {
     "name": "stderr",
     "output_type": "stream",
     "text": [
      "Epoch 459/500: 100%|████████████████████████| 56/56 [00:21<00:00,  2.55it/s, lr=5.58e-5, step/s=0.236, total_loss=29.7]\n",
      "Epoch 459/500:   0%|                                                           | 0/17 [00:00<?, ?it/s, total_loss=55.9]"
     ]
    },
    {
     "name": "stdout",
     "output_type": "stream",
     "text": [
      "Start Validation\n"
     ]
    },
    {
     "name": "stderr",
     "output_type": "stream",
     "text": [
      "Epoch 459/500: 100%|██████████████████████████████████████████████████| 17/17 [00:02<00:00,  7.00it/s, total_loss=73.1]\n",
      "Epoch 460/500:   0%|                                                              | 0/56 [00:00<?, ?it/s<class 'dict'>]"
     ]
    },
    {
     "name": "stdout",
     "output_type": "stream",
     "text": [
      "Finish Validation\n",
      "Epoch:459/500\n",
      "Train Loss: 29.1663 || Val Loss: 69.0317 \n"
     ]
    },
    {
     "name": "stderr",
     "output_type": "stream",
     "text": [
      "Epoch 460/500: 100%|████████████████████████| 56/56 [00:21<00:00,  2.56it/s, lr=5.53e-5, step/s=0.225, total_loss=27.1]\n",
      "Epoch 460/500:   0%|                                                            | 0/17 [00:00<?, ?it/s, total_loss=142]"
     ]
    },
    {
     "name": "stdout",
     "output_type": "stream",
     "text": [
      "Start Validation\n"
     ]
    },
    {
     "name": "stderr",
     "output_type": "stream",
     "text": [
      "Epoch 460/500: 100%|██████████████████████████████████████████████████| 17/17 [00:02<00:00,  6.95it/s, total_loss=78.9]\n",
      "Epoch 461/500:   0%|                                                              | 0/56 [00:00<?, ?it/s<class 'dict'>]"
     ]
    },
    {
     "name": "stdout",
     "output_type": "stream",
     "text": [
      "Finish Validation\n",
      "Epoch:460/500\n",
      "Train Loss: 26.6331 || Val Loss: 74.4995 \n"
     ]
    },
    {
     "name": "stderr",
     "output_type": "stream",
     "text": [
      "Epoch 461/500: 100%|████████████████████████| 56/56 [00:22<00:00,  2.54it/s, lr=5.47e-5, step/s=0.251, total_loss=29.6]\n",
      "Epoch 461/500:   0%|                                                           | 0/17 [00:00<?, ?it/s, total_loss=42.9]"
     ]
    },
    {
     "name": "stdout",
     "output_type": "stream",
     "text": [
      "Start Validation\n"
     ]
    },
    {
     "name": "stderr",
     "output_type": "stream",
     "text": [
      "Epoch 461/500: 100%|██████████████████████████████████████████████████| 17/17 [00:02<00:00,  7.19it/s, total_loss=88.8]\n",
      "Epoch 462/500:   0%|                                                              | 0/56 [00:00<?, ?it/s<class 'dict'>]"
     ]
    },
    {
     "name": "stdout",
     "output_type": "stream",
     "text": [
      "Finish Validation\n",
      "Epoch:461/500\n",
      "Train Loss: 29.1120 || Val Loss: 83.8450 \n"
     ]
    },
    {
     "name": "stderr",
     "output_type": "stream",
     "text": [
      "Epoch 462/500: 100%|████████████████████████| 56/56 [00:22<00:00,  2.53it/s, lr=5.42e-5, step/s=0.249, total_loss=31.9]\n",
      "Epoch 462/500:   0%|                                                           | 0/17 [00:00<?, ?it/s, total_loss=46.9]"
     ]
    },
    {
     "name": "stdout",
     "output_type": "stream",
     "text": [
      "Start Validation\n"
     ]
    },
    {
     "name": "stderr",
     "output_type": "stream",
     "text": [
      "Epoch 462/500: 100%|██████████████████████████████████████████████████| 17/17 [00:02<00:00,  6.87it/s, total_loss=71.1]\n",
      "Epoch 463/500:   0%|                                                              | 0/56 [00:00<?, ?it/s<class 'dict'>]"
     ]
    },
    {
     "name": "stdout",
     "output_type": "stream",
     "text": [
      "Finish Validation\n",
      "Epoch:462/500\n",
      "Train Loss: 31.3104 || Val Loss: 67.1210 \n"
     ]
    },
    {
     "name": "stderr",
     "output_type": "stream",
     "text": [
      "Epoch 463/500: 100%|██████████████████████████| 56/56 [00:22<00:00,  2.50it/s, lr=5.36e-5, step/s=0.255, total_loss=30]\n",
      "Epoch 463/500:   0%|                                                           | 0/17 [00:00<?, ?it/s, total_loss=51.2]"
     ]
    },
    {
     "name": "stdout",
     "output_type": "stream",
     "text": [
      "Start Validation\n"
     ]
    },
    {
     "name": "stderr",
     "output_type": "stream",
     "text": [
      "Epoch 463/500: 100%|██████████████████████████████████████████████████| 17/17 [00:02<00:00,  6.86it/s, total_loss=66.1]\n",
      "Epoch 464/500:   0%|                                                              | 0/56 [00:00<?, ?it/s<class 'dict'>]"
     ]
    },
    {
     "name": "stdout",
     "output_type": "stream",
     "text": [
      "Finish Validation\n",
      "Epoch:463/500\n",
      "Train Loss: 29.4917 || Val Loss: 62.3924 \n"
     ]
    },
    {
     "name": "stderr",
     "output_type": "stream",
     "text": [
      "Epoch 464/500: 100%|████████████████████████| 56/56 [00:22<00:00,  2.52it/s, lr=5.31e-5, step/s=0.235, total_loss=29.2]\n",
      "Epoch 464/500:   0%|                                                           | 0/17 [00:00<?, ?it/s, total_loss=61.9]"
     ]
    },
    {
     "name": "stdout",
     "output_type": "stream",
     "text": [
      "Start Validation\n"
     ]
    },
    {
     "name": "stderr",
     "output_type": "stream",
     "text": [
      "Epoch 464/500: 100%|██████████████████████████████████████████████████| 17/17 [00:02<00:00,  6.79it/s, total_loss=79.9]\n",
      "Epoch 465/500:   0%|                                                              | 0/56 [00:00<?, ?it/s<class 'dict'>]"
     ]
    },
    {
     "name": "stdout",
     "output_type": "stream",
     "text": [
      "Finish Validation\n",
      "Epoch:464/500\n",
      "Train Loss: 28.7019 || Val Loss: 75.5046 \n"
     ]
    },
    {
     "name": "stderr",
     "output_type": "stream",
     "text": [
      "Epoch 465/500: 100%|████████████████████████| 56/56 [00:22<00:00,  2.54it/s, lr=5.26e-5, step/s=0.247, total_loss=27.9]\n",
      "Epoch 465/500:   0%|                                                           | 0/17 [00:00<?, ?it/s, total_loss=79.1]"
     ]
    },
    {
     "name": "stdout",
     "output_type": "stream",
     "text": [
      "Start Validation\n"
     ]
    },
    {
     "name": "stderr",
     "output_type": "stream",
     "text": [
      "Epoch 465/500: 100%|██████████████████████████████████████████████████| 17/17 [00:02<00:00,  6.71it/s, total_loss=69.2]\n",
      "Epoch 466/500:   0%|                                                              | 0/56 [00:00<?, ?it/s<class 'dict'>]"
     ]
    },
    {
     "name": "stdout",
     "output_type": "stream",
     "text": [
      "Finish Validation\n",
      "Epoch:465/500\n",
      "Train Loss: 27.4084 || Val Loss: 65.3914 \n"
     ]
    },
    {
     "name": "stderr",
     "output_type": "stream",
     "text": [
      "Epoch 466/500: 100%|█████████████████████████| 56/56 [00:21<00:00,  2.56it/s, lr=5.2e-5, step/s=0.261, total_loss=26.9]\n",
      "Epoch 466/500:   0%|                                                            | 0/17 [00:00<?, ?it/s, total_loss=153]"
     ]
    },
    {
     "name": "stdout",
     "output_type": "stream",
     "text": [
      "Start Validation\n"
     ]
    },
    {
     "name": "stderr",
     "output_type": "stream",
     "text": [
      "Epoch 466/500: 100%|██████████████████████████████████████████████████| 17/17 [00:02<00:00,  6.65it/s, total_loss=85.3]\n",
      "Epoch 467/500:   0%|                                                              | 0/56 [00:00<?, ?it/s<class 'dict'>]"
     ]
    },
    {
     "name": "stdout",
     "output_type": "stream",
     "text": [
      "Finish Validation\n",
      "Epoch:466/500\n",
      "Train Loss: 26.3967 || Val Loss: 80.5389 \n"
     ]
    },
    {
     "name": "stderr",
     "output_type": "stream",
     "text": [
      "Epoch 467/500: 100%|██████████████████████████| 56/56 [00:22<00:00,  2.53it/s, lr=5.15e-5, step/s=0.235, total_loss=29]\n",
      "Epoch 467/500:   0%|                                                           | 0/17 [00:00<?, ?it/s, total_loss=35.7]"
     ]
    },
    {
     "name": "stdout",
     "output_type": "stream",
     "text": [
      "Start Validation\n"
     ]
    },
    {
     "name": "stderr",
     "output_type": "stream",
     "text": [
      "Epoch 467/500: 100%|██████████████████████████████████████████████████| 17/17 [00:02<00:00,  6.95it/s, total_loss=72.3]\n",
      "Epoch 468/500:   0%|                                                              | 0/56 [00:00<?, ?it/s<class 'dict'>]"
     ]
    },
    {
     "name": "stdout",
     "output_type": "stream",
     "text": [
      "Finish Validation\n",
      "Epoch:467/500\n",
      "Train Loss: 28.5362 || Val Loss: 68.2498 \n"
     ]
    },
    {
     "name": "stderr",
     "output_type": "stream",
     "text": [
      "Epoch 468/500: 100%|█████████████████████████| 56/56 [00:22<00:00,  2.54it/s, lr=5.1e-5, step/s=0.227, total_loss=26.9]\n",
      "Epoch 468/500:   0%|                                                           | 0/17 [00:00<?, ?it/s, total_loss=92.5]"
     ]
    },
    {
     "name": "stdout",
     "output_type": "stream",
     "text": [
      "Start Validation\n"
     ]
    },
    {
     "name": "stderr",
     "output_type": "stream",
     "text": [
      "Epoch 468/500: 100%|██████████████████████████████████████████████████| 17/17 [00:02<00:00,  6.68it/s, total_loss=72.1]\n",
      "Epoch 469/500:   0%|                                                              | 0/56 [00:00<?, ?it/s<class 'dict'>]"
     ]
    },
    {
     "name": "stdout",
     "output_type": "stream",
     "text": [
      "Finish Validation\n",
      "Epoch:468/500\n",
      "Train Loss: 26.4289 || Val Loss: 68.0745 \n"
     ]
    },
    {
     "name": "stderr",
     "output_type": "stream",
     "text": [
      "Epoch 469/500: 100%|█████████████████████████| 56/56 [00:22<00:00,  2.52it/s, lr=5.05e-5, step/s=0.27, total_loss=27.7]\n",
      "Epoch 469/500:   0%|                                                           | 0/17 [00:00<?, ?it/s, total_loss=72.4]"
     ]
    },
    {
     "name": "stdout",
     "output_type": "stream",
     "text": [
      "Start Validation\n"
     ]
    },
    {
     "name": "stderr",
     "output_type": "stream",
     "text": [
      "Epoch 469/500: 100%|██████████████████████████████████████████████████| 17/17 [00:02<00:00,  6.69it/s, total_loss=69.3]\n",
      "Epoch 470/500:   0%|                                                              | 0/56 [00:00<?, ?it/s<class 'dict'>]"
     ]
    },
    {
     "name": "stdout",
     "output_type": "stream",
     "text": [
      "Finish Validation\n",
      "Epoch:469/500\n",
      "Train Loss: 27.2489 || Val Loss: 65.4767 \n"
     ]
    },
    {
     "name": "stderr",
     "output_type": "stream",
     "text": [
      "Epoch 470/500: 100%|████████████████████████████| 56/56 [00:22<00:00,  2.48it/s, lr=5e-5, step/s=0.24, total_loss=29.2]\n",
      "Epoch 470/500:   0%|                                                           | 0/17 [00:00<?, ?it/s, total_loss=43.2]"
     ]
    },
    {
     "name": "stdout",
     "output_type": "stream",
     "text": [
      "Start Validation\n"
     ]
    },
    {
     "name": "stderr",
     "output_type": "stream",
     "text": [
      "Epoch 470/500: 100%|██████████████████████████████████████████████████| 17/17 [00:02<00:00,  6.96it/s, total_loss=65.8]\n",
      "Epoch 471/500:   0%|                                                              | 0/56 [00:00<?, ?it/s<class 'dict'>]"
     ]
    },
    {
     "name": "stdout",
     "output_type": "stream",
     "text": [
      "Finish Validation\n",
      "Epoch:470/500\n",
      "Train Loss: 28.6425 || Val Loss: 62.1569 \n"
     ]
    },
    {
     "name": "stderr",
     "output_type": "stream",
     "text": [
      "Epoch 471/500: 100%|████████████████████████| 56/56 [00:22<00:00,  2.54it/s, lr=4.95e-5, step/s=0.268, total_loss=30.1]\n",
      "Epoch 471/500:   0%|                                                           | 0/17 [00:00<?, ?it/s, total_loss=48.8]"
     ]
    },
    {
     "name": "stdout",
     "output_type": "stream",
     "text": [
      "Start Validation\n"
     ]
    },
    {
     "name": "stderr",
     "output_type": "stream",
     "text": [
      "Epoch 471/500: 100%|██████████████████████████████████████████████████| 17/17 [00:02<00:00,  7.08it/s, total_loss=66.8]\n",
      "Epoch 472/500:   0%|                                                              | 0/56 [00:00<?, ?it/s<class 'dict'>]"
     ]
    },
    {
     "name": "stdout",
     "output_type": "stream",
     "text": [
      "Finish Validation\n",
      "Epoch:471/500\n",
      "Train Loss: 29.5692 || Val Loss: 63.0587 \n"
     ]
    },
    {
     "name": "stderr",
     "output_type": "stream",
     "text": [
      "Epoch 472/500: 100%|█████████████████████████| 56/56 [00:22<00:00,  2.50it/s, lr=4.9e-5, step/s=0.234, total_loss=28.3]\n",
      "Epoch 472/500:   0%|                                                           | 0/17 [00:00<?, ?it/s, total_loss=70.1]"
     ]
    },
    {
     "name": "stdout",
     "output_type": "stream",
     "text": [
      "Start Validation\n"
     ]
    },
    {
     "name": "stderr",
     "output_type": "stream",
     "text": [
      "Epoch 472/500: 100%|██████████████████████████████████████████████████| 17/17 [00:02<00:00,  6.84it/s, total_loss=74.1]\n",
      "Epoch 473/500:   0%|                                                              | 0/56 [00:00<?, ?it/s<class 'dict'>]"
     ]
    },
    {
     "name": "stdout",
     "output_type": "stream",
     "text": [
      "Finish Validation\n",
      "Epoch:472/500\n",
      "Train Loss: 27.7792 || Val Loss: 69.9489 \n"
     ]
    },
    {
     "name": "stderr",
     "output_type": "stream",
     "text": [
      "Epoch 473/500: 100%|██████████████████████████| 56/56 [00:22<00:00,  2.50it/s, lr=4.85e-5, step/s=0.236, total_loss=27]\n",
      "Epoch 473/500:   0%|                                                           | 0/17 [00:00<?, ?it/s, total_loss=92.4]"
     ]
    },
    {
     "name": "stdout",
     "output_type": "stream",
     "text": [
      "Start Validation\n"
     ]
    },
    {
     "name": "stderr",
     "output_type": "stream",
     "text": [
      "Epoch 473/500: 100%|██████████████████████████████████████████████████| 17/17 [00:02<00:00,  7.02it/s, total_loss=73.5]\n",
      "Epoch 474/500:   0%|                                                              | 0/56 [00:00<?, ?it/s<class 'dict'>]"
     ]
    },
    {
     "name": "stdout",
     "output_type": "stream",
     "text": [
      "Finish Validation\n",
      "Epoch:473/500\n",
      "Train Loss: 26.5307 || Val Loss: 69.4579 \n"
     ]
    },
    {
     "name": "stderr",
     "output_type": "stream",
     "text": [
      "Epoch 474/500: 100%|██████████████████████████| 56/56 [00:22<00:00,  2.53it/s, lr=4.8e-5, step/s=0.23, total_loss=30.7]\n",
      "Epoch 474/500:   0%|                                                            | 0/17 [00:00<?, ?it/s, total_loss=128]"
     ]
    },
    {
     "name": "stdout",
     "output_type": "stream",
     "text": [
      "Start Validation\n"
     ]
    },
    {
     "name": "stderr",
     "output_type": "stream",
     "text": [
      "Epoch 474/500: 100%|██████████████████████████████████████████████████| 17/17 [00:02<00:00,  6.93it/s, total_loss=70.2]\n",
      "Epoch 475/500:   0%|                                                              | 0/56 [00:00<?, ?it/s<class 'dict'>]"
     ]
    },
    {
     "name": "stdout",
     "output_type": "stream",
     "text": [
      "Finish Validation\n",
      "Epoch:474/500\n",
      "Train Loss: 30.1729 || Val Loss: 66.3116 \n"
     ]
    },
    {
     "name": "stderr",
     "output_type": "stream",
     "text": [
      "Epoch 475/500: 100%|████████████████████████| 56/56 [00:21<00:00,  2.55it/s, lr=4.75e-5, step/s=0.216, total_loss=25.7]\n",
      "Epoch 475/500:   0%|                                                           | 0/17 [00:00<?, ?it/s, total_loss=52.1]"
     ]
    },
    {
     "name": "stdout",
     "output_type": "stream",
     "text": [
      "Start Validation\n"
     ]
    },
    {
     "name": "stderr",
     "output_type": "stream",
     "text": [
      "Epoch 475/500: 100%|██████████████████████████████████████████████████| 17/17 [00:02<00:00,  6.51it/s, total_loss=63.3]\n",
      "Epoch 476/500:   0%|                                                              | 0/56 [00:00<?, ?it/s<class 'dict'>]"
     ]
    },
    {
     "name": "stdout",
     "output_type": "stream",
     "text": [
      "Finish Validation\n",
      "Epoch:475/500\n",
      "Train Loss: 25.2793 || Val Loss: 59.8097 \n"
     ]
    },
    {
     "name": "stderr",
     "output_type": "stream",
     "text": [
      "Epoch 476/500: 100%|█████████████████████████| 56/56 [00:22<00:00,  2.54it/s, lr=4.71e-5, step/s=0.25, total_loss=26.4]\n",
      "Epoch 476/500:   0%|                                                           | 0/17 [00:00<?, ?it/s, total_loss=45.7]"
     ]
    },
    {
     "name": "stdout",
     "output_type": "stream",
     "text": [
      "Start Validation\n"
     ]
    },
    {
     "name": "stderr",
     "output_type": "stream",
     "text": [
      "Epoch 476/500: 100%|██████████████████████████████████████████████████| 17/17 [00:02<00:00,  6.94it/s, total_loss=68.1]\n",
      "Epoch 477/500:   0%|                                                              | 0/56 [00:00<?, ?it/s<class 'dict'>]"
     ]
    },
    {
     "name": "stdout",
     "output_type": "stream",
     "text": [
      "Finish Validation\n",
      "Epoch:476/500\n",
      "Train Loss: 25.9194 || Val Loss: 64.3629 \n"
     ]
    },
    {
     "name": "stderr",
     "output_type": "stream",
     "text": [
      "Epoch 477/500: 100%|████████████████████████| 56/56 [00:22<00:00,  2.53it/s, lr=4.66e-5, step/s=0.242, total_loss=31.4]\n",
      "Epoch 477/500:   0%|                                                           | 0/17 [00:00<?, ?it/s, total_loss=81.3]"
     ]
    },
    {
     "name": "stdout",
     "output_type": "stream",
     "text": [
      "Start Validation\n"
     ]
    },
    {
     "name": "stderr",
     "output_type": "stream",
     "text": [
      "Epoch 477/500: 100%|██████████████████████████████████████████████████| 17/17 [00:02<00:00,  6.68it/s, total_loss=72.5]\n",
      "Epoch 478/500:   0%|                                                              | 0/56 [00:00<?, ?it/s<class 'dict'>]"
     ]
    },
    {
     "name": "stdout",
     "output_type": "stream",
     "text": [
      "Finish Validation\n",
      "Epoch:477/500\n",
      "Train Loss: 30.8295 || Val Loss: 68.4889 \n"
     ]
    },
    {
     "name": "stderr",
     "output_type": "stream",
     "text": [
      "Epoch 478/500: 100%|███████████████████████████| 56/56 [00:21<00:00,  2.55it/s, lr=4.61e-5, step/s=0.27, total_loss=28]\n",
      "Epoch 478/500:   0%|                                                            | 0/17 [00:00<?, ?it/s, total_loss=132]"
     ]
    },
    {
     "name": "stdout",
     "output_type": "stream",
     "text": [
      "Start Validation\n"
     ]
    },
    {
     "name": "stderr",
     "output_type": "stream",
     "text": [
      "Epoch 478/500: 100%|██████████████████████████████████████████████████| 17/17 [00:02<00:00,  7.01it/s, total_loss=78.4]\n",
      "Epoch 479/500:   0%|                                                              | 0/56 [00:00<?, ?it/s<class 'dict'>]"
     ]
    },
    {
     "name": "stdout",
     "output_type": "stream",
     "text": [
      "Finish Validation\n",
      "Epoch:478/500\n",
      "Train Loss: 27.5345 || Val Loss: 74.0496 \n"
     ]
    },
    {
     "name": "stderr",
     "output_type": "stream",
     "text": [
      "Epoch 479/500: 100%|████████████████████████| 56/56 [00:21<00:00,  2.55it/s, lr=4.57e-5, step/s=0.245, total_loss=29.3]\n",
      "Epoch 479/500:   0%|                                                             | 0/17 [00:00<?, ?it/s, total_loss=88]"
     ]
    },
    {
     "name": "stdout",
     "output_type": "stream",
     "text": [
      "Start Validation\n"
     ]
    },
    {
     "name": "stderr",
     "output_type": "stream",
     "text": [
      "Epoch 479/500: 100%|██████████████████████████████████████████████████| 17/17 [00:02<00:00,  6.98it/s, total_loss=74.9]\n",
      "Epoch 480/500:   0%|                                                              | 0/56 [00:00<?, ?it/s<class 'dict'>]"
     ]
    },
    {
     "name": "stdout",
     "output_type": "stream",
     "text": [
      "Finish Validation\n",
      "Epoch:479/500\n",
      "Train Loss: 28.7436 || Val Loss: 70.7152 \n"
     ]
    },
    {
     "name": "stderr",
     "output_type": "stream",
     "text": [
      "Epoch 480/500: 100%|██████████████████████████| 56/56 [00:21<00:00,  2.56it/s, lr=4.52e-5, step/s=0.222, total_loss=30]\n",
      "Epoch 480/500:   0%|                                                            | 0/17 [00:00<?, ?it/s, total_loss=132]"
     ]
    },
    {
     "name": "stdout",
     "output_type": "stream",
     "text": [
      "Start Validation\n"
     ]
    },
    {
     "name": "stderr",
     "output_type": "stream",
     "text": [
      "Epoch 480/500: 100%|██████████████████████████████████████████████████| 17/17 [00:02<00:00,  6.80it/s, total_loss=59.8]\n",
      "Epoch 481/500:   0%|                                                              | 0/56 [00:00<?, ?it/s<class 'dict'>]"
     ]
    },
    {
     "name": "stdout",
     "output_type": "stream",
     "text": [
      "Finish Validation\n",
      "Epoch:480/500\n",
      "Train Loss: 29.4709 || Val Loss: 56.4536 \n"
     ]
    },
    {
     "name": "stderr",
     "output_type": "stream",
     "text": [
      "Epoch 481/500: 100%|████████████████████████| 56/56 [00:21<00:00,  2.56it/s, lr=4.48e-5, step/s=0.233, total_loss=28.1]\n",
      "Epoch 481/500:   0%|                                                           | 0/17 [00:00<?, ?it/s, total_loss=34.9]"
     ]
    },
    {
     "name": "stdout",
     "output_type": "stream",
     "text": [
      "Start Validation\n"
     ]
    },
    {
     "name": "stderr",
     "output_type": "stream",
     "text": [
      "Epoch 481/500: 100%|██████████████████████████████████████████████████| 17/17 [00:02<00:00,  6.91it/s, total_loss=73.4]\n",
      "Epoch 482/500:   0%|                                                              | 0/56 [00:00<?, ?it/s<class 'dict'>]"
     ]
    },
    {
     "name": "stdout",
     "output_type": "stream",
     "text": [
      "Finish Validation\n",
      "Epoch:481/500\n",
      "Train Loss: 27.6543 || Val Loss: 69.2948 \n"
     ]
    },
    {
     "name": "stderr",
     "output_type": "stream",
     "text": [
      "Epoch 482/500: 100%|█████████████████████████| 56/56 [00:21<00:00,  2.56it/s, lr=4.43e-5, step/s=0.24, total_loss=27.1]\n",
      "Epoch 482/500:   0%|                                                           | 0/17 [00:00<?, ?it/s, total_loss=30.5]"
     ]
    },
    {
     "name": "stdout",
     "output_type": "stream",
     "text": [
      "Start Validation\n"
     ]
    },
    {
     "name": "stderr",
     "output_type": "stream",
     "text": [
      "Epoch 482/500: 100%|██████████████████████████████████████████████████| 17/17 [00:02<00:00,  6.71it/s, total_loss=61.1]\n",
      "Epoch 483/500:   0%|                                                              | 0/56 [00:00<?, ?it/s<class 'dict'>]"
     ]
    },
    {
     "name": "stdout",
     "output_type": "stream",
     "text": [
      "Finish Validation\n",
      "Epoch:482/500\n",
      "Train Loss: 26.5843 || Val Loss: 57.7235 \n"
     ]
    },
    {
     "name": "stderr",
     "output_type": "stream",
     "text": [
      "Epoch 483/500: 100%|████████████████████████| 56/56 [00:22<00:00,  2.54it/s, lr=4.39e-5, step/s=0.258, total_loss=27.6]\n",
      "Epoch 483/500:   0%|                                                           | 0/17 [00:00<?, ?it/s, total_loss=64.8]"
     ]
    },
    {
     "name": "stdout",
     "output_type": "stream",
     "text": [
      "Start Validation\n"
     ]
    },
    {
     "name": "stderr",
     "output_type": "stream",
     "text": [
      "Epoch 483/500: 100%|██████████████████████████████████████████████████| 17/17 [00:02<00:00,  7.00it/s, total_loss=67.2]\n",
      "Epoch 484/500:   0%|                                                              | 0/56 [00:00<?, ?it/s<class 'dict'>]"
     ]
    },
    {
     "name": "stdout",
     "output_type": "stream",
     "text": [
      "Finish Validation\n",
      "Epoch:483/500\n",
      "Train Loss: 27.0680 || Val Loss: 63.4391 \n"
     ]
    },
    {
     "name": "stderr",
     "output_type": "stream",
     "text": [
      "Epoch 484/500: 100%|████████████████████████| 56/56 [00:22<00:00,  2.54it/s, lr=4.34e-5, step/s=0.275, total_loss=28.4]\n",
      "Epoch 484/500:   0%|                                                             | 0/17 [00:00<?, ?it/s, total_loss=71]"
     ]
    },
    {
     "name": "stdout",
     "output_type": "stream",
     "text": [
      "Start Validation\n"
     ]
    },
    {
     "name": "stderr",
     "output_type": "stream",
     "text": [
      "Epoch 484/500: 100%|██████████████████████████████████████████████████| 17/17 [00:02<00:00,  6.83it/s, total_loss=69.1]\n",
      "Epoch 485/500:   0%|                                                              | 0/56 [00:00<?, ?it/s<class 'dict'>]"
     ]
    },
    {
     "name": "stdout",
     "output_type": "stream",
     "text": [
      "Finish Validation\n",
      "Epoch:484/500\n",
      "Train Loss: 27.8821 || Val Loss: 65.2529 \n"
     ]
    },
    {
     "name": "stderr",
     "output_type": "stream",
     "text": [
      "Epoch 485/500: 100%|█████████████████████████| 56/56 [00:21<00:00,  2.55it/s, lr=4.3e-5, step/s=0.229, total_loss=27.7]\n",
      "Epoch 485/500:   0%|                                                            | 0/17 [00:00<?, ?it/s, total_loss=125]"
     ]
    },
    {
     "name": "stdout",
     "output_type": "stream",
     "text": [
      "Start Validation\n"
     ]
    },
    {
     "name": "stderr",
     "output_type": "stream",
     "text": [
      "Epoch 485/500: 100%|████████████████████████████████████████████████████| 17/17 [00:02<00:00,  6.89it/s, total_loss=74]\n",
      "Epoch 486/500:   0%|                                                              | 0/56 [00:00<?, ?it/s<class 'dict'>]"
     ]
    },
    {
     "name": "stdout",
     "output_type": "stream",
     "text": [
      "Finish Validation\n",
      "Epoch:485/500\n",
      "Train Loss: 27.2029 || Val Loss: 69.9226 \n"
     ]
    },
    {
     "name": "stderr",
     "output_type": "stream",
     "text": [
      "Epoch 486/500: 100%|████████████████████████| 56/56 [00:21<00:00,  2.55it/s, lr=4.26e-5, step/s=0.267, total_loss=26.7]\n",
      "Epoch 486/500:   0%|                                                           | 0/17 [00:00<?, ?it/s, total_loss=46.6]"
     ]
    },
    {
     "name": "stdout",
     "output_type": "stream",
     "text": [
      "Start Validation\n"
     ]
    },
    {
     "name": "stderr",
     "output_type": "stream",
     "text": [
      "Epoch 486/500: 100%|██████████████████████████████████████████████████| 17/17 [00:02<00:00,  6.92it/s, total_loss=63.9]\n",
      "Epoch 487/500:   0%|                                                              | 0/56 [00:00<?, ?it/s<class 'dict'>]"
     ]
    },
    {
     "name": "stdout",
     "output_type": "stream",
     "text": [
      "Finish Validation\n",
      "Epoch:486/500\n",
      "Train Loss: 26.2748 || Val Loss: 60.3781 \n"
     ]
    },
    {
     "name": "stderr",
     "output_type": "stream",
     "text": [
      "Epoch 487/500: 100%|█████████████████████████| 56/56 [00:21<00:00,  2.55it/s, lr=4.21e-5, step/s=0.26, total_loss=27.9]\n",
      "Epoch 487/500:   0%|                                                             | 0/17 [00:00<?, ?it/s, total_loss=49]"
     ]
    },
    {
     "name": "stdout",
     "output_type": "stream",
     "text": [
      "Start Validation\n"
     ]
    },
    {
     "name": "stderr",
     "output_type": "stream",
     "text": [
      "Epoch 487/500: 100%|██████████████████████████████████████████████████| 17/17 [00:02<00:00,  6.83it/s, total_loss=69.9]\n",
      "Epoch 488/500:   0%|                                                              | 0/56 [00:00<?, ?it/s<class 'dict'>]"
     ]
    },
    {
     "name": "stdout",
     "output_type": "stream",
     "text": [
      "Finish Validation\n",
      "Epoch:487/500\n",
      "Train Loss: 27.4094 || Val Loss: 65.9751 \n"
     ]
    },
    {
     "name": "stderr",
     "output_type": "stream",
     "text": [
      "Epoch 488/500: 100%|████████████████████████| 56/56 [00:22<00:00,  2.54it/s, lr=4.17e-5, step/s=0.271, total_loss=27.1]\n",
      "Epoch 488/500:   0%|                                                           | 0/17 [00:00<?, ?it/s, total_loss=63.1]"
     ]
    },
    {
     "name": "stdout",
     "output_type": "stream",
     "text": [
      "Start Validation\n"
     ]
    },
    {
     "name": "stderr",
     "output_type": "stream",
     "text": [
      "Epoch 488/500: 100%|██████████████████████████████████████████████████| 17/17 [00:02<00:00,  6.89it/s, total_loss=64.7]\n",
      "Epoch 489/500:   0%|                                                              | 0/56 [00:00<?, ?it/s<class 'dict'>]"
     ]
    },
    {
     "name": "stdout",
     "output_type": "stream",
     "text": [
      "Finish Validation\n",
      "Epoch:488/500\n",
      "Train Loss: 26.6342 || Val Loss: 61.0807 \n"
     ]
    },
    {
     "name": "stderr",
     "output_type": "stream",
     "text": [
      "Epoch 489/500: 100%|██████████████████████████| 56/56 [00:22<00:00,  2.55it/s, lr=4.13e-5, step/s=0.242, total_loss=30]\n",
      "Epoch 489/500:   0%|                                                            | 0/17 [00:00<?, ?it/s, total_loss=114]"
     ]
    },
    {
     "name": "stdout",
     "output_type": "stream",
     "text": [
      "Start Validation\n"
     ]
    },
    {
     "name": "stderr",
     "output_type": "stream",
     "text": [
      "Epoch 489/500: 100%|██████████████████████████████████████████████████| 17/17 [00:02<00:00,  6.88it/s, total_loss=78.3]\n",
      "Epoch 490/500:   0%|                                                              | 0/56 [00:00<?, ?it/s<class 'dict'>]"
     ]
    },
    {
     "name": "stdout",
     "output_type": "stream",
     "text": [
      "Finish Validation\n",
      "Epoch:489/500\n",
      "Train Loss: 29.5199 || Val Loss: 73.9705 \n"
     ]
    },
    {
     "name": "stderr",
     "output_type": "stream",
     "text": [
      "Epoch 490/500: 100%|█████████████████████████| 56/56 [00:21<00:00,  2.57it/s, lr=4.09e-5, step/s=0.25, total_loss=27.3]\n",
      "Epoch 490/500:   0%|                                                           | 0/17 [00:00<?, ?it/s, total_loss=30.2]"
     ]
    },
    {
     "name": "stdout",
     "output_type": "stream",
     "text": [
      "Start Validation\n"
     ]
    },
    {
     "name": "stderr",
     "output_type": "stream",
     "text": [
      "Epoch 490/500: 100%|██████████████████████████████████████████████████| 17/17 [00:02<00:00,  6.85it/s, total_loss=70.4]\n",
      "Epoch 491/500:   0%|                                                              | 0/56 [00:00<?, ?it/s<class 'dict'>]"
     ]
    },
    {
     "name": "stdout",
     "output_type": "stream",
     "text": [
      "Finish Validation\n",
      "Epoch:490/500\n",
      "Train Loss: 26.8482 || Val Loss: 66.4574 \n"
     ]
    },
    {
     "name": "stderr",
     "output_type": "stream",
     "text": [
      "Epoch 491/500: 100%|████████████████████████| 56/56 [00:21<00:00,  2.57it/s, lr=4.05e-5, step/s=0.239, total_loss=26.9]\n",
      "Epoch 491/500:   0%|                                                           | 0/17 [00:00<?, ?it/s, total_loss=42.5]"
     ]
    },
    {
     "name": "stdout",
     "output_type": "stream",
     "text": [
      "Start Validation\n"
     ]
    },
    {
     "name": "stderr",
     "output_type": "stream",
     "text": [
      "Epoch 491/500: 100%|██████████████████████████████████████████████████| 17/17 [00:02<00:00,  7.10it/s, total_loss=66.8]\n",
      "Epoch 492/500:   0%|                                                              | 0/56 [00:00<?, ?it/s<class 'dict'>]"
     ]
    },
    {
     "name": "stdout",
     "output_type": "stream",
     "text": [
      "Finish Validation\n",
      "Epoch:491/500\n",
      "Train Loss: 26.4289 || Val Loss: 63.0775 \n"
     ]
    },
    {
     "name": "stderr",
     "output_type": "stream",
     "text": [
      "Epoch 492/500: 100%|████████████████████████| 56/56 [00:22<00:00,  2.54it/s, lr=4.01e-5, step/s=0.261, total_loss=26.6]\n",
      "Epoch 492/500:   0%|                                                            | 0/17 [00:00<?, ?it/s, total_loss=115]"
     ]
    },
    {
     "name": "stdout",
     "output_type": "stream",
     "text": [
      "Start Validation\n"
     ]
    },
    {
     "name": "stderr",
     "output_type": "stream",
     "text": [
      "Epoch 492/500: 100%|██████████████████████████████████████████████████| 17/17 [00:02<00:00,  6.65it/s, total_loss=71.3]\n",
      "Epoch 493/500:   0%|                                                              | 0/56 [00:00<?, ?it/s<class 'dict'>]"
     ]
    },
    {
     "name": "stdout",
     "output_type": "stream",
     "text": [
      "Finish Validation\n",
      "Epoch:492/500\n",
      "Train Loss: 26.1187 || Val Loss: 67.3483 \n"
     ]
    },
    {
     "name": "stderr",
     "output_type": "stream",
     "text": [
      "Epoch 493/500: 100%|█████████████████████████| 56/56 [00:22<00:00,  2.54it/s, lr=3.97e-5, step/s=0.24, total_loss=25.3]\n",
      "Epoch 493/500:   0%|                                                           | 0/17 [00:00<?, ?it/s, total_loss=48.5]"
     ]
    },
    {
     "name": "stdout",
     "output_type": "stream",
     "text": [
      "Start Validation\n"
     ]
    },
    {
     "name": "stderr",
     "output_type": "stream",
     "text": [
      "Epoch 493/500: 100%|██████████████████████████████████████████████████| 17/17 [00:02<00:00,  7.09it/s, total_loss=67.2]\n",
      "Epoch 494/500:   0%|                                                              | 0/56 [00:00<?, ?it/s<class 'dict'>]"
     ]
    },
    {
     "name": "stdout",
     "output_type": "stream",
     "text": [
      "Finish Validation\n",
      "Epoch:493/500\n",
      "Train Loss: 24.8293 || Val Loss: 63.4861 \n"
     ]
    },
    {
     "name": "stderr",
     "output_type": "stream",
     "text": [
      "Epoch 494/500: 100%|████████████████████████| 56/56 [00:21<00:00,  2.57it/s, lr=3.93e-5, step/s=0.253, total_loss=25.7]\n",
      "Epoch 494/500:   0%|                                                           | 0/17 [00:00<?, ?it/s, total_loss=41.5]"
     ]
    },
    {
     "name": "stdout",
     "output_type": "stream",
     "text": [
      "Start Validation\n"
     ]
    },
    {
     "name": "stderr",
     "output_type": "stream",
     "text": [
      "Epoch 494/500: 100%|████████████████████████████████████████████████████| 17/17 [00:02<00:00,  7.00it/s, total_loss=63]\n",
      "Epoch 495/500:   0%|                                                              | 0/56 [00:00<?, ?it/s<class 'dict'>]"
     ]
    },
    {
     "name": "stdout",
     "output_type": "stream",
     "text": [
      "Finish Validation\n",
      "Epoch:494/500\n",
      "Train Loss: 25.2453 || Val Loss: 59.4750 \n"
     ]
    },
    {
     "name": "stderr",
     "output_type": "stream",
     "text": [
      "Epoch 495/500: 100%|████████████████████████| 56/56 [00:21<00:00,  2.55it/s, lr=3.89e-5, step/s=0.233, total_loss=30.1]\n",
      "Epoch 495/500:   0%|                                                           | 0/17 [00:00<?, ?it/s, total_loss=85.2]"
     ]
    },
    {
     "name": "stdout",
     "output_type": "stream",
     "text": [
      "Start Validation\n"
     ]
    },
    {
     "name": "stderr",
     "output_type": "stream",
     "text": [
      "Epoch 495/500: 100%|██████████████████████████████████████████████████| 17/17 [00:02<00:00,  7.07it/s, total_loss=71.1]\n",
      "Epoch 496/500:   0%|                                                              | 0/56 [00:00<?, ?it/s<class 'dict'>]"
     ]
    },
    {
     "name": "stdout",
     "output_type": "stream",
     "text": [
      "Finish Validation\n",
      "Epoch:495/500\n",
      "Train Loss: 29.5779 || Val Loss: 67.1970 \n"
     ]
    },
    {
     "name": "stderr",
     "output_type": "stream",
     "text": [
      "Epoch 496/500: 100%|████████████████████████| 56/56 [00:21<00:00,  2.55it/s, lr=3.85e-5, step/s=0.226, total_loss=28.4]\n",
      "Epoch 496/500:   0%|                                                           | 0/17 [00:00<?, ?it/s, total_loss=62.6]"
     ]
    },
    {
     "name": "stdout",
     "output_type": "stream",
     "text": [
      "Start Validation\n"
     ]
    },
    {
     "name": "stderr",
     "output_type": "stream",
     "text": [
      "Epoch 496/500: 100%|██████████████████████████████████████████████████| 17/17 [00:02<00:00,  6.95it/s, total_loss=72.1]\n",
      "Epoch 497/500:   0%|                                                              | 0/56 [00:00<?, ?it/s<class 'dict'>]"
     ]
    },
    {
     "name": "stdout",
     "output_type": "stream",
     "text": [
      "Finish Validation\n",
      "Epoch:496/500\n",
      "Train Loss: 27.8936 || Val Loss: 68.1337 \n"
     ]
    },
    {
     "name": "stderr",
     "output_type": "stream",
     "text": [
      "Epoch 497/500: 100%|████████████████████████| 56/56 [00:22<00:00,  2.54it/s, lr=3.81e-5, step/s=0.253, total_loss=26.7]\n",
      "Epoch 497/500:   0%|                                                           | 0/17 [00:00<?, ?it/s, total_loss=71.7]"
     ]
    },
    {
     "name": "stdout",
     "output_type": "stream",
     "text": [
      "Start Validation\n"
     ]
    },
    {
     "name": "stderr",
     "output_type": "stream",
     "text": [
      "Epoch 497/500: 100%|████████████████████████████████████████████████████| 17/17 [00:02<00:00,  7.02it/s, total_loss=67]\n",
      "Epoch 498/500:   0%|                                                              | 0/56 [00:00<?, ?it/s<class 'dict'>]"
     ]
    },
    {
     "name": "stdout",
     "output_type": "stream",
     "text": [
      "Finish Validation\n",
      "Epoch:497/500\n",
      "Train Loss: 26.2005 || Val Loss: 63.2657 \n"
     ]
    },
    {
     "name": "stderr",
     "output_type": "stream",
     "text": [
      "Epoch 498/500: 100%|████████████████████████| 56/56 [00:21<00:00,  2.55it/s, lr=3.77e-5, step/s=0.231, total_loss=28.7]\n",
      "Epoch 498/500:   0%|                                                           | 0/17 [00:00<?, ?it/s, total_loss=26.1]"
     ]
    },
    {
     "name": "stdout",
     "output_type": "stream",
     "text": [
      "Start Validation\n"
     ]
    },
    {
     "name": "stderr",
     "output_type": "stream",
     "text": [
      "Epoch 498/500: 100%|████████████████████████████████████████████████████| 17/17 [00:02<00:00,  6.83it/s, total_loss=72]\n",
      "Epoch 499/500:   0%|                                                              | 0/56 [00:00<?, ?it/s<class 'dict'>]"
     ]
    },
    {
     "name": "stdout",
     "output_type": "stream",
     "text": [
      "Finish Validation\n",
      "Epoch:498/500\n",
      "Train Loss: 28.2113 || Val Loss: 67.9963 \n"
     ]
    },
    {
     "name": "stderr",
     "output_type": "stream",
     "text": [
      "Epoch 499/500: 100%|████████████████████████| 56/56 [00:21<00:00,  2.55it/s, lr=3.73e-5, step/s=0.252, total_loss=26.4]\n",
      "Epoch 499/500:   0%|                                                           | 0/17 [00:00<?, ?it/s, total_loss=44.8]"
     ]
    },
    {
     "name": "stdout",
     "output_type": "stream",
     "text": [
      "Start Validation\n"
     ]
    },
    {
     "name": "stderr",
     "output_type": "stream",
     "text": [
      "Epoch 499/500: 100%|██████████████████████████████████████████████████| 17/17 [00:02<00:00,  6.85it/s, total_loss=65.3]\n",
      "Epoch 500/500:   0%|                                                              | 0/56 [00:00<?, ?it/s<class 'dict'>]"
     ]
    },
    {
     "name": "stdout",
     "output_type": "stream",
     "text": [
      "Finish Validation\n",
      "Epoch:499/500\n",
      "Train Loss: 25.9211 || Val Loss: 61.6610 \n"
     ]
    },
    {
     "name": "stderr",
     "output_type": "stream",
     "text": [
      "Epoch 500/500: 100%|█████████████████████████| 56/56 [00:21<00:00,  2.55it/s, lr=3.7e-5, step/s=0.263, total_loss=31.2]\n",
      "Epoch 500/500:   0%|                                                           | 0/17 [00:00<?, ?it/s, total_loss=35.1]"
     ]
    },
    {
     "name": "stdout",
     "output_type": "stream",
     "text": [
      "Start Validation\n"
     ]
    },
    {
     "name": "stderr",
     "output_type": "stream",
     "text": [
      "Epoch 500/500: 100%|██████████████████████████████████████████████████| 17/17 [00:02<00:00,  6.67it/s, total_loss=68.1]\n"
     ]
    },
    {
     "name": "stdout",
     "output_type": "stream",
     "text": [
      "Finish Validation\n",
      "Epoch:500/500\n",
      "Train Loss: 30.6391 || Val Loss: 64.3283 \n",
      "final best val loss:  51.66138712565104\n"
     ]
    }
   ],
   "source": [
    "#-----------------------------------------------------版本三  更改中断之后加载模型的方式  以及权重衰减的方式--------------------------\n",
    "\"\"\"版本三   这里是从头开始训练训练加载yolo4模型的代码   \"\"\"\n",
    "#-------------------------------------#\n",
    "#       对数据集进行训练\n",
    "#-------------------------------------#\n",
    "import os\n",
    "import numpy as np\n",
    "import time\n",
    "import torch\n",
    "from torch.autograd import Variable\n",
    "import torch.nn as nn\n",
    "import torch.optim as optim\n",
    "import torch.nn.functional as F\n",
    "import torch.backends.cudnn as cudnn\n",
    "from torch.utils.data import DataLoader\n",
    "from utils.dataloader import yolo_dataset_collate, YoloDataset\n",
    "from nets.yolo_training import YOLOLoss,Generator\n",
    "from nets.yolo4 import YoloBody\n",
    "from tqdm import tqdm\n",
    "\n",
    "\n",
    "\n",
    "#---------------------------------------------------#\n",
    "#   获得类和先验框\n",
    "#---------------------------------------------------#\n",
    "def get_classes(classes_path):\n",
    "    '''loads the classes'''\n",
    "    with open(classes_path) as f:\n",
    "        class_names = f.readlines()\n",
    "    class_names = [c.strip() for c in class_names]\n",
    "    return class_names\n",
    "\n",
    "def get_anchors(anchors_path):\n",
    "    '''loads the anchors from a file'''\n",
    "    with open(anchors_path) as f:\n",
    "        anchors = f.readline()\n",
    "    anchors = [float(x) for x in anchors.split(',')]\n",
    "    return np.array(anchors).reshape([-1,3,2])[::-1,:,:]\n",
    "\n",
    "def get_lr(optimizer):\n",
    "    for param_group in optimizer.param_groups:\n",
    "        return param_group['lr']\n",
    "\n",
    "def fit_one_epoch(net,yolo_losses,epoch,epoch_size,epoch_size_val,gen,genval,Epoch,cuda):\n",
    "    total_loss = 0\n",
    "    val_loss = 0\n",
    "    start_time = time.time()\n",
    "    with tqdm(total=epoch_size,desc=f'Epoch {epoch + 1}/{Epoch}',postfix=dict,mininterval=0.3) as pbar:\n",
    "        for iteration, batch in enumerate(gen):\n",
    "            if iteration >= epoch_size:\n",
    "                break\n",
    "            images, targets = batch[0], batch[1]\n",
    "            with torch.no_grad():\n",
    "                if cuda:\n",
    "                    images = Variable(torch.from_numpy(images).type(torch.FloatTensor)).cuda()\n",
    "                    targets = [Variable(torch.from_numpy(ann).type(torch.FloatTensor)) for ann in targets]\n",
    "                else:\n",
    "                    images = Variable(torch.from_numpy(images).type(torch.FloatTensor))\n",
    "                    targets = [Variable(torch.from_numpy(ann).type(torch.FloatTensor)) for ann in targets]\n",
    "            optimizer.zero_grad()\n",
    "            outputs = net(images)\n",
    "            losses = []\n",
    "            for i in range(3):\n",
    "                loss_item = yolo_losses[i](outputs[i], targets)\n",
    "                losses.append(loss_item[0])\n",
    "            loss = sum(losses)\n",
    "            loss.backward()\n",
    "            optimizer.step()\n",
    "\n",
    "            total_loss += loss\n",
    "            waste_time = time.time() - start_time\n",
    "            \n",
    "            pbar.set_postfix(**{'total_loss': total_loss.item() / (iteration + 1), \n",
    "                                'lr'        : get_lr(optimizer),\n",
    "                                'step/s'    : waste_time})\n",
    "            pbar.update(1)\n",
    "\n",
    "            start_time = time.time()\n",
    "\n",
    "    print('Start Validation')\n",
    "    with tqdm(total=epoch_size_val, desc=f'Epoch {epoch + 1}/{Epoch}',postfix=dict,mininterval=0.3) as pbar:\n",
    "        for iteration, batch in enumerate(genval):\n",
    "            if iteration >= epoch_size_val:\n",
    "                break\n",
    "            images_val, targets_val = batch[0], batch[1]\n",
    "\n",
    "            with torch.no_grad():\n",
    "                if cuda:\n",
    "                    images_val = Variable(torch.from_numpy(images_val).type(torch.FloatTensor)).cuda()\n",
    "                    targets_val = [Variable(torch.from_numpy(ann).type(torch.FloatTensor)) for ann in targets_val]\n",
    "                else:\n",
    "                    images_val = Variable(torch.from_numpy(images_val).type(torch.FloatTensor))\n",
    "                    targets_val = [Variable(torch.from_numpy(ann).type(torch.FloatTensor)) for ann in targets_val]\n",
    "                optimizer.zero_grad()\n",
    "                outputs = net(images_val)\n",
    "                losses = []\n",
    "                for i in range(3):\n",
    "                    loss_item = yolo_losses[i](outputs[i], targets_val)\n",
    "                    losses.append(loss_item[0])\n",
    "                loss = sum(losses)\n",
    "                val_loss += loss\n",
    "            pbar.set_postfix(**{'total_loss': val_loss.item() / (iteration + 1)})\n",
    "            pbar.update(1)\n",
    "\n",
    "    print('Finish Validation')\n",
    "    print('Epoch:'+ str(epoch+1) + '/' + str(Epoch))\n",
    "    print('Train Loss: %.4f || Val Loss: %.4f ' % (total_loss/(epoch_size+1),val_loss/(epoch_size_val+1)))\n",
    "    \n",
    "    global best_val_loss,best_val_loss_epoch_num,t_loss,v_loss,epoch_num\n",
    "    #记录下每个epoch的t_loss和v_loss\n",
    "    t_loss[epoch_num]=total_loss.item()/(epoch_size+1)\n",
    "    v_loss[epoch_num]=val_loss.item()/(epoch_size_val+1)\n",
    "    #每100个epoch把模型参数保存下来（便于服务中断后继续训练）  把优化器也给保存下来\n",
    "    if (epoch_num+1)%100==0:\n",
    "        state = {'model':model.state_dict(), 'optimizer':optimizer.state_dict(), 'lr_scheduler':lr_scheduler.state_dict(),'epoch':epoch_num+1}\n",
    "        torch.save(state, 'logs/Epoch%d-Train_Loss%.4f-Val_Loss%.4f.pth'%((epoch_num+1),total_loss/(epoch_size+1),val_loss/(epoch_size_val+1)))\n",
    "    #把具有最低v_loss的模型参数保存下来\n",
    "    if val_loss.item()/(epoch_size_val+1)<best_val_loss:    \n",
    "        best_val_loss=val_loss.item()/(epoch_size_val+1)\n",
    "        best_val_loss_epoch_num=epoch_num+1\n",
    "        print('achive best val loss , Saving state, iter:', str(epoch_num+1))\n",
    "        print(\"current best val loss : \",best_val_loss)\n",
    "        torch.save(model.state_dict(), 'logs/yolo4_DDE_weights.pth')\n",
    "        f3=open('logs/best_val_loss.txt','a')\n",
    "        result3='epoch'+str(best_val_loss_epoch_num)+':'+str(best_val_loss)+'\\n'   \n",
    "        f3.write(result3) \n",
    "        f3.close()\n",
    "    #把每个epoch的的t_loss和v_loss保存起来\n",
    "    f1=open('logs/t_loss.txt','a')\n",
    "    result1='epoch'+str(epoch_num+1)+':'+str(t_loss[epoch_num])+'\\n'   \n",
    "    f1.write(result1)\n",
    "    f1.close()\n",
    "    f2=open('logs/v_loss.txt','a')\n",
    "    result2='epoch'+str(epoch_num+1)+':'+str(v_loss[epoch_num])+'\\n'   \n",
    "    f2.write(result2)   \n",
    "    f2.close()\n",
    "    epoch_num=epoch_num+1\n",
    "\n",
    "#----------------------------------------------------#\n",
    "#   检测精度mAP和pr曲线计算参考视频\n",
    "#   https://www.bilibili.com/video/BV1zE411u7Vw\n",
    "#----------------------------------------------------#\n",
    "if __name__ == \"__main__\":\n",
    "    #-------------------------------#\n",
    "    #   输入的shape大小\n",
    "    #   显存比较小可以使用416x416\n",
    "    #   显存比较大可以使用608x608\n",
    "    #-------------------------------#\n",
    "    input_shape = (608,608)\n",
    "    #-------------------------------#\n",
    "    #   tricks的使用设置\n",
    "    #-------------------------------#\n",
    "    Cosine_lr = False\n",
    "    mosaic = True\n",
    "    # 用于设定是否使用cuda\n",
    "    Cuda = True\n",
    "    smoooth_label = 0\n",
    "    #-------------------------------#\n",
    "    #   Dataloder的使用\n",
    "    #-------------------------------#\n",
    "    Use_Data_Loader = True\n",
    "\n",
    "    annotation_train_path = '2007_train_148_5.txt'#可以在此处修改文件名\n",
    "    annotation_val_path = '2007_val_148_5.txt'  #可以在此处修改文件名\n",
    "    #-------------------------------#\n",
    "    #   获得先验框和类\n",
    "    #-------------------------------#\n",
    "    anchors_path = 'model_data/yolo_anchors.txt'\n",
    "    classes_path = 'model_data/new_classes.txt'  #修改类别信息为自己的类别信息 \n",
    "    class_names = get_classes(classes_path)\n",
    "    anchors = get_anchors(anchors_path)\n",
    "    num_classes = len(class_names)\n",
    "    \n",
    "    # 创建模型\n",
    "    model = YoloBody(len(anchors[0]),num_classes)\n",
    "    #-------------------------------------------#\n",
    "    #   权值文件的下载请看README\n",
    "    #-------------------------------------------#\n",
    "    model_path = \"model_data/yolo4_weights.pth\"\n",
    "    # 加快模型训练的效率\n",
    "    print('Loading weights into state dict...')\n",
    "    device = torch.device('cuda' if torch.cuda.is_available() else 'cpu')\n",
    "    #第一次加载yolo4的权重\n",
    "    model_dict = model.state_dict()\n",
    "    pretrained_dict = torch.load(model_path, map_location=device)\n",
    "    pretrained_dict = {k: v for k, v in pretrained_dict.items() if np.shape(model_dict[k]) ==  np.shape(v)}\n",
    "    model_dict.update(pretrained_dict)\n",
    "    model.load_state_dict(model_dict)\n",
    "    print('Finished!')\n",
    "\n",
    "    net = model.train()\n",
    "\n",
    "    if Cuda:\n",
    "        net = torch.nn.DataParallel(model)\n",
    "        cudnn.benchmark = True\n",
    "        net = net.cuda()\n",
    "\n",
    "    # 建立loss函数\n",
    "    yolo_losses = []\n",
    "    for i in range(3):\n",
    "        yolo_losses.append(YOLOLoss(np.reshape(anchors,[-1,2]),num_classes, \\\n",
    "                                (input_shape[1], input_shape[0]), smoooth_label, Cuda))\n",
    "\n",
    "\n",
    "    #分别获取训练集和验证集的图片信息和标注信息\n",
    "    with open(annotation_train_path) as train_f:\n",
    "        train_lines = train_f.readlines()\n",
    "    np.random.seed(10101)\n",
    "    np.random.shuffle(train_lines)\n",
    "    with open(annotation_val_path) as val_f:\n",
    "        val_lines = val_f.readlines()\n",
    "    np.random.seed(10102)\n",
    "    np.random.shuffle(val_lines)\n",
    "    #np.random.seed(None)\n",
    "    \n",
    "    num_val = len(val_lines)\n",
    "    num_train = len(train_lines)\n",
    "    \n",
    "    #------------------------------------------------------#\n",
    "    #   主干特征提取网络特征通用，冻结训练可以加快训练速度\n",
    "    #   也可以在训练初期防止权值被破坏。\n",
    "    #   Init_Epoch为起始世代\n",
    "    #   Freeze_Epoch为冻结训练的世代\n",
    "    #   Epoch总训练世代\n",
    "    #   提示OOM或者显存不足请调小Batch_size\n",
    "    #------------------------------------------------------#\n",
    "    \n",
    "    #记录在验证集上loss最低的epoch的模型参数\n",
    "    best_val_loss=float(\"inf\")\n",
    "    best_val_loss_epoch_num=0\n",
    "    #记录在训练集和验证集上的loss随epoch的变化情况\n",
    "    t_loss=[None]*500\n",
    "    v_loss=[None]*500\n",
    "    epoch_num=0\n",
    "    \n",
    "    if True:\n",
    "        lr = 1e-3\n",
    "        Batch_size = 4\n",
    "        Init_Epoch = 0\n",
    "        Freeze_Epoch = 400\n",
    "        \n",
    "        optimizer = optim.Adam(net.parameters(),lr,weight_decay=5e-4)\n",
    "        if Cosine_lr:\n",
    "            lr_scheduler = optim.lr_scheduler.CosineAnnealingLR(optimizer, T_max=5, eta_min=1e-5)\n",
    "        else:\n",
    "            lr_scheduler = optim.lr_scheduler.StepLR(optimizer,step_size=1,gamma=0.99)\n",
    "        if Use_Data_Loader:\n",
    "            train_dataset = YoloDataset(train_lines, (input_shape[0], input_shape[1]), mosaic=mosaic)\n",
    "            val_dataset = YoloDataset(val_lines, (input_shape[0], input_shape[1]), mosaic=False)\n",
    "            gen = DataLoader(train_dataset, batch_size=Batch_size, num_workers=0, pin_memory=True,\n",
    "                                    drop_last=True, collate_fn=yolo_dataset_collate)\n",
    "            gen_val = DataLoader(val_dataset, batch_size=Batch_size, num_workers=0,pin_memory=True, \n",
    "                                    drop_last=True, collate_fn=yolo_dataset_collate)\n",
    "        else:\n",
    "            gen = Generator(Batch_size, train_lines,\n",
    "                            (input_shape[0], input_shape[1])).generate(mosaic = mosaic)\n",
    "            gen_val = Generator(Batch_size, val_lines,\n",
    "                            (input_shape[0], input_shape[1])).generate(mosaic = False)\n",
    "\n",
    "        epoch_size = max(1, num_train//Batch_size)\n",
    "        epoch_size_val = num_val//Batch_size\n",
    "        #------------------------------------#\n",
    "        #   冻结一定部分训练\n",
    "        #------------------------------------#\n",
    "        for param in model.backbone.parameters():\n",
    "            param.requires_grad = False\n",
    "\n",
    "        for epoch in range(Init_Epoch,Freeze_Epoch):\n",
    "            fit_one_epoch(net,yolo_losses,epoch,epoch_size,epoch_size_val,gen,gen_val,Freeze_Epoch,Cuda)\n",
    "            lr_scheduler.step()\n",
    "\n",
    "    if True:\n",
    "        lr = 1e-4\n",
    "        Batch_size = 2\n",
    "        Freeze_Epoch = 400\n",
    "        Unfreeze_Epoch = 500\n",
    "\n",
    "        optimizer = optim.Adam(net.parameters(),lr,weight_decay=5e-4)\n",
    "        if Cosine_lr:\n",
    "            lr_scheduler = optim.lr_scheduler.CosineAnnealingLR(optimizer, T_max=5, eta_min=1e-5)\n",
    "        else:\n",
    "            lr_scheduler = optim.lr_scheduler.StepLR(optimizer,step_size=1,gamma=0.99)\n",
    "\n",
    "        if Use_Data_Loader:\n",
    "            train_dataset = YoloDataset(train_lines, (input_shape[0], input_shape[1]), mosaic=mosaic)\n",
    "            val_dataset = YoloDataset(val_lines, (input_shape[0], input_shape[1]), mosaic=False)\n",
    "            gen = DataLoader(train_dataset, batch_size=Batch_size, num_workers=0, pin_memory=True,\n",
    "                                    drop_last=True, collate_fn=yolo_dataset_collate)\n",
    "            gen_val = DataLoader(val_dataset, batch_size=Batch_size, num_workers=0,pin_memory=True, \n",
    "                                    drop_last=True, collate_fn=yolo_dataset_collate)\n",
    "        else:\n",
    "            gen = Generator(Batch_size, train_lines,\n",
    "                            (input_shape[0], input_shape[1])).generate(mosaic = mosaic)\n",
    "            gen_val = Generator(Batch_size, val_lines,\n",
    "                            (input_shape[0], input_shape[1])).generate(mosaic = False)\n",
    "\n",
    "        epoch_size = max(1, num_train//Batch_size)\n",
    "        epoch_size_val = num_val//Batch_size\n",
    "        #------------------------------------#\n",
    "        #   解冻后训练\n",
    "        #------------------------------------#\n",
    "        for param in model.backbone.parameters():\n",
    "            param.requires_grad = True\n",
    "\n",
    "        for epoch in range(Freeze_Epoch,Unfreeze_Epoch):\n",
    "            fit_one_epoch(net,yolo_losses,epoch,epoch_size,epoch_size_val,gen,gen_val,Unfreeze_Epoch,Cuda)\n",
    "            lr_scheduler.step()\n",
    "            \n",
    "\n",
    "    print(\"final best val loss: \",best_val_loss)"
   ]
  },
  {
   "cell_type": "code",
   "execution_count": 2,
   "metadata": {},
   "outputs": [
    {
     "data": {
      "text/plain": [
       "0.000990044880209748"
      ]
     },
     "execution_count": 2,
     "metadata": {},
     "output_type": "execute_result"
    }
   ],
   "source": [
    "optimizer.param_groups[0]['lr']"
   ]
  },
  {
   "cell_type": "code",
   "execution_count": 26,
   "metadata": {},
   "outputs": [],
   "source": [
    "f=open('logs/t_loss.txt','a')\n",
    "result='epoch'+str(epoch_num)+':'+str(epoch_num)+'\\n'\n",
    "f.write(result)\n",
    "f.close()"
   ]
  },
  {
   "cell_type": "code",
   "execution_count": 18,
   "metadata": {},
   "outputs": [
    {
     "name": "stdout",
     "output_type": "stream",
     "text": [
      "[51.17553957544192, 37.572073271780305, 32.80811286695076, 29.917803523516415, 29.65207001657197, 27.95570943813131, 27.822028882575758, 25.421867601799242, 25.600756096117426, 23.414789989741163, 24.034283262310606, 23.166708589804294, 22.635059086963384, 22.414866437815657, 22.279341264204547, 21.501504300820706, 20.960858585858585, 20.29519437539457, 21.036485460069443, 21.190733013731062, 19.964079269255052, 19.641883927162247, 19.436209013967805, 20.26181369357639, 20.611862028488005, 18.73132447522096, 20.097510752051768, 19.455259380918562, 19.60726897885101, 19.566368025962753, 20.070867365056817, 19.008892637310606, 18.6514954229798, 19.82492157907197, 18.138504182449495, 18.067364316998106, 17.95259972774621, 18.593101424400253, 17.94029775291982, 17.7904632260101, 17.854106248027147, 18.279386886442552, 17.79919063683712, 16.872699159564394, 18.200049814551768, 17.69186617148043, 16.608905214251894, 18.247017292061237, 16.89401830808081, 16.139541163589016, 17.17424858940972, 18.34298921835543, 16.530162464488637, 16.383155283301768, 16.147331468986742, 16.902695164535984, 16.999503087515784, 17.583534317787247, 16.33642578125, 17.377421677714647, 18.255744702888258, 16.951737837357953, 15.852467546559344, 15.522898664378156, 16.17068512271149, 16.307809540719695, 15.370339133522727, 16.396275992345327, 16.4727203677399, 14.982463798137626, 15.232841106376263, 15.934993242976642, 16.205656417692552, 16.010716293797348, 14.927902067550505, 15.445875996291035, 15.754593049636995, 15.152888750789142, 15.524023190893308, 15.983531605113637, 15.961778428819445, 15.295452079387626, 14.553063594933713, 15.912978663589016, 15.602759775489268, 15.304431029040405, 16.334639115767047, 15.600762261284721, 14.481643830886995, 14.619716451625631, 15.893277254971592, 14.72897677951389, 15.300173364504419, 15.226822670059974, 15.219002771859218, 14.027198252051768, 14.8424651791351, 15.894901160037879, 14.389020823469066, 15.539463235874369, 14.186540699968434, 14.410127890230429, 14.614330561474116, 14.560922950205176, 14.934260821101642, 14.590706873421718, 13.95736663510101, 14.198713206281566, 14.422159830729166, 14.11038238833649, 13.60256618923611, 14.553735598169192, 14.055333609532829, 14.13598509509154, 13.860801619712753, 14.303998234296087, 14.712595930003156, 13.921442205255682, 13.52166563091856, 13.708237156723484, 13.274793836805555, 13.960836391256313, 14.275076201467803, 13.352086539220329, 13.237463748816287, 14.991404523753156, 14.321213847458965, 13.754616477272727, 14.559191771227905, 13.389652136600379, 13.617997602982955, 14.924022944286616, 13.567762586805555, 13.6727874447601, 13.588487413194445, 13.872332948626894, 14.193994387231692, 13.904199465356692, 13.279409081044824, 13.292883670691287, 14.054170858980429, 14.007008562184344, 13.095710523200758, 13.696027659406566, 12.559063535748106, 12.983686967329545, 13.127376055476642, 13.550376815025253, 13.703763711332071, 13.747501874210858, 13.536517518939394, 12.63021819760101, 13.600269047900884, 12.649183485243055, 13.02252012310606, 13.192771218039773, 13.673775104561237, 13.33017306857639, 13.714135988794192, 12.959296332465279, 12.907206833964647, 13.427768899936869, 12.517168757891413, 12.285897303109218, 13.255943221275253, 12.574515911063763, 13.486302231297348, 12.204949889520202, 12.298563022806187, 12.967994150489268, 13.544929273200758, 13.13366206005366, 12.41473450323548, 12.37042174676452, 13.364842270359848, 13.149525035511363, 13.773796312736742, 12.269230389835858, 12.498631332859848, 11.99450806897096, 12.205723001499369, 12.988969282670455, 12.444972182765152, 12.77203430792298, 12.164374457465279, 12.375125769412879, 12.155684037642045, 12.28347932449495, 11.83990663470644, 12.493741122159092, 11.259505454940026, 12.976355350378787, 12.943657769097221, 12.34173645636048, 12.773232816445708, 12.170981050741792, 12.81851350418245, 11.703705758759469, 12.491579614504419, 12.194953687263258, 12.322578815498737, 13.006828539299242, 12.470133463541666, 13.135352548926768, 12.239002574573863, 12.32080078125, 12.571117670849116, 12.286905924479166, 12.870631362452652, 13.313692343355429, 12.395134203361742, 11.936477815261995, 11.647758098563763, 12.022161310369318, 12.370556147411616, 12.093832613241792, 11.770023230350379, 12.559676353377526, 12.08987580886995, 12.871525311710858, 12.117378620186237, 12.615674567945076, 11.0733063052399, 11.499404444839016, 12.588360410748106, 12.034099540325126, 11.787693832859848, 12.150258690419824, 11.969366516729798, 11.958429509943182, 11.39236604324495, 12.436262034406566, 11.969235815183081, 11.893813624526516, 12.197873510495581, 11.938987038352273, 11.948440705886995, 10.802664092092803, 11.316996873027147, 11.949657709911616, 10.817234848484848, 11.797347251815026, 11.101841165561869, 11.575816761363637, 11.424842911537247, 12.767305624605429, 11.808639372238005, 10.490556196732955, 12.245781792534721, 11.205698340830176, 10.708517055318813, 10.675825639204545, 11.221870807686237, 11.235098790640782, 12.045998313210227, 10.94567994397096, 12.447012853140782, 10.993402037957702, 11.341537937973484, 11.085160688920455, 11.382498076467803, 11.544222745028408, 12.412013198390152, 11.897081163194445, 10.708140980113637, 10.660312845249369, 11.09228638928346, 11.275194572679924, 10.991873076467803, 10.570715701941287, 11.747485844775884, 11.852346709280303, 11.590159406565656, 11.58551087042298, 11.034505208333334, 11.999500621448863, 11.291854087752526, 11.517623747238005, 11.11928982204861, 11.656645803740531, 10.997123332938763, 9.936534534801137, 10.37112457583649, 11.438363123421718, 11.19302522293245, 10.834651446101642, 10.87643771701389, 11.110297309027779, 10.482444069602273, 11.303263346354166, 10.732615461253156, 11.006795247395834, 11.594985499526516, 10.808570322364268, 10.30987672131471, 9.991865061750316, 11.065620807686237, 11.022192136205808, 11.091500946969697, 11.854414506392045, 11.393648398042929, 11.503310694839016, 11.408761689157197, 11.484219637784092, 10.050099999013574, 11.047415068655303, 10.781272194602273, 10.768399325284092, 11.030972567471592, 10.379653468276516, 11.299692481455176, 10.266688491358902, 11.875797772648358, 10.23608336785827, 10.05007903744476, 12.001717615609218, 11.783162434895834, 10.883888938210227, 10.894421510022095, 10.390277284564394, 9.934090045967487, 10.004007975260416, 10.391915986032197, 10.965260515309344, 11.036830709438131, 11.515293313999369, 10.11541809698548]\n"
     ]
    }
   ],
   "source": [
    "#读取训练集loss数据\n",
    "train_loss=[]\n",
    "#每100个epoch记录一次结果\n",
    "interval=5\n",
    "cnt=1\n",
    "with open('logs/t_loss.txt', 'r') as f1:\n",
    "    for line in f1:\n",
    "        if cnt%interval ==0:\n",
    "            line=float(line.strip().split(':')[1])\n",
    "            train_loss.append(line)\n",
    "        cnt=cnt+1\n",
    "print(train_loss)\n",
    "f1.close()"
   ]
  },
  {
   "cell_type": "code",
   "execution_count": 20,
   "metadata": {},
   "outputs": [
    {
     "name": "stdout",
     "output_type": "stream",
     "text": [
      "327\n"
     ]
    }
   ],
   "source": [
    "#读取验证集loss数据\n",
    "val_loss=[]\n",
    "#每100个epoch记录一次结果\n",
    "interval=5\n",
    "cnt=1\n",
    "with open('logs/v_loss.txt', 'r') as f2:\n",
    "    for line in f2:\n",
    "        if cnt%interval ==0:\n",
    "            line=float(line.strip().split(':')[1])\n",
    "            val_loss.append(line)\n",
    "        cnt=cnt+1\n",
    "print(len(val_loss))\n",
    "f2.close()"
   ]
  },
  {
   "cell_type": "code",
   "execution_count": 23,
   "metadata": {},
   "outputs": [],
   "source": [
    "import matplotlib.pyplot as plt\n",
    "import numpy\n",
    "def show_results(train_loss,val_loss,plt):\n",
    "    x=range(327)\n",
    "    y1=train_loss\n",
    "    y2=val_loss\n",
    "    plt.xlabel(\"every 5 epochs\")\n",
    "    plt.ylabel(\"train loss (r) / val loss (b)\")\n",
    "    #plt.xticks(x,[b+1 for b in x])\n",
    "    plt.plot(x,y1,color='r',label='linear')\n",
    "    plt.plot(x,y2,color='b',label='linear')    "
   ]
  },
  {
   "cell_type": "code",
   "execution_count": 24,
   "metadata": {},
   "outputs": [
    {
     "data": {
      "image/png": "[encoded data removed]",
      "text/plain": [
       "<Figure size 2016x576 with 1 Axes>"
      ]
     },
     "metadata": {
      "needs_background": "light"
     },
     "output_type": "display_data"
    }
   ],
   "source": [
    "import matplotlib.pyplot as plt\n",
    "fig=plt.figure(figsize=[28,8])\n",
    "show_results(train_loss,val_loss,plt)"
   ]
  }
 ],
 "metadata": {
  "kernelspec": {
   "display_name": "Python [conda env:py3]",
   "language": "python",
   "name": "conda-env-py3-py"
  },
  "language_info": {
   "codemirror_mode": {
    "name": "ipython",
    "version": 3
   },
   "file_extension": ".py",
   "mimetype": "text/x-python",
   "name": "python",
   "nbconvert_exporter": "python",
   "pygments_lexer": "ipython3",
   "version": "3.7.4"
  }
 },
 "nbformat": 4,
 "nbformat_minor": 2
}
